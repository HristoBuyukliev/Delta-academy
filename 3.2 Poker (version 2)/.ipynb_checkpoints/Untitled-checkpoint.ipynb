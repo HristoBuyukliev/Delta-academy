{
 "cells": [
  {
   "cell_type": "code",
   "execution_count": 30,
   "id": "22c911f9",
   "metadata": {},
   "outputs": [
    {
     "name": "stdout",
     "output_type": "stream",
     "text": [
      "The autoreload extension is already loaded. To reload it, use:\n",
      "  %reload_ext autoreload\n"
     ]
    }
   ],
   "source": [
    "import numpy as np\n",
    "import torch\n",
    "from torch import nn\n",
    "import numpy as np\n",
    "from random import random\n",
    "import matplotlib.pyplot as plt\n",
    "from utils import *\n",
    "from tqdm.notebook import tqdm\n",
    "\n",
    "from check_submission import check_submission\n",
    "from game_mechanics import (\n",
    "    ChooseMoveCheckpoint,\n",
    "    PokerEnv,\n",
    "    checkpoint_model,\n",
    "    choose_move_randomly,\n",
    "    human_player,\n",
    "    load_network,\n",
    "    play_poker,\n",
    "    save_network,\n",
    "    State,\n",
    "    to_basic_nn_input,\n",
    ")\n",
    "\n",
    "%load_ext autoreload\n",
    "%autoreload 2"
   ]
  },
  {
   "cell_type": "code",
   "execution_count": 31,
   "id": "59258f77",
   "metadata": {},
   "outputs": [],
   "source": [
    "env = PokerEnv(choose_move_randomly)"
   ]
  },
  {
   "cell_type": "code",
   "execution_count": 38,
   "id": "ad5619ce",
   "metadata": {},
   "outputs": [],
   "source": [
    "lr_policy = 0.005\n",
    "lr_value = 0.01\n",
    "gamma = 1.0\n",
    "\n",
    "policy = nn.Sequential(\n",
    "    nn.Linear(55, 20),\n",
    "    nn.LeakyReLU(),\n",
    "    nn.Linear(20,5),\n",
    "    nn.Softmax(dim=-1)\n",
    ")\n",
    "\n",
    "value = nn.Sequential(\n",
    "    nn.Linear(55, 20),\n",
    "    nn.LeakyReLU(),\n",
    "    nn.Linear(20,1)\n",
    ")\n",
    "\n",
    "optimizer_policy = torch.optim.Adam(policy.parameters(), lr=lr_policy)\n",
    "optimizer_value  = torch.optim.Adam(value.parameters(), lr=lr_value)\n",
    "\n",
    "# env = CartPoleEnv()\n",
    "erm = EpisodeReplayMemory(gamma=gamma, lamda=1)\n",
    "num_episodes = 1000"
   ]
  },
  {
   "cell_type": "code",
   "execution_count": null,
   "id": "2b8ab0d3",
   "metadata": {},
   "outputs": [],
   "source": []
  },
  {
   "cell_type": "code",
   "execution_count": 33,
   "id": "7bba56fa",
   "metadata": {},
   "outputs": [
    {
     "data": {
      "application/vnd.jupyter.widget-view+json": {
       "model_id": "6efad70ab3d54373a2166eef786f4084",
       "version_major": 2,
       "version_minor": 0
      },
      "text/plain": [
       "  0%|          | 0/5 [00:00<?, ?it/s]"
      ]
     },
     "metadata": {},
     "output_type": "display_data"
    }
   ],
   "source": [
    "num_episodes = 5\n",
    "for ep_num in tqdm(range(num_episodes)):\n",
    "    num_steps = 0\n",
    "    state, reward, done, _ = env.reset()\n",
    "    while not done:\n",
    "        prev_state = state\n",
    "        with torch.no_grad():\n",
    "            probs = policy(torch.as_tensor(state, dtype=torch.float32))\n",
    "            chosen_move = np.random.choice(range(0,5), p=probs.detach().numpy())\n",
    "        state, reward, done, _ = env.step(chosen_move)\n",
    "        num_steps += 1\n",
    "        if done and len(erm) >= 499: reward = 30\n",
    "        erm.append({'state': [state], \n",
    "                    'prev_state': [prev_state], \n",
    "                    'reward': reward,\n",
    "                    'done': done,\n",
    "                    'chosen_move': chosen_move,\n",
    "                    'prob_left': probs[chosen_move]})"
   ]
  },
  {
   "cell_type": "code",
   "execution_count": 34,
   "id": "330c0afb",
   "metadata": {},
   "outputs": [
    {
     "data": {
      "text/plain": [
       "5"
      ]
     },
     "execution_count": 34,
     "metadata": {},
     "output_type": "execute_result"
    }
   ],
   "source": [
    "num_episodes"
   ]
  },
  {
   "cell_type": "code",
   "execution_count": 37,
   "id": "eb1dbec5",
   "metadata": {},
   "outputs": [
    {
     "data": {
      "text/plain": [
       "tensor([ 0.0000,  0.0000,  0.0000,  0.0000,  0.0000,  0.0000,  0.0000,  0.0000,\n",
       "         0.0000,  0.0000,  0.0000,  0.0000,  0.0000,  0.0000,  0.0000,  0.0000,\n",
       "         1.0000,  0.0000,  0.0000,  0.0000,  0.0000,  0.0000,  0.0000,  0.0000,\n",
       "         0.0000,  0.0000,  0.0000,  0.0000,  0.0000,  0.0000,  0.0000,  0.0000,\n",
       "         0.0000,  0.0000,  0.0000,  0.0000,  0.0000,  0.0000,  0.0000,  0.0000,\n",
       "         0.0000,  0.0000,  0.0000,  0.0000,  1.0000,  0.0000,  0.0000,  0.0000,\n",
       "         0.0000,  0.0000,  0.0000,  0.0000, -0.9800, -0.9600, -0.0200])"
      ]
     },
     "execution_count": 37,
     "metadata": {},
     "output_type": "execute_result"
    }
   ],
   "source": [
    "to_basic_nn_input(state)"
   ]
  },
  {
   "cell_type": "code",
   "execution_count": 35,
   "id": "35b2ffd7",
   "metadata": {},
   "outputs": [
    {
     "data": {
      "text/plain": [
       "State(hand=['S7', 'D5'], public_cards=[], player_chips=2, opponent_chips=4, player_chips_remaining=98, opponent_chips_remaining=96, stage=0, legal_actions=[0, 1, 2, 3, 4])"
      ]
     },
     "execution_count": 35,
     "metadata": {},
     "output_type": "execute_result"
    }
   ],
   "source": [
    "state"
   ]
  },
  {
   "cell_type": "code",
   "execution_count": 16,
   "id": "689523a5",
   "metadata": {},
   "outputs": [],
   "source": [
    "env.game.configure?"
   ]
  },
  {
   "cell_type": "code",
   "execution_count": 12,
   "id": "8c0467fa",
   "metadata": {},
   "outputs": [
    {
     "ename": "FileNotFoundError",
     "evalue": "[Errno 2] No such file or directory: 'C:\\\\Windows\\\\Fonts\\\\arial-narrow.ttf'",
     "output_type": "error",
     "traceback": [
      "\u001b[1;31m---------------------------------------------------------------------------\u001b[0m",
      "\u001b[1;31mFileNotFoundError\u001b[0m                         Traceback (most recent call last)",
      "Input \u001b[1;32mIn [12]\u001b[0m, in \u001b[0;36m<cell line: 1>\u001b[1;34m()\u001b[0m\n\u001b[1;32m----> 1\u001b[0m \u001b[43mplay_poker\u001b[49m\u001b[43m(\u001b[49m\u001b[43mhuman_player\u001b[49m\u001b[43m,\u001b[49m\u001b[43m \u001b[49m\u001b[43mchoose_move_randomly\u001b[49m\u001b[43m)\u001b[49m\n",
      "File \u001b[1;32m~\\Desktop\\hristo\\Documents\\Delta academy\\3.2 Poker (version 2)\\game_mechanics\\play_poker.py:19\u001b[0m, in \u001b[0;36mplay_poker\u001b[1;34m(your_choose_move, opponent_choose_move, game_speed_multiplier, render, verbose)\u001b[0m\n\u001b[0;32m      7\u001b[0m \u001b[38;5;28;01mdef\u001b[39;00m \u001b[38;5;21mplay_poker\u001b[39m(\n\u001b[0;32m      8\u001b[0m     your_choose_move: Callable,\n\u001b[0;32m      9\u001b[0m     opponent_choose_move: Callable,\n\u001b[1;32m   (...)\u001b[0m\n\u001b[0;32m     12\u001b[0m     verbose: \u001b[38;5;28mbool\u001b[39m \u001b[38;5;241m=\u001b[39m \u001b[38;5;28;01mFalse\u001b[39;00m,\n\u001b[0;32m     13\u001b[0m ) \u001b[38;5;241m-\u001b[39m\u001b[38;5;241m>\u001b[39m \u001b[38;5;28;01mNone\u001b[39;00m:\n\u001b[0;32m     15\u001b[0m     \u001b[38;5;28;01massert\u001b[39;00m (\n\u001b[0;32m     16\u001b[0m         opponent_choose_move \u001b[38;5;241m!=\u001b[39m human_player\n\u001b[0;32m     17\u001b[0m     ), \u001b[38;5;124m\"\u001b[39m\u001b[38;5;124mSet your_choose_move to human_player not opponent_choose_move\u001b[39m\u001b[38;5;124m\"\u001b[39m\n\u001b[1;32m---> 19\u001b[0m     env \u001b[38;5;241m=\u001b[39m \u001b[43mPokerEnv\u001b[49m\u001b[43m(\u001b[49m\n\u001b[0;32m     20\u001b[0m \u001b[43m        \u001b[49m\u001b[43mopponent_choose_move\u001b[49m\u001b[43m,\u001b[49m\n\u001b[0;32m     21\u001b[0m \u001b[43m        \u001b[49m\u001b[43mverbose\u001b[49m\u001b[38;5;241;43m=\u001b[39;49m\u001b[43mverbose\u001b[49m\u001b[43m,\u001b[49m\n\u001b[0;32m     22\u001b[0m \u001b[43m        \u001b[49m\u001b[43mrender\u001b[49m\u001b[38;5;241;43m=\u001b[39;49m\u001b[43mrender\u001b[49m\u001b[43m,\u001b[49m\n\u001b[0;32m     23\u001b[0m \u001b[43m        \u001b[49m\u001b[43mgame_speed_multiplier\u001b[49m\u001b[38;5;241;43m=\u001b[39;49m\u001b[43mgame_speed_multiplier\u001b[49m\u001b[43m,\u001b[49m\n\u001b[0;32m     24\u001b[0m \u001b[43m    \u001b[49m\u001b[43m)\u001b[49m\n\u001b[0;32m     26\u001b[0m     state, reward, done, info \u001b[38;5;241m=\u001b[39m env\u001b[38;5;241m.\u001b[39mreset()\n\u001b[0;32m     27\u001b[0m     \u001b[38;5;28;01mwhile\u001b[39;00m \u001b[38;5;129;01mnot\u001b[39;00m done:\n",
      "File \u001b[1;32m~\\Desktop\\hristo\\Documents\\Delta academy\\3.2 Poker (version 2)\\game_mechanics\\poker_env.py:56\u001b[0m, in \u001b[0;36mPokerEnv.__init__\u001b[1;34m(self, opponent_choose_move, verbose, render, game_speed_multiplier)\u001b[0m\n\u001b[0;32m     54\u001b[0m \u001b[38;5;28;01mif\u001b[39;00m render:\n\u001b[0;32m     55\u001b[0m     pygame\u001b[38;5;241m.\u001b[39minit()\n\u001b[1;32m---> 56\u001b[0m     \u001b[38;5;28mself\u001b[39m\u001b[38;5;241m.\u001b[39m_font \u001b[38;5;241m=\u001b[39m \u001b[43mpygame\u001b[49m\u001b[38;5;241;43m.\u001b[39;49m\u001b[43mfont\u001b[49m\u001b[38;5;241;43m.\u001b[39;49m\u001b[43mSysFont\u001b[49m\u001b[43m(\u001b[49m\u001b[38;5;124;43m\"\u001b[39;49m\u001b[38;5;124;43marial\u001b[39;49m\u001b[38;5;124;43m\"\u001b[39;49m\u001b[43m,\u001b[49m\u001b[43m \u001b[49m\u001b[38;5;241;43m18\u001b[39;49m\u001b[43m)\u001b[49m\n\u001b[0;32m     57\u001b[0m     \u001b[38;5;28mself\u001b[39m\u001b[38;5;241m.\u001b[39m_screen \u001b[38;5;241m=\u001b[39m get_screen()\n\u001b[0;32m     58\u001b[0m     \u001b[38;5;28mself\u001b[39m\u001b[38;5;241m.\u001b[39msubsurf \u001b[38;5;241m=\u001b[39m get_screen_subsurface(\u001b[38;5;28mself\u001b[39m\u001b[38;5;241m.\u001b[39m_screen)\n",
      "File \u001b[1;32m~\\Anaconda3\\lib\\site-packages\\pygame\\sysfont.py:474\u001b[0m, in \u001b[0;36mSysFont\u001b[1;34m(name, size, bold, italic, constructor)\u001b[0m\n\u001b[0;32m    471\u001b[0m \u001b[38;5;28;01mif\u001b[39;00m italic \u001b[38;5;129;01mand\u001b[39;00m \u001b[38;5;129;01mnot\u001b[39;00m gotitalic:\n\u001b[0;32m    472\u001b[0m     set_italic \u001b[38;5;241m=\u001b[39m \u001b[38;5;28;01mTrue\u001b[39;00m\n\u001b[1;32m--> 474\u001b[0m \u001b[38;5;28;01mreturn\u001b[39;00m \u001b[43mconstructor\u001b[49m\u001b[43m(\u001b[49m\u001b[43mfontname\u001b[49m\u001b[43m,\u001b[49m\u001b[43m \u001b[49m\u001b[43msize\u001b[49m\u001b[43m,\u001b[49m\u001b[43m \u001b[49m\u001b[43mset_bold\u001b[49m\u001b[43m,\u001b[49m\u001b[43m \u001b[49m\u001b[43mset_italic\u001b[49m\u001b[43m)\u001b[49m\n",
      "File \u001b[1;32m~\\Anaconda3\\lib\\site-packages\\pygame\\sysfont.py:391\u001b[0m, in \u001b[0;36mfont_constructor\u001b[1;34m(fontpath, size, bold, italic)\u001b[0m\n\u001b[0;32m    379\u001b[0m \u001b[38;5;28;01mdef\u001b[39;00m \u001b[38;5;21mfont_constructor\u001b[39m(fontpath, size, bold, italic):\n\u001b[0;32m    380\u001b[0m     \u001b[38;5;124;03m\"\"\"\u001b[39;00m\n\u001b[0;32m    381\u001b[0m \u001b[38;5;124;03m    pygame.font specific declarations\u001b[39;00m\n\u001b[0;32m    382\u001b[0m \n\u001b[1;32m   (...)\u001b[0m\n\u001b[0;32m    388\u001b[0m \u001b[38;5;124;03m    :return: A font.Font object.\u001b[39;00m\n\u001b[0;32m    389\u001b[0m \u001b[38;5;124;03m    \"\"\"\u001b[39;00m\n\u001b[1;32m--> 391\u001b[0m     font \u001b[38;5;241m=\u001b[39m \u001b[43mFont\u001b[49m\u001b[43m(\u001b[49m\u001b[43mfontpath\u001b[49m\u001b[43m,\u001b[49m\u001b[43m \u001b[49m\u001b[43msize\u001b[49m\u001b[43m)\u001b[49m\n\u001b[0;32m    392\u001b[0m     \u001b[38;5;28;01mif\u001b[39;00m bold:\n\u001b[0;32m    393\u001b[0m         font\u001b[38;5;241m.\u001b[39mset_bold(\u001b[38;5;28;01mTrue\u001b[39;00m)\n",
      "\u001b[1;31mFileNotFoundError\u001b[0m: [Errno 2] No such file or directory: 'C:\\\\Windows\\\\Fonts\\\\arial-narrow.ttf'"
     ]
    }
   ],
   "source": [
    "play_poker(human_player, choose_move_randomly)"
   ]
  },
  {
   "cell_type": "code",
   "execution_count": 10,
   "id": "aa74ecc6",
   "metadata": {},
   "outputs": [],
   "source": [
    "human_player?"
   ]
  }
 ],
 "metadata": {
  "kernelspec": {
   "display_name": "Python 3 (ipykernel)",
   "language": "python",
   "name": "python3"
  },
  "language_info": {
   "codemirror_mode": {
    "name": "ipython",
    "version": 3
   },
   "file_extension": ".py",
   "mimetype": "text/x-python",
   "name": "python",
   "nbconvert_exporter": "python",
   "pygments_lexer": "ipython3",
   "version": "3.9.13"
  }
 },
 "nbformat": 4,
 "nbformat_minor": 5
}

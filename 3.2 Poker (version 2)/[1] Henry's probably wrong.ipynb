{
 "cells": [
  {
   "cell_type": "code",
   "execution_count": 90,
   "id": "24bd9544",
   "metadata": {},
   "outputs": [],
   "source": [
    "# In the context of poker, if we are close to the end of the match, does it make sense to be more aggresive?\n",
    "\n",
    "\n",
    "from random import random\n",
    "from tqdm.notebook import tqdm\n",
    "import numpy as np\n",
    "\n",
    "\n",
    "num_matches = 100_000\n",
    "chips_per_hand = 4 # amount you win if you both raise. This should be at least 4\n",
    "blind_amount = 2 # amount you win if you steal blinds"
   ]
  },
  {
   "cell_type": "code",
   "execution_count": 99,
   "id": "d4ff7b43",
   "metadata": {},
   "outputs": [
    {
     "name": "stdout",
     "output_type": "stream",
     "text": [
      "The optimal raise percentage for these blind/raise amounts is 0.5\n",
      "The optimal raise percentage for these blind/raise amounts is 0.505\n",
      "The optimal raise percentage for these blind/raise amounts is 0.51\n"
     ]
    }
   ],
   "source": [
    "def optimal_raise_percentage(blind_size, raise_size):\n",
    "    for a in np.linspace(0,1,201):\n",
    "        optimal_percentage = True\n",
    "        for b in np.linspace(0,1,101):\n",
    "            if a <= b:\n",
    "                EV = a*(1-b)*blind_size - (1-a)*b*blind_size + a*(b-a)*raise_size\n",
    "            else:\n",
    "                EV = a*(1-b)*blind_size - (1-a)*b*blind_size + -b*(a-b)*raise_size\n",
    "            if EV < 0: \n",
    "                optimal_percentage = False\n",
    "                break\n",
    "        if optimal_percentage:\n",
    "            print(f'The optimal raise percentage for these blind/raise amounts is {a}')\n",
    "            \n",
    "optimal_raise_percentage(2,4)"
   ]
  },
  {
   "cell_type": "code",
   "execution_count": null,
   "id": "86f58f8a",
   "metadata": {},
   "outputs": [
    {
     "data": {
      "application/vnd.jupyter.widget-view+json": {
       "model_id": "871412de3fa949159b1679f2789a800e",
       "version_major": 2,
       "version_minor": 0
      },
      "text/plain": [
       "  0%|          | 0/100000 [00:00<?, ?it/s]"
      ]
     },
     "metadata": {},
     "output_type": "display_data"
    }
   ],
   "source": [
    "def doesnt_matter(chips, hand_value):\n",
    "    # Bulgaria poker champion's strategy. The stage of the game doesn't matter.\n",
    "    return hand_value >= 0.505\n",
    "\n",
    "def punishing_strategy(chips, hand_value):\n",
    "    # Henry's strategy. Supposedly, we'd like to punish weaker opponents.\n",
    "    if chips >= 180: \n",
    "        return hand_value > 0.405\n",
    "    return hand_value > 0.505\n",
    "\n",
    "def sample_game(player1, player2):\n",
    "    chips1, chips2 = 100, 100\n",
    "    while (chips1 > 0) and (chips2 > 0):\n",
    "        hand1, hand2 = random(), random()\n",
    "        raise1, raise2 = player1(chips1, hand1), player2(chips2, hand2)\n",
    "        if raise1 and raise2: # both raise\n",
    "            if hand1 > hand2:\n",
    "                chips1, chips2 = chips1 + chips_per_hand, chips2 - chips_per_hand\n",
    "            else:\n",
    "                chips1, chips2 = chips1 - chips_per_hand, chips2 + chips_per_hand\n",
    "        if raise1: # player1 steals blinds\n",
    "            chips1, chips2 = chips1 + blind_amount, chips2 - blind_amount\n",
    "        if raise2: # player2 steals blinds\n",
    "            chips1, chips2 = chips1 - blind_amount, chips2 + blind_amount\n",
    "    return chips2 <= 0\n",
    "            \n",
    "    \n",
    "won_punish = 0\n",
    "for _ in tqdm(range(num_matches)):\n",
    "    won_punish += sample_game(punishing_strategy, doesnt_matter)\n",
    "print(f'Punishing strategy won in {won_punish/num_matches*100}% of games')"
   ]
  }
 ],
 "metadata": {
  "kernelspec": {
   "display_name": "Python 3 (ipykernel)",
   "language": "python",
   "name": "python3"
  },
  "language_info": {
   "codemirror_mode": {
    "name": "ipython",
    "version": 3
   },
   "file_extension": ".py",
   "mimetype": "text/x-python",
   "name": "python",
   "nbconvert_exporter": "python",
   "pygments_lexer": "ipython3",
   "version": "3.9.13"
  }
 },
 "nbformat": 4,
 "nbformat_minor": 5
}

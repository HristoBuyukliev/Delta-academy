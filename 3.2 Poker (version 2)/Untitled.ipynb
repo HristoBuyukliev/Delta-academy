{
 "cells": [
  {
   "cell_type": "code",
   "execution_count": 1,
   "metadata": {},
   "outputs": [
    {
     "name": "stdout",
     "output_type": "stream",
     "text": [
      "pygame 2.1.2 (SDL 2.0.16, Python 3.8.10)\n",
      "Hello from the pygame community. https://www.pygame.org/contribute.html\n"
     ]
    }
   ],
   "source": [
    "import numpy as np\n",
    "import torch\n",
    "from torch import nn\n",
    "import torch.nn.functional as F\n",
    "import numpy as np\n",
    "from random import random\n",
    "import matplotlib.pyplot as plt\n",
    "from utils import *\n",
    "from tqdm.notebook import tqdm\n",
    "import multiprocessing\n",
    "from uuid import uuid4\n",
    "from game_mechanics import (\n",
    "    ChooseMoveCheckpoint,\n",
    "    PokerEnv,\n",
    "    checkpoint_model,\n",
    "    choose_move_randomly,\n",
    "    human_player,\n",
    "    load_network,\n",
    "    play_poker,\n",
    "    save_network,\n",
    "    State,\n",
    "    to_basic_nn_input,\n",
    ")\n",
    "\n",
    "%load_ext autoreload\n",
    "%autoreload 2"
   ]
  },
  {
   "cell_type": "code",
   "execution_count": 2,
   "metadata": {},
   "outputs": [],
   "source": [
    "class PokerPolicy(nn.Module):\n",
    "    def __init__(self):\n",
    "        super().__init__()\n",
    "        self.model = nn.Sequential(\n",
    "            nn.Linear(55, 20),\n",
    "            nn.LeakyReLU(),\n",
    "            nn.Linear(20,5),\n",
    "        )\n",
    "        \n",
    "    def forward(self, data, legal_moves):\n",
    "        ## legal moves is list of lists of allowed moves\n",
    "        illegal = lambda legal: [move not in legal for move in range(5)]\n",
    "        mask = torch.stack([torch.as_tensor(illegal(lm)) for lm in legal_moves])\n",
    "        preds = self.model(data)\n",
    "        preds = preds.masked_fill(mask, -float('inf'))\n",
    "        return F.softmax(preds,dim=-1)"
   ]
  },
  {
   "cell_type": "code",
   "execution_count": 3,
   "metadata": {},
   "outputs": [],
   "source": [
    "lr_policy = 0.005\n",
    "lr_value = 0.01\n",
    "gamma = 1.0\n",
    "\n",
    "policy = PokerPolicy()\n",
    "value = nn.Sequential(\n",
    "    nn.Linear(55, 20),\n",
    "    nn.LeakyReLU(),\n",
    "    nn.Linear(20,1)\n",
    ")\n",
    "\n",
    "optimizer_policy = torch.optim.Adam(policy.parameters(), lr=lr_policy)\n",
    "optimizer_value  = torch.optim.Adam(value.parameters(), lr=lr_value)\n",
    "\n",
    "# env = CartPoleEnv()\n",
    "erm = ParallelEpisodeReplayMemory(gamma=0.99, lamda=1.0)\n",
    "num_episodes = 1_000_000"
   ]
  },
  {
   "cell_type": "code",
   "execution_count": 4,
   "metadata": {},
   "outputs": [
    {
     "name": "stdout",
     "output_type": "stream",
     "text": [
      "1000000\n"
     ]
    },
    {
     "name": "stderr",
     "output_type": "stream",
     "text": [
      "/home/hristo/Delta-academy/3.2 Poker (version 2)/utils.py:32: FutureWarning: In a future version, object-dtype columns with all-bool values will not be included in reductions with bool_only=True. Explicitly cast to bool dtype instead.\n",
      "  self.data  = pd.concat([self.data, episode])\n",
      "/home/hristo/Delta-academy/3.2 Poker (version 2)/utils.py:25: FutureWarning: In a future version, object-dtype columns with all-bool values will not be included in reductions with bool_only=True. Explicitly cast to bool dtype instead.\n",
      "  self.current_episodes[episode_id] = pd.concat([self.current_episodes[episode_id], new_row])\n",
      "/home/hristo/Delta-academy/3.2 Poker (version 2)/utils.py:25: FutureWarning: In a future version, object-dtype columns with all-bool values will not be included in reductions with bool_only=True. Explicitly cast to bool dtype instead.\n",
      "  self.current_episodes[episode_id] = pd.concat([self.current_episodes[episode_id], new_row])\n",
      "/home/hristo/Delta-academy/3.2 Poker (version 2)/utils.py:32: FutureWarning: In a future version, object-dtype columns with all-bool values will not be included in reductions with bool_only=True. Explicitly cast to bool dtype instead.\n",
      "  self.data  = pd.concat([self.data, episode])\n",
      "/home/hristo/Delta-academy/3.2 Poker (version 2)/utils.py:32: FutureWarning: In a future version, object-dtype columns with all-bool values will not be included in reductions with bool_only=True. Explicitly cast to bool dtype instead.\n",
      "  self.data  = pd.concat([self.data, episode])\n",
      "/home/hristo/Delta-academy/3.2 Poker (version 2)/utils.py:32: FutureWarning: In a future version, object-dtype columns with all-bool values will not be included in reductions with bool_only=True. Explicitly cast to bool dtype instead.\n",
      "  self.data  = pd.concat([self.data, episode])\n",
      "/home/hristo/Delta-academy/3.2 Poker (version 2)/utils.py:25: FutureWarning: In a future version, object-dtype columns with all-bool values will not be included in reductions with bool_only=True. Explicitly cast to bool dtype instead.\n",
      "  self.current_episodes[episode_id] = pd.concat([self.current_episodes[episode_id], new_row])\n",
      "/home/hristo/Delta-academy/3.2 Poker (version 2)/utils.py:32: FutureWarning: In a future version, object-dtype columns with all-bool values will not be included in reductions with bool_only=True. Explicitly cast to bool dtype instead.\n",
      "  self.data  = pd.concat([self.data, episode])\n",
      "/home/hristo/Delta-academy/3.2 Poker (version 2)/utils.py:25: FutureWarning: In a future version, object-dtype columns with all-bool values will not be included in reductions with bool_only=True. Explicitly cast to bool dtype instead.\n",
      "  self.current_episodes[episode_id] = pd.concat([self.current_episodes[episode_id], new_row])\n",
      "/home/hristo/Delta-academy/3.2 Poker (version 2)/utils.py:25: FutureWarning: In a future version, object-dtype columns with all-bool values will not be included in reductions with bool_only=True. Explicitly cast to bool dtype instead.\n",
      "  self.current_episodes[episode_id] = pd.concat([self.current_episodes[episode_id], new_row])\n",
      "/home/hristo/Delta-academy/3.2 Poker (version 2)/utils.py:25: FutureWarning: In a future version, object-dtype columns with all-bool values will not be included in reductions with bool_only=True. Explicitly cast to bool dtype instead.\n",
      "  self.current_episodes[episode_id] = pd.concat([self.current_episodes[episode_id], new_row])\n",
      "/home/hristo/Delta-academy/3.2 Poker (version 2)/utils.py:25: FutureWarning: In a future version, object-dtype columns with all-bool values will not be included in reductions with bool_only=True. Explicitly cast to bool dtype instead.\n",
      "  self.current_episodes[episode_id] = pd.concat([self.current_episodes[episode_id], new_row])\n",
      "/home/hristo/Delta-academy/3.2 Poker (version 2)/utils.py:32: FutureWarning: In a future version, object-dtype columns with all-bool values will not be included in reductions with bool_only=True. Explicitly cast to bool dtype instead.\n",
      "  self.data  = pd.concat([self.data, episode])\n",
      "/home/hristo/Delta-academy/3.2 Poker (version 2)/utils.py:32: FutureWarning: In a future version, object-dtype columns with all-bool values will not be included in reductions with bool_only=True. Explicitly cast to bool dtype instead.\n",
      "  self.data  = pd.concat([self.data, episode])\n",
      "/home/hristo/Delta-academy/3.2 Poker (version 2)/utils.py:25: FutureWarning: In a future version, object-dtype columns with all-bool values will not be included in reductions with bool_only=True. Explicitly cast to bool dtype instead.\n",
      "  self.current_episodes[episode_id] = pd.concat([self.current_episodes[episode_id], new_row])\n",
      "/home/hristo/Delta-academy/3.2 Poker (version 2)/utils.py:25: FutureWarning: In a future version, object-dtype columns with all-bool values will not be included in reductions with bool_only=True. Explicitly cast to bool dtype instead.\n",
      "  self.current_episodes[episode_id] = pd.concat([self.current_episodes[episode_id], new_row])\n",
      "/home/hristo/Delta-academy/3.2 Poker (version 2)/utils.py:25: FutureWarning: In a future version, object-dtype columns with all-bool values will not be included in reductions with bool_only=True. Explicitly cast to bool dtype instead.\n",
      "  self.current_episodes[episode_id] = pd.concat([self.current_episodes[episode_id], new_row])\n",
      "/home/hristo/Delta-academy/3.2 Poker (version 2)/utils.py:25: FutureWarning: In a future version, object-dtype columns with all-bool values will not be included in reductions with bool_only=True. Explicitly cast to bool dtype instead.\n",
      "  self.current_episodes[episode_id] = pd.concat([self.current_episodes[episode_id], new_row])\n",
      "/home/hristo/Delta-academy/3.2 Poker (version 2)/utils.py:25: FutureWarning: In a future version, object-dtype columns with all-bool values will not be included in reductions with bool_only=True. Explicitly cast to bool dtype instead.\n",
      "  self.current_episodes[episode_id] = pd.concat([self.current_episodes[episode_id], new_row])\n",
      "/home/hristo/Delta-academy/3.2 Poker (version 2)/utils.py:25: FutureWarning: In a future version, object-dtype columns with all-bool values will not be included in reductions with bool_only=True. Explicitly cast to bool dtype instead.\n",
      "  self.current_episodes[episode_id] = pd.concat([self.current_episodes[episode_id], new_row])\n",
      "/home/hristo/Delta-academy/3.2 Poker (version 2)/utils.py:25: FutureWarning: In a future version, object-dtype columns with all-bool values will not be included in reductions with bool_only=True. Explicitly cast to bool dtype instead.\n",
      "  self.current_episodes[episode_id] = pd.concat([self.current_episodes[episode_id], new_row])\n",
      "/home/hristo/Delta-academy/3.2 Poker (version 2)/utils.py:32: FutureWarning: In a future version, object-dtype columns with all-bool values will not be included in reductions with bool_only=True. Explicitly cast to bool dtype instead.\n",
      "  self.data  = pd.concat([self.data, episode])\n"
     ]
    },
    {
     "name": "stdout",
     "output_type": "stream",
     "text": [
      "1000000\n"
     ]
    },
    {
     "name": "stderr",
     "output_type": "stream",
     "text": [
      "/home/hristo/Delta-academy/3.2 Poker (version 2)/utils.py:32: FutureWarning: In a future version, object-dtype columns with all-bool values will not be included in reductions with bool_only=True. Explicitly cast to bool dtype instead.\n",
      "  self.data  = pd.concat([self.data, episode])\n",
      "/home/hristo/Delta-academy/3.2 Poker (version 2)/utils.py:25: FutureWarning: In a future version, object-dtype columns with all-bool values will not be included in reductions with bool_only=True. Explicitly cast to bool dtype instead.\n",
      "  self.current_episodes[episode_id] = pd.concat([self.current_episodes[episode_id], new_row])\n",
      "/home/hristo/Delta-academy/3.2 Poker (version 2)/utils.py:32: FutureWarning: In a future version, object-dtype columns with all-bool values will not be included in reductions with bool_only=True. Explicitly cast to bool dtype instead.\n",
      "  self.data  = pd.concat([self.data, episode])\n",
      "/home/hristo/Delta-academy/3.2 Poker (version 2)/utils.py:32: FutureWarning: In a future version, object-dtype columns with all-bool values will not be included in reductions with bool_only=True. Explicitly cast to bool dtype instead.\n",
      "  self.data  = pd.concat([self.data, episode])\n",
      "/home/hristo/Delta-academy/3.2 Poker (version 2)/utils.py:25: FutureWarning: In a future version, object-dtype columns with all-bool values will not be included in reductions with bool_only=True. Explicitly cast to bool dtype instead.\n",
      "  self.current_episodes[episode_id] = pd.concat([self.current_episodes[episode_id], new_row])\n",
      "/home/hristo/Delta-academy/3.2 Poker (version 2)/utils.py:32: FutureWarning: In a future version, object-dtype columns with all-bool values will not be included in reductions with bool_only=True. Explicitly cast to bool dtype instead.\n",
      "  self.data  = pd.concat([self.data, episode])\n",
      "/home/hristo/Delta-academy/3.2 Poker (version 2)/utils.py:32: FutureWarning: In a future version, object-dtype columns with all-bool values will not be included in reductions with bool_only=True. Explicitly cast to bool dtype instead.\n",
      "  self.data  = pd.concat([self.data, episode])\n",
      "/home/hristo/Delta-academy/3.2 Poker (version 2)/utils.py:25: FutureWarning: In a future version, object-dtype columns with all-bool values will not be included in reductions with bool_only=True. Explicitly cast to bool dtype instead.\n",
      "  self.current_episodes[episode_id] = pd.concat([self.current_episodes[episode_id], new_row])\n",
      "/home/hristo/Delta-academy/3.2 Poker (version 2)/utils.py:32: FutureWarning: In a future version, object-dtype columns with all-bool values will not be included in reductions with bool_only=True. Explicitly cast to bool dtype instead.\n",
      "  self.data  = pd.concat([self.data, episode])\n",
      "/home/hristo/Delta-academy/3.2 Poker (version 2)/utils.py:25: FutureWarning: In a future version, object-dtype columns with all-bool values will not be included in reductions with bool_only=True. Explicitly cast to bool dtype instead.\n",
      "  self.current_episodes[episode_id] = pd.concat([self.current_episodes[episode_id], new_row])\n",
      "/home/hristo/Delta-academy/3.2 Poker (version 2)/utils.py:25: FutureWarning: In a future version, object-dtype columns with all-bool values will not be included in reductions with bool_only=True. Explicitly cast to bool dtype instead.\n",
      "  self.current_episodes[episode_id] = pd.concat([self.current_episodes[episode_id], new_row])\n",
      "/home/hristo/Delta-academy/3.2 Poker (version 2)/utils.py:32: FutureWarning: In a future version, object-dtype columns with all-bool values will not be included in reductions with bool_only=True. Explicitly cast to bool dtype instead.\n",
      "  self.data  = pd.concat([self.data, episode])\n",
      "/home/hristo/Delta-academy/3.2 Poker (version 2)/utils.py:25: FutureWarning: In a future version, object-dtype columns with all-bool values will not be included in reductions with bool_only=True. Explicitly cast to bool dtype instead.\n",
      "  self.current_episodes[episode_id] = pd.concat([self.current_episodes[episode_id], new_row])\n",
      "/home/hristo/Delta-academy/3.2 Poker (version 2)/utils.py:25: FutureWarning: In a future version, object-dtype columns with all-bool values will not be included in reductions with bool_only=True. Explicitly cast to bool dtype instead.\n",
      "  self.current_episodes[episode_id] = pd.concat([self.current_episodes[episode_id], new_row])\n",
      "/home/hristo/Delta-academy/3.2 Poker (version 2)/utils.py:25: FutureWarning: In a future version, object-dtype columns with all-bool values will not be included in reductions with bool_only=True. Explicitly cast to bool dtype instead.\n",
      "  self.current_episodes[episode_id] = pd.concat([self.current_episodes[episode_id], new_row])\n",
      "/home/hristo/Delta-academy/3.2 Poker (version 2)/utils.py:25: FutureWarning: In a future version, object-dtype columns with all-bool values will not be included in reductions with bool_only=True. Explicitly cast to bool dtype instead.\n",
      "  self.current_episodes[episode_id] = pd.concat([self.current_episodes[episode_id], new_row])\n",
      "/home/hristo/Delta-academy/3.2 Poker (version 2)/utils.py:25: FutureWarning: In a future version, object-dtype columns with all-bool values will not be included in reductions with bool_only=True. Explicitly cast to bool dtype instead.\n",
      "  self.current_episodes[episode_id] = pd.concat([self.current_episodes[episode_id], new_row])\n",
      "/home/hristo/Delta-academy/3.2 Poker (version 2)/utils.py:25: FutureWarning: In a future version, object-dtype columns with all-bool values will not be included in reductions with bool_only=True. Explicitly cast to bool dtype instead.\n",
      "  self.current_episodes[episode_id] = pd.concat([self.current_episodes[episode_id], new_row])\n",
      "/home/hristo/Delta-academy/3.2 Poker (version 2)/utils.py:25: FutureWarning: In a future version, object-dtype columns with all-bool values will not be included in reductions with bool_only=True. Explicitly cast to bool dtype instead.\n",
      "  self.current_episodes[episode_id] = pd.concat([self.current_episodes[episode_id], new_row])\n",
      "/home/hristo/Delta-academy/3.2 Poker (version 2)/utils.py:25: FutureWarning: In a future version, object-dtype columns with all-bool values will not be included in reductions with bool_only=True. Explicitly cast to bool dtype instead.\n",
      "  self.current_episodes[episode_id] = pd.concat([self.current_episodes[episode_id], new_row])\n",
      "/home/hristo/Delta-academy/3.2 Poker (version 2)/utils.py:25: FutureWarning: In a future version, object-dtype columns with all-bool values will not be included in reductions with bool_only=True. Explicitly cast to bool dtype instead.\n",
      "  self.current_episodes[episode_id] = pd.concat([self.current_episodes[episode_id], new_row])\n",
      "/home/hristo/Delta-academy/3.2 Poker (version 2)/utils.py:25: FutureWarning: In a future version, object-dtype columns with all-bool values will not be included in reductions with bool_only=True. Explicitly cast to bool dtype instead.\n",
      "  self.current_episodes[episode_id] = pd.concat([self.current_episodes[episode_id], new_row])\n",
      "/home/hristo/Delta-academy/3.2 Poker (version 2)/utils.py:25: FutureWarning: In a future version, object-dtype columns with all-bool values will not be included in reductions with bool_only=True. Explicitly cast to bool dtype instead.\n",
      "  self.current_episodes[episode_id] = pd.concat([self.current_episodes[episode_id], new_row])\n",
      "/home/hristo/Delta-academy/3.2 Poker (version 2)/utils.py:25: FutureWarning: In a future version, object-dtype columns with all-bool values will not be included in reductions with bool_only=True. Explicitly cast to bool dtype instead.\n",
      "  self.current_episodes[episode_id] = pd.concat([self.current_episodes[episode_id], new_row])\n",
      "/home/hristo/Delta-academy/3.2 Poker (version 2)/utils.py:25: FutureWarning: In a future version, object-dtype columns with all-bool values will not be included in reductions with bool_only=True. Explicitly cast to bool dtype instead.\n",
      "  self.current_episodes[episode_id] = pd.concat([self.current_episodes[episode_id], new_row])\n",
      "/home/hristo/Delta-academy/3.2 Poker (version 2)/utils.py:25: FutureWarning: In a future version, object-dtype columns with all-bool values will not be included in reductions with bool_only=True. Explicitly cast to bool dtype instead.\n",
      "  self.current_episodes[episode_id] = pd.concat([self.current_episodes[episode_id], new_row])\n"
     ]
    },
    {
     "name": "stderr",
     "output_type": "stream",
     "text": [
      "/home/hristo/Delta-academy/3.2 Poker (version 2)/utils.py:25: FutureWarning: In a future version, object-dtype columns with all-bool values will not be included in reductions with bool_only=True. Explicitly cast to bool dtype instead.\n",
      "  self.current_episodes[episode_id] = pd.concat([self.current_episodes[episode_id], new_row])\n",
      "/home/hristo/Delta-academy/3.2 Poker (version 2)/utils.py:25: FutureWarning: In a future version, object-dtype columns with all-bool values will not be included in reductions with bool_only=True. Explicitly cast to bool dtype instead.\n",
      "  self.current_episodes[episode_id] = pd.concat([self.current_episodes[episode_id], new_row])\n",
      "/home/hristo/Delta-academy/3.2 Poker (version 2)/utils.py:25: FutureWarning: In a future version, object-dtype columns with all-bool values will not be included in reductions with bool_only=True. Explicitly cast to bool dtype instead.\n",
      "  self.current_episodes[episode_id] = pd.concat([self.current_episodes[episode_id], new_row])\n",
      "/home/hristo/Delta-academy/3.2 Poker (version 2)/utils.py:25: FutureWarning: In a future version, object-dtype columns with all-bool values will not be included in reductions with bool_only=True. Explicitly cast to bool dtype instead.\n",
      "  self.current_episodes[episode_id] = pd.concat([self.current_episodes[episode_id], new_row])\n",
      "/home/hristo/Delta-academy/3.2 Poker (version 2)/utils.py:25: FutureWarning: In a future version, object-dtype columns with all-bool values will not be included in reductions with bool_only=True. Explicitly cast to bool dtype instead.\n",
      "  self.current_episodes[episode_id] = pd.concat([self.current_episodes[episode_id], new_row])\n",
      "/home/hristo/Delta-academy/3.2 Poker (version 2)/utils.py:25: FutureWarning: In a future version, object-dtype columns with all-bool values will not be included in reductions with bool_only=True. Explicitly cast to bool dtype instead.\n",
      "  self.current_episodes[episode_id] = pd.concat([self.current_episodes[episode_id], new_row])\n",
      "/home/hristo/Delta-academy/3.2 Poker (version 2)/utils.py:25: FutureWarning: In a future version, object-dtype columns with all-bool values will not be included in reductions with bool_only=True. Explicitly cast to bool dtype instead.\n",
      "  self.current_episodes[episode_id] = pd.concat([self.current_episodes[episode_id], new_row])\n",
      "/home/hristo/Delta-academy/3.2 Poker (version 2)/utils.py:25: FutureWarning: In a future version, object-dtype columns with all-bool values will not be included in reductions with bool_only=True. Explicitly cast to bool dtype instead.\n",
      "  self.current_episodes[episode_id] = pd.concat([self.current_episodes[episode_id], new_row])\n",
      "/home/hristo/Delta-academy/3.2 Poker (version 2)/utils.py:25: FutureWarning: In a future version, object-dtype columns with all-bool values will not be included in reductions with bool_only=True. Explicitly cast to bool dtype instead.\n",
      "  self.current_episodes[episode_id] = pd.concat([self.current_episodes[episode_id], new_row])\n",
      "/home/hristo/Delta-academy/3.2 Poker (version 2)/utils.py:25: FutureWarning: In a future version, object-dtype columns with all-bool values will not be included in reductions with bool_only=True. Explicitly cast to bool dtype instead.\n",
      "  self.current_episodes[episode_id] = pd.concat([self.current_episodes[episode_id], new_row])\n",
      "/home/hristo/Delta-academy/3.2 Poker (version 2)/utils.py:25: FutureWarning: In a future version, object-dtype columns with all-bool values will not be included in reductions with bool_only=True. Explicitly cast to bool dtype instead.\n",
      "  self.current_episodes[episode_id] = pd.concat([self.current_episodes[episode_id], new_row])\n",
      "/home/hristo/Delta-academy/3.2 Poker (version 2)/utils.py:25: FutureWarning: In a future version, object-dtype columns with all-bool values will not be included in reductions with bool_only=True. Explicitly cast to bool dtype instead.\n",
      "  self.current_episodes[episode_id] = pd.concat([self.current_episodes[episode_id], new_row])\n",
      "/home/hristo/Delta-academy/3.2 Poker (version 2)/utils.py:25: FutureWarning: In a future version, object-dtype columns with all-bool values will not be included in reductions with bool_only=True. Explicitly cast to bool dtype instead.\n",
      "  self.current_episodes[episode_id] = pd.concat([self.current_episodes[episode_id], new_row])\n",
      "/home/hristo/Delta-academy/3.2 Poker (version 2)/utils.py:25: FutureWarning: In a future version, object-dtype columns with all-bool values will not be included in reductions with bool_only=True. Explicitly cast to bool dtype instead.\n",
      "  self.current_episodes[episode_id] = pd.concat([self.current_episodes[episode_id], new_row])\n",
      "/home/hristo/Delta-academy/3.2 Poker (version 2)/utils.py:25: FutureWarning: In a future version, object-dtype columns with all-bool values will not be included in reductions with bool_only=True. Explicitly cast to bool dtype instead.\n",
      "  self.current_episodes[episode_id] = pd.concat([self.current_episodes[episode_id], new_row])\n",
      "/home/hristo/Delta-academy/3.2 Poker (version 2)/utils.py:25: FutureWarning: In a future version, object-dtype columns with all-bool values will not be included in reductions with bool_only=True. Explicitly cast to bool dtype instead.\n",
      "  self.current_episodes[episode_id] = pd.concat([self.current_episodes[episode_id], new_row])\n",
      "/home/hristo/Delta-academy/3.2 Poker (version 2)/utils.py:25: FutureWarning: In a future version, object-dtype columns with all-bool values will not be included in reductions with bool_only=True. Explicitly cast to bool dtype instead.\n",
      "  self.current_episodes[episode_id] = pd.concat([self.current_episodes[episode_id], new_row])\n",
      "/home/hristo/Delta-academy/3.2 Poker (version 2)/utils.py:25: FutureWarning: In a future version, object-dtype columns with all-bool values will not be included in reductions with bool_only=True. Explicitly cast to bool dtype instead.\n",
      "  self.current_episodes[episode_id] = pd.concat([self.current_episodes[episode_id], new_row])\n",
      "/home/hristo/Delta-academy/3.2 Poker (version 2)/utils.py:25: FutureWarning: In a future version, object-dtype columns with all-bool values will not be included in reductions with bool_only=True. Explicitly cast to bool dtype instead.\n",
      "  self.current_episodes[episode_id] = pd.concat([self.current_episodes[episode_id], new_row])\n",
      "/home/hristo/Delta-academy/3.2 Poker (version 2)/utils.py:25: FutureWarning: In a future version, object-dtype columns with all-bool values will not be included in reductions with bool_only=True. Explicitly cast to bool dtype instead.\n",
      "  self.current_episodes[episode_id] = pd.concat([self.current_episodes[episode_id], new_row])\n",
      "/home/hristo/Delta-academy/3.2 Poker (version 2)/utils.py:25: FutureWarning: In a future version, object-dtype columns with all-bool values will not be included in reductions with bool_only=True. Explicitly cast to bool dtype instead.\n",
      "  self.current_episodes[episode_id] = pd.concat([self.current_episodes[episode_id], new_row])\n",
      "/home/hristo/Delta-academy/3.2 Poker (version 2)/utils.py:25: FutureWarning: In a future version, object-dtype columns with all-bool values will not be included in reductions with bool_only=True. Explicitly cast to bool dtype instead.\n",
      "  self.current_episodes[episode_id] = pd.concat([self.current_episodes[episode_id], new_row])\n",
      "/home/hristo/Delta-academy/3.2 Poker (version 2)/utils.py:25: FutureWarning: In a future version, object-dtype columns with all-bool values will not be included in reductions with bool_only=True. Explicitly cast to bool dtype instead.\n",
      "  self.current_episodes[episode_id] = pd.concat([self.current_episodes[episode_id], new_row])\n",
      "/home/hristo/Delta-academy/3.2 Poker (version 2)/utils.py:25: FutureWarning: In a future version, object-dtype columns with all-bool values will not be included in reductions with bool_only=True. Explicitly cast to bool dtype instead.\n",
      "  self.current_episodes[episode_id] = pd.concat([self.current_episodes[episode_id], new_row])\n",
      "/home/hristo/Delta-academy/3.2 Poker (version 2)/utils.py:25: FutureWarning: In a future version, object-dtype columns with all-bool values will not be included in reductions with bool_only=True. Explicitly cast to bool dtype instead.\n",
      "  self.current_episodes[episode_id] = pd.concat([self.current_episodes[episode_id], new_row])\n"
     ]
    },
    {
     "name": "stderr",
     "output_type": "stream",
     "text": [
      "/home/hristo/Delta-academy/3.2 Poker (version 2)/utils.py:25: FutureWarning: In a future version, object-dtype columns with all-bool values will not be included in reductions with bool_only=True. Explicitly cast to bool dtype instead.\n",
      "  self.current_episodes[episode_id] = pd.concat([self.current_episodes[episode_id], new_row])\n",
      "/home/hristo/Delta-academy/3.2 Poker (version 2)/utils.py:25: FutureWarning: In a future version, object-dtype columns with all-bool values will not be included in reductions with bool_only=True. Explicitly cast to bool dtype instead.\n",
      "  self.current_episodes[episode_id] = pd.concat([self.current_episodes[episode_id], new_row])\n",
      "/home/hristo/Delta-academy/3.2 Poker (version 2)/utils.py:25: FutureWarning: In a future version, object-dtype columns with all-bool values will not be included in reductions with bool_only=True. Explicitly cast to bool dtype instead.\n",
      "  self.current_episodes[episode_id] = pd.concat([self.current_episodes[episode_id], new_row])\n",
      "/home/hristo/Delta-academy/3.2 Poker (version 2)/utils.py:25: FutureWarning: In a future version, object-dtype columns with all-bool values will not be included in reductions with bool_only=True. Explicitly cast to bool dtype instead.\n",
      "  self.current_episodes[episode_id] = pd.concat([self.current_episodes[episode_id], new_row])\n",
      "/home/hristo/Delta-academy/3.2 Poker (version 2)/utils.py:25: FutureWarning: In a future version, object-dtype columns with all-bool values will not be included in reductions with bool_only=True. Explicitly cast to bool dtype instead.\n",
      "  self.current_episodes[episode_id] = pd.concat([self.current_episodes[episode_id], new_row])\n",
      "/home/hristo/Delta-academy/3.2 Poker (version 2)/utils.py:25: FutureWarning: In a future version, object-dtype columns with all-bool values will not be included in reductions with bool_only=True. Explicitly cast to bool dtype instead.\n",
      "  self.current_episodes[episode_id] = pd.concat([self.current_episodes[episode_id], new_row])\n",
      "/home/hristo/Delta-academy/3.2 Poker (version 2)/utils.py:25: FutureWarning: In a future version, object-dtype columns with all-bool values will not be included in reductions with bool_only=True. Explicitly cast to bool dtype instead.\n",
      "  self.current_episodes[episode_id] = pd.concat([self.current_episodes[episode_id], new_row])\n",
      "/home/hristo/Delta-academy/3.2 Poker (version 2)/utils.py:25: FutureWarning: In a future version, object-dtype columns with all-bool values will not be included in reductions with bool_only=True. Explicitly cast to bool dtype instead.\n",
      "  self.current_episodes[episode_id] = pd.concat([self.current_episodes[episode_id], new_row])\n",
      "/home/hristo/Delta-academy/3.2 Poker (version 2)/utils.py:25: FutureWarning: In a future version, object-dtype columns with all-bool values will not be included in reductions with bool_only=True. Explicitly cast to bool dtype instead.\n",
      "  self.current_episodes[episode_id] = pd.concat([self.current_episodes[episode_id], new_row])\n",
      "/home/hristo/Delta-academy/3.2 Poker (version 2)/utils.py:25: FutureWarning: In a future version, object-dtype columns with all-bool values will not be included in reductions with bool_only=True. Explicitly cast to bool dtype instead.\n",
      "  self.current_episodes[episode_id] = pd.concat([self.current_episodes[episode_id], new_row])\n",
      "/home/hristo/Delta-academy/3.2 Poker (version 2)/utils.py:25: FutureWarning: In a future version, object-dtype columns with all-bool values will not be included in reductions with bool_only=True. Explicitly cast to bool dtype instead.\n",
      "  self.current_episodes[episode_id] = pd.concat([self.current_episodes[episode_id], new_row])\n",
      "/home/hristo/Delta-academy/3.2 Poker (version 2)/utils.py:25: FutureWarning: In a future version, object-dtype columns with all-bool values will not be included in reductions with bool_only=True. Explicitly cast to bool dtype instead.\n",
      "  self.current_episodes[episode_id] = pd.concat([self.current_episodes[episode_id], new_row])\n",
      "/home/hristo/Delta-academy/3.2 Poker (version 2)/utils.py:25: FutureWarning: In a future version, object-dtype columns with all-bool values will not be included in reductions with bool_only=True. Explicitly cast to bool dtype instead.\n",
      "  self.current_episodes[episode_id] = pd.concat([self.current_episodes[episode_id], new_row])\n",
      "/home/hristo/Delta-academy/3.2 Poker (version 2)/utils.py:25: FutureWarning: In a future version, object-dtype columns with all-bool values will not be included in reductions with bool_only=True. Explicitly cast to bool dtype instead.\n",
      "  self.current_episodes[episode_id] = pd.concat([self.current_episodes[episode_id], new_row])\n",
      "/home/hristo/Delta-academy/3.2 Poker (version 2)/utils.py:25: FutureWarning: In a future version, object-dtype columns with all-bool values will not be included in reductions with bool_only=True. Explicitly cast to bool dtype instead.\n",
      "  self.current_episodes[episode_id] = pd.concat([self.current_episodes[episode_id], new_row])\n",
      "/home/hristo/Delta-academy/3.2 Poker (version 2)/utils.py:25: FutureWarning: In a future version, object-dtype columns with all-bool values will not be included in reductions with bool_only=True. Explicitly cast to bool dtype instead.\n",
      "  self.current_episodes[episode_id] = pd.concat([self.current_episodes[episode_id], new_row])\n",
      "/home/hristo/Delta-academy/3.2 Poker (version 2)/utils.py:25: FutureWarning: In a future version, object-dtype columns with all-bool values will not be included in reductions with bool_only=True. Explicitly cast to bool dtype instead.\n",
      "  self.current_episodes[episode_id] = pd.concat([self.current_episodes[episode_id], new_row])\n",
      "/home/hristo/Delta-academy/3.2 Poker (version 2)/utils.py:25: FutureWarning: In a future version, object-dtype columns with all-bool values will not be included in reductions with bool_only=True. Explicitly cast to bool dtype instead.\n",
      "  self.current_episodes[episode_id] = pd.concat([self.current_episodes[episode_id], new_row])\n",
      "/home/hristo/Delta-academy/3.2 Poker (version 2)/utils.py:25: FutureWarning: In a future version, object-dtype columns with all-bool values will not be included in reductions with bool_only=True. Explicitly cast to bool dtype instead.\n",
      "  self.current_episodes[episode_id] = pd.concat([self.current_episodes[episode_id], new_row])\n",
      "/home/hristo/Delta-academy/3.2 Poker (version 2)/utils.py:25: FutureWarning: In a future version, object-dtype columns with all-bool values will not be included in reductions with bool_only=True. Explicitly cast to bool dtype instead.\n",
      "  self.current_episodes[episode_id] = pd.concat([self.current_episodes[episode_id], new_row])\n",
      "/home/hristo/Delta-academy/3.2 Poker (version 2)/utils.py:25: FutureWarning: In a future version, object-dtype columns with all-bool values will not be included in reductions with bool_only=True. Explicitly cast to bool dtype instead.\n",
      "  self.current_episodes[episode_id] = pd.concat([self.current_episodes[episode_id], new_row])\n",
      "/home/hristo/Delta-academy/3.2 Poker (version 2)/utils.py:25: FutureWarning: In a future version, object-dtype columns with all-bool values will not be included in reductions with bool_only=True. Explicitly cast to bool dtype instead.\n",
      "  self.current_episodes[episode_id] = pd.concat([self.current_episodes[episode_id], new_row])\n",
      "/home/hristo/Delta-academy/3.2 Poker (version 2)/utils.py:25: FutureWarning: In a future version, object-dtype columns with all-bool values will not be included in reductions with bool_only=True. Explicitly cast to bool dtype instead.\n",
      "  self.current_episodes[episode_id] = pd.concat([self.current_episodes[episode_id], new_row])\n",
      "/home/hristo/Delta-academy/3.2 Poker (version 2)/utils.py:25: FutureWarning: In a future version, object-dtype columns with all-bool values will not be included in reductions with bool_only=True. Explicitly cast to bool dtype instead.\n",
      "  self.current_episodes[episode_id] = pd.concat([self.current_episodes[episode_id], new_row])\n",
      "/home/hristo/Delta-academy/3.2 Poker (version 2)/utils.py:25: FutureWarning: In a future version, object-dtype columns with all-bool values will not be included in reductions with bool_only=True. Explicitly cast to bool dtype instead.\n",
      "  self.current_episodes[episode_id] = pd.concat([self.current_episodes[episode_id], new_row])\n"
     ]
    },
    {
     "name": "stderr",
     "output_type": "stream",
     "text": [
      "/home/hristo/Delta-academy/3.2 Poker (version 2)/utils.py:25: FutureWarning: In a future version, object-dtype columns with all-bool values will not be included in reductions with bool_only=True. Explicitly cast to bool dtype instead.\n",
      "  self.current_episodes[episode_id] = pd.concat([self.current_episodes[episode_id], new_row])\n",
      "/home/hristo/Delta-academy/3.2 Poker (version 2)/utils.py:25: FutureWarning: In a future version, object-dtype columns with all-bool values will not be included in reductions with bool_only=True. Explicitly cast to bool dtype instead.\n",
      "  self.current_episodes[episode_id] = pd.concat([self.current_episodes[episode_id], new_row])\n",
      "/home/hristo/Delta-academy/3.2 Poker (version 2)/utils.py:32: FutureWarning: In a future version, object-dtype columns with all-bool values will not be included in reductions with bool_only=True. Explicitly cast to bool dtype instead.\n",
      "  self.data  = pd.concat([self.data, episode])\n"
     ]
    },
    {
     "name": "stdout",
     "output_type": "stream",
     "text": [
      "1000000\n"
     ]
    },
    {
     "name": "stderr",
     "output_type": "stream",
     "text": [
      "/home/hristo/Delta-academy/3.2 Poker (version 2)/utils.py:32: FutureWarning: In a future version, object-dtype columns with all-bool values will not be included in reductions with bool_only=True. Explicitly cast to bool dtype instead.\n",
      "  self.data  = pd.concat([self.data, episode])\n",
      "/home/hristo/Delta-academy/3.2 Poker (version 2)/utils.py:32: FutureWarning: In a future version, object-dtype columns with all-bool values will not be included in reductions with bool_only=True. Explicitly cast to bool dtype instead.\n",
      "  self.data  = pd.concat([self.data, episode])\n",
      "/home/hristo/Delta-academy/3.2 Poker (version 2)/utils.py:32: FutureWarning: In a future version, object-dtype columns with all-bool values will not be included in reductions with bool_only=True. Explicitly cast to bool dtype instead.\n",
      "  self.data  = pd.concat([self.data, episode])\n",
      "/home/hristo/Delta-academy/3.2 Poker (version 2)/utils.py:32: FutureWarning: In a future version, object-dtype columns with all-bool values will not be included in reductions with bool_only=True. Explicitly cast to bool dtype instead.\n",
      "  self.data  = pd.concat([self.data, episode])\n",
      "/home/hristo/Delta-academy/3.2 Poker (version 2)/utils.py:32: FutureWarning: In a future version, object-dtype columns with all-bool values will not be included in reductions with bool_only=True. Explicitly cast to bool dtype instead.\n",
      "  self.data  = pd.concat([self.data, episode])\n",
      "/home/hristo/Delta-academy/3.2 Poker (version 2)/utils.py:32: FutureWarning: In a future version, object-dtype columns with all-bool values will not be included in reductions with bool_only=True. Explicitly cast to bool dtype instead.\n",
      "  self.data  = pd.concat([self.data, episode])\n",
      "/home/hristo/Delta-academy/3.2 Poker (version 2)/utils.py:25: FutureWarning: In a future version, object-dtype columns with all-bool values will not be included in reductions with bool_only=True. Explicitly cast to bool dtype instead.\n",
      "  self.current_episodes[episode_id] = pd.concat([self.current_episodes[episode_id], new_row])\n",
      "/home/hristo/Delta-academy/3.2 Poker (version 2)/utils.py:25: FutureWarning: In a future version, object-dtype columns with all-bool values will not be included in reductions with bool_only=True. Explicitly cast to bool dtype instead.\n",
      "  self.current_episodes[episode_id] = pd.concat([self.current_episodes[episode_id], new_row])\n",
      "/home/hristo/Delta-academy/3.2 Poker (version 2)/utils.py:25: FutureWarning: In a future version, object-dtype columns with all-bool values will not be included in reductions with bool_only=True. Explicitly cast to bool dtype instead.\n",
      "  self.current_episodes[episode_id] = pd.concat([self.current_episodes[episode_id], new_row])\n",
      "/home/hristo/Delta-academy/3.2 Poker (version 2)/utils.py:25: FutureWarning: In a future version, object-dtype columns with all-bool values will not be included in reductions with bool_only=True. Explicitly cast to bool dtype instead.\n",
      "  self.current_episodes[episode_id] = pd.concat([self.current_episodes[episode_id], new_row])\n",
      "/home/hristo/Delta-academy/3.2 Poker (version 2)/utils.py:32: FutureWarning: In a future version, object-dtype columns with all-bool values will not be included in reductions with bool_only=True. Explicitly cast to bool dtype instead.\n",
      "  self.data  = pd.concat([self.data, episode])\n",
      "/home/hristo/Delta-academy/3.2 Poker (version 2)/utils.py:25: FutureWarning: In a future version, object-dtype columns with all-bool values will not be included in reductions with bool_only=True. Explicitly cast to bool dtype instead.\n",
      "  self.current_episodes[episode_id] = pd.concat([self.current_episodes[episode_id], new_row])\n",
      "/home/hristo/Delta-academy/3.2 Poker (version 2)/utils.py:25: FutureWarning: In a future version, object-dtype columns with all-bool values will not be included in reductions with bool_only=True. Explicitly cast to bool dtype instead.\n",
      "  self.current_episodes[episode_id] = pd.concat([self.current_episodes[episode_id], new_row])\n",
      "/home/hristo/Delta-academy/3.2 Poker (version 2)/utils.py:25: FutureWarning: In a future version, object-dtype columns with all-bool values will not be included in reductions with bool_only=True. Explicitly cast to bool dtype instead.\n",
      "  self.current_episodes[episode_id] = pd.concat([self.current_episodes[episode_id], new_row])\n",
      "/home/hristo/Delta-academy/3.2 Poker (version 2)/utils.py:25: FutureWarning: In a future version, object-dtype columns with all-bool values will not be included in reductions with bool_only=True. Explicitly cast to bool dtype instead.\n",
      "  self.current_episodes[episode_id] = pd.concat([self.current_episodes[episode_id], new_row])\n",
      "/home/hristo/Delta-academy/3.2 Poker (version 2)/utils.py:32: FutureWarning: In a future version, object-dtype columns with all-bool values will not be included in reductions with bool_only=True. Explicitly cast to bool dtype instead.\n",
      "  self.data  = pd.concat([self.data, episode])\n"
     ]
    },
    {
     "name": "stdout",
     "output_type": "stream",
     "text": [
      "1000000\n"
     ]
    },
    {
     "name": "stderr",
     "output_type": "stream",
     "text": [
      "/home/hristo/Delta-academy/3.2 Poker (version 2)/utils.py:32: FutureWarning: In a future version, object-dtype columns with all-bool values will not be included in reductions with bool_only=True. Explicitly cast to bool dtype instead.\n",
      "  self.data  = pd.concat([self.data, episode])\n",
      "/home/hristo/Delta-academy/3.2 Poker (version 2)/utils.py:32: FutureWarning: In a future version, object-dtype columns with all-bool values will not be included in reductions with bool_only=True. Explicitly cast to bool dtype instead.\n",
      "  self.data  = pd.concat([self.data, episode])\n",
      "/home/hristo/Delta-academy/3.2 Poker (version 2)/utils.py:32: FutureWarning: In a future version, object-dtype columns with all-bool values will not be included in reductions with bool_only=True. Explicitly cast to bool dtype instead.\n",
      "  self.data  = pd.concat([self.data, episode])\n",
      "/home/hristo/Delta-academy/3.2 Poker (version 2)/utils.py:32: FutureWarning: In a future version, object-dtype columns with all-bool values will not be included in reductions with bool_only=True. Explicitly cast to bool dtype instead.\n",
      "  self.data  = pd.concat([self.data, episode])\n",
      "/home/hristo/Delta-academy/3.2 Poker (version 2)/utils.py:32: FutureWarning: In a future version, object-dtype columns with all-bool values will not be included in reductions with bool_only=True. Explicitly cast to bool dtype instead.\n",
      "  self.data  = pd.concat([self.data, episode])\n",
      "/home/hristo/Delta-academy/3.2 Poker (version 2)/utils.py:32: FutureWarning: In a future version, object-dtype columns with all-bool values will not be included in reductions with bool_only=True. Explicitly cast to bool dtype instead.\n",
      "  self.data  = pd.concat([self.data, episode])\n",
      "/home/hristo/Delta-academy/3.2 Poker (version 2)/utils.py:25: FutureWarning: In a future version, object-dtype columns with all-bool values will not be included in reductions with bool_only=True. Explicitly cast to bool dtype instead.\n",
      "  self.current_episodes[episode_id] = pd.concat([self.current_episodes[episode_id], new_row])\n",
      "/home/hristo/Delta-academy/3.2 Poker (version 2)/utils.py:25: FutureWarning: In a future version, object-dtype columns with all-bool values will not be included in reductions with bool_only=True. Explicitly cast to bool dtype instead.\n",
      "  self.current_episodes[episode_id] = pd.concat([self.current_episodes[episode_id], new_row])\n",
      "/home/hristo/Delta-academy/3.2 Poker (version 2)/utils.py:25: FutureWarning: In a future version, object-dtype columns with all-bool values will not be included in reductions with bool_only=True. Explicitly cast to bool dtype instead.\n",
      "  self.current_episodes[episode_id] = pd.concat([self.current_episodes[episode_id], new_row])\n",
      "/home/hristo/Delta-academy/3.2 Poker (version 2)/utils.py:25: FutureWarning: In a future version, object-dtype columns with all-bool values will not be included in reductions with bool_only=True. Explicitly cast to bool dtype instead.\n",
      "  self.current_episodes[episode_id] = pd.concat([self.current_episodes[episode_id], new_row])\n",
      "/home/hristo/Delta-academy/3.2 Poker (version 2)/utils.py:25: FutureWarning: In a future version, object-dtype columns with all-bool values will not be included in reductions with bool_only=True. Explicitly cast to bool dtype instead.\n",
      "  self.current_episodes[episode_id] = pd.concat([self.current_episodes[episode_id], new_row])\n",
      "/home/hristo/Delta-academy/3.2 Poker (version 2)/utils.py:25: FutureWarning: In a future version, object-dtype columns with all-bool values will not be included in reductions with bool_only=True. Explicitly cast to bool dtype instead.\n",
      "  self.current_episodes[episode_id] = pd.concat([self.current_episodes[episode_id], new_row])\n",
      "/home/hristo/Delta-academy/3.2 Poker (version 2)/utils.py:25: FutureWarning: In a future version, object-dtype columns with all-bool values will not be included in reductions with bool_only=True. Explicitly cast to bool dtype instead.\n",
      "  self.current_episodes[episode_id] = pd.concat([self.current_episodes[episode_id], new_row])\n",
      "/home/hristo/Delta-academy/3.2 Poker (version 2)/utils.py:25: FutureWarning: In a future version, object-dtype columns with all-bool values will not be included in reductions with bool_only=True. Explicitly cast to bool dtype instead.\n",
      "  self.current_episodes[episode_id] = pd.concat([self.current_episodes[episode_id], new_row])\n",
      "/home/hristo/Delta-academy/3.2 Poker (version 2)/utils.py:32: FutureWarning: In a future version, object-dtype columns with all-bool values will not be included in reductions with bool_only=True. Explicitly cast to bool dtype instead.\n",
      "  self.data  = pd.concat([self.data, episode])\n",
      "/home/hristo/Delta-academy/3.2 Poker (version 2)/utils.py:25: FutureWarning: In a future version, object-dtype columns with all-bool values will not be included in reductions with bool_only=True. Explicitly cast to bool dtype instead.\n",
      "  self.current_episodes[episode_id] = pd.concat([self.current_episodes[episode_id], new_row])\n",
      "/home/hristo/Delta-academy/3.2 Poker (version 2)/utils.py:25: FutureWarning: In a future version, object-dtype columns with all-bool values will not be included in reductions with bool_only=True. Explicitly cast to bool dtype instead.\n",
      "  self.current_episodes[episode_id] = pd.concat([self.current_episodes[episode_id], new_row])\n",
      "/home/hristo/Delta-academy/3.2 Poker (version 2)/utils.py:25: FutureWarning: In a future version, object-dtype columns with all-bool values will not be included in reductions with bool_only=True. Explicitly cast to bool dtype instead.\n",
      "  self.current_episodes[episode_id] = pd.concat([self.current_episodes[episode_id], new_row])\n",
      "/home/hristo/Delta-academy/3.2 Poker (version 2)/utils.py:25: FutureWarning: In a future version, object-dtype columns with all-bool values will not be included in reductions with bool_only=True. Explicitly cast to bool dtype instead.\n",
      "  self.current_episodes[episode_id] = pd.concat([self.current_episodes[episode_id], new_row])\n",
      "/home/hristo/Delta-academy/3.2 Poker (version 2)/utils.py:25: FutureWarning: In a future version, object-dtype columns with all-bool values will not be included in reductions with bool_only=True. Explicitly cast to bool dtype instead.\n",
      "  self.current_episodes[episode_id] = pd.concat([self.current_episodes[episode_id], new_row])\n",
      "/home/hristo/Delta-academy/3.2 Poker (version 2)/utils.py:25: FutureWarning: In a future version, object-dtype columns with all-bool values will not be included in reductions with bool_only=True. Explicitly cast to bool dtype instead.\n",
      "  self.current_episodes[episode_id] = pd.concat([self.current_episodes[episode_id], new_row])\n",
      "/home/hristo/Delta-academy/3.2 Poker (version 2)/utils.py:25: FutureWarning: In a future version, object-dtype columns with all-bool values will not be included in reductions with bool_only=True. Explicitly cast to bool dtype instead.\n",
      "  self.current_episodes[episode_id] = pd.concat([self.current_episodes[episode_id], new_row])\n",
      "/home/hristo/Delta-academy/3.2 Poker (version 2)/utils.py:25: FutureWarning: In a future version, object-dtype columns with all-bool values will not be included in reductions with bool_only=True. Explicitly cast to bool dtype instead.\n",
      "  self.current_episodes[episode_id] = pd.concat([self.current_episodes[episode_id], new_row])\n",
      "/home/hristo/Delta-academy/3.2 Poker (version 2)/utils.py:25: FutureWarning: In a future version, object-dtype columns with all-bool values will not be included in reductions with bool_only=True. Explicitly cast to bool dtype instead.\n",
      "  self.current_episodes[episode_id] = pd.concat([self.current_episodes[episode_id], new_row])\n",
      "/home/hristo/Delta-academy/3.2 Poker (version 2)/utils.py:25: FutureWarning: In a future version, object-dtype columns with all-bool values will not be included in reductions with bool_only=True. Explicitly cast to bool dtype instead.\n",
      "  self.current_episodes[episode_id] = pd.concat([self.current_episodes[episode_id], new_row])\n",
      "/home/hristo/Delta-academy/3.2 Poker (version 2)/utils.py:25: FutureWarning: In a future version, object-dtype columns with all-bool values will not be included in reductions with bool_only=True. Explicitly cast to bool dtype instead.\n",
      "  self.current_episodes[episode_id] = pd.concat([self.current_episodes[episode_id], new_row])\n"
     ]
    },
    {
     "name": "stderr",
     "output_type": "stream",
     "text": [
      "/home/hristo/Delta-academy/3.2 Poker (version 2)/utils.py:25: FutureWarning: In a future version, object-dtype columns with all-bool values will not be included in reductions with bool_only=True. Explicitly cast to bool dtype instead.\n",
      "  self.current_episodes[episode_id] = pd.concat([self.current_episodes[episode_id], new_row])\n",
      "/home/hristo/Delta-academy/3.2 Poker (version 2)/utils.py:32: FutureWarning: In a future version, object-dtype columns with all-bool values will not be included in reductions with bool_only=True. Explicitly cast to bool dtype instead.\n",
      "  self.data  = pd.concat([self.data, episode])\n"
     ]
    },
    {
     "name": "stdout",
     "output_type": "stream",
     "text": [
      "1000000\n"
     ]
    },
    {
     "name": "stderr",
     "output_type": "stream",
     "text": [
      "/home/hristo/Delta-academy/3.2 Poker (version 2)/utils.py:32: FutureWarning: In a future version, object-dtype columns with all-bool values will not be included in reductions with bool_only=True. Explicitly cast to bool dtype instead.\n",
      "  self.data  = pd.concat([self.data, episode])\n",
      "/home/hristo/Delta-academy/3.2 Poker (version 2)/utils.py:32: FutureWarning: In a future version, object-dtype columns with all-bool values will not be included in reductions with bool_only=True. Explicitly cast to bool dtype instead.\n",
      "  self.data  = pd.concat([self.data, episode])\n",
      "/home/hristo/Delta-academy/3.2 Poker (version 2)/utils.py:25: FutureWarning: In a future version, object-dtype columns with all-bool values will not be included in reductions with bool_only=True. Explicitly cast to bool dtype instead.\n",
      "  self.current_episodes[episode_id] = pd.concat([self.current_episodes[episode_id], new_row])\n",
      "/home/hristo/Delta-academy/3.2 Poker (version 2)/utils.py:25: FutureWarning: In a future version, object-dtype columns with all-bool values will not be included in reductions with bool_only=True. Explicitly cast to bool dtype instead.\n",
      "  self.current_episodes[episode_id] = pd.concat([self.current_episodes[episode_id], new_row])\n",
      "/home/hristo/Delta-academy/3.2 Poker (version 2)/utils.py:32: FutureWarning: In a future version, object-dtype columns with all-bool values will not be included in reductions with bool_only=True. Explicitly cast to bool dtype instead.\n",
      "  self.data  = pd.concat([self.data, episode])\n",
      "/home/hristo/Delta-academy/3.2 Poker (version 2)/utils.py:25: FutureWarning: In a future version, object-dtype columns with all-bool values will not be included in reductions with bool_only=True. Explicitly cast to bool dtype instead.\n",
      "  self.current_episodes[episode_id] = pd.concat([self.current_episodes[episode_id], new_row])\n",
      "/home/hristo/Delta-academy/3.2 Poker (version 2)/utils.py:32: FutureWarning: In a future version, object-dtype columns with all-bool values will not be included in reductions with bool_only=True. Explicitly cast to bool dtype instead.\n",
      "  self.data  = pd.concat([self.data, episode])\n",
      "/home/hristo/Delta-academy/3.2 Poker (version 2)/utils.py:32: FutureWarning: In a future version, object-dtype columns with all-bool values will not be included in reductions with bool_only=True. Explicitly cast to bool dtype instead.\n",
      "  self.data  = pd.concat([self.data, episode])\n",
      "/home/hristo/Delta-academy/3.2 Poker (version 2)/utils.py:25: FutureWarning: In a future version, object-dtype columns with all-bool values will not be included in reductions with bool_only=True. Explicitly cast to bool dtype instead.\n",
      "  self.current_episodes[episode_id] = pd.concat([self.current_episodes[episode_id], new_row])\n",
      "/home/hristo/Delta-academy/3.2 Poker (version 2)/utils.py:32: FutureWarning: In a future version, object-dtype columns with all-bool values will not be included in reductions with bool_only=True. Explicitly cast to bool dtype instead.\n",
      "  self.data  = pd.concat([self.data, episode])\n",
      "/home/hristo/Delta-academy/3.2 Poker (version 2)/utils.py:32: FutureWarning: In a future version, object-dtype columns with all-bool values will not be included in reductions with bool_only=True. Explicitly cast to bool dtype instead.\n",
      "  self.data  = pd.concat([self.data, episode])\n",
      "/home/hristo/Delta-academy/3.2 Poker (version 2)/utils.py:25: FutureWarning: In a future version, object-dtype columns with all-bool values will not be included in reductions with bool_only=True. Explicitly cast to bool dtype instead.\n",
      "  self.current_episodes[episode_id] = pd.concat([self.current_episodes[episode_id], new_row])\n",
      "/home/hristo/Delta-academy/3.2 Poker (version 2)/utils.py:25: FutureWarning: In a future version, object-dtype columns with all-bool values will not be included in reductions with bool_only=True. Explicitly cast to bool dtype instead.\n",
      "  self.current_episodes[episode_id] = pd.concat([self.current_episodes[episode_id], new_row])\n",
      "/home/hristo/Delta-academy/3.2 Poker (version 2)/utils.py:25: FutureWarning: In a future version, object-dtype columns with all-bool values will not be included in reductions with bool_only=True. Explicitly cast to bool dtype instead.\n",
      "  self.current_episodes[episode_id] = pd.concat([self.current_episodes[episode_id], new_row])\n",
      "/home/hristo/Delta-academy/3.2 Poker (version 2)/utils.py:25: FutureWarning: In a future version, object-dtype columns with all-bool values will not be included in reductions with bool_only=True. Explicitly cast to bool dtype instead.\n",
      "  self.current_episodes[episode_id] = pd.concat([self.current_episodes[episode_id], new_row])\n",
      "/home/hristo/Delta-academy/3.2 Poker (version 2)/utils.py:32: FutureWarning: In a future version, object-dtype columns with all-bool values will not be included in reductions with bool_only=True. Explicitly cast to bool dtype instead.\n",
      "  self.data  = pd.concat([self.data, episode])\n"
     ]
    },
    {
     "name": "stdout",
     "output_type": "stream",
     "text": [
      "1000000\n"
     ]
    },
    {
     "name": "stderr",
     "output_type": "stream",
     "text": [
      "/home/hristo/Delta-academy/3.2 Poker (version 2)/utils.py:32: FutureWarning: In a future version, object-dtype columns with all-bool values will not be included in reductions with bool_only=True. Explicitly cast to bool dtype instead.\n",
      "  self.data  = pd.concat([self.data, episode])\n",
      "/home/hristo/Delta-academy/3.2 Poker (version 2)/utils.py:25: FutureWarning: In a future version, object-dtype columns with all-bool values will not be included in reductions with bool_only=True. Explicitly cast to bool dtype instead.\n",
      "  self.current_episodes[episode_id] = pd.concat([self.current_episodes[episode_id], new_row])\n",
      "/home/hristo/Delta-academy/3.2 Poker (version 2)/utils.py:32: FutureWarning: In a future version, object-dtype columns with all-bool values will not be included in reductions with bool_only=True. Explicitly cast to bool dtype instead.\n",
      "  self.data  = pd.concat([self.data, episode])\n",
      "/home/hristo/Delta-academy/3.2 Poker (version 2)/utils.py:32: FutureWarning: In a future version, object-dtype columns with all-bool values will not be included in reductions with bool_only=True. Explicitly cast to bool dtype instead.\n",
      "  self.data  = pd.concat([self.data, episode])\n",
      "/home/hristo/Delta-academy/3.2 Poker (version 2)/utils.py:25: FutureWarning: In a future version, object-dtype columns with all-bool values will not be included in reductions with bool_only=True. Explicitly cast to bool dtype instead.\n",
      "  self.current_episodes[episode_id] = pd.concat([self.current_episodes[episode_id], new_row])\n",
      "/home/hristo/Delta-academy/3.2 Poker (version 2)/utils.py:25: FutureWarning: In a future version, object-dtype columns with all-bool values will not be included in reductions with bool_only=True. Explicitly cast to bool dtype instead.\n",
      "  self.current_episodes[episode_id] = pd.concat([self.current_episodes[episode_id], new_row])\n",
      "/home/hristo/Delta-academy/3.2 Poker (version 2)/utils.py:32: FutureWarning: In a future version, object-dtype columns with all-bool values will not be included in reductions with bool_only=True. Explicitly cast to bool dtype instead.\n",
      "  self.data  = pd.concat([self.data, episode])\n",
      "/home/hristo/Delta-academy/3.2 Poker (version 2)/utils.py:32: FutureWarning: In a future version, object-dtype columns with all-bool values will not be included in reductions with bool_only=True. Explicitly cast to bool dtype instead.\n",
      "  self.data  = pd.concat([self.data, episode])\n",
      "/home/hristo/Delta-academy/3.2 Poker (version 2)/utils.py:32: FutureWarning: In a future version, object-dtype columns with all-bool values will not be included in reductions with bool_only=True. Explicitly cast to bool dtype instead.\n",
      "  self.data  = pd.concat([self.data, episode])\n",
      "/home/hristo/Delta-academy/3.2 Poker (version 2)/utils.py:25: FutureWarning: In a future version, object-dtype columns with all-bool values will not be included in reductions with bool_only=True. Explicitly cast to bool dtype instead.\n",
      "  self.current_episodes[episode_id] = pd.concat([self.current_episodes[episode_id], new_row])\n",
      "/home/hristo/Delta-academy/3.2 Poker (version 2)/utils.py:25: FutureWarning: In a future version, object-dtype columns with all-bool values will not be included in reductions with bool_only=True. Explicitly cast to bool dtype instead.\n",
      "  self.current_episodes[episode_id] = pd.concat([self.current_episodes[episode_id], new_row])\n",
      "/home/hristo/Delta-academy/3.2 Poker (version 2)/utils.py:25: FutureWarning: In a future version, object-dtype columns with all-bool values will not be included in reductions with bool_only=True. Explicitly cast to bool dtype instead.\n",
      "  self.current_episodes[episode_id] = pd.concat([self.current_episodes[episode_id], new_row])\n",
      "/home/hristo/Delta-academy/3.2 Poker (version 2)/utils.py:25: FutureWarning: In a future version, object-dtype columns with all-bool values will not be included in reductions with bool_only=True. Explicitly cast to bool dtype instead.\n",
      "  self.current_episodes[episode_id] = pd.concat([self.current_episodes[episode_id], new_row])\n",
      "/home/hristo/Delta-academy/3.2 Poker (version 2)/utils.py:25: FutureWarning: In a future version, object-dtype columns with all-bool values will not be included in reductions with bool_only=True. Explicitly cast to bool dtype instead.\n",
      "  self.current_episodes[episode_id] = pd.concat([self.current_episodes[episode_id], new_row])\n",
      "/home/hristo/Delta-academy/3.2 Poker (version 2)/utils.py:32: FutureWarning: In a future version, object-dtype columns with all-bool values will not be included in reductions with bool_only=True. Explicitly cast to bool dtype instead.\n",
      "  self.data  = pd.concat([self.data, episode])\n",
      "/home/hristo/Delta-academy/3.2 Poker (version 2)/utils.py:25: FutureWarning: In a future version, object-dtype columns with all-bool values will not be included in reductions with bool_only=True. Explicitly cast to bool dtype instead.\n",
      "  self.current_episodes[episode_id] = pd.concat([self.current_episodes[episode_id], new_row])\n",
      "/home/hristo/Delta-academy/3.2 Poker (version 2)/utils.py:25: FutureWarning: In a future version, object-dtype columns with all-bool values will not be included in reductions with bool_only=True. Explicitly cast to bool dtype instead.\n",
      "  self.current_episodes[episode_id] = pd.concat([self.current_episodes[episode_id], new_row])\n",
      "/home/hristo/Delta-academy/3.2 Poker (version 2)/utils.py:25: FutureWarning: In a future version, object-dtype columns with all-bool values will not be included in reductions with bool_only=True. Explicitly cast to bool dtype instead.\n",
      "  self.current_episodes[episode_id] = pd.concat([self.current_episodes[episode_id], new_row])\n",
      "/home/hristo/Delta-academy/3.2 Poker (version 2)/utils.py:25: FutureWarning: In a future version, object-dtype columns with all-bool values will not be included in reductions with bool_only=True. Explicitly cast to bool dtype instead.\n",
      "  self.current_episodes[episode_id] = pd.concat([self.current_episodes[episode_id], new_row])\n",
      "/home/hristo/Delta-academy/3.2 Poker (version 2)/utils.py:25: FutureWarning: In a future version, object-dtype columns with all-bool values will not be included in reductions with bool_only=True. Explicitly cast to bool dtype instead.\n",
      "  self.current_episodes[episode_id] = pd.concat([self.current_episodes[episode_id], new_row])\n",
      "/home/hristo/Delta-academy/3.2 Poker (version 2)/utils.py:25: FutureWarning: In a future version, object-dtype columns with all-bool values will not be included in reductions with bool_only=True. Explicitly cast to bool dtype instead.\n",
      "  self.current_episodes[episode_id] = pd.concat([self.current_episodes[episode_id], new_row])\n",
      "/home/hristo/Delta-academy/3.2 Poker (version 2)/utils.py:25: FutureWarning: In a future version, object-dtype columns with all-bool values will not be included in reductions with bool_only=True. Explicitly cast to bool dtype instead.\n",
      "  self.current_episodes[episode_id] = pd.concat([self.current_episodes[episode_id], new_row])\n",
      "/home/hristo/Delta-academy/3.2 Poker (version 2)/utils.py:32: FutureWarning: In a future version, object-dtype columns with all-bool values will not be included in reductions with bool_only=True. Explicitly cast to bool dtype instead.\n",
      "  self.data  = pd.concat([self.data, episode])\n"
     ]
    },
    {
     "name": "stdout",
     "output_type": "stream",
     "text": [
      "1000000\n"
     ]
    },
    {
     "name": "stderr",
     "output_type": "stream",
     "text": [
      "/home/hristo/Delta-academy/3.2 Poker (version 2)/utils.py:25: FutureWarning: In a future version, object-dtype columns with all-bool values will not be included in reductions with bool_only=True. Explicitly cast to bool dtype instead.\n",
      "  self.current_episodes[episode_id] = pd.concat([self.current_episodes[episode_id], new_row])\n",
      "/home/hristo/Delta-academy/3.2 Poker (version 2)/utils.py:25: FutureWarning: In a future version, object-dtype columns with all-bool values will not be included in reductions with bool_only=True. Explicitly cast to bool dtype instead.\n",
      "  self.current_episodes[episode_id] = pd.concat([self.current_episodes[episode_id], new_row])\n",
      "/home/hristo/Delta-academy/3.2 Poker (version 2)/utils.py:32: FutureWarning: In a future version, object-dtype columns with all-bool values will not be included in reductions with bool_only=True. Explicitly cast to bool dtype instead.\n",
      "  self.data  = pd.concat([self.data, episode])\n",
      "/home/hristo/Delta-academy/3.2 Poker (version 2)/utils.py:32: FutureWarning: In a future version, object-dtype columns with all-bool values will not be included in reductions with bool_only=True. Explicitly cast to bool dtype instead.\n",
      "  self.data  = pd.concat([self.data, episode])\n",
      "/home/hristo/Delta-academy/3.2 Poker (version 2)/utils.py:32: FutureWarning: In a future version, object-dtype columns with all-bool values will not be included in reductions with bool_only=True. Explicitly cast to bool dtype instead.\n",
      "  self.data  = pd.concat([self.data, episode])\n",
      "/home/hristo/Delta-academy/3.2 Poker (version 2)/utils.py:32: FutureWarning: In a future version, object-dtype columns with all-bool values will not be included in reductions with bool_only=True. Explicitly cast to bool dtype instead.\n",
      "  self.data  = pd.concat([self.data, episode])\n",
      "/home/hristo/Delta-academy/3.2 Poker (version 2)/utils.py:25: FutureWarning: In a future version, object-dtype columns with all-bool values will not be included in reductions with bool_only=True. Explicitly cast to bool dtype instead.\n",
      "  self.current_episodes[episode_id] = pd.concat([self.current_episodes[episode_id], new_row])\n",
      "/home/hristo/Delta-academy/3.2 Poker (version 2)/utils.py:25: FutureWarning: In a future version, object-dtype columns with all-bool values will not be included in reductions with bool_only=True. Explicitly cast to bool dtype instead.\n",
      "  self.current_episodes[episode_id] = pd.concat([self.current_episodes[episode_id], new_row])\n",
      "/home/hristo/Delta-academy/3.2 Poker (version 2)/utils.py:32: FutureWarning: In a future version, object-dtype columns with all-bool values will not be included in reductions with bool_only=True. Explicitly cast to bool dtype instead.\n",
      "  self.data  = pd.concat([self.data, episode])\n",
      "/home/hristo/Delta-academy/3.2 Poker (version 2)/utils.py:25: FutureWarning: In a future version, object-dtype columns with all-bool values will not be included in reductions with bool_only=True. Explicitly cast to bool dtype instead.\n",
      "  self.current_episodes[episode_id] = pd.concat([self.current_episodes[episode_id], new_row])\n",
      "/home/hristo/Delta-academy/3.2 Poker (version 2)/utils.py:25: FutureWarning: In a future version, object-dtype columns with all-bool values will not be included in reductions with bool_only=True. Explicitly cast to bool dtype instead.\n",
      "  self.current_episodes[episode_id] = pd.concat([self.current_episodes[episode_id], new_row])\n",
      "/home/hristo/Delta-academy/3.2 Poker (version 2)/utils.py:25: FutureWarning: In a future version, object-dtype columns with all-bool values will not be included in reductions with bool_only=True. Explicitly cast to bool dtype instead.\n",
      "  self.current_episodes[episode_id] = pd.concat([self.current_episodes[episode_id], new_row])\n",
      "/home/hristo/Delta-academy/3.2 Poker (version 2)/utils.py:32: FutureWarning: In a future version, object-dtype columns with all-bool values will not be included in reductions with bool_only=True. Explicitly cast to bool dtype instead.\n",
      "  self.data  = pd.concat([self.data, episode])\n",
      "/home/hristo/Delta-academy/3.2 Poker (version 2)/utils.py:32: FutureWarning: In a future version, object-dtype columns with all-bool values will not be included in reductions with bool_only=True. Explicitly cast to bool dtype instead.\n",
      "  self.data  = pd.concat([self.data, episode])\n",
      "/home/hristo/Delta-academy/3.2 Poker (version 2)/utils.py:32: FutureWarning: In a future version, object-dtype columns with all-bool values will not be included in reductions with bool_only=True. Explicitly cast to bool dtype instead.\n",
      "  self.data  = pd.concat([self.data, episode])\n"
     ]
    },
    {
     "name": "stdout",
     "output_type": "stream",
     "text": [
      "1000000\n"
     ]
    },
    {
     "name": "stderr",
     "output_type": "stream",
     "text": [
      "/home/hristo/Delta-academy/3.2 Poker (version 2)/utils.py:32: FutureWarning: In a future version, object-dtype columns with all-bool values will not be included in reductions with bool_only=True. Explicitly cast to bool dtype instead.\n",
      "  self.data  = pd.concat([self.data, episode])\n",
      "/home/hristo/Delta-academy/3.2 Poker (version 2)/utils.py:32: FutureWarning: In a future version, object-dtype columns with all-bool values will not be included in reductions with bool_only=True. Explicitly cast to bool dtype instead.\n",
      "  self.data  = pd.concat([self.data, episode])\n",
      "/home/hristo/Delta-academy/3.2 Poker (version 2)/utils.py:25: FutureWarning: In a future version, object-dtype columns with all-bool values will not be included in reductions with bool_only=True. Explicitly cast to bool dtype instead.\n",
      "  self.current_episodes[episode_id] = pd.concat([self.current_episodes[episode_id], new_row])\n",
      "/home/hristo/Delta-academy/3.2 Poker (version 2)/utils.py:32: FutureWarning: In a future version, object-dtype columns with all-bool values will not be included in reductions with bool_only=True. Explicitly cast to bool dtype instead.\n",
      "  self.data  = pd.concat([self.data, episode])\n",
      "/home/hristo/Delta-academy/3.2 Poker (version 2)/utils.py:25: FutureWarning: In a future version, object-dtype columns with all-bool values will not be included in reductions with bool_only=True. Explicitly cast to bool dtype instead.\n",
      "  self.current_episodes[episode_id] = pd.concat([self.current_episodes[episode_id], new_row])\n",
      "/home/hristo/Delta-academy/3.2 Poker (version 2)/utils.py:25: FutureWarning: In a future version, object-dtype columns with all-bool values will not be included in reductions with bool_only=True. Explicitly cast to bool dtype instead.\n",
      "  self.current_episodes[episode_id] = pd.concat([self.current_episodes[episode_id], new_row])\n",
      "/home/hristo/Delta-academy/3.2 Poker (version 2)/utils.py:25: FutureWarning: In a future version, object-dtype columns with all-bool values will not be included in reductions with bool_only=True. Explicitly cast to bool dtype instead.\n",
      "  self.current_episodes[episode_id] = pd.concat([self.current_episodes[episode_id], new_row])\n",
      "/home/hristo/Delta-academy/3.2 Poker (version 2)/utils.py:25: FutureWarning: In a future version, object-dtype columns with all-bool values will not be included in reductions with bool_only=True. Explicitly cast to bool dtype instead.\n",
      "  self.current_episodes[episode_id] = pd.concat([self.current_episodes[episode_id], new_row])\n",
      "/home/hristo/Delta-academy/3.2 Poker (version 2)/utils.py:32: FutureWarning: In a future version, object-dtype columns with all-bool values will not be included in reductions with bool_only=True. Explicitly cast to bool dtype instead.\n",
      "  self.data  = pd.concat([self.data, episode])\n",
      "/home/hristo/Delta-academy/3.2 Poker (version 2)/utils.py:32: FutureWarning: In a future version, object-dtype columns with all-bool values will not be included in reductions with bool_only=True. Explicitly cast to bool dtype instead.\n",
      "  self.data  = pd.concat([self.data, episode])\n",
      "/home/hristo/Delta-academy/3.2 Poker (version 2)/utils.py:25: FutureWarning: In a future version, object-dtype columns with all-bool values will not be included in reductions with bool_only=True. Explicitly cast to bool dtype instead.\n",
      "  self.current_episodes[episode_id] = pd.concat([self.current_episodes[episode_id], new_row])\n",
      "/home/hristo/Delta-academy/3.2 Poker (version 2)/utils.py:25: FutureWarning: In a future version, object-dtype columns with all-bool values will not be included in reductions with bool_only=True. Explicitly cast to bool dtype instead.\n",
      "  self.current_episodes[episode_id] = pd.concat([self.current_episodes[episode_id], new_row])\n",
      "/home/hristo/Delta-academy/3.2 Poker (version 2)/utils.py:25: FutureWarning: In a future version, object-dtype columns with all-bool values will not be included in reductions with bool_only=True. Explicitly cast to bool dtype instead.\n",
      "  self.current_episodes[episode_id] = pd.concat([self.current_episodes[episode_id], new_row])\n",
      "/home/hristo/Delta-academy/3.2 Poker (version 2)/utils.py:25: FutureWarning: In a future version, object-dtype columns with all-bool values will not be included in reductions with bool_only=True. Explicitly cast to bool dtype instead.\n",
      "  self.current_episodes[episode_id] = pd.concat([self.current_episodes[episode_id], new_row])\n",
      "/home/hristo/Delta-academy/3.2 Poker (version 2)/utils.py:25: FutureWarning: In a future version, object-dtype columns with all-bool values will not be included in reductions with bool_only=True. Explicitly cast to bool dtype instead.\n",
      "  self.current_episodes[episode_id] = pd.concat([self.current_episodes[episode_id], new_row])\n",
      "/home/hristo/Delta-academy/3.2 Poker (version 2)/utils.py:32: FutureWarning: In a future version, object-dtype columns with all-bool values will not be included in reductions with bool_only=True. Explicitly cast to bool dtype instead.\n",
      "  self.data  = pd.concat([self.data, episode])\n",
      "/home/hristo/Delta-academy/3.2 Poker (version 2)/utils.py:32: FutureWarning: In a future version, object-dtype columns with all-bool values will not be included in reductions with bool_only=True. Explicitly cast to bool dtype instead.\n",
      "  self.data  = pd.concat([self.data, episode])\n",
      "/home/hristo/Delta-academy/3.2 Poker (version 2)/utils.py:25: FutureWarning: In a future version, object-dtype columns with all-bool values will not be included in reductions with bool_only=True. Explicitly cast to bool dtype instead.\n",
      "  self.current_episodes[episode_id] = pd.concat([self.current_episodes[episode_id], new_row])\n",
      "/home/hristo/Delta-academy/3.2 Poker (version 2)/utils.py:25: FutureWarning: In a future version, object-dtype columns with all-bool values will not be included in reductions with bool_only=True. Explicitly cast to bool dtype instead.\n",
      "  self.current_episodes[episode_id] = pd.concat([self.current_episodes[episode_id], new_row])\n",
      "/home/hristo/Delta-academy/3.2 Poker (version 2)/utils.py:25: FutureWarning: In a future version, object-dtype columns with all-bool values will not be included in reductions with bool_only=True. Explicitly cast to bool dtype instead.\n",
      "  self.current_episodes[episode_id] = pd.concat([self.current_episodes[episode_id], new_row])\n",
      "/home/hristo/Delta-academy/3.2 Poker (version 2)/utils.py:25: FutureWarning: In a future version, object-dtype columns with all-bool values will not be included in reductions with bool_only=True. Explicitly cast to bool dtype instead.\n",
      "  self.current_episodes[episode_id] = pd.concat([self.current_episodes[episode_id], new_row])\n",
      "/home/hristo/Delta-academy/3.2 Poker (version 2)/utils.py:32: FutureWarning: In a future version, object-dtype columns with all-bool values will not be included in reductions with bool_only=True. Explicitly cast to bool dtype instead.\n",
      "  self.data  = pd.concat([self.data, episode])\n"
     ]
    },
    {
     "name": "stdout",
     "output_type": "stream",
     "text": [
      "1000000\n"
     ]
    },
    {
     "name": "stderr",
     "output_type": "stream",
     "text": [
      "/home/hristo/Delta-academy/3.2 Poker (version 2)/utils.py:32: FutureWarning: In a future version, object-dtype columns with all-bool values will not be included in reductions with bool_only=True. Explicitly cast to bool dtype instead.\n",
      "  self.data  = pd.concat([self.data, episode])\n",
      "/home/hristo/Delta-academy/3.2 Poker (version 2)/utils.py:32: FutureWarning: In a future version, object-dtype columns with all-bool values will not be included in reductions with bool_only=True. Explicitly cast to bool dtype instead.\n",
      "  self.data  = pd.concat([self.data, episode])\n",
      "/home/hristo/Delta-academy/3.2 Poker (version 2)/utils.py:32: FutureWarning: In a future version, object-dtype columns with all-bool values will not be included in reductions with bool_only=True. Explicitly cast to bool dtype instead.\n",
      "  self.data  = pd.concat([self.data, episode])\n",
      "/home/hristo/Delta-academy/3.2 Poker (version 2)/utils.py:32: FutureWarning: In a future version, object-dtype columns with all-bool values will not be included in reductions with bool_only=True. Explicitly cast to bool dtype instead.\n",
      "  self.data  = pd.concat([self.data, episode])\n",
      "/home/hristo/Delta-academy/3.2 Poker (version 2)/utils.py:25: FutureWarning: In a future version, object-dtype columns with all-bool values will not be included in reductions with bool_only=True. Explicitly cast to bool dtype instead.\n",
      "  self.current_episodes[episode_id] = pd.concat([self.current_episodes[episode_id], new_row])\n",
      "/home/hristo/Delta-academy/3.2 Poker (version 2)/utils.py:32: FutureWarning: In a future version, object-dtype columns with all-bool values will not be included in reductions with bool_only=True. Explicitly cast to bool dtype instead.\n",
      "  self.data  = pd.concat([self.data, episode])\n",
      "/home/hristo/Delta-academy/3.2 Poker (version 2)/utils.py:32: FutureWarning: In a future version, object-dtype columns with all-bool values will not be included in reductions with bool_only=True. Explicitly cast to bool dtype instead.\n",
      "  self.data  = pd.concat([self.data, episode])\n",
      "/home/hristo/Delta-academy/3.2 Poker (version 2)/utils.py:25: FutureWarning: In a future version, object-dtype columns with all-bool values will not be included in reductions with bool_only=True. Explicitly cast to bool dtype instead.\n",
      "  self.current_episodes[episode_id] = pd.concat([self.current_episodes[episode_id], new_row])\n",
      "/home/hristo/Delta-academy/3.2 Poker (version 2)/utils.py:25: FutureWarning: In a future version, object-dtype columns with all-bool values will not be included in reductions with bool_only=True. Explicitly cast to bool dtype instead.\n",
      "  self.current_episodes[episode_id] = pd.concat([self.current_episodes[episode_id], new_row])\n",
      "/home/hristo/Delta-academy/3.2 Poker (version 2)/utils.py:25: FutureWarning: In a future version, object-dtype columns with all-bool values will not be included in reductions with bool_only=True. Explicitly cast to bool dtype instead.\n",
      "  self.current_episodes[episode_id] = pd.concat([self.current_episodes[episode_id], new_row])\n",
      "/home/hristo/Delta-academy/3.2 Poker (version 2)/utils.py:25: FutureWarning: In a future version, object-dtype columns with all-bool values will not be included in reductions with bool_only=True. Explicitly cast to bool dtype instead.\n",
      "  self.current_episodes[episode_id] = pd.concat([self.current_episodes[episode_id], new_row])\n",
      "/home/hristo/Delta-academy/3.2 Poker (version 2)/utils.py:25: FutureWarning: In a future version, object-dtype columns with all-bool values will not be included in reductions with bool_only=True. Explicitly cast to bool dtype instead.\n",
      "  self.current_episodes[episode_id] = pd.concat([self.current_episodes[episode_id], new_row])\n",
      "/home/hristo/Delta-academy/3.2 Poker (version 2)/utils.py:25: FutureWarning: In a future version, object-dtype columns with all-bool values will not be included in reductions with bool_only=True. Explicitly cast to bool dtype instead.\n",
      "  self.current_episodes[episode_id] = pd.concat([self.current_episodes[episode_id], new_row])\n",
      "/home/hristo/Delta-academy/3.2 Poker (version 2)/utils.py:25: FutureWarning: In a future version, object-dtype columns with all-bool values will not be included in reductions with bool_only=True. Explicitly cast to bool dtype instead.\n",
      "  self.current_episodes[episode_id] = pd.concat([self.current_episodes[episode_id], new_row])\n",
      "/home/hristo/Delta-academy/3.2 Poker (version 2)/utils.py:25: FutureWarning: In a future version, object-dtype columns with all-bool values will not be included in reductions with bool_only=True. Explicitly cast to bool dtype instead.\n",
      "  self.current_episodes[episode_id] = pd.concat([self.current_episodes[episode_id], new_row])\n",
      "/home/hristo/Delta-academy/3.2 Poker (version 2)/utils.py:25: FutureWarning: In a future version, object-dtype columns with all-bool values will not be included in reductions with bool_only=True. Explicitly cast to bool dtype instead.\n",
      "  self.current_episodes[episode_id] = pd.concat([self.current_episodes[episode_id], new_row])\n",
      "/home/hristo/Delta-academy/3.2 Poker (version 2)/utils.py:25: FutureWarning: In a future version, object-dtype columns with all-bool values will not be included in reductions with bool_only=True. Explicitly cast to bool dtype instead.\n",
      "  self.current_episodes[episode_id] = pd.concat([self.current_episodes[episode_id], new_row])\n",
      "/home/hristo/Delta-academy/3.2 Poker (version 2)/utils.py:25: FutureWarning: In a future version, object-dtype columns with all-bool values will not be included in reductions with bool_only=True. Explicitly cast to bool dtype instead.\n",
      "  self.current_episodes[episode_id] = pd.concat([self.current_episodes[episode_id], new_row])\n",
      "/home/hristo/Delta-academy/3.2 Poker (version 2)/utils.py:25: FutureWarning: In a future version, object-dtype columns with all-bool values will not be included in reductions with bool_only=True. Explicitly cast to bool dtype instead.\n",
      "  self.current_episodes[episode_id] = pd.concat([self.current_episodes[episode_id], new_row])\n",
      "/home/hristo/Delta-academy/3.2 Poker (version 2)/utils.py:32: FutureWarning: In a future version, object-dtype columns with all-bool values will not be included in reductions with bool_only=True. Explicitly cast to bool dtype instead.\n",
      "  self.data  = pd.concat([self.data, episode])\n",
      "/home/hristo/Delta-academy/3.2 Poker (version 2)/utils.py:25: FutureWarning: In a future version, object-dtype columns with all-bool values will not be included in reductions with bool_only=True. Explicitly cast to bool dtype instead.\n",
      "  self.current_episodes[episode_id] = pd.concat([self.current_episodes[episode_id], new_row])\n",
      "/home/hristo/Delta-academy/3.2 Poker (version 2)/utils.py:25: FutureWarning: In a future version, object-dtype columns with all-bool values will not be included in reductions with bool_only=True. Explicitly cast to bool dtype instead.\n",
      "  self.current_episodes[episode_id] = pd.concat([self.current_episodes[episode_id], new_row])\n",
      "/home/hristo/Delta-academy/3.2 Poker (version 2)/utils.py:32: FutureWarning: In a future version, object-dtype columns with all-bool values will not be included in reductions with bool_only=True. Explicitly cast to bool dtype instead.\n",
      "  self.data  = pd.concat([self.data, episode])\n"
     ]
    },
    {
     "name": "stdout",
     "output_type": "stream",
     "text": [
      "1000000\n"
     ]
    },
    {
     "name": "stderr",
     "output_type": "stream",
     "text": [
      "/home/hristo/Delta-academy/3.2 Poker (version 2)/utils.py:25: FutureWarning: In a future version, object-dtype columns with all-bool values will not be included in reductions with bool_only=True. Explicitly cast to bool dtype instead.\n",
      "  self.current_episodes[episode_id] = pd.concat([self.current_episodes[episode_id], new_row])\n",
      "/home/hristo/Delta-academy/3.2 Poker (version 2)/utils.py:25: FutureWarning: In a future version, object-dtype columns with all-bool values will not be included in reductions with bool_only=True. Explicitly cast to bool dtype instead.\n",
      "  self.current_episodes[episode_id] = pd.concat([self.current_episodes[episode_id], new_row])\n",
      "/home/hristo/Delta-academy/3.2 Poker (version 2)/utils.py:25: FutureWarning: In a future version, object-dtype columns with all-bool values will not be included in reductions with bool_only=True. Explicitly cast to bool dtype instead.\n",
      "  self.current_episodes[episode_id] = pd.concat([self.current_episodes[episode_id], new_row])\n",
      "/home/hristo/Delta-academy/3.2 Poker (version 2)/utils.py:32: FutureWarning: In a future version, object-dtype columns with all-bool values will not be included in reductions with bool_only=True. Explicitly cast to bool dtype instead.\n",
      "  self.data  = pd.concat([self.data, episode])\n",
      "/home/hristo/Delta-academy/3.2 Poker (version 2)/utils.py:25: FutureWarning: In a future version, object-dtype columns with all-bool values will not be included in reductions with bool_only=True. Explicitly cast to bool dtype instead.\n",
      "  self.current_episodes[episode_id] = pd.concat([self.current_episodes[episode_id], new_row])\n",
      "/home/hristo/Delta-academy/3.2 Poker (version 2)/utils.py:25: FutureWarning: In a future version, object-dtype columns with all-bool values will not be included in reductions with bool_only=True. Explicitly cast to bool dtype instead.\n",
      "  self.current_episodes[episode_id] = pd.concat([self.current_episodes[episode_id], new_row])\n",
      "/home/hristo/Delta-academy/3.2 Poker (version 2)/utils.py:32: FutureWarning: In a future version, object-dtype columns with all-bool values will not be included in reductions with bool_only=True. Explicitly cast to bool dtype instead.\n",
      "  self.data  = pd.concat([self.data, episode])\n",
      "/home/hristo/Delta-academy/3.2 Poker (version 2)/utils.py:25: FutureWarning: In a future version, object-dtype columns with all-bool values will not be included in reductions with bool_only=True. Explicitly cast to bool dtype instead.\n",
      "  self.current_episodes[episode_id] = pd.concat([self.current_episodes[episode_id], new_row])\n",
      "/home/hristo/Delta-academy/3.2 Poker (version 2)/utils.py:25: FutureWarning: In a future version, object-dtype columns with all-bool values will not be included in reductions with bool_only=True. Explicitly cast to bool dtype instead.\n",
      "  self.current_episodes[episode_id] = pd.concat([self.current_episodes[episode_id], new_row])\n",
      "/home/hristo/Delta-academy/3.2 Poker (version 2)/utils.py:25: FutureWarning: In a future version, object-dtype columns with all-bool values will not be included in reductions with bool_only=True. Explicitly cast to bool dtype instead.\n",
      "  self.current_episodes[episode_id] = pd.concat([self.current_episodes[episode_id], new_row])\n",
      "/home/hristo/Delta-academy/3.2 Poker (version 2)/utils.py:32: FutureWarning: In a future version, object-dtype columns with all-bool values will not be included in reductions with bool_only=True. Explicitly cast to bool dtype instead.\n",
      "  self.data  = pd.concat([self.data, episode])\n",
      "/home/hristo/Delta-academy/3.2 Poker (version 2)/utils.py:25: FutureWarning: In a future version, object-dtype columns with all-bool values will not be included in reductions with bool_only=True. Explicitly cast to bool dtype instead.\n",
      "  self.current_episodes[episode_id] = pd.concat([self.current_episodes[episode_id], new_row])\n",
      "/home/hristo/Delta-academy/3.2 Poker (version 2)/utils.py:32: FutureWarning: In a future version, object-dtype columns with all-bool values will not be included in reductions with bool_only=True. Explicitly cast to bool dtype instead.\n",
      "  self.data  = pd.concat([self.data, episode])\n",
      "/home/hristo/Delta-academy/3.2 Poker (version 2)/utils.py:32: FutureWarning: In a future version, object-dtype columns with all-bool values will not be included in reductions with bool_only=True. Explicitly cast to bool dtype instead.\n",
      "  self.data  = pd.concat([self.data, episode])\n",
      "/home/hristo/Delta-academy/3.2 Poker (version 2)/utils.py:25: FutureWarning: In a future version, object-dtype columns with all-bool values will not be included in reductions with bool_only=True. Explicitly cast to bool dtype instead.\n",
      "  self.current_episodes[episode_id] = pd.concat([self.current_episodes[episode_id], new_row])\n",
      "/home/hristo/Delta-academy/3.2 Poker (version 2)/utils.py:25: FutureWarning: In a future version, object-dtype columns with all-bool values will not be included in reductions with bool_only=True. Explicitly cast to bool dtype instead.\n",
      "  self.current_episodes[episode_id] = pd.concat([self.current_episodes[episode_id], new_row])\n",
      "/home/hristo/Delta-academy/3.2 Poker (version 2)/utils.py:25: FutureWarning: In a future version, object-dtype columns with all-bool values will not be included in reductions with bool_only=True. Explicitly cast to bool dtype instead.\n",
      "  self.current_episodes[episode_id] = pd.concat([self.current_episodes[episode_id], new_row])\n",
      "/home/hristo/Delta-academy/3.2 Poker (version 2)/utils.py:32: FutureWarning: In a future version, object-dtype columns with all-bool values will not be included in reductions with bool_only=True. Explicitly cast to bool dtype instead.\n",
      "  self.data  = pd.concat([self.data, episode])\n",
      "/home/hristo/Delta-academy/3.2 Poker (version 2)/utils.py:25: FutureWarning: In a future version, object-dtype columns with all-bool values will not be included in reductions with bool_only=True. Explicitly cast to bool dtype instead.\n",
      "  self.current_episodes[episode_id] = pd.concat([self.current_episodes[episode_id], new_row])\n",
      "/home/hristo/Delta-academy/3.2 Poker (version 2)/utils.py:25: FutureWarning: In a future version, object-dtype columns with all-bool values will not be included in reductions with bool_only=True. Explicitly cast to bool dtype instead.\n",
      "  self.current_episodes[episode_id] = pd.concat([self.current_episodes[episode_id], new_row])\n",
      "/home/hristo/Delta-academy/3.2 Poker (version 2)/utils.py:25: FutureWarning: In a future version, object-dtype columns with all-bool values will not be included in reductions with bool_only=True. Explicitly cast to bool dtype instead.\n",
      "  self.current_episodes[episode_id] = pd.concat([self.current_episodes[episode_id], new_row])\n",
      "/home/hristo/Delta-academy/3.2 Poker (version 2)/utils.py:25: FutureWarning: In a future version, object-dtype columns with all-bool values will not be included in reductions with bool_only=True. Explicitly cast to bool dtype instead.\n",
      "  self.current_episodes[episode_id] = pd.concat([self.current_episodes[episode_id], new_row])\n",
      "/home/hristo/Delta-academy/3.2 Poker (version 2)/utils.py:25: FutureWarning: In a future version, object-dtype columns with all-bool values will not be included in reductions with bool_only=True. Explicitly cast to bool dtype instead.\n",
      "  self.current_episodes[episode_id] = pd.concat([self.current_episodes[episode_id], new_row])\n",
      "/home/hristo/Delta-academy/3.2 Poker (version 2)/utils.py:25: FutureWarning: In a future version, object-dtype columns with all-bool values will not be included in reductions with bool_only=True. Explicitly cast to bool dtype instead.\n",
      "  self.current_episodes[episode_id] = pd.concat([self.current_episodes[episode_id], new_row])\n",
      "/home/hristo/Delta-academy/3.2 Poker (version 2)/utils.py:25: FutureWarning: In a future version, object-dtype columns with all-bool values will not be included in reductions with bool_only=True. Explicitly cast to bool dtype instead.\n",
      "  self.current_episodes[episode_id] = pd.concat([self.current_episodes[episode_id], new_row])\n",
      "/home/hristo/Delta-academy/3.2 Poker (version 2)/utils.py:25: FutureWarning: In a future version, object-dtype columns with all-bool values will not be included in reductions with bool_only=True. Explicitly cast to bool dtype instead.\n",
      "  self.current_episodes[episode_id] = pd.concat([self.current_episodes[episode_id], new_row])\n"
     ]
    },
    {
     "name": "stderr",
     "output_type": "stream",
     "text": [
      "/home/hristo/Delta-academy/3.2 Poker (version 2)/utils.py:25: FutureWarning: In a future version, object-dtype columns with all-bool values will not be included in reductions with bool_only=True. Explicitly cast to bool dtype instead.\n",
      "  self.current_episodes[episode_id] = pd.concat([self.current_episodes[episode_id], new_row])\n",
      "/home/hristo/Delta-academy/3.2 Poker (version 2)/utils.py:25: FutureWarning: In a future version, object-dtype columns with all-bool values will not be included in reductions with bool_only=True. Explicitly cast to bool dtype instead.\n",
      "  self.current_episodes[episode_id] = pd.concat([self.current_episodes[episode_id], new_row])\n",
      "/home/hristo/Delta-academy/3.2 Poker (version 2)/utils.py:25: FutureWarning: In a future version, object-dtype columns with all-bool values will not be included in reductions with bool_only=True. Explicitly cast to bool dtype instead.\n",
      "  self.current_episodes[episode_id] = pd.concat([self.current_episodes[episode_id], new_row])\n",
      "/home/hristo/Delta-academy/3.2 Poker (version 2)/utils.py:25: FutureWarning: In a future version, object-dtype columns with all-bool values will not be included in reductions with bool_only=True. Explicitly cast to bool dtype instead.\n",
      "  self.current_episodes[episode_id] = pd.concat([self.current_episodes[episode_id], new_row])\n",
      "/home/hristo/Delta-academy/3.2 Poker (version 2)/utils.py:32: FutureWarning: In a future version, object-dtype columns with all-bool values will not be included in reductions with bool_only=True. Explicitly cast to bool dtype instead.\n",
      "  self.data  = pd.concat([self.data, episode])\n",
      "/home/hristo/Delta-academy/3.2 Poker (version 2)/utils.py:25: FutureWarning: In a future version, object-dtype columns with all-bool values will not be included in reductions with bool_only=True. Explicitly cast to bool dtype instead.\n",
      "  self.current_episodes[episode_id] = pd.concat([self.current_episodes[episode_id], new_row])\n",
      "/home/hristo/Delta-academy/3.2 Poker (version 2)/utils.py:25: FutureWarning: In a future version, object-dtype columns with all-bool values will not be included in reductions with bool_only=True. Explicitly cast to bool dtype instead.\n",
      "  self.current_episodes[episode_id] = pd.concat([self.current_episodes[episode_id], new_row])\n",
      "/home/hristo/Delta-academy/3.2 Poker (version 2)/utils.py:25: FutureWarning: In a future version, object-dtype columns with all-bool values will not be included in reductions with bool_only=True. Explicitly cast to bool dtype instead.\n",
      "  self.current_episodes[episode_id] = pd.concat([self.current_episodes[episode_id], new_row])\n",
      "/home/hristo/Delta-academy/3.2 Poker (version 2)/utils.py:25: FutureWarning: In a future version, object-dtype columns with all-bool values will not be included in reductions with bool_only=True. Explicitly cast to bool dtype instead.\n",
      "  self.current_episodes[episode_id] = pd.concat([self.current_episodes[episode_id], new_row])\n",
      "/home/hristo/Delta-academy/3.2 Poker (version 2)/utils.py:25: FutureWarning: In a future version, object-dtype columns with all-bool values will not be included in reductions with bool_only=True. Explicitly cast to bool dtype instead.\n",
      "  self.current_episodes[episode_id] = pd.concat([self.current_episodes[episode_id], new_row])\n",
      "/home/hristo/Delta-academy/3.2 Poker (version 2)/utils.py:25: FutureWarning: In a future version, object-dtype columns with all-bool values will not be included in reductions with bool_only=True. Explicitly cast to bool dtype instead.\n",
      "  self.current_episodes[episode_id] = pd.concat([self.current_episodes[episode_id], new_row])\n",
      "/home/hristo/Delta-academy/3.2 Poker (version 2)/utils.py:25: FutureWarning: In a future version, object-dtype columns with all-bool values will not be included in reductions with bool_only=True. Explicitly cast to bool dtype instead.\n",
      "  self.current_episodes[episode_id] = pd.concat([self.current_episodes[episode_id], new_row])\n",
      "/home/hristo/Delta-academy/3.2 Poker (version 2)/utils.py:25: FutureWarning: In a future version, object-dtype columns with all-bool values will not be included in reductions with bool_only=True. Explicitly cast to bool dtype instead.\n",
      "  self.current_episodes[episode_id] = pd.concat([self.current_episodes[episode_id], new_row])\n",
      "/home/hristo/Delta-academy/3.2 Poker (version 2)/utils.py:32: FutureWarning: In a future version, object-dtype columns with all-bool values will not be included in reductions with bool_only=True. Explicitly cast to bool dtype instead.\n",
      "  self.data  = pd.concat([self.data, episode])\n"
     ]
    },
    {
     "name": "stdout",
     "output_type": "stream",
     "text": [
      "1000000\n"
     ]
    },
    {
     "name": "stderr",
     "output_type": "stream",
     "text": [
      "/home/hristo/Delta-academy/3.2 Poker (version 2)/utils.py:25: FutureWarning: In a future version, object-dtype columns with all-bool values will not be included in reductions with bool_only=True. Explicitly cast to bool dtype instead.\n",
      "  self.current_episodes[episode_id] = pd.concat([self.current_episodes[episode_id], new_row])\n",
      "/home/hristo/Delta-academy/3.2 Poker (version 2)/utils.py:32: FutureWarning: In a future version, object-dtype columns with all-bool values will not be included in reductions with bool_only=True. Explicitly cast to bool dtype instead.\n",
      "  self.data  = pd.concat([self.data, episode])\n",
      "/home/hristo/Delta-academy/3.2 Poker (version 2)/utils.py:25: FutureWarning: In a future version, object-dtype columns with all-bool values will not be included in reductions with bool_only=True. Explicitly cast to bool dtype instead.\n",
      "  self.current_episodes[episode_id] = pd.concat([self.current_episodes[episode_id], new_row])\n",
      "/home/hristo/Delta-academy/3.2 Poker (version 2)/utils.py:25: FutureWarning: In a future version, object-dtype columns with all-bool values will not be included in reductions with bool_only=True. Explicitly cast to bool dtype instead.\n",
      "  self.current_episodes[episode_id] = pd.concat([self.current_episodes[episode_id], new_row])\n",
      "/home/hristo/Delta-academy/3.2 Poker (version 2)/utils.py:32: FutureWarning: In a future version, object-dtype columns with all-bool values will not be included in reductions with bool_only=True. Explicitly cast to bool dtype instead.\n",
      "  self.data  = pd.concat([self.data, episode])\n",
      "/home/hristo/Delta-academy/3.2 Poker (version 2)/utils.py:32: FutureWarning: In a future version, object-dtype columns with all-bool values will not be included in reductions with bool_only=True. Explicitly cast to bool dtype instead.\n",
      "  self.data  = pd.concat([self.data, episode])\n",
      "/home/hristo/Delta-academy/3.2 Poker (version 2)/utils.py:25: FutureWarning: In a future version, object-dtype columns with all-bool values will not be included in reductions with bool_only=True. Explicitly cast to bool dtype instead.\n",
      "  self.current_episodes[episode_id] = pd.concat([self.current_episodes[episode_id], new_row])\n",
      "/home/hristo/Delta-academy/3.2 Poker (version 2)/utils.py:32: FutureWarning: In a future version, object-dtype columns with all-bool values will not be included in reductions with bool_only=True. Explicitly cast to bool dtype instead.\n",
      "  self.data  = pd.concat([self.data, episode])\n",
      "/home/hristo/Delta-academy/3.2 Poker (version 2)/utils.py:32: FutureWarning: In a future version, object-dtype columns with all-bool values will not be included in reductions with bool_only=True. Explicitly cast to bool dtype instead.\n",
      "  self.data  = pd.concat([self.data, episode])\n",
      "/home/hristo/Delta-academy/3.2 Poker (version 2)/utils.py:25: FutureWarning: In a future version, object-dtype columns with all-bool values will not be included in reductions with bool_only=True. Explicitly cast to bool dtype instead.\n",
      "  self.current_episodes[episode_id] = pd.concat([self.current_episodes[episode_id], new_row])\n",
      "/home/hristo/Delta-academy/3.2 Poker (version 2)/utils.py:25: FutureWarning: In a future version, object-dtype columns with all-bool values will not be included in reductions with bool_only=True. Explicitly cast to bool dtype instead.\n",
      "  self.current_episodes[episode_id] = pd.concat([self.current_episodes[episode_id], new_row])\n",
      "/home/hristo/Delta-academy/3.2 Poker (version 2)/utils.py:25: FutureWarning: In a future version, object-dtype columns with all-bool values will not be included in reductions with bool_only=True. Explicitly cast to bool dtype instead.\n",
      "  self.current_episodes[episode_id] = pd.concat([self.current_episodes[episode_id], new_row])\n",
      "/home/hristo/Delta-academy/3.2 Poker (version 2)/utils.py:25: FutureWarning: In a future version, object-dtype columns with all-bool values will not be included in reductions with bool_only=True. Explicitly cast to bool dtype instead.\n",
      "  self.current_episodes[episode_id] = pd.concat([self.current_episodes[episode_id], new_row])\n",
      "/home/hristo/Delta-academy/3.2 Poker (version 2)/utils.py:25: FutureWarning: In a future version, object-dtype columns with all-bool values will not be included in reductions with bool_only=True. Explicitly cast to bool dtype instead.\n",
      "  self.current_episodes[episode_id] = pd.concat([self.current_episodes[episode_id], new_row])\n",
      "/home/hristo/Delta-academy/3.2 Poker (version 2)/utils.py:25: FutureWarning: In a future version, object-dtype columns with all-bool values will not be included in reductions with bool_only=True. Explicitly cast to bool dtype instead.\n",
      "  self.current_episodes[episode_id] = pd.concat([self.current_episodes[episode_id], new_row])\n",
      "/home/hristo/Delta-academy/3.2 Poker (version 2)/utils.py:25: FutureWarning: In a future version, object-dtype columns with all-bool values will not be included in reductions with bool_only=True. Explicitly cast to bool dtype instead.\n",
      "  self.current_episodes[episode_id] = pd.concat([self.current_episodes[episode_id], new_row])\n",
      "/home/hristo/Delta-academy/3.2 Poker (version 2)/utils.py:25: FutureWarning: In a future version, object-dtype columns with all-bool values will not be included in reductions with bool_only=True. Explicitly cast to bool dtype instead.\n",
      "  self.current_episodes[episode_id] = pd.concat([self.current_episodes[episode_id], new_row])\n",
      "/home/hristo/Delta-academy/3.2 Poker (version 2)/utils.py:25: FutureWarning: In a future version, object-dtype columns with all-bool values will not be included in reductions with bool_only=True. Explicitly cast to bool dtype instead.\n",
      "  self.current_episodes[episode_id] = pd.concat([self.current_episodes[episode_id], new_row])\n",
      "/home/hristo/Delta-academy/3.2 Poker (version 2)/utils.py:25: FutureWarning: In a future version, object-dtype columns with all-bool values will not be included in reductions with bool_only=True. Explicitly cast to bool dtype instead.\n",
      "  self.current_episodes[episode_id] = pd.concat([self.current_episodes[episode_id], new_row])\n",
      "/home/hristo/Delta-academy/3.2 Poker (version 2)/utils.py:25: FutureWarning: In a future version, object-dtype columns with all-bool values will not be included in reductions with bool_only=True. Explicitly cast to bool dtype instead.\n",
      "  self.current_episodes[episode_id] = pd.concat([self.current_episodes[episode_id], new_row])\n",
      "/home/hristo/Delta-academy/3.2 Poker (version 2)/utils.py:25: FutureWarning: In a future version, object-dtype columns with all-bool values will not be included in reductions with bool_only=True. Explicitly cast to bool dtype instead.\n",
      "  self.current_episodes[episode_id] = pd.concat([self.current_episodes[episode_id], new_row])\n",
      "/home/hristo/Delta-academy/3.2 Poker (version 2)/utils.py:25: FutureWarning: In a future version, object-dtype columns with all-bool values will not be included in reductions with bool_only=True. Explicitly cast to bool dtype instead.\n",
      "  self.current_episodes[episode_id] = pd.concat([self.current_episodes[episode_id], new_row])\n",
      "/home/hristo/Delta-academy/3.2 Poker (version 2)/utils.py:25: FutureWarning: In a future version, object-dtype columns with all-bool values will not be included in reductions with bool_only=True. Explicitly cast to bool dtype instead.\n",
      "  self.current_episodes[episode_id] = pd.concat([self.current_episodes[episode_id], new_row])\n",
      "/home/hristo/Delta-academy/3.2 Poker (version 2)/utils.py:25: FutureWarning: In a future version, object-dtype columns with all-bool values will not be included in reductions with bool_only=True. Explicitly cast to bool dtype instead.\n",
      "  self.current_episodes[episode_id] = pd.concat([self.current_episodes[episode_id], new_row])\n",
      "/home/hristo/Delta-academy/3.2 Poker (version 2)/utils.py:25: FutureWarning: In a future version, object-dtype columns with all-bool values will not be included in reductions with bool_only=True. Explicitly cast to bool dtype instead.\n",
      "  self.current_episodes[episode_id] = pd.concat([self.current_episodes[episode_id], new_row])\n",
      "/home/hristo/Delta-academy/3.2 Poker (version 2)/utils.py:25: FutureWarning: In a future version, object-dtype columns with all-bool values will not be included in reductions with bool_only=True. Explicitly cast to bool dtype instead.\n",
      "  self.current_episodes[episode_id] = pd.concat([self.current_episodes[episode_id], new_row])\n"
     ]
    },
    {
     "name": "stderr",
     "output_type": "stream",
     "text": [
      "/home/hristo/Delta-academy/3.2 Poker (version 2)/utils.py:25: FutureWarning: In a future version, object-dtype columns with all-bool values will not be included in reductions with bool_only=True. Explicitly cast to bool dtype instead.\n",
      "  self.current_episodes[episode_id] = pd.concat([self.current_episodes[episode_id], new_row])\n",
      "/home/hristo/Delta-academy/3.2 Poker (version 2)/utils.py:25: FutureWarning: In a future version, object-dtype columns with all-bool values will not be included in reductions with bool_only=True. Explicitly cast to bool dtype instead.\n",
      "  self.current_episodes[episode_id] = pd.concat([self.current_episodes[episode_id], new_row])\n",
      "/home/hristo/Delta-academy/3.2 Poker (version 2)/utils.py:25: FutureWarning: In a future version, object-dtype columns with all-bool values will not be included in reductions with bool_only=True. Explicitly cast to bool dtype instead.\n",
      "  self.current_episodes[episode_id] = pd.concat([self.current_episodes[episode_id], new_row])\n",
      "/home/hristo/Delta-academy/3.2 Poker (version 2)/utils.py:25: FutureWarning: In a future version, object-dtype columns with all-bool values will not be included in reductions with bool_only=True. Explicitly cast to bool dtype instead.\n",
      "  self.current_episodes[episode_id] = pd.concat([self.current_episodes[episode_id], new_row])\n",
      "/home/hristo/Delta-academy/3.2 Poker (version 2)/utils.py:25: FutureWarning: In a future version, object-dtype columns with all-bool values will not be included in reductions with bool_only=True. Explicitly cast to bool dtype instead.\n",
      "  self.current_episodes[episode_id] = pd.concat([self.current_episodes[episode_id], new_row])\n",
      "/home/hristo/Delta-academy/3.2 Poker (version 2)/utils.py:25: FutureWarning: In a future version, object-dtype columns with all-bool values will not be included in reductions with bool_only=True. Explicitly cast to bool dtype instead.\n",
      "  self.current_episodes[episode_id] = pd.concat([self.current_episodes[episode_id], new_row])\n",
      "/home/hristo/Delta-academy/3.2 Poker (version 2)/utils.py:25: FutureWarning: In a future version, object-dtype columns with all-bool values will not be included in reductions with bool_only=True. Explicitly cast to bool dtype instead.\n",
      "  self.current_episodes[episode_id] = pd.concat([self.current_episodes[episode_id], new_row])\n",
      "/home/hristo/Delta-academy/3.2 Poker (version 2)/utils.py:25: FutureWarning: In a future version, object-dtype columns with all-bool values will not be included in reductions with bool_only=True. Explicitly cast to bool dtype instead.\n",
      "  self.current_episodes[episode_id] = pd.concat([self.current_episodes[episode_id], new_row])\n",
      "/home/hristo/Delta-academy/3.2 Poker (version 2)/utils.py:32: FutureWarning: In a future version, object-dtype columns with all-bool values will not be included in reductions with bool_only=True. Explicitly cast to bool dtype instead.\n",
      "  self.data  = pd.concat([self.data, episode])\n",
      "/home/hristo/Delta-academy/3.2 Poker (version 2)/utils.py:25: FutureWarning: In a future version, object-dtype columns with all-bool values will not be included in reductions with bool_only=True. Explicitly cast to bool dtype instead.\n",
      "  self.current_episodes[episode_id] = pd.concat([self.current_episodes[episode_id], new_row])\n",
      "/home/hristo/Delta-academy/3.2 Poker (version 2)/utils.py:32: FutureWarning: In a future version, object-dtype columns with all-bool values will not be included in reductions with bool_only=True. Explicitly cast to bool dtype instead.\n",
      "  self.data  = pd.concat([self.data, episode])\n",
      "/home/hristo/Delta-academy/3.2 Poker (version 2)/utils.py:25: FutureWarning: In a future version, object-dtype columns with all-bool values will not be included in reductions with bool_only=True. Explicitly cast to bool dtype instead.\n",
      "  self.current_episodes[episode_id] = pd.concat([self.current_episodes[episode_id], new_row])\n",
      "/home/hristo/Delta-academy/3.2 Poker (version 2)/utils.py:25: FutureWarning: In a future version, object-dtype columns with all-bool values will not be included in reductions with bool_only=True. Explicitly cast to bool dtype instead.\n",
      "  self.current_episodes[episode_id] = pd.concat([self.current_episodes[episode_id], new_row])\n",
      "/home/hristo/Delta-academy/3.2 Poker (version 2)/utils.py:25: FutureWarning: In a future version, object-dtype columns with all-bool values will not be included in reductions with bool_only=True. Explicitly cast to bool dtype instead.\n",
      "  self.current_episodes[episode_id] = pd.concat([self.current_episodes[episode_id], new_row])\n",
      "/home/hristo/Delta-academy/3.2 Poker (version 2)/utils.py:25: FutureWarning: In a future version, object-dtype columns with all-bool values will not be included in reductions with bool_only=True. Explicitly cast to bool dtype instead.\n",
      "  self.current_episodes[episode_id] = pd.concat([self.current_episodes[episode_id], new_row])\n",
      "/home/hristo/Delta-academy/3.2 Poker (version 2)/utils.py:25: FutureWarning: In a future version, object-dtype columns with all-bool values will not be included in reductions with bool_only=True. Explicitly cast to bool dtype instead.\n",
      "  self.current_episodes[episode_id] = pd.concat([self.current_episodes[episode_id], new_row])\n",
      "/home/hristo/Delta-academy/3.2 Poker (version 2)/utils.py:25: FutureWarning: In a future version, object-dtype columns with all-bool values will not be included in reductions with bool_only=True. Explicitly cast to bool dtype instead.\n",
      "  self.current_episodes[episode_id] = pd.concat([self.current_episodes[episode_id], new_row])\n",
      "/home/hristo/Delta-academy/3.2 Poker (version 2)/utils.py:25: FutureWarning: In a future version, object-dtype columns with all-bool values will not be included in reductions with bool_only=True. Explicitly cast to bool dtype instead.\n",
      "  self.current_episodes[episode_id] = pd.concat([self.current_episodes[episode_id], new_row])\n",
      "/home/hristo/Delta-academy/3.2 Poker (version 2)/utils.py:25: FutureWarning: In a future version, object-dtype columns with all-bool values will not be included in reductions with bool_only=True. Explicitly cast to bool dtype instead.\n",
      "  self.current_episodes[episode_id] = pd.concat([self.current_episodes[episode_id], new_row])\n",
      "/home/hristo/Delta-academy/3.2 Poker (version 2)/utils.py:25: FutureWarning: In a future version, object-dtype columns with all-bool values will not be included in reductions with bool_only=True. Explicitly cast to bool dtype instead.\n",
      "  self.current_episodes[episode_id] = pd.concat([self.current_episodes[episode_id], new_row])\n",
      "/home/hristo/Delta-academy/3.2 Poker (version 2)/utils.py:25: FutureWarning: In a future version, object-dtype columns with all-bool values will not be included in reductions with bool_only=True. Explicitly cast to bool dtype instead.\n",
      "  self.current_episodes[episode_id] = pd.concat([self.current_episodes[episode_id], new_row])\n",
      "/home/hristo/Delta-academy/3.2 Poker (version 2)/utils.py:25: FutureWarning: In a future version, object-dtype columns with all-bool values will not be included in reductions with bool_only=True. Explicitly cast to bool dtype instead.\n",
      "  self.current_episodes[episode_id] = pd.concat([self.current_episodes[episode_id], new_row])\n",
      "/home/hristo/Delta-academy/3.2 Poker (version 2)/utils.py:25: FutureWarning: In a future version, object-dtype columns with all-bool values will not be included in reductions with bool_only=True. Explicitly cast to bool dtype instead.\n",
      "  self.current_episodes[episode_id] = pd.concat([self.current_episodes[episode_id], new_row])\n",
      "/home/hristo/Delta-academy/3.2 Poker (version 2)/utils.py:25: FutureWarning: In a future version, object-dtype columns with all-bool values will not be included in reductions with bool_only=True. Explicitly cast to bool dtype instead.\n",
      "  self.current_episodes[episode_id] = pd.concat([self.current_episodes[episode_id], new_row])\n",
      "/home/hristo/Delta-academy/3.2 Poker (version 2)/utils.py:25: FutureWarning: In a future version, object-dtype columns with all-bool values will not be included in reductions with bool_only=True. Explicitly cast to bool dtype instead.\n",
      "  self.current_episodes[episode_id] = pd.concat([self.current_episodes[episode_id], new_row])\n",
      "/home/hristo/Delta-academy/3.2 Poker (version 2)/utils.py:25: FutureWarning: In a future version, object-dtype columns with all-bool values will not be included in reductions with bool_only=True. Explicitly cast to bool dtype instead.\n",
      "  self.current_episodes[episode_id] = pd.concat([self.current_episodes[episode_id], new_row])\n"
     ]
    },
    {
     "name": "stderr",
     "output_type": "stream",
     "text": [
      "/home/hristo/Delta-academy/3.2 Poker (version 2)/utils.py:25: FutureWarning: In a future version, object-dtype columns with all-bool values will not be included in reductions with bool_only=True. Explicitly cast to bool dtype instead.\n",
      "  self.current_episodes[episode_id] = pd.concat([self.current_episodes[episode_id], new_row])\n",
      "/home/hristo/Delta-academy/3.2 Poker (version 2)/utils.py:25: FutureWarning: In a future version, object-dtype columns with all-bool values will not be included in reductions with bool_only=True. Explicitly cast to bool dtype instead.\n",
      "  self.current_episodes[episode_id] = pd.concat([self.current_episodes[episode_id], new_row])\n",
      "/home/hristo/Delta-academy/3.2 Poker (version 2)/utils.py:25: FutureWarning: In a future version, object-dtype columns with all-bool values will not be included in reductions with bool_only=True. Explicitly cast to bool dtype instead.\n",
      "  self.current_episodes[episode_id] = pd.concat([self.current_episodes[episode_id], new_row])\n",
      "/home/hristo/Delta-academy/3.2 Poker (version 2)/utils.py:25: FutureWarning: In a future version, object-dtype columns with all-bool values will not be included in reductions with bool_only=True. Explicitly cast to bool dtype instead.\n",
      "  self.current_episodes[episode_id] = pd.concat([self.current_episodes[episode_id], new_row])\n",
      "/home/hristo/Delta-academy/3.2 Poker (version 2)/utils.py:25: FutureWarning: In a future version, object-dtype columns with all-bool values will not be included in reductions with bool_only=True. Explicitly cast to bool dtype instead.\n",
      "  self.current_episodes[episode_id] = pd.concat([self.current_episodes[episode_id], new_row])\n",
      "/home/hristo/Delta-academy/3.2 Poker (version 2)/utils.py:25: FutureWarning: In a future version, object-dtype columns with all-bool values will not be included in reductions with bool_only=True. Explicitly cast to bool dtype instead.\n",
      "  self.current_episodes[episode_id] = pd.concat([self.current_episodes[episode_id], new_row])\n",
      "/home/hristo/Delta-academy/3.2 Poker (version 2)/utils.py:25: FutureWarning: In a future version, object-dtype columns with all-bool values will not be included in reductions with bool_only=True. Explicitly cast to bool dtype instead.\n",
      "  self.current_episodes[episode_id] = pd.concat([self.current_episodes[episode_id], new_row])\n",
      "/home/hristo/Delta-academy/3.2 Poker (version 2)/utils.py:25: FutureWarning: In a future version, object-dtype columns with all-bool values will not be included in reductions with bool_only=True. Explicitly cast to bool dtype instead.\n",
      "  self.current_episodes[episode_id] = pd.concat([self.current_episodes[episode_id], new_row])\n",
      "/home/hristo/Delta-academy/3.2 Poker (version 2)/utils.py:25: FutureWarning: In a future version, object-dtype columns with all-bool values will not be included in reductions with bool_only=True. Explicitly cast to bool dtype instead.\n",
      "  self.current_episodes[episode_id] = pd.concat([self.current_episodes[episode_id], new_row])\n",
      "/home/hristo/Delta-academy/3.2 Poker (version 2)/utils.py:25: FutureWarning: In a future version, object-dtype columns with all-bool values will not be included in reductions with bool_only=True. Explicitly cast to bool dtype instead.\n",
      "  self.current_episodes[episode_id] = pd.concat([self.current_episodes[episode_id], new_row])\n",
      "/home/hristo/Delta-academy/3.2 Poker (version 2)/utils.py:25: FutureWarning: In a future version, object-dtype columns with all-bool values will not be included in reductions with bool_only=True. Explicitly cast to bool dtype instead.\n",
      "  self.current_episodes[episode_id] = pd.concat([self.current_episodes[episode_id], new_row])\n",
      "/home/hristo/Delta-academy/3.2 Poker (version 2)/utils.py:25: FutureWarning: In a future version, object-dtype columns with all-bool values will not be included in reductions with bool_only=True. Explicitly cast to bool dtype instead.\n",
      "  self.current_episodes[episode_id] = pd.concat([self.current_episodes[episode_id], new_row])\n",
      "/home/hristo/Delta-academy/3.2 Poker (version 2)/utils.py:25: FutureWarning: In a future version, object-dtype columns with all-bool values will not be included in reductions with bool_only=True. Explicitly cast to bool dtype instead.\n",
      "  self.current_episodes[episode_id] = pd.concat([self.current_episodes[episode_id], new_row])\n",
      "/home/hristo/Delta-academy/3.2 Poker (version 2)/utils.py:25: FutureWarning: In a future version, object-dtype columns with all-bool values will not be included in reductions with bool_only=True. Explicitly cast to bool dtype instead.\n",
      "  self.current_episodes[episode_id] = pd.concat([self.current_episodes[episode_id], new_row])\n",
      "/home/hristo/Delta-academy/3.2 Poker (version 2)/utils.py:32: FutureWarning: In a future version, object-dtype columns with all-bool values will not be included in reductions with bool_only=True. Explicitly cast to bool dtype instead.\n",
      "  self.data  = pd.concat([self.data, episode])\n"
     ]
    },
    {
     "name": "stdout",
     "output_type": "stream",
     "text": [
      "1000000\n"
     ]
    },
    {
     "name": "stderr",
     "output_type": "stream",
     "text": [
      "/home/hristo/Delta-academy/3.2 Poker (version 2)/utils.py:32: FutureWarning: In a future version, object-dtype columns with all-bool values will not be included in reductions with bool_only=True. Explicitly cast to bool dtype instead.\n",
      "  self.data  = pd.concat([self.data, episode])\n",
      "/home/hristo/Delta-academy/3.2 Poker (version 2)/utils.py:32: FutureWarning: In a future version, object-dtype columns with all-bool values will not be included in reductions with bool_only=True. Explicitly cast to bool dtype instead.\n",
      "  self.data  = pd.concat([self.data, episode])\n",
      "/home/hristo/Delta-academy/3.2 Poker (version 2)/utils.py:25: FutureWarning: In a future version, object-dtype columns with all-bool values will not be included in reductions with bool_only=True. Explicitly cast to bool dtype instead.\n",
      "  self.current_episodes[episode_id] = pd.concat([self.current_episodes[episode_id], new_row])\n",
      "/home/hristo/Delta-academy/3.2 Poker (version 2)/utils.py:25: FutureWarning: In a future version, object-dtype columns with all-bool values will not be included in reductions with bool_only=True. Explicitly cast to bool dtype instead.\n",
      "  self.current_episodes[episode_id] = pd.concat([self.current_episodes[episode_id], new_row])\n",
      "/home/hristo/Delta-academy/3.2 Poker (version 2)/utils.py:32: FutureWarning: In a future version, object-dtype columns with all-bool values will not be included in reductions with bool_only=True. Explicitly cast to bool dtype instead.\n",
      "  self.data  = pd.concat([self.data, episode])\n",
      "/home/hristo/Delta-academy/3.2 Poker (version 2)/utils.py:32: FutureWarning: In a future version, object-dtype columns with all-bool values will not be included in reductions with bool_only=True. Explicitly cast to bool dtype instead.\n",
      "  self.data  = pd.concat([self.data, episode])\n",
      "/home/hristo/Delta-academy/3.2 Poker (version 2)/utils.py:32: FutureWarning: In a future version, object-dtype columns with all-bool values will not be included in reductions with bool_only=True. Explicitly cast to bool dtype instead.\n",
      "  self.data  = pd.concat([self.data, episode])\n",
      "/home/hristo/Delta-academy/3.2 Poker (version 2)/utils.py:25: FutureWarning: In a future version, object-dtype columns with all-bool values will not be included in reductions with bool_only=True. Explicitly cast to bool dtype instead.\n",
      "  self.current_episodes[episode_id] = pd.concat([self.current_episodes[episode_id], new_row])\n",
      "/home/hristo/Delta-academy/3.2 Poker (version 2)/utils.py:25: FutureWarning: In a future version, object-dtype columns with all-bool values will not be included in reductions with bool_only=True. Explicitly cast to bool dtype instead.\n",
      "  self.current_episodes[episode_id] = pd.concat([self.current_episodes[episode_id], new_row])\n",
      "/home/hristo/Delta-academy/3.2 Poker (version 2)/utils.py:25: FutureWarning: In a future version, object-dtype columns with all-bool values will not be included in reductions with bool_only=True. Explicitly cast to bool dtype instead.\n",
      "  self.current_episodes[episode_id] = pd.concat([self.current_episodes[episode_id], new_row])\n",
      "/home/hristo/Delta-academy/3.2 Poker (version 2)/utils.py:25: FutureWarning: In a future version, object-dtype columns with all-bool values will not be included in reductions with bool_only=True. Explicitly cast to bool dtype instead.\n",
      "  self.current_episodes[episode_id] = pd.concat([self.current_episodes[episode_id], new_row])\n",
      "/home/hristo/Delta-academy/3.2 Poker (version 2)/utils.py:32: FutureWarning: In a future version, object-dtype columns with all-bool values will not be included in reductions with bool_only=True. Explicitly cast to bool dtype instead.\n",
      "  self.data  = pd.concat([self.data, episode])\n",
      "/home/hristo/Delta-academy/3.2 Poker (version 2)/utils.py:25: FutureWarning: In a future version, object-dtype columns with all-bool values will not be included in reductions with bool_only=True. Explicitly cast to bool dtype instead.\n",
      "  self.current_episodes[episode_id] = pd.concat([self.current_episodes[episode_id], new_row])\n",
      "/home/hristo/Delta-academy/3.2 Poker (version 2)/utils.py:25: FutureWarning: In a future version, object-dtype columns with all-bool values will not be included in reductions with bool_only=True. Explicitly cast to bool dtype instead.\n",
      "  self.current_episodes[episode_id] = pd.concat([self.current_episodes[episode_id], new_row])\n",
      "/home/hristo/Delta-academy/3.2 Poker (version 2)/utils.py:25: FutureWarning: In a future version, object-dtype columns with all-bool values will not be included in reductions with bool_only=True. Explicitly cast to bool dtype instead.\n",
      "  self.current_episodes[episode_id] = pd.concat([self.current_episodes[episode_id], new_row])\n",
      "/home/hristo/Delta-academy/3.2 Poker (version 2)/utils.py:25: FutureWarning: In a future version, object-dtype columns with all-bool values will not be included in reductions with bool_only=True. Explicitly cast to bool dtype instead.\n",
      "  self.current_episodes[episode_id] = pd.concat([self.current_episodes[episode_id], new_row])\n",
      "/home/hristo/Delta-academy/3.2 Poker (version 2)/utils.py:25: FutureWarning: In a future version, object-dtype columns with all-bool values will not be included in reductions with bool_only=True. Explicitly cast to bool dtype instead.\n",
      "  self.current_episodes[episode_id] = pd.concat([self.current_episodes[episode_id], new_row])\n",
      "/home/hristo/Delta-academy/3.2 Poker (version 2)/utils.py:32: FutureWarning: In a future version, object-dtype columns with all-bool values will not be included in reductions with bool_only=True. Explicitly cast to bool dtype instead.\n",
      "  self.data  = pd.concat([self.data, episode])\n",
      "/home/hristo/Delta-academy/3.2 Poker (version 2)/utils.py:25: FutureWarning: In a future version, object-dtype columns with all-bool values will not be included in reductions with bool_only=True. Explicitly cast to bool dtype instead.\n",
      "  self.current_episodes[episode_id] = pd.concat([self.current_episodes[episode_id], new_row])\n",
      "/home/hristo/Delta-academy/3.2 Poker (version 2)/utils.py:25: FutureWarning: In a future version, object-dtype columns with all-bool values will not be included in reductions with bool_only=True. Explicitly cast to bool dtype instead.\n",
      "  self.current_episodes[episode_id] = pd.concat([self.current_episodes[episode_id], new_row])\n",
      "/home/hristo/Delta-academy/3.2 Poker (version 2)/utils.py:25: FutureWarning: In a future version, object-dtype columns with all-bool values will not be included in reductions with bool_only=True. Explicitly cast to bool dtype instead.\n",
      "  self.current_episodes[episode_id] = pd.concat([self.current_episodes[episode_id], new_row])\n",
      "/home/hristo/Delta-academy/3.2 Poker (version 2)/utils.py:25: FutureWarning: In a future version, object-dtype columns with all-bool values will not be included in reductions with bool_only=True. Explicitly cast to bool dtype instead.\n",
      "  self.current_episodes[episode_id] = pd.concat([self.current_episodes[episode_id], new_row])\n",
      "/home/hristo/Delta-academy/3.2 Poker (version 2)/utils.py:25: FutureWarning: In a future version, object-dtype columns with all-bool values will not be included in reductions with bool_only=True. Explicitly cast to bool dtype instead.\n",
      "  self.current_episodes[episode_id] = pd.concat([self.current_episodes[episode_id], new_row])\n",
      "/home/hristo/Delta-academy/3.2 Poker (version 2)/utils.py:25: FutureWarning: In a future version, object-dtype columns with all-bool values will not be included in reductions with bool_only=True. Explicitly cast to bool dtype instead.\n",
      "  self.current_episodes[episode_id] = pd.concat([self.current_episodes[episode_id], new_row])\n",
      "/home/hristo/Delta-academy/3.2 Poker (version 2)/utils.py:25: FutureWarning: In a future version, object-dtype columns with all-bool values will not be included in reductions with bool_only=True. Explicitly cast to bool dtype instead.\n",
      "  self.current_episodes[episode_id] = pd.concat([self.current_episodes[episode_id], new_row])\n",
      "/home/hristo/Delta-academy/3.2 Poker (version 2)/utils.py:25: FutureWarning: In a future version, object-dtype columns with all-bool values will not be included in reductions with bool_only=True. Explicitly cast to bool dtype instead.\n",
      "  self.current_episodes[episode_id] = pd.concat([self.current_episodes[episode_id], new_row])\n"
     ]
    },
    {
     "name": "stderr",
     "output_type": "stream",
     "text": [
      "/home/hristo/Delta-academy/3.2 Poker (version 2)/utils.py:25: FutureWarning: In a future version, object-dtype columns with all-bool values will not be included in reductions with bool_only=True. Explicitly cast to bool dtype instead.\n",
      "  self.current_episodes[episode_id] = pd.concat([self.current_episodes[episode_id], new_row])\n",
      "/home/hristo/Delta-academy/3.2 Poker (version 2)/utils.py:32: FutureWarning: In a future version, object-dtype columns with all-bool values will not be included in reductions with bool_only=True. Explicitly cast to bool dtype instead.\n",
      "  self.data  = pd.concat([self.data, episode])\n"
     ]
    },
    {
     "name": "stdout",
     "output_type": "stream",
     "text": [
      "1000000\n"
     ]
    },
    {
     "name": "stderr",
     "output_type": "stream",
     "text": [
      "/home/hristo/Delta-academy/3.2 Poker (version 2)/utils.py:25: FutureWarning: In a future version, object-dtype columns with all-bool values will not be included in reductions with bool_only=True. Explicitly cast to bool dtype instead.\n",
      "  self.current_episodes[episode_id] = pd.concat([self.current_episodes[episode_id], new_row])\n",
      "/home/hristo/Delta-academy/3.2 Poker (version 2)/utils.py:25: FutureWarning: In a future version, object-dtype columns with all-bool values will not be included in reductions with bool_only=True. Explicitly cast to bool dtype instead.\n",
      "  self.current_episodes[episode_id] = pd.concat([self.current_episodes[episode_id], new_row])\n",
      "/home/hristo/Delta-academy/3.2 Poker (version 2)/utils.py:32: FutureWarning: In a future version, object-dtype columns with all-bool values will not be included in reductions with bool_only=True. Explicitly cast to bool dtype instead.\n",
      "  self.data  = pd.concat([self.data, episode])\n",
      "/home/hristo/Delta-academy/3.2 Poker (version 2)/utils.py:25: FutureWarning: In a future version, object-dtype columns with all-bool values will not be included in reductions with bool_only=True. Explicitly cast to bool dtype instead.\n",
      "  self.current_episodes[episode_id] = pd.concat([self.current_episodes[episode_id], new_row])\n",
      "/home/hristo/Delta-academy/3.2 Poker (version 2)/utils.py:25: FutureWarning: In a future version, object-dtype columns with all-bool values will not be included in reductions with bool_only=True. Explicitly cast to bool dtype instead.\n",
      "  self.current_episodes[episode_id] = pd.concat([self.current_episodes[episode_id], new_row])\n",
      "/home/hristo/Delta-academy/3.2 Poker (version 2)/utils.py:25: FutureWarning: In a future version, object-dtype columns with all-bool values will not be included in reductions with bool_only=True. Explicitly cast to bool dtype instead.\n",
      "  self.current_episodes[episode_id] = pd.concat([self.current_episodes[episode_id], new_row])\n",
      "/home/hristo/Delta-academy/3.2 Poker (version 2)/utils.py:25: FutureWarning: In a future version, object-dtype columns with all-bool values will not be included in reductions with bool_only=True. Explicitly cast to bool dtype instead.\n",
      "  self.current_episodes[episode_id] = pd.concat([self.current_episodes[episode_id], new_row])\n",
      "/home/hristo/Delta-academy/3.2 Poker (version 2)/utils.py:32: FutureWarning: In a future version, object-dtype columns with all-bool values will not be included in reductions with bool_only=True. Explicitly cast to bool dtype instead.\n",
      "  self.data  = pd.concat([self.data, episode])\n",
      "/home/hristo/Delta-academy/3.2 Poker (version 2)/utils.py:25: FutureWarning: In a future version, object-dtype columns with all-bool values will not be included in reductions with bool_only=True. Explicitly cast to bool dtype instead.\n",
      "  self.current_episodes[episode_id] = pd.concat([self.current_episodes[episode_id], new_row])\n",
      "/home/hristo/Delta-academy/3.2 Poker (version 2)/utils.py:25: FutureWarning: In a future version, object-dtype columns with all-bool values will not be included in reductions with bool_only=True. Explicitly cast to bool dtype instead.\n",
      "  self.current_episodes[episode_id] = pd.concat([self.current_episodes[episode_id], new_row])\n",
      "/home/hristo/Delta-academy/3.2 Poker (version 2)/utils.py:25: FutureWarning: In a future version, object-dtype columns with all-bool values will not be included in reductions with bool_only=True. Explicitly cast to bool dtype instead.\n",
      "  self.current_episodes[episode_id] = pd.concat([self.current_episodes[episode_id], new_row])\n",
      "/home/hristo/Delta-academy/3.2 Poker (version 2)/utils.py:25: FutureWarning: In a future version, object-dtype columns with all-bool values will not be included in reductions with bool_only=True. Explicitly cast to bool dtype instead.\n",
      "  self.current_episodes[episode_id] = pd.concat([self.current_episodes[episode_id], new_row])\n",
      "/home/hristo/Delta-academy/3.2 Poker (version 2)/utils.py:32: FutureWarning: In a future version, object-dtype columns with all-bool values will not be included in reductions with bool_only=True. Explicitly cast to bool dtype instead.\n",
      "  self.data  = pd.concat([self.data, episode])\n",
      "/home/hristo/Delta-academy/3.2 Poker (version 2)/utils.py:25: FutureWarning: In a future version, object-dtype columns with all-bool values will not be included in reductions with bool_only=True. Explicitly cast to bool dtype instead.\n",
      "  self.current_episodes[episode_id] = pd.concat([self.current_episodes[episode_id], new_row])\n",
      "/home/hristo/Delta-academy/3.2 Poker (version 2)/utils.py:25: FutureWarning: In a future version, object-dtype columns with all-bool values will not be included in reductions with bool_only=True. Explicitly cast to bool dtype instead.\n",
      "  self.current_episodes[episode_id] = pd.concat([self.current_episodes[episode_id], new_row])\n",
      "/home/hristo/Delta-academy/3.2 Poker (version 2)/utils.py:25: FutureWarning: In a future version, object-dtype columns with all-bool values will not be included in reductions with bool_only=True. Explicitly cast to bool dtype instead.\n",
      "  self.current_episodes[episode_id] = pd.concat([self.current_episodes[episode_id], new_row])\n",
      "/home/hristo/Delta-academy/3.2 Poker (version 2)/utils.py:25: FutureWarning: In a future version, object-dtype columns with all-bool values will not be included in reductions with bool_only=True. Explicitly cast to bool dtype instead.\n",
      "  self.current_episodes[episode_id] = pd.concat([self.current_episodes[episode_id], new_row])\n",
      "/home/hristo/Delta-academy/3.2 Poker (version 2)/utils.py:25: FutureWarning: In a future version, object-dtype columns with all-bool values will not be included in reductions with bool_only=True. Explicitly cast to bool dtype instead.\n",
      "  self.current_episodes[episode_id] = pd.concat([self.current_episodes[episode_id], new_row])\n",
      "/home/hristo/Delta-academy/3.2 Poker (version 2)/utils.py:25: FutureWarning: In a future version, object-dtype columns with all-bool values will not be included in reductions with bool_only=True. Explicitly cast to bool dtype instead.\n",
      "  self.current_episodes[episode_id] = pd.concat([self.current_episodes[episode_id], new_row])\n",
      "/home/hristo/Delta-academy/3.2 Poker (version 2)/utils.py:25: FutureWarning: In a future version, object-dtype columns with all-bool values will not be included in reductions with bool_only=True. Explicitly cast to bool dtype instead.\n",
      "  self.current_episodes[episode_id] = pd.concat([self.current_episodes[episode_id], new_row])\n",
      "/home/hristo/Delta-academy/3.2 Poker (version 2)/utils.py:25: FutureWarning: In a future version, object-dtype columns with all-bool values will not be included in reductions with bool_only=True. Explicitly cast to bool dtype instead.\n",
      "  self.current_episodes[episode_id] = pd.concat([self.current_episodes[episode_id], new_row])\n",
      "/home/hristo/Delta-academy/3.2 Poker (version 2)/utils.py:32: FutureWarning: In a future version, object-dtype columns with all-bool values will not be included in reductions with bool_only=True. Explicitly cast to bool dtype instead.\n",
      "  self.data  = pd.concat([self.data, episode])\n",
      "/home/hristo/Delta-academy/3.2 Poker (version 2)/utils.py:25: FutureWarning: In a future version, object-dtype columns with all-bool values will not be included in reductions with bool_only=True. Explicitly cast to bool dtype instead.\n",
      "  self.current_episodes[episode_id] = pd.concat([self.current_episodes[episode_id], new_row])\n",
      "/home/hristo/Delta-academy/3.2 Poker (version 2)/utils.py:32: FutureWarning: In a future version, object-dtype columns with all-bool values will not be included in reductions with bool_only=True. Explicitly cast to bool dtype instead.\n",
      "  self.data  = pd.concat([self.data, episode])\n",
      "/home/hristo/Delta-academy/3.2 Poker (version 2)/utils.py:25: FutureWarning: In a future version, object-dtype columns with all-bool values will not be included in reductions with bool_only=True. Explicitly cast to bool dtype instead.\n",
      "  self.current_episodes[episode_id] = pd.concat([self.current_episodes[episode_id], new_row])\n",
      "/home/hristo/Delta-academy/3.2 Poker (version 2)/utils.py:25: FutureWarning: In a future version, object-dtype columns with all-bool values will not be included in reductions with bool_only=True. Explicitly cast to bool dtype instead.\n",
      "  self.current_episodes[episode_id] = pd.concat([self.current_episodes[episode_id], new_row])\n"
     ]
    },
    {
     "name": "stderr",
     "output_type": "stream",
     "text": [
      "/home/hristo/Delta-academy/3.2 Poker (version 2)/utils.py:25: FutureWarning: In a future version, object-dtype columns with all-bool values will not be included in reductions with bool_only=True. Explicitly cast to bool dtype instead.\n",
      "  self.current_episodes[episode_id] = pd.concat([self.current_episodes[episode_id], new_row])\n",
      "/home/hristo/Delta-academy/3.2 Poker (version 2)/utils.py:25: FutureWarning: In a future version, object-dtype columns with all-bool values will not be included in reductions with bool_only=True. Explicitly cast to bool dtype instead.\n",
      "  self.current_episodes[episode_id] = pd.concat([self.current_episodes[episode_id], new_row])\n",
      "/home/hristo/Delta-academy/3.2 Poker (version 2)/utils.py:25: FutureWarning: In a future version, object-dtype columns with all-bool values will not be included in reductions with bool_only=True. Explicitly cast to bool dtype instead.\n",
      "  self.current_episodes[episode_id] = pd.concat([self.current_episodes[episode_id], new_row])\n",
      "/home/hristo/Delta-academy/3.2 Poker (version 2)/utils.py:25: FutureWarning: In a future version, object-dtype columns with all-bool values will not be included in reductions with bool_only=True. Explicitly cast to bool dtype instead.\n",
      "  self.current_episodes[episode_id] = pd.concat([self.current_episodes[episode_id], new_row])\n",
      "/home/hristo/Delta-academy/3.2 Poker (version 2)/utils.py:25: FutureWarning: In a future version, object-dtype columns with all-bool values will not be included in reductions with bool_only=True. Explicitly cast to bool dtype instead.\n",
      "  self.current_episodes[episode_id] = pd.concat([self.current_episodes[episode_id], new_row])\n",
      "/home/hristo/Delta-academy/3.2 Poker (version 2)/utils.py:25: FutureWarning: In a future version, object-dtype columns with all-bool values will not be included in reductions with bool_only=True. Explicitly cast to bool dtype instead.\n",
      "  self.current_episodes[episode_id] = pd.concat([self.current_episodes[episode_id], new_row])\n",
      "/home/hristo/Delta-academy/3.2 Poker (version 2)/utils.py:32: FutureWarning: In a future version, object-dtype columns with all-bool values will not be included in reductions with bool_only=True. Explicitly cast to bool dtype instead.\n",
      "  self.data  = pd.concat([self.data, episode])\n",
      "/home/hristo/Delta-academy/3.2 Poker (version 2)/utils.py:25: FutureWarning: In a future version, object-dtype columns with all-bool values will not be included in reductions with bool_only=True. Explicitly cast to bool dtype instead.\n",
      "  self.current_episodes[episode_id] = pd.concat([self.current_episodes[episode_id], new_row])\n",
      "/home/hristo/Delta-academy/3.2 Poker (version 2)/utils.py:32: FutureWarning: In a future version, object-dtype columns with all-bool values will not be included in reductions with bool_only=True. Explicitly cast to bool dtype instead.\n",
      "  self.data  = pd.concat([self.data, episode])\n",
      "/home/hristo/Delta-academy/3.2 Poker (version 2)/utils.py:25: FutureWarning: In a future version, object-dtype columns with all-bool values will not be included in reductions with bool_only=True. Explicitly cast to bool dtype instead.\n",
      "  self.current_episodes[episode_id] = pd.concat([self.current_episodes[episode_id], new_row])\n",
      "/home/hristo/Delta-academy/3.2 Poker (version 2)/utils.py:25: FutureWarning: In a future version, object-dtype columns with all-bool values will not be included in reductions with bool_only=True. Explicitly cast to bool dtype instead.\n",
      "  self.current_episodes[episode_id] = pd.concat([self.current_episodes[episode_id], new_row])\n",
      "/home/hristo/Delta-academy/3.2 Poker (version 2)/utils.py:25: FutureWarning: In a future version, object-dtype columns with all-bool values will not be included in reductions with bool_only=True. Explicitly cast to bool dtype instead.\n",
      "  self.current_episodes[episode_id] = pd.concat([self.current_episodes[episode_id], new_row])\n",
      "/home/hristo/Delta-academy/3.2 Poker (version 2)/utils.py:25: FutureWarning: In a future version, object-dtype columns with all-bool values will not be included in reductions with bool_only=True. Explicitly cast to bool dtype instead.\n",
      "  self.current_episodes[episode_id] = pd.concat([self.current_episodes[episode_id], new_row])\n",
      "/home/hristo/Delta-academy/3.2 Poker (version 2)/utils.py:25: FutureWarning: In a future version, object-dtype columns with all-bool values will not be included in reductions with bool_only=True. Explicitly cast to bool dtype instead.\n",
      "  self.current_episodes[episode_id] = pd.concat([self.current_episodes[episode_id], new_row])\n",
      "/home/hristo/Delta-academy/3.2 Poker (version 2)/utils.py:32: FutureWarning: In a future version, object-dtype columns with all-bool values will not be included in reductions with bool_only=True. Explicitly cast to bool dtype instead.\n",
      "  self.data  = pd.concat([self.data, episode])\n",
      "Process ForkPoolWorker-100:\n",
      "Process ForkPoolWorker-103:\n",
      "Process ForkPoolWorker-102:\n",
      "Process ForkPoolWorker-99:\n",
      "Process ForkPoolWorker-98:\n",
      "Process ForkPoolWorker-101:\n",
      "Process ForkPoolWorker-97:\n",
      "Traceback (most recent call last):\n",
      "Traceback (most recent call last):\n",
      "Process ForkPoolWorker-105:\n",
      "Traceback (most recent call last):\n",
      "Traceback (most recent call last):\n",
      "  File \"/home/hristo/miniconda3/envs/cv38/lib/python3.8/multiprocessing/process.py\", line 315, in _bootstrap\n",
      "    self.run()\n",
      "Traceback (most recent call last):\n",
      "Traceback (most recent call last):\n",
      "  File \"/home/hristo/miniconda3/envs/cv38/lib/python3.8/multiprocessing/process.py\", line 315, in _bootstrap\n",
      "    self.run()\n",
      "  File \"/home/hristo/miniconda3/envs/cv38/lib/python3.8/multiprocessing/process.py\", line 315, in _bootstrap\n",
      "    self.run()\n",
      "  File \"/home/hristo/miniconda3/envs/cv38/lib/python3.8/multiprocessing/process.py\", line 315, in _bootstrap\n",
      "    self.run()\n",
      "  File \"/home/hristo/miniconda3/envs/cv38/lib/python3.8/multiprocessing/process.py\", line 108, in run\n",
      "    self._target(*self._args, **self._kwargs)\n"
     ]
    },
    {
     "ename": "KeyboardInterrupt",
     "evalue": "",
     "output_type": "error",
     "traceback": [
      "\u001b[0;31m---------------------------------------------------------------------------\u001b[0m",
      "\u001b[0;31mKeyboardInterrupt\u001b[0m                         Traceback (most recent call last)",
      "Cell \u001b[0;32mIn [4], line 33\u001b[0m\n\u001b[1;32m     31\u001b[0m pool \u001b[38;5;241m=\u001b[39m multiprocessing\u001b[38;5;241m.\u001b[39mPool(processes\u001b[38;5;241m=\u001b[39mthreads)\n\u001b[1;32m     32\u001b[0m environments \u001b[38;5;241m=\u001b[39m [PokerEnv(opponent_choose_move \u001b[38;5;241m=\u001b[39m choose_move_randomly) \u001b[38;5;28;01mfor\u001b[39;00m _ \u001b[38;5;129;01min\u001b[39;00m \u001b[38;5;28mrange\u001b[39m(threads)]\n\u001b[0;32m---> 33\u001b[0m games \u001b[38;5;241m=\u001b[39m \u001b[43mpool\u001b[49m\u001b[38;5;241;43m.\u001b[39;49m\u001b[43mmap\u001b[49m\u001b[43m(\u001b[49m\u001b[43mplay_poker\u001b[49m\u001b[43m,\u001b[49m\u001b[43m \u001b[49m\u001b[43menvironments\u001b[49m\u001b[43m)\u001b[49m\n\u001b[1;32m     34\u001b[0m all_games\u001b[38;5;241m.\u001b[39mappend(games)\n\u001b[1;32m     35\u001b[0m \u001b[38;5;28;01mif\u001b[39;00m \u001b[38;5;28msum\u001b[39m([\u001b[38;5;28mlen\u001b[39m(game) \u001b[38;5;28;01mfor\u001b[39;00m game \u001b[38;5;129;01min\u001b[39;00m all_games]) \u001b[38;5;241m>\u001b[39m\u001b[38;5;241m=\u001b[39m batch_size:\n",
      "File \u001b[0;32m~/miniconda3/envs/cv38/lib/python3.8/multiprocessing/pool.py:364\u001b[0m, in \u001b[0;36mPool.map\u001b[0;34m(self, func, iterable, chunksize)\u001b[0m\n\u001b[1;32m    359\u001b[0m \u001b[38;5;28;01mdef\u001b[39;00m \u001b[38;5;21mmap\u001b[39m(\u001b[38;5;28mself\u001b[39m, func, iterable, chunksize\u001b[38;5;241m=\u001b[39m\u001b[38;5;28;01mNone\u001b[39;00m):\n\u001b[1;32m    360\u001b[0m     \u001b[38;5;124;03m'''\u001b[39;00m\n\u001b[1;32m    361\u001b[0m \u001b[38;5;124;03m    Apply `func` to each element in `iterable`, collecting the results\u001b[39;00m\n\u001b[1;32m    362\u001b[0m \u001b[38;5;124;03m    in a list that is returned.\u001b[39;00m\n\u001b[1;32m    363\u001b[0m \u001b[38;5;124;03m    '''\u001b[39;00m\n\u001b[0;32m--> 364\u001b[0m     \u001b[38;5;28;01mreturn\u001b[39;00m \u001b[38;5;28;43mself\u001b[39;49m\u001b[38;5;241;43m.\u001b[39;49m\u001b[43m_map_async\u001b[49m\u001b[43m(\u001b[49m\u001b[43mfunc\u001b[49m\u001b[43m,\u001b[49m\u001b[43m \u001b[49m\u001b[43miterable\u001b[49m\u001b[43m,\u001b[49m\u001b[43m \u001b[49m\u001b[43mmapstar\u001b[49m\u001b[43m,\u001b[49m\u001b[43m \u001b[49m\u001b[43mchunksize\u001b[49m\u001b[43m)\u001b[49m\u001b[38;5;241;43m.\u001b[39;49m\u001b[43mget\u001b[49m\u001b[43m(\u001b[49m\u001b[43m)\u001b[49m\n",
      "File \u001b[0;32m~/miniconda3/envs/cv38/lib/python3.8/multiprocessing/pool.py:765\u001b[0m, in \u001b[0;36mApplyResult.get\u001b[0;34m(self, timeout)\u001b[0m\n\u001b[1;32m    764\u001b[0m \u001b[38;5;28;01mdef\u001b[39;00m \u001b[38;5;21mget\u001b[39m(\u001b[38;5;28mself\u001b[39m, timeout\u001b[38;5;241m=\u001b[39m\u001b[38;5;28;01mNone\u001b[39;00m):\n\u001b[0;32m--> 765\u001b[0m     \u001b[38;5;28;43mself\u001b[39;49m\u001b[38;5;241;43m.\u001b[39;49m\u001b[43mwait\u001b[49m\u001b[43m(\u001b[49m\u001b[43mtimeout\u001b[49m\u001b[43m)\u001b[49m\n\u001b[1;32m    766\u001b[0m     \u001b[38;5;28;01mif\u001b[39;00m \u001b[38;5;129;01mnot\u001b[39;00m \u001b[38;5;28mself\u001b[39m\u001b[38;5;241m.\u001b[39mready():\n\u001b[1;32m    767\u001b[0m         \u001b[38;5;28;01mraise\u001b[39;00m \u001b[38;5;167;01mTimeoutError\u001b[39;00m\n",
      "File \u001b[0;32m~/miniconda3/envs/cv38/lib/python3.8/multiprocessing/pool.py:762\u001b[0m, in \u001b[0;36mApplyResult.wait\u001b[0;34m(self, timeout)\u001b[0m\n\u001b[1;32m    761\u001b[0m \u001b[38;5;28;01mdef\u001b[39;00m \u001b[38;5;21mwait\u001b[39m(\u001b[38;5;28mself\u001b[39m, timeout\u001b[38;5;241m=\u001b[39m\u001b[38;5;28;01mNone\u001b[39;00m):\n\u001b[0;32m--> 762\u001b[0m     \u001b[38;5;28;43mself\u001b[39;49m\u001b[38;5;241;43m.\u001b[39;49m\u001b[43m_event\u001b[49m\u001b[38;5;241;43m.\u001b[39;49m\u001b[43mwait\u001b[49m\u001b[43m(\u001b[49m\u001b[43mtimeout\u001b[49m\u001b[43m)\u001b[49m\n",
      "File \u001b[0;32m~/miniconda3/envs/cv38/lib/python3.8/threading.py:558\u001b[0m, in \u001b[0;36mEvent.wait\u001b[0;34m(self, timeout)\u001b[0m\n\u001b[1;32m    556\u001b[0m signaled \u001b[38;5;241m=\u001b[39m \u001b[38;5;28mself\u001b[39m\u001b[38;5;241m.\u001b[39m_flag\n\u001b[1;32m    557\u001b[0m \u001b[38;5;28;01mif\u001b[39;00m \u001b[38;5;129;01mnot\u001b[39;00m signaled:\n\u001b[0;32m--> 558\u001b[0m     signaled \u001b[38;5;241m=\u001b[39m \u001b[38;5;28;43mself\u001b[39;49m\u001b[38;5;241;43m.\u001b[39;49m\u001b[43m_cond\u001b[49m\u001b[38;5;241;43m.\u001b[39;49m\u001b[43mwait\u001b[49m\u001b[43m(\u001b[49m\u001b[43mtimeout\u001b[49m\u001b[43m)\u001b[49m\n\u001b[1;32m    559\u001b[0m \u001b[38;5;28;01mreturn\u001b[39;00m signaled\n",
      "File \u001b[0;32m~/miniconda3/envs/cv38/lib/python3.8/threading.py:302\u001b[0m, in \u001b[0;36mCondition.wait\u001b[0;34m(self, timeout)\u001b[0m\n\u001b[1;32m    300\u001b[0m \u001b[38;5;28;01mtry\u001b[39;00m:    \u001b[38;5;66;03m# restore state no matter what (e.g., KeyboardInterrupt)\u001b[39;00m\n\u001b[1;32m    301\u001b[0m     \u001b[38;5;28;01mif\u001b[39;00m timeout \u001b[38;5;129;01mis\u001b[39;00m \u001b[38;5;28;01mNone\u001b[39;00m:\n\u001b[0;32m--> 302\u001b[0m         \u001b[43mwaiter\u001b[49m\u001b[38;5;241;43m.\u001b[39;49m\u001b[43macquire\u001b[49m\u001b[43m(\u001b[49m\u001b[43m)\u001b[49m\n\u001b[1;32m    303\u001b[0m         gotit \u001b[38;5;241m=\u001b[39m \u001b[38;5;28;01mTrue\u001b[39;00m\n\u001b[1;32m    304\u001b[0m     \u001b[38;5;28;01melse\u001b[39;00m:\n",
      "\u001b[0;31mKeyboardInterrupt\u001b[0m: "
     ]
    },
    {
     "name": "stderr",
     "output_type": "stream",
     "text": [
      "  File \"/home/hristo/miniconda3/envs/cv38/lib/python3.8/multiprocessing/process.py\", line 315, in _bootstrap\n",
      "    self.run()\n",
      "  File \"/home/hristo/miniconda3/envs/cv38/lib/python3.8/multiprocessing/process.py\", line 315, in _bootstrap\n",
      "    self.run()\n",
      "  File \"/home/hristo/miniconda3/envs/cv38/lib/python3.8/multiprocessing/process.py\", line 108, in run\n",
      "    self._target(*self._args, **self._kwargs)\n",
      "  File \"/home/hristo/miniconda3/envs/cv38/lib/python3.8/multiprocessing/process.py\", line 108, in run\n",
      "    self._target(*self._args, **self._kwargs)\n",
      "  File \"/home/hristo/miniconda3/envs/cv38/lib/python3.8/multiprocessing/pool.py\", line 114, in worker\n",
      "    task = get()\n",
      "Traceback (most recent call last):\n",
      "Traceback (most recent call last):\n",
      "  File \"/home/hristo/miniconda3/envs/cv38/lib/python3.8/multiprocessing/process.py\", line 108, in run\n",
      "    self._target(*self._args, **self._kwargs)\n",
      "  File \"/home/hristo/miniconda3/envs/cv38/lib/python3.8/multiprocessing/process.py\", line 108, in run\n",
      "    self._target(*self._args, **self._kwargs)\n",
      "  File \"/home/hristo/miniconda3/envs/cv38/lib/python3.8/multiprocessing/process.py\", line 315, in _bootstrap\n",
      "    self.run()\n",
      "  File \"/home/hristo/miniconda3/envs/cv38/lib/python3.8/multiprocessing/queues.py\", line 355, in get\n",
      "    with self._rlock:\n",
      "  File \"/home/hristo/miniconda3/envs/cv38/lib/python3.8/multiprocessing/pool.py\", line 114, in worker\n",
      "    task = get()\n",
      "  File \"/home/hristo/miniconda3/envs/cv38/lib/python3.8/multiprocessing/process.py\", line 108, in run\n",
      "    self._target(*self._args, **self._kwargs)\n",
      "  File \"/home/hristo/miniconda3/envs/cv38/lib/python3.8/multiprocessing/pool.py\", line 114, in worker\n",
      "    task = get()\n",
      "  File \"/home/hristo/miniconda3/envs/cv38/lib/python3.8/multiprocessing/pool.py\", line 114, in worker\n",
      "    task = get()\n",
      "  File \"/home/hristo/miniconda3/envs/cv38/lib/python3.8/multiprocessing/process.py\", line 108, in run\n",
      "    self._target(*self._args, **self._kwargs)\n",
      "  File \"/home/hristo/miniconda3/envs/cv38/lib/python3.8/multiprocessing/process.py\", line 315, in _bootstrap\n",
      "    self.run()\n",
      "  File \"/home/hristo/miniconda3/envs/cv38/lib/python3.8/multiprocessing/pool.py\", line 114, in worker\n",
      "    task = get()\n",
      "  File \"/home/hristo/miniconda3/envs/cv38/lib/python3.8/multiprocessing/queues.py\", line 355, in get\n",
      "    with self._rlock:\n",
      "  File \"/home/hristo/miniconda3/envs/cv38/lib/python3.8/multiprocessing/queues.py\", line 355, in get\n",
      "    with self._rlock:\n",
      "  File \"/home/hristo/miniconda3/envs/cv38/lib/python3.8/multiprocessing/process.py\", line 108, in run\n",
      "    self._target(*self._args, **self._kwargs)\n",
      "  File \"/home/hristo/miniconda3/envs/cv38/lib/python3.8/multiprocessing/queues.py\", line 355, in get\n",
      "    with self._rlock:\n",
      "  File \"/home/hristo/miniconda3/envs/cv38/lib/python3.8/multiprocessing/queues.py\", line 355, in get\n",
      "    with self._rlock:\n",
      "  File \"/home/hristo/miniconda3/envs/cv38/lib/python3.8/multiprocessing/pool.py\", line 114, in worker\n",
      "    task = get()\n",
      "  File \"/home/hristo/miniconda3/envs/cv38/lib/python3.8/multiprocessing/pool.py\", line 114, in worker\n",
      "    task = get()\n",
      "  File \"/home/hristo/miniconda3/envs/cv38/lib/python3.8/multiprocessing/synchronize.py\", line 95, in __enter__\n",
      "    return self._semlock.__enter__()\n",
      "  File \"/home/hristo/miniconda3/envs/cv38/lib/python3.8/multiprocessing/synchronize.py\", line 95, in __enter__\n",
      "    return self._semlock.__enter__()\n",
      "  File \"/home/hristo/miniconda3/envs/cv38/lib/python3.8/multiprocessing/synchronize.py\", line 95, in __enter__\n",
      "    return self._semlock.__enter__()\n",
      "  File \"/home/hristo/miniconda3/envs/cv38/lib/python3.8/multiprocessing/queues.py\", line 355, in get\n",
      "    with self._rlock:\n",
      "KeyboardInterrupt\n",
      "KeyboardInterrupt\n",
      "KeyboardInterrupt\n",
      "  File \"/home/hristo/miniconda3/envs/cv38/lib/python3.8/multiprocessing/synchronize.py\", line 95, in __enter__\n",
      "    return self._semlock.__enter__()\n",
      "  File \"/home/hristo/miniconda3/envs/cv38/lib/python3.8/multiprocessing/synchronize.py\", line 95, in __enter__\n",
      "    return self._semlock.__enter__()\n",
      "  File \"/home/hristo/miniconda3/envs/cv38/lib/python3.8/multiprocessing/queues.py\", line 355, in get\n",
      "    with self._rlock:\n",
      "  File \"/home/hristo/miniconda3/envs/cv38/lib/python3.8/multiprocessing/synchronize.py\", line 95, in __enter__\n",
      "    return self._semlock.__enter__()\n",
      "KeyboardInterrupt\n",
      "  File \"/home/hristo/miniconda3/envs/cv38/lib/python3.8/multiprocessing/synchronize.py\", line 95, in __enter__\n",
      "    return self._semlock.__enter__()\n",
      "KeyboardInterrupt\n",
      "KeyboardInterrupt\n",
      "KeyboardInterrupt\n",
      "  File \"/home/hristo/miniconda3/envs/cv38/lib/python3.8/multiprocessing/pool.py\", line 114, in worker\n",
      "    task = get()\n",
      "  File \"/home/hristo/miniconda3/envs/cv38/lib/python3.8/multiprocessing/queues.py\", line 356, in get\n",
      "    res = self._reader.recv_bytes()\n",
      "  File \"/home/hristo/miniconda3/envs/cv38/lib/python3.8/multiprocessing/connection.py\", line 216, in recv_bytes\n",
      "    buf = self._recv_bytes(maxlength)\n",
      "  File \"/home/hristo/miniconda3/envs/cv38/lib/python3.8/multiprocessing/connection.py\", line 414, in _recv_bytes\n",
      "    buf = self._recv(4)\n",
      "  File \"/home/hristo/miniconda3/envs/cv38/lib/python3.8/multiprocessing/connection.py\", line 379, in _recv\n",
      "    chunk = read(handle, remaining)\n",
      "KeyboardInterrupt\n"
     ]
    }
   ],
   "source": [
    "def play_poker(env):\n",
    "    erm = ParallelEpisodeReplayMemory(gamma=0.99, lamda=1.0)\n",
    "    episode_id = uuid4()\n",
    "    state, reward, done, _ = env.reset()\n",
    "    state = to_basic_nn_input(state)\n",
    "    while not done:\n",
    "        prev_state = state\n",
    "        legal_moves = [m._value_ for m in env.game.get_legal_actions()]\n",
    "        with torch.no_grad():\n",
    "            probs = policy(state, [legal_moves])\n",
    "            chosen_move = np.random.choice(range(0,5), p=probs[0].detach().numpy())\n",
    "        state, reward, done, _ = env.step(chosen_move)\n",
    "        state = to_basic_nn_input(state)\n",
    "        erm.append({'state': [state], \n",
    "                    'prev_state': [prev_state], \n",
    "                    'reward': reward,\n",
    "                    'done': bool(done),\n",
    "                    'chosen_move': chosen_move,\n",
    "                    'prob_move': probs[0][chosen_move],\n",
    "                    'episode_id': episode_id})\n",
    "    return erm.data\n",
    "\n",
    "multiprocessing.cpu_count()\n",
    "threads = 8\n",
    "\n",
    "remaining_episodes = num_episodes\n",
    "all_games = []\n",
    "batch_size = 2000\n",
    "while remaining_episodes > 0:\n",
    "    print(remaining_episodes)\n",
    "    pool = multiprocessing.Pool(processes=threads)\n",
    "    environments = [PokerEnv(opponent_choose_move = choose_move_randomly) for _ in range(threads)]\n",
    "    games = pool.map(play_poker, environments)\n",
    "    all_games.append(games)\n",
    "    if sum([len(game) for game in all_games]) >= batch_size:\n",
    "        remaining_episodes -= batch_size\n",
    "        sample = pd.concat(all_games)\n",
    "        all_games = []\n",
    "        \n",
    "        \n",
    "        # fit value function\n",
    "        optimizer_value.zero_grad()\n",
    "        baseline_estimates = value(sample['prev_state'])[:,0]\n",
    "        loss_value = F.smooth_l1_loss(baseline_estimates, sample['discounted_rewards'][0])\n",
    "        loss_value.backward()\n",
    "        optimizer_value.step()\n",
    "        losses_value.append(loss_value.item())\n",
    "\n",
    "        # fit policy function\n",
    "        optimizer_policy.zero_grad()\n",
    "        probs = policy(sample['prev_state'])\n",
    "        moves = sample['chosen_move']\n",
    "        normalized_rewards = sample['discounted_rewards'][0] - baseline_estimates.detach()\n",
    "        loss_policy = -(torch.log(probs[range(episode_len),moves.long()])*normalized_rewards).sum()/episode_len\n",
    "        loss_policy.backward()\n",
    "        losses_policy.append(loss_policy.item())\n",
    "        optimizer_policy.step()"
   ]
  },
  {
   "cell_type": "code",
   "execution_count": 9,
   "metadata": {},
   "outputs": [
    {
     "data": {
      "text/plain": [
       "1000000"
      ]
     },
     "execution_count": 9,
     "metadata": {},
     "output_type": "execute_result"
    }
   ],
   "source": [
    "remaining_episodes"
   ]
  },
  {
   "cell_type": "code",
   "execution_count": 63,
   "metadata": {},
   "outputs": [
    {
     "data": {
      "text/plain": [
       "[]"
      ]
     },
     "execution_count": 63,
     "metadata": {},
     "output_type": "execute_result"
    }
   ],
   "source": [
    "erm"
   ]
  },
  {
   "cell_type": "code",
   "execution_count": 54,
   "metadata": {},
   "outputs": [
    {
     "data": {
      "text/plain": [
       "[]"
      ]
     },
     "execution_count": 54,
     "metadata": {},
     "output_type": "execute_result"
    }
   ],
   "source": [
    "erm.data"
   ]
  },
  {
   "cell_type": "code",
   "execution_count": 12,
   "metadata": {},
   "outputs": [
    {
     "data": {
      "text/plain": [
       "State(hand=['DQ', 'C9'], public_cards=[], player_chips=2, opponent_chips=97, player_chips_remaining=101, opponent_chips_remaining=0, stage=0, legal_actions=[0, 1, 3, 4])"
      ]
     },
     "execution_count": 12,
     "metadata": {},
     "output_type": "execute_result"
    }
   ],
   "source": [
    "state"
   ]
  },
  {
   "cell_type": "code",
   "execution_count": 29,
   "metadata": {},
   "outputs": [],
   "source": [
    "legal_moves = [m._value_ for m in env.game.get_legal_actions()]"
   ]
  },
  {
   "cell_type": "code",
   "execution_count": 30,
   "metadata": {},
   "outputs": [
    {
     "data": {
      "text/plain": [
       "[0, 1]"
      ]
     },
     "execution_count": 30,
     "metadata": {},
     "output_type": "execute_result"
    }
   ],
   "source": [
    "legal_moves"
   ]
  },
  {
   "cell_type": "code",
   "execution_count": 28,
   "metadata": {},
   "outputs": [
    {
     "data": {
      "text/plain": [
       "0"
      ]
     },
     "execution_count": 28,
     "metadata": {},
     "output_type": "execute_result"
    }
   ],
   "source": [
    "legal_moves[0]._value_"
   ]
  },
  {
   "cell_type": "code",
   "execution_count": null,
   "metadata": {},
   "outputs": [],
   "source": []
  },
  {
   "cell_type": "code",
   "execution_count": 13,
   "metadata": {},
   "outputs": [
    {
     "data": {
      "application/vnd.jupyter.widget-view+json": {
       "model_id": "3241900d77cb4fefa1884531d360565c",
       "version_major": 2,
       "version_minor": 0
      },
      "text/plain": [
       "  0%|          | 0/5 [00:00<?, ?it/s]"
      ]
     },
     "metadata": {},
     "output_type": "display_data"
    },
    {
     "name": "stdout",
     "output_type": "stream",
     "text": [
      "[<Action.FOLD: 0>, <Action.CHECK_CALL: 1>, <Action.RAISE_POT: 3>, <Action.ALL_IN: 4>]\n",
      "[<Action.FOLD: 0>, <Action.CHECK_CALL: 1>, <Action.RAISE_POT: 3>, <Action.ALL_IN: 4>]\n",
      "[<Action.FOLD: 0>, <Action.CHECK_CALL: 1>]\n"
     ]
    },
    {
     "name": "stderr",
     "output_type": "stream",
     "text": [
      "/home/hristo/Delta-academy/3.2 Poker (version 2)/utils.py:23: FutureWarning: In a future version, object-dtype columns with all-bool values will not be included in reductions with bool_only=True. Explicitly cast to bool dtype instead.\n",
      "  self.current_episode = pd.concat([self.current_episode, new_row])\n",
      "/home/hristo/Delta-academy/3.2 Poker (version 2)/utils.py:23: FutureWarning: In a future version, object-dtype columns with all-bool values will not be included in reductions with bool_only=True. Explicitly cast to bool dtype instead.\n",
      "  self.current_episode = pd.concat([self.current_episode, new_row])\n",
      "/home/hristo/Delta-academy/3.2 Poker (version 2)/utils.py:35: FutureWarning: In a future version, object-dtype columns with all-bool values will not be included in reductions with bool_only=True. Explicitly cast to bool dtype instead.\n",
      "  self.data  = pd.concat([self.data, self.current_episode])\n"
     ]
    },
    {
     "ename": "AssertionError",
     "evalue": "4 is an illegal move",
     "output_type": "error",
     "traceback": [
      "\u001b[0;31m---------------------------------------------------------------------------\u001b[0m",
      "\u001b[0;31mAssertionError\u001b[0m                            Traceback (most recent call last)",
      "Cell \u001b[0;32mIn [13], line 12\u001b[0m\n\u001b[1;32m     10\u001b[0m     chosen_move \u001b[38;5;241m=\u001b[39m \u001b[38;5;241m4\u001b[39m \u001b[38;5;66;03m#np.random.choice(range(0,5), p=probs.detach().numpy())\u001b[39;00m\n\u001b[1;32m     11\u001b[0m \u001b[38;5;28mprint\u001b[39m(env\u001b[38;5;241m.\u001b[39mgame\u001b[38;5;241m.\u001b[39mget_legal_actions())\n\u001b[0;32m---> 12\u001b[0m state, reward, done, _ \u001b[38;5;241m=\u001b[39m \u001b[43menv\u001b[49m\u001b[38;5;241;43m.\u001b[39;49m\u001b[43mstep\u001b[49m\u001b[43m(\u001b[49m\u001b[43mchosen_move\u001b[49m\u001b[43m)\u001b[49m\n\u001b[1;32m     13\u001b[0m state \u001b[38;5;241m=\u001b[39m to_basic_nn_input(state)\n\u001b[1;32m     14\u001b[0m erm\u001b[38;5;241m.\u001b[39mappend({\u001b[38;5;124m'\u001b[39m\u001b[38;5;124mstate\u001b[39m\u001b[38;5;124m'\u001b[39m: [state], \n\u001b[1;32m     15\u001b[0m             \u001b[38;5;124m'\u001b[39m\u001b[38;5;124mprev_state\u001b[39m\u001b[38;5;124m'\u001b[39m: [prev_state], \n\u001b[1;32m     16\u001b[0m             \u001b[38;5;124m'\u001b[39m\u001b[38;5;124mreward\u001b[39m\u001b[38;5;124m'\u001b[39m: reward,\n\u001b[1;32m     17\u001b[0m             \u001b[38;5;124m'\u001b[39m\u001b[38;5;124mdone\u001b[39m\u001b[38;5;124m'\u001b[39m: done,\n\u001b[1;32m     18\u001b[0m             \u001b[38;5;124m'\u001b[39m\u001b[38;5;124mchosen_move\u001b[39m\u001b[38;5;124m'\u001b[39m: chosen_move,\n\u001b[1;32m     19\u001b[0m             \u001b[38;5;124m'\u001b[39m\u001b[38;5;124mprob_left\u001b[39m\u001b[38;5;124m'\u001b[39m: probs[chosen_move]})\n",
      "File \u001b[0;32m~/Delta-academy/3.2 Poker (version 2)/game_mechanics/poker_env.py:202\u001b[0m, in \u001b[0;36mPokerEnv.step\u001b[0;34m(self, move)\u001b[0m\n\u001b[1;32m    199\u001b[0m \u001b[38;5;28;01mdef\u001b[39;00m \u001b[38;5;21mstep\u001b[39m(\u001b[38;5;28mself\u001b[39m, move: \u001b[38;5;28mint\u001b[39m) \u001b[38;5;241m-\u001b[39m\u001b[38;5;241m>\u001b[39m Tuple[State, \u001b[38;5;28mfloat\u001b[39m, \u001b[38;5;28mbool\u001b[39m, Dict]:\n\u001b[1;32m    200\u001b[0m     \u001b[38;5;28;01massert\u001b[39;00m \u001b[38;5;28mself\u001b[39m\u001b[38;5;241m.\u001b[39mturn \u001b[38;5;241m==\u001b[39m \u001b[38;5;241m0\u001b[39m, \u001b[38;5;124m\"\u001b[39m\u001b[38;5;124mNot your turn to move! This is an internal error, please report it.\u001b[39m\u001b[38;5;124m\"\u001b[39m\n\u001b[0;32m--> 202\u001b[0m     \u001b[38;5;28;43mself\u001b[39;49m\u001b[38;5;241;43m.\u001b[39;49m\u001b[43m_step\u001b[49m\u001b[43m(\u001b[49m\u001b[43mmove\u001b[49m\u001b[43m)\u001b[49m\n\u001b[1;32m    204\u001b[0m     \u001b[38;5;28;01mwhile\u001b[39;00m \u001b[38;5;28mself\u001b[39m\u001b[38;5;241m.\u001b[39mturn \u001b[38;5;241m==\u001b[39m \u001b[38;5;241m1\u001b[39m \u001b[38;5;129;01mand\u001b[39;00m \u001b[38;5;129;01mnot\u001b[39;00m \u001b[38;5;28mself\u001b[39m\u001b[38;5;241m.\u001b[39mhand_done:\n\u001b[1;32m    205\u001b[0m         \u001b[38;5;28mself\u001b[39m\u001b[38;5;241m.\u001b[39m_step(\n\u001b[1;32m    206\u001b[0m             \u001b[38;5;28mself\u001b[39m\u001b[38;5;241m.\u001b[39mopponent_choose_move(state\u001b[38;5;241m=\u001b[39m\u001b[38;5;28mself\u001b[39m\u001b[38;5;241m.\u001b[39mopponent_state),\n\u001b[1;32m    207\u001b[0m         )\n",
      "File \u001b[0;32m~/Delta-academy/3.2 Poker (version 2)/game_mechanics/poker_env.py:186\u001b[0m, in \u001b[0;36mPokerEnv._step\u001b[0;34m(self, move)\u001b[0m\n\u001b[1;32m    184\u001b[0m \u001b[38;5;28;01massert\u001b[39;00m \u001b[38;5;28mself\u001b[39m\u001b[38;5;241m.\u001b[39menv_reset, \u001b[38;5;124m\"\u001b[39m\u001b[38;5;124mYou need reset the environment before taking your first step!\u001b[39m\u001b[38;5;124m\"\u001b[39m\n\u001b[1;32m    185\u001b[0m \u001b[38;5;28;01massert\u001b[39;00m \u001b[38;5;129;01mnot\u001b[39;00m \u001b[38;5;28mself\u001b[39m\u001b[38;5;241m.\u001b[39mdone, \u001b[38;5;124m\"\u001b[39m\u001b[38;5;124mGame is done! Please reset() the env before calling step() again\u001b[39m\u001b[38;5;124m\"\u001b[39m\n\u001b[0;32m--> 186\u001b[0m \u001b[38;5;28;01massert\u001b[39;00m move \u001b[38;5;129;01min\u001b[39;00m \u001b[38;5;28mself\u001b[39m\u001b[38;5;241m.\u001b[39mlegal_moves, \u001b[38;5;124mf\u001b[39m\u001b[38;5;124m\"\u001b[39m\u001b[38;5;132;01m{\u001b[39;00mmove\u001b[38;5;132;01m}\u001b[39;00m\u001b[38;5;124m is an illegal move\u001b[39m\u001b[38;5;124m\"\u001b[39m\n\u001b[1;32m    188\u001b[0m \u001b[38;5;28mself\u001b[39m\u001b[38;5;241m.\u001b[39mupdate_most_recent_move(move)\n\u001b[1;32m    190\u001b[0m \u001b[38;5;28;01mif\u001b[39;00m \u001b[38;5;28mself\u001b[39m\u001b[38;5;241m.\u001b[39mverbose:\n",
      "\u001b[0;31mAssertionError\u001b[0m: 4 is an illegal move"
     ]
    }
   ],
   "source": [
    "num_episodes = 5\n",
    "for ep_num in tqdm(range(num_episodes)):\n",
    "    num_steps = 0\n",
    "    state, reward, done, _ = env.reset()\n",
    "    state = to_basic_nn_input(state)\n",
    "    while not done:\n",
    "        prev_state = state\n",
    "        legal_moves = [m._value_ for m in env.game.get_legal_actions()]\n",
    "        with torch.no_grad():\n",
    "            probs = policy(state)\n",
    "            chosen_move = 4 #np.random.choice(range(0,5), p=probs.detach().numpy())\n",
    "        state, reward, done, _ = env.step(chosen_move)\n",
    "        state = to_basic_nn_input(state)\n",
    "        erm.append({'state': [state], \n",
    "                    'prev_state': [prev_state], \n",
    "                    'reward': reward,\n",
    "                    'done': done,\n",
    "                    'chosen_move': chosen_move,\n",
    "                    'prob_left': probs[chosen_move]})"
   ]
  },
  {
   "cell_type": "code",
   "execution_count": 34,
   "metadata": {},
   "outputs": [
    {
     "data": {
      "text/plain": [
       "5"
      ]
     },
     "execution_count": 34,
     "metadata": {},
     "output_type": "execute_result"
    }
   ],
   "source": [
    "num_episodes"
   ]
  },
  {
   "cell_type": "code",
   "execution_count": 37,
   "metadata": {},
   "outputs": [
    {
     "data": {
      "text/plain": [
       "tensor([ 0.0000,  0.0000,  0.0000,  0.0000,  0.0000,  0.0000,  0.0000,  0.0000,\n",
       "         0.0000,  0.0000,  0.0000,  0.0000,  0.0000,  0.0000,  0.0000,  0.0000,\n",
       "         1.0000,  0.0000,  0.0000,  0.0000,  0.0000,  0.0000,  0.0000,  0.0000,\n",
       "         0.0000,  0.0000,  0.0000,  0.0000,  0.0000,  0.0000,  0.0000,  0.0000,\n",
       "         0.0000,  0.0000,  0.0000,  0.0000,  0.0000,  0.0000,  0.0000,  0.0000,\n",
       "         0.0000,  0.0000,  0.0000,  0.0000,  1.0000,  0.0000,  0.0000,  0.0000,\n",
       "         0.0000,  0.0000,  0.0000,  0.0000, -0.9800, -0.9600, -0.0200])"
      ]
     },
     "execution_count": 37,
     "metadata": {},
     "output_type": "execute_result"
    }
   ],
   "source": [
    "to_basic_nn_input(state)"
   ]
  },
  {
   "cell_type": "code",
   "execution_count": 35,
   "metadata": {},
   "outputs": [
    {
     "data": {
      "text/plain": [
       "State(hand=['S7', 'D5'], public_cards=[], player_chips=2, opponent_chips=4, player_chips_remaining=98, opponent_chips_remaining=96, stage=0, legal_actions=[0, 1, 2, 3, 4])"
      ]
     },
     "execution_count": 35,
     "metadata": {},
     "output_type": "execute_result"
    }
   ],
   "source": [
    "state"
   ]
  },
  {
   "cell_type": "code",
   "execution_count": 16,
   "metadata": {},
   "outputs": [],
   "source": [
    "env.game.configure?"
   ]
  },
  {
   "cell_type": "code",
   "execution_count": 12,
   "metadata": {},
   "outputs": [
    {
     "ename": "FileNotFoundError",
     "evalue": "[Errno 2] No such file or directory: 'C:\\\\Windows\\\\Fonts\\\\arial-narrow.ttf'",
     "output_type": "error",
     "traceback": [
      "\u001b[1;31m---------------------------------------------------------------------------\u001b[0m",
      "\u001b[1;31mFileNotFoundError\u001b[0m                         Traceback (most recent call last)",
      "Input \u001b[1;32mIn [12]\u001b[0m, in \u001b[0;36m<cell line: 1>\u001b[1;34m()\u001b[0m\n\u001b[1;32m----> 1\u001b[0m \u001b[43mplay_poker\u001b[49m\u001b[43m(\u001b[49m\u001b[43mhuman_player\u001b[49m\u001b[43m,\u001b[49m\u001b[43m \u001b[49m\u001b[43mchoose_move_randomly\u001b[49m\u001b[43m)\u001b[49m\n",
      "File \u001b[1;32m~\\Desktop\\hristo\\Documents\\Delta academy\\3.2 Poker (version 2)\\game_mechanics\\play_poker.py:19\u001b[0m, in \u001b[0;36mplay_poker\u001b[1;34m(your_choose_move, opponent_choose_move, game_speed_multiplier, render, verbose)\u001b[0m\n\u001b[0;32m      7\u001b[0m \u001b[38;5;28;01mdef\u001b[39;00m \u001b[38;5;21mplay_poker\u001b[39m(\n\u001b[0;32m      8\u001b[0m     your_choose_move: Callable,\n\u001b[0;32m      9\u001b[0m     opponent_choose_move: Callable,\n\u001b[1;32m   (...)\u001b[0m\n\u001b[0;32m     12\u001b[0m     verbose: \u001b[38;5;28mbool\u001b[39m \u001b[38;5;241m=\u001b[39m \u001b[38;5;28;01mFalse\u001b[39;00m,\n\u001b[0;32m     13\u001b[0m ) \u001b[38;5;241m-\u001b[39m\u001b[38;5;241m>\u001b[39m \u001b[38;5;28;01mNone\u001b[39;00m:\n\u001b[0;32m     15\u001b[0m     \u001b[38;5;28;01massert\u001b[39;00m (\n\u001b[0;32m     16\u001b[0m         opponent_choose_move \u001b[38;5;241m!=\u001b[39m human_player\n\u001b[0;32m     17\u001b[0m     ), \u001b[38;5;124m\"\u001b[39m\u001b[38;5;124mSet your_choose_move to human_player not opponent_choose_move\u001b[39m\u001b[38;5;124m\"\u001b[39m\n\u001b[1;32m---> 19\u001b[0m     env \u001b[38;5;241m=\u001b[39m \u001b[43mPokerEnv\u001b[49m\u001b[43m(\u001b[49m\n\u001b[0;32m     20\u001b[0m \u001b[43m        \u001b[49m\u001b[43mopponent_choose_move\u001b[49m\u001b[43m,\u001b[49m\n\u001b[0;32m     21\u001b[0m \u001b[43m        \u001b[49m\u001b[43mverbose\u001b[49m\u001b[38;5;241;43m=\u001b[39;49m\u001b[43mverbose\u001b[49m\u001b[43m,\u001b[49m\n\u001b[0;32m     22\u001b[0m \u001b[43m        \u001b[49m\u001b[43mrender\u001b[49m\u001b[38;5;241;43m=\u001b[39;49m\u001b[43mrender\u001b[49m\u001b[43m,\u001b[49m\n\u001b[0;32m     23\u001b[0m \u001b[43m        \u001b[49m\u001b[43mgame_speed_multiplier\u001b[49m\u001b[38;5;241;43m=\u001b[39;49m\u001b[43mgame_speed_multiplier\u001b[49m\u001b[43m,\u001b[49m\n\u001b[0;32m     24\u001b[0m \u001b[43m    \u001b[49m\u001b[43m)\u001b[49m\n\u001b[0;32m     26\u001b[0m     state, reward, done, info \u001b[38;5;241m=\u001b[39m env\u001b[38;5;241m.\u001b[39mreset()\n\u001b[0;32m     27\u001b[0m     \u001b[38;5;28;01mwhile\u001b[39;00m \u001b[38;5;129;01mnot\u001b[39;00m done:\n",
      "File \u001b[1;32m~\\Desktop\\hristo\\Documents\\Delta academy\\3.2 Poker (version 2)\\game_mechanics\\poker_env.py:56\u001b[0m, in \u001b[0;36mPokerEnv.__init__\u001b[1;34m(self, opponent_choose_move, verbose, render, game_speed_multiplier)\u001b[0m\n\u001b[0;32m     54\u001b[0m \u001b[38;5;28;01mif\u001b[39;00m render:\n\u001b[0;32m     55\u001b[0m     pygame\u001b[38;5;241m.\u001b[39minit()\n\u001b[1;32m---> 56\u001b[0m     \u001b[38;5;28mself\u001b[39m\u001b[38;5;241m.\u001b[39m_font \u001b[38;5;241m=\u001b[39m \u001b[43mpygame\u001b[49m\u001b[38;5;241;43m.\u001b[39;49m\u001b[43mfont\u001b[49m\u001b[38;5;241;43m.\u001b[39;49m\u001b[43mSysFont\u001b[49m\u001b[43m(\u001b[49m\u001b[38;5;124;43m\"\u001b[39;49m\u001b[38;5;124;43marial\u001b[39;49m\u001b[38;5;124;43m\"\u001b[39;49m\u001b[43m,\u001b[49m\u001b[43m \u001b[49m\u001b[38;5;241;43m18\u001b[39;49m\u001b[43m)\u001b[49m\n\u001b[0;32m     57\u001b[0m     \u001b[38;5;28mself\u001b[39m\u001b[38;5;241m.\u001b[39m_screen \u001b[38;5;241m=\u001b[39m get_screen()\n\u001b[0;32m     58\u001b[0m     \u001b[38;5;28mself\u001b[39m\u001b[38;5;241m.\u001b[39msubsurf \u001b[38;5;241m=\u001b[39m get_screen_subsurface(\u001b[38;5;28mself\u001b[39m\u001b[38;5;241m.\u001b[39m_screen)\n",
      "File \u001b[1;32m~\\Anaconda3\\lib\\site-packages\\pygame\\sysfont.py:474\u001b[0m, in \u001b[0;36mSysFont\u001b[1;34m(name, size, bold, italic, constructor)\u001b[0m\n\u001b[0;32m    471\u001b[0m \u001b[38;5;28;01mif\u001b[39;00m italic \u001b[38;5;129;01mand\u001b[39;00m \u001b[38;5;129;01mnot\u001b[39;00m gotitalic:\n\u001b[0;32m    472\u001b[0m     set_italic \u001b[38;5;241m=\u001b[39m \u001b[38;5;28;01mTrue\u001b[39;00m\n\u001b[1;32m--> 474\u001b[0m \u001b[38;5;28;01mreturn\u001b[39;00m \u001b[43mconstructor\u001b[49m\u001b[43m(\u001b[49m\u001b[43mfontname\u001b[49m\u001b[43m,\u001b[49m\u001b[43m \u001b[49m\u001b[43msize\u001b[49m\u001b[43m,\u001b[49m\u001b[43m \u001b[49m\u001b[43mset_bold\u001b[49m\u001b[43m,\u001b[49m\u001b[43m \u001b[49m\u001b[43mset_italic\u001b[49m\u001b[43m)\u001b[49m\n",
      "File \u001b[1;32m~\\Anaconda3\\lib\\site-packages\\pygame\\sysfont.py:391\u001b[0m, in \u001b[0;36mfont_constructor\u001b[1;34m(fontpath, size, bold, italic)\u001b[0m\n\u001b[0;32m    379\u001b[0m \u001b[38;5;28;01mdef\u001b[39;00m \u001b[38;5;21mfont_constructor\u001b[39m(fontpath, size, bold, italic):\n\u001b[0;32m    380\u001b[0m     \u001b[38;5;124;03m\"\"\"\u001b[39;00m\n\u001b[0;32m    381\u001b[0m \u001b[38;5;124;03m    pygame.font specific declarations\u001b[39;00m\n\u001b[0;32m    382\u001b[0m \n\u001b[1;32m   (...)\u001b[0m\n\u001b[0;32m    388\u001b[0m \u001b[38;5;124;03m    :return: A font.Font object.\u001b[39;00m\n\u001b[0;32m    389\u001b[0m \u001b[38;5;124;03m    \"\"\"\u001b[39;00m\n\u001b[1;32m--> 391\u001b[0m     font \u001b[38;5;241m=\u001b[39m \u001b[43mFont\u001b[49m\u001b[43m(\u001b[49m\u001b[43mfontpath\u001b[49m\u001b[43m,\u001b[49m\u001b[43m \u001b[49m\u001b[43msize\u001b[49m\u001b[43m)\u001b[49m\n\u001b[0;32m    392\u001b[0m     \u001b[38;5;28;01mif\u001b[39;00m bold:\n\u001b[0;32m    393\u001b[0m         font\u001b[38;5;241m.\u001b[39mset_bold(\u001b[38;5;28;01mTrue\u001b[39;00m)\n",
      "\u001b[1;31mFileNotFoundError\u001b[0m: [Errno 2] No such file or directory: 'C:\\\\Windows\\\\Fonts\\\\arial-narrow.ttf'"
     ]
    }
   ],
   "source": [
    "play_poker(human_player, choose_move_randomly)"
   ]
  },
  {
   "cell_type": "code",
   "execution_count": 10,
   "metadata": {},
   "outputs": [],
   "source": [
    "human_player?"
   ]
  }
 ],
 "metadata": {
  "kernelspec": {
   "display_name": "cv38",
   "language": "python",
   "name": "cv38"
  },
  "language_info": {
   "codemirror_mode": {
    "name": "ipython",
    "version": 3
   },
   "file_extension": ".py",
   "mimetype": "text/x-python",
   "name": "python",
   "nbconvert_exporter": "python",
   "pygments_lexer": "ipython3",
   "version": "3.8.10"
  }
 },
 "nbformat": 4,
 "nbformat_minor": 5
}

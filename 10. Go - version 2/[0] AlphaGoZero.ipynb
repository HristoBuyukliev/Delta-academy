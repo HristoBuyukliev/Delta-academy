{
 "cells": [
  {
   "cell_type": "code",
   "execution_count": 9,
   "id": "0cba7d21",
   "metadata": {},
   "outputs": [],
   "source": [
    "import torch\n",
    "import torch.nn as nn\n",
    "import torch.nn.functional as F\n",
    "import numpy as np\n",
    "\n",
    "import random\n",
    "from einops.layers.torch import Rearrange\n",
    "from einops import rearrange\n",
    "\n",
    "from typing import Any, Dict, Tuple, Optional\n",
    "from game_mechanics import (\n",
    "    State,\n",
    "    all_legal_moves,\n",
    "    choose_move_randomly,\n",
    "    human_player,\n",
    "    is_terminal,\n",
    "    load_pkl,\n",
    "    play_go,\n",
    "    reward_function,\n",
    "    save_pkl,\n",
    "    transition_function,\n",
    ")\n",
    "from tqdm.notebook import tqdm\n",
    "\n",
    "from functools import partial\n",
    "import pandas as pd\n",
    "from datetime import datetime\n",
    "import matplotlib.pyplot as plt\n",
    "import seaborn as sns\n",
    "sns.set()\n",
    "\n",
    "from architecture import *\n",
    "from configs.v0_PPO_MCTS import *\n",
    "\n",
    "# from utils import *\n",
    "%load_ext autoreload\n",
    "%autoreload 2"
   ]
  },
  {
   "cell_type": "code",
   "execution_count": 10,
   "id": "24454eee",
   "metadata": {},
   "outputs": [],
   "source": [
    "class UCTNode():\n",
    "    def __init__(self, game_state,\n",
    "                 move, parent=None):\n",
    "        self.game_state = game_state\n",
    "        self.move = move\n",
    "        self.is_expanded = False\n",
    "        self.parent = parent  # Optional[UCTNode]\n",
    "        self.children = {}  # Dict[move, UCTNode]\n",
    "        self.child_priors = np.zeros(\n",
    "            [81], dtype=np.float32)\n",
    "        self.child_total_value = np.zeros(\n",
    "            [81], dtype=np.float32)\n",
    "        self.child_number_visits = np.zeros(\n",
    "            [81], dtype=np.float32)\n",
    "        \n",
    "    @property\n",
    "    def number_visits(self):\n",
    "        return self.parent.child_number_visits[self.move]\n",
    "    \n",
    "    @number_visits.setter\n",
    "    def number_visits(self, value):\n",
    "        self.parent.child_number_visits = value\n",
    "        \n",
    "    @property\n",
    "    def total_value(self):\n",
    "        return self.parent.child_total_value[self.move]\n",
    "    \n",
    "    @total_value.setter\n",
    "    def total_value(self, value):\n",
    "        self.parent.child_total_value = value\n",
    "        \n",
    "    def child_Q(self):\n",
    "        return self.child_total_value / (1 + self.child_number_visit)\n",
    "    \n",
    "    def child_U(self):\n",
    "        return math.sqrt(self.number_visits) * (\n",
    "            self.child_priors / (1 + self.child_number_visits))\n",
    "    \n",
    "    def best_child(self):\n",
    "        return np.argmax(self.child_U() + self.child_Q())"
   ]
  },
  {
   "cell_type": "code",
   "execution_count": 12,
   "id": "f505b993",
   "metadata": {},
   "outputs": [],
   "source": [
    "env = GoEnv(choose_move_randomly)"
   ]
  },
  {
   "cell_type": "code",
   "execution_count": 13,
   "id": "fda5c40c",
   "metadata": {},
   "outputs": [],
   "source": [
    "state, reward, done, info = env.reset() "
   ]
  },
  {
   "cell_type": "code",
   "execution_count": 15,
   "id": "20d96b49",
   "metadata": {},
   "outputs": [
    {
     "data": {
      "text/plain": [
       "array([[0, 0, 0, 0, 0, 0, 0, 0, 0],\n",
       "       [0, 0, 0, 0, 0, 0, 0, 0, 0],\n",
       "       [0, 0, 0, 0, 0, 0, 0, 0, 0],\n",
       "       [0, 0, 0, 0, 0, 0, 0, 0, 0],\n",
       "       [0, 0, 0, 0, 0, 0, 0, 0, 0],\n",
       "       [0, 0, 0, 0, 0, 0, 0, 0, 0],\n",
       "       [0, 0, 0, 0, 0, 0, 0, 0, 0],\n",
       "       [0, 0, 0, 0, 0, 0, 0, 0, 0],\n",
       "       [0, 0, 0, 0, 0, 0, 0, 0, 0]], dtype=int8)"
      ]
     },
     "execution_count": 15,
     "metadata": {},
     "output_type": "execute_result"
    }
   ],
   "source": [
    "state.board"
   ]
  },
  {
   "cell_type": "code",
   "execution_count": 17,
   "id": "35be42d5",
   "metadata": {},
   "outputs": [
    {
     "data": {
      "text/plain": [
       "{'group_index': array([[-1, -1, -1, -1, -1, -1, -1, -1, -1],\n",
       "        [-1, -1, -1, -1, -1, -1, -1, -1, -1],\n",
       "        [-1, -1, -1, -1, -1, -1, -1, -1, -1],\n",
       "        [-1, -1, -1, -1, -1, -1, -1, -1, -1],\n",
       "        [-1, -1, -1, -1, -1, -1, -1, -1, -1],\n",
       "        [-1, -1, -1, -1, -1, -1, -1, -1, -1],\n",
       "        [-1, -1, -1, -1, -1, -1, -1, -1, -1],\n",
       "        [-1, -1, -1, -1, -1, -1, -1, -1, -1],\n",
       "        [-1, -1, -1, -1, -1, -1, -1, -1, -1]]),\n",
       " 'groups': {},\n",
       " 'liberty_cache': array([[0, 0, 0, 0, 0, 0, 0, 0, 0],\n",
       "        [0, 0, 0, 0, 0, 0, 0, 0, 0],\n",
       "        [0, 0, 0, 0, 0, 0, 0, 0, 0],\n",
       "        [0, 0, 0, 0, 0, 0, 0, 0, 0],\n",
       "        [0, 0, 0, 0, 0, 0, 0, 0, 0],\n",
       "        [0, 0, 0, 0, 0, 0, 0, 0, 0],\n",
       "        [0, 0, 0, 0, 0, 0, 0, 0, 0],\n",
       "        [0, 0, 0, 0, 0, 0, 0, 0, 0],\n",
       "        [0, 0, 0, 0, 0, 0, 0, 0, 0]], dtype=uint8),\n",
       " 'max_group_id': 0}"
      ]
     },
     "execution_count": 17,
     "metadata": {},
     "output_type": "execute_result"
    }
   ],
   "source": [
    "state.lib_tracker.__dict__"
   ]
  },
  {
   "cell_type": "code",
   "execution_count": 21,
   "id": "ce0a7a25",
   "metadata": {},
   "outputs": [
    {
     "data": {
      "text/plain": [
       "State(board=array([[0, 0, 0, 0, 0, 0, 0, 0, 0],\n",
       "       [0, 0, 0, 0, 0, 0, 0, 0, 0],\n",
       "       [0, 0, 0, 0, 0, 0, 0, 0, 0],\n",
       "       [0, 0, 0, 0, 0, 0, 0, 0, 0],\n",
       "       [0, 0, 0, 0, 0, 0, 0, 0, 0],\n",
       "       [0, 0, 0, 0, 0, 0, 0, 0, 0],\n",
       "       [0, 0, 0, 0, 0, 0, 0, 0, 0],\n",
       "       [0, 0, 0, 0, 0, 0, 0, 0, 0],\n",
       "       [0, 0, 0, 0, 0, 0, 0, 0, 0]], dtype=int8), recent_moves=(), to_play=1, ko=None, board_deltas=[], lib_tracker=<game_mechanics.liberty_tracker.LibertyTracker object at 0x00000149AEDDDCA0>)"
      ]
     },
     "execution_count": 21,
     "metadata": {},
     "output_type": "execute_result"
    }
   ],
   "source": [
    "state"
   ]
  },
  {
   "cell_type": "code",
   "execution_count": 43,
   "id": "593ad2dd",
   "metadata": {},
   "outputs": [],
   "source": [
    "legal_moves = all_legal_moves(state.board, state.ko)\n",
    "legal_moves = legal_moves[legal_moves != 81]"
   ]
  },
  {
   "cell_type": "code",
   "execution_count": 29,
   "id": "9201fdac",
   "metadata": {},
   "outputs": [],
   "source": [
    "state, reward, done, info = env.step(4)"
   ]
  },
  {
   "cell_type": "code",
   "execution_count": 30,
   "id": "3e5827e8",
   "metadata": {},
   "outputs": [
    {
     "data": {
      "text/plain": [
       "array([[ 0,  1,  0,  1,  1,  1,  0,  0,  0],\n",
       "       [-1,  0,  0,  0,  0,  0,  0,  0,  0],\n",
       "       [ 0,  0,  0,  0,  0,  0,  0,  0,  0],\n",
       "       [ 0,  0,  0,  0,  0,  0,  0,  0,  0],\n",
       "       [ 0,  0,  0,  0,  0,  0,  0,  0,  0],\n",
       "       [ 0,  0,  0, -1, -1,  0,  0,  0,  0],\n",
       "       [ 0,  0,  0,  0,  0,  0,  0,  0,  0],\n",
       "       [ 0,  0,  0, -1,  0,  0,  0,  0,  0],\n",
       "       [ 0,  0,  0,  0,  0,  0,  0,  0,  0]], dtype=int8)"
      ]
     },
     "execution_count": 30,
     "metadata": {},
     "output_type": "execute_result"
    }
   ],
   "source": [
    "state.board"
   ]
  },
  {
   "cell_type": "code",
   "execution_count": 31,
   "id": "8349c4de",
   "metadata": {},
   "outputs": [
    {
     "data": {
      "text/plain": [
       "{'group_index': array([[-1,  1, -1,  7,  7,  7, -1, -1, -1],\n",
       "        [ 2, -1, -1, -1, -1, -1, -1, -1, -1],\n",
       "        [-1, -1, -1, -1, -1, -1, -1, -1, -1],\n",
       "        [-1, -1, -1, -1, -1, -1, -1, -1, -1],\n",
       "        [-1, -1, -1, -1, -1, -1, -1, -1, -1],\n",
       "        [-1, -1, -1,  8,  8, -1, -1, -1, -1],\n",
       "        [-1, -1, -1, -1, -1, -1, -1, -1, -1],\n",
       "        [-1, -1, -1,  6, -1, -1, -1, -1, -1],\n",
       "        [-1, -1, -1, -1, -1, -1, -1, -1, -1]]),\n",
       " 'groups': {1: Group(id=1, stones=frozenset({(0, 1)}), liberties=frozenset({(0, 0), (1, 1), (0, 2)}), color=1),\n",
       "  2: Group(id=2, stones=frozenset({(1, 0)}), liberties=frozenset({(1, 1), (2, 0), (0, 0)}), color=-1),\n",
       "  6: Group(id=6, stones=frozenset({(7, 3)}), liberties=frozenset({(7, 4), (8, 3), (6, 3), (7, 2)}), color=-1),\n",
       "  7: Group(id=7, stones=frozenset({(0, 3), (0, 4), (0, 5)}), liberties=frozenset({(0, 2), (1, 5), (1, 3), (1, 4), (0, 6)}), color=1),\n",
       "  8: Group(id=8, stones=frozenset({(5, 3), (5, 4)}), liberties=frozenset({(4, 4), (5, 5), (4, 3), (6, 3), (6, 4), (5, 2)}), color=-1)},\n",
       " 'liberty_cache': array([[0, 3, 0, 5, 5, 5, 0, 0, 0],\n",
       "        [3, 0, 0, 0, 0, 0, 0, 0, 0],\n",
       "        [0, 0, 0, 0, 0, 0, 0, 0, 0],\n",
       "        [0, 0, 0, 0, 0, 0, 0, 0, 0],\n",
       "        [0, 0, 0, 0, 0, 0, 0, 0, 0],\n",
       "        [0, 0, 0, 6, 6, 0, 0, 0, 0],\n",
       "        [0, 0, 0, 0, 0, 0, 0, 0, 0],\n",
       "        [0, 0, 0, 4, 0, 0, 0, 0, 0],\n",
       "        [0, 0, 0, 0, 0, 0, 0, 0, 0]], dtype=uint8),\n",
       " 'max_group_id': 8}"
      ]
     },
     "execution_count": 31,
     "metadata": {},
     "output_type": "execute_result"
    }
   ],
   "source": [
    "state.lib_tracker.__dict__"
   ]
  },
  {
   "cell_type": "code",
   "execution_count": null,
   "id": "16181cc4",
   "metadata": {},
   "outputs": [],
   "source": [
    "n_states_sample = 800 # MCTS evaluations per move\n",
    "gamma = 1.0\n",
    "n_residual_blocks = 4\n",
    "block_width = 1000\n",
    "update_opponent_wr = 0.55\n",
    "num_steps = 1_000_000 # steps to update the network\n",
    "batch_size = 2000\n"
   ]
  },
  {
   "cell_type": "code",
   "execution_count": 37,
   "id": "b20baf49",
   "metadata": {},
   "outputs": [],
   "source": [
    "nn.BatchNorm2d?"
   ]
  },
  {
   "cell_type": "code",
   "execution_count": 83,
   "id": "d07eef0d",
   "metadata": {},
   "outputs": [],
   "source": []
  },
  {
   "cell_type": "code",
   "execution_count": 84,
   "id": "39f38ad2",
   "metadata": {},
   "outputs": [],
   "source": [
    "net = AlphaGoZeroBatch(n_residual_blocks=4, block_width=1000)"
   ]
  },
  {
   "cell_type": "code",
   "execution_count": 62,
   "id": "eb6315af",
   "metadata": {},
   "outputs": [
    {
     "data": {
      "text/plain": [
       "array([ 0,  2,  6,  7,  8, 10, 11, 12, 13, 14, 15, 16, 17, 18, 19, 20, 21,\n",
       "       22, 23, 24, 25, 26, 27, 28, 29, 30, 31, 32, 33, 34, 35, 36, 37, 38,\n",
       "       39, 40, 41, 42, 43, 44, 45, 46, 47, 50, 51, 52, 53, 54, 55, 56, 57,\n",
       "       58, 59, 60, 61, 62, 63, 64, 65, 67, 68, 69, 70, 71, 72, 73, 74, 75,\n",
       "       76, 77, 78, 79, 80, 81])"
      ]
     },
     "execution_count": 62,
     "metadata": {},
     "output_type": "execute_result"
    }
   ],
   "source": [
    "all_legal_moves(state.board, state.ko)"
   ]
  },
  {
   "cell_type": "code",
   "execution_count": 86,
   "id": "d8c00804",
   "metadata": {},
   "outputs": [],
   "source": [
    "def UCT_search(game_state, num_reads):\n",
    "    root = UCTNode(game_state)\n",
    "    for _ in range(num_reads):\n",
    "        leaf = root.select_leaf()\n",
    "        child_priors, value_estimate = NeuralNet.evaluate(leaf.game_state)\n",
    "        leaf.expand(child_priors)\n",
    "        leaf.backup(value_estimate)\n",
    "    return max(root.children.items(),\n",
    "               key=lambda item: item[1].number_visits)"
   ]
  },
  {
   "cell_type": "code",
   "execution_count": 66,
   "id": "78a8d00e",
   "metadata": {},
   "outputs": [],
   "source": [
    "def tensorize(state):\n",
    "    return torch.as_tensor(state.board, dtype=torch.float32)\n",
    "\n",
    "boards = []\n",
    "legal_moves = []\n",
    "state, reward, done, info = env.reset() \n",
    "for move in range(5):\n",
    "    state, reward, done, info = env.step(move)\n",
    "    \n",
    "    boards.append(tensorize(state))\n",
    "    legal_moves.append(all_legal_moves(state.board, state.ko))"
   ]
  },
  {
   "cell_type": "code",
   "execution_count": 69,
   "id": "ca7f757c",
   "metadata": {},
   "outputs": [],
   "source": [
    "boards = torch.stack(boards)"
   ]
  },
  {
   "cell_type": "code",
   "execution_count": 71,
   "id": "afe984ee",
   "metadata": {},
   "outputs": [
    {
     "data": {
      "text/plain": [
       "torch.Size([5, 9, 9])"
      ]
     },
     "execution_count": 71,
     "metadata": {},
     "output_type": "execute_result"
    }
   ],
   "source": [
    "boards.shape"
   ]
  },
  {
   "cell_type": "code",
   "execution_count": 85,
   "id": "cbee19c0",
   "metadata": {},
   "outputs": [
    {
     "data": {
      "text/plain": [
       "(tensor([[0.0000e+00, 1.7069e-02, 4.2378e-03, 2.8627e-03, 1.2309e-03, 1.1055e-03,\n",
       "          4.2781e-04, 5.9385e-02, 1.3311e-03, 4.3965e-03, 9.1464e-03, 1.4114e-02,\n",
       "          1.3187e-02, 1.2248e-03, 1.1151e-02, 2.4886e-02, 3.0666e-03, 1.2912e-03,\n",
       "          4.5420e-03, 2.1956e-03, 4.1933e-03, 5.6979e-03, 1.9598e-03, 3.8316e-03,\n",
       "          2.1236e-02, 5.1215e-03, 8.1335e-03, 3.6050e-03, 2.0207e-02, 1.3014e-03,\n",
       "          6.0377e-03, 8.7932e-04, 4.5097e-02, 4.6495e-02, 3.6479e-03, 4.9087e-04,\n",
       "          8.2803e-03, 3.1976e-03, 1.6818e-02, 3.6947e-03, 9.2572e-03, 9.1271e-04,\n",
       "          1.5196e-02, 1.7517e-03, 1.3186e-02, 4.6502e-03, 1.0345e-03, 3.2948e-03,\n",
       "          1.7118e-02, 6.5746e-03, 3.0423e-02, 7.7311e-02, 5.7950e-02, 2.5900e-03,\n",
       "          2.1337e-02, 0.0000e+00, 2.9044e-03, 1.3965e-01, 8.0718e-03, 8.9049e-03,\n",
       "          4.4472e-04, 4.5735e-03, 4.4404e-02, 2.9204e-03, 4.3449e-03, 4.3044e-03,\n",
       "          6.9560e-03, 1.5270e-02, 1.9981e-03, 3.5350e-03, 2.7919e-02, 4.3354e-03,\n",
       "          1.1827e-02, 4.5344e-03, 1.9963e-02, 2.9391e-04, 4.5981e-03, 5.0668e-03,\n",
       "          1.1249e-02, 9.7580e-04, 1.1593e-02, 0.0000e+00],\n",
       "         [0.0000e+00, 0.0000e+00, 1.2659e-03, 3.9064e-04, 1.3350e-03, 7.5094e-06,\n",
       "          4.0999e-04, 2.4283e-02, 1.0645e-03, 8.2620e-04, 1.5506e-03, 5.1453e-02,\n",
       "          1.4902e-02, 3.4579e-04, 4.9167e-03, 1.7821e-02, 1.5485e-03, 1.6629e-04,\n",
       "          2.7524e-03, 1.1465e-02, 7.2627e-03, 1.2477e-02, 1.1243e-02, 8.0247e-03,\n",
       "          2.2237e-02, 1.3907e-03, 2.1337e-02, 4.5350e-03, 0.0000e+00, 1.6583e-04,\n",
       "          2.3825e-03, 1.0264e-04, 8.8273e-03, 3.1080e-02, 3.5398e-04, 1.9020e-04,\n",
       "          3.2554e-04, 7.7648e-04, 3.5136e-02, 8.4352e-04, 9.7714e-03, 1.1073e-03,\n",
       "          9.5971e-03, 3.8089e-04, 3.2366e-02, 2.4593e-03, 1.1170e-03, 5.3244e-03,\n",
       "          6.4170e-03, 2.9794e-02, 8.7725e-03, 4.9079e-02, 1.3584e-02, 7.5617e-03,\n",
       "          2.0540e-03, 0.0000e+00, 1.2055e-03, 4.4381e-02, 3.0201e-03, 3.9031e-03,\n",
       "          1.0469e-03, 3.0225e-03, 3.7773e-02, 1.8169e-03, 1.1244e-03, 2.3191e-02,\n",
       "          1.3569e-02, 1.7395e-02, 6.8755e-04, 2.0328e-03, 1.2465e-01, 6.1416e-04,\n",
       "          9.7221e-03, 3.6334e-03, 1.1082e-01, 3.3856e-05, 3.2554e-03, 1.2791e-02,\n",
       "          3.5116e-03, 2.7137e-03, 8.9512e-02, 0.0000e+00],\n",
       "         [0.0000e+00, 0.0000e+00, 0.0000e+00, 4.1549e-04, 1.0795e-03, 1.2629e-06,\n",
       "          1.9478e-04, 2.0934e-02, 7.1448e-05, 0.0000e+00, 4.0568e-03, 1.0123e-01,\n",
       "          2.4370e-03, 3.9153e-04, 1.0274e-03, 4.7557e-04, 3.3218e-04, 1.0353e-04,\n",
       "          5.2444e-03, 8.1453e-03, 1.4120e-02, 7.2288e-04, 3.4760e-04, 1.1094e-02,\n",
       "          9.8780e-03, 9.9331e-04, 1.4858e-02, 9.4154e-03, 0.0000e+00, 6.8619e-04,\n",
       "          9.4470e-03, 2.3794e-04, 1.1642e-02, 5.0453e-03, 3.2042e-03, 1.3527e-05,\n",
       "          5.5329e-05, 2.6836e-03, 1.7861e-02, 7.9853e-05, 5.0942e-02, 7.0317e-04,\n",
       "          2.1013e-02, 8.2984e-04, 6.8349e-02, 4.7018e-05, 2.6210e-04, 3.8371e-03,\n",
       "          3.1224e-04, 1.9203e-03, 7.7186e-02, 2.3661e-02, 3.6120e-03, 5.7374e-03,\n",
       "          3.8098e-03, 0.0000e+00, 1.7376e-02, 9.0325e-03, 3.3651e-03, 4.7097e-04,\n",
       "          1.5966e-03, 2.8129e-03, 3.1266e-03, 2.9035e-03, 2.4716e-04, 5.9334e-02,\n",
       "          2.2044e-03, 1.6526e-01, 1.3236e-04, 2.9506e-04, 3.4522e-02, 1.7134e-03,\n",
       "          7.7007e-03, 2.0210e-04, 4.1825e-02, 2.3119e-05, 5.0756e-04, 5.4173e-04,\n",
       "          2.2435e-03, 2.7383e-04, 1.2154e-01, 0.0000e+00],\n",
       "         [0.0000e+00, 0.0000e+00, 0.0000e+00, 0.0000e+00, 2.4734e-03, 4.8323e-08,\n",
       "          5.9359e-06, 1.1897e-02, 2.4258e-05, 0.0000e+00, 6.0412e-04, 1.5920e-02,\n",
       "          1.5370e-04, 6.4504e-04, 0.0000e+00, 2.7509e-04, 4.1179e-04, 2.1845e-05,\n",
       "          1.1158e-03, 9.2036e-03, 8.7226e-04, 1.5005e-04, 1.5123e-05, 1.2153e-03,\n",
       "          7.9829e-03, 5.0093e-04, 1.1626e-02, 3.7987e-04, 0.0000e+00, 1.1429e-02,\n",
       "          5.5368e-03, 1.8897e-04, 3.8315e-03, 8.3040e-04, 1.7280e-02, 4.4078e-05,\n",
       "          2.4255e-06, 5.8760e-04, 1.1223e-01, 3.0164e-06, 4.6165e-02, 7.4084e-04,\n",
       "          2.0732e-02, 6.0369e-04, 7.3303e-02, 4.2944e-06, 9.2844e-05, 8.4644e-03,\n",
       "          7.5505e-04, 1.8101e-04, 1.8832e-03, 2.5623e-03, 9.3091e-04, 1.0072e-03,\n",
       "          1.7573e-02, 0.0000e+00, 6.8202e-03, 1.3519e-04, 9.1477e-04, 5.1038e-04,\n",
       "          1.6329e-03, 5.2521e-04, 1.7342e-03, 5.9579e-04, 7.2748e-05, 3.3352e-01,\n",
       "          9.4291e-04, 2.1764e-03, 1.7109e-05, 1.4590e-04, 6.2461e-02, 1.3333e-05,\n",
       "          1.3937e-02, 1.6293e-04, 5.7036e-03, 5.2297e-06, 1.0531e-04, 5.4188e-03,\n",
       "          3.8661e-04, 6.4600e-05, 1.6954e-01, 0.0000e+00],\n",
       "         [0.0000e+00, 0.0000e+00, 0.0000e+00, 0.0000e+00, 0.0000e+00, 6.4077e-07,\n",
       "          1.0596e-06, 0.0000e+00, 4.7938e-06, 0.0000e+00, 3.4721e-04, 1.4107e-03,\n",
       "          3.6201e-05, 1.2963e-03, 0.0000e+00, 6.9414e-06, 5.7008e-05, 7.9787e-05,\n",
       "          1.6327e-04, 2.7576e-02, 3.1315e-05, 3.9706e-05, 4.2933e-06, 4.2898e-03,\n",
       "          1.8065e-04, 9.4003e-05, 1.7974e-01, 2.7892e-04, 0.0000e+00, 1.3119e-02,\n",
       "          3.2306e-03, 9.2266e-05, 6.9132e-04, 1.7083e-03, 1.2277e-02, 7.6295e-07,\n",
       "          1.0758e-06, 6.5233e-05, 3.3127e-01, 2.4010e-07, 5.3997e-03, 7.3003e-05,\n",
       "          2.4253e-02, 2.0709e-04, 2.2474e-02, 3.4514e-07, 2.0139e-04, 7.2848e-04,\n",
       "          1.5816e-05, 3.5266e-04, 1.0692e-05, 1.2619e-03, 7.0232e-05, 1.7696e-03,\n",
       "          1.6061e-02, 0.0000e+00, 1.8821e-03, 1.5035e-05, 1.1800e-04, 3.9679e-04,\n",
       "          3.3114e-03, 5.3002e-05, 1.5718e-03, 6.5195e-04, 6.1874e-06, 4.6830e-02,\n",
       "          4.8125e-05, 1.3459e-03, 1.3759e-05, 4.9025e-05, 5.6085e-04, 2.3602e-05,\n",
       "          6.3794e-03, 3.3772e-05, 6.5035e-04, 1.8434e-05, 4.4778e-05, 2.5710e-03,\n",
       "          4.9953e-05, 1.5390e-04, 2.8225e-01, 0.0000e+00]],\n",
       "        grad_fn=<SoftmaxBackward0>),\n",
       " tensor([[0.7188],\n",
       "         [0.2165],\n",
       "         [0.9987],\n",
       "         [0.9986],\n",
       "         [1.0000]], grad_fn=<TanhBackward0>))"
      ]
     },
     "execution_count": 85,
     "metadata": {},
     "output_type": "execute_result"
    }
   ],
   "source": [
    "net(boards, legal_moves)"
   ]
  }
 ],
 "metadata": {
  "kernelspec": {
   "display_name": "Python 3 (ipykernel)",
   "language": "python",
   "name": "python3"
  },
  "language_info": {
   "codemirror_mode": {
    "name": "ipython",
    "version": 3
   },
   "file_extension": ".py",
   "mimetype": "text/x-python",
   "name": "python",
   "nbconvert_exporter": "python",
   "pygments_lexer": "ipython3",
   "version": "3.9.13"
  }
 },
 "nbformat": 4,
 "nbformat_minor": 5
}

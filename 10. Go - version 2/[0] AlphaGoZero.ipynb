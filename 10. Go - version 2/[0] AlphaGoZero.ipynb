{
 "cells": [
  {
   "cell_type": "code",
   "execution_count": 128,
   "id": "0cba7d21",
   "metadata": {},
   "outputs": [
    {
     "name": "stdout",
     "output_type": "stream",
     "text": [
      "The autoreload extension is already loaded. To reload it, use:\n",
      "  %reload_ext autoreload\n"
     ]
    }
   ],
   "source": [
    "import torch\n",
    "import torch.nn as nn\n",
    "import torch.nn.functional as F\n",
    "import numpy as np\n",
    "\n",
    "import random\n",
    "from einops.layers.torch import Rearrange\n",
    "from einops import rearrange\n",
    "\n",
    "from typing import Any, Dict, Tuple, Optional\n",
    "from game_mechanics import (\n",
    "    State,\n",
    "    all_legal_moves,\n",
    "    choose_move_randomly,\n",
    "    human_player,\n",
    "    is_terminal,\n",
    "    load_pkl,\n",
    "    play_go,\n",
    "    reward_function,\n",
    "    save_pkl,\n",
    "    transition_function,\n",
    ")\n",
    "from game_mechanics.go_env import GoEnv\n",
    "from tqdm.notebook import tqdm\n",
    "\n",
    "from functools import partial\n",
    "import pandas as pd\n",
    "from datetime import datetime\n",
    "import matplotlib.pyplot as plt\n",
    "\n",
    "from network import *\n",
    "from configs.v0_PPO_MCTS import *\n",
    "from MCTS import *\n",
    "from utils import EpisodeReplayMemory\n",
    "from torch.utils.tensorboard import SummaryWriter\n",
    "\n",
    "# from utils import *\n",
    "%load_ext autoreload\n",
    "%autoreload 2"
   ]
  },
  {
   "cell_type": "code",
   "execution_count": 51,
   "id": "5d9b8af3",
   "metadata": {},
   "outputs": [],
   "source": [
    "env = GoEnv(choose_move_randomly)\n",
    "state, reward, done, info = env.reset() \n",
    "net = AlphaGoZeroBatch(n_residual_blocks=architecture_settings['n_residual_blocks'], \n",
    "                       block_width=architecture_settings['block_width'])\n",
    "optimizer = torch.optim.Adam(net.parameters(), lr=0.001)"
   ]
  },
  {
   "cell_type": "code",
   "execution_count": 4,
   "id": "bb0f5f62",
   "metadata": {},
   "outputs": [],
   "source": [
    "def entropy(values, T=1):\n",
    "    probs = F.softmax(values/T, dim=0)\n",
    "    nonzero_probs = probs[probs != 0]\n",
    "    return -(torch.log(nonzero_probs)*nonzero_probs).sum()\n",
    "\n",
    "def find_optimal_temp(values, desired_bits, temps_to_check = np.logspace(-2, 2, 1000)):\n",
    "    if len(temps_to_check) == 1: return temps_to_check[0]\n",
    "    mid_index = round(len(temps_to_check)/2)\n",
    "    mid_ent1 = entropy(values, T=temps_to_check[mid_index-1])\n",
    "    mid_ent2 = entropy(values, T=temps_to_check[mid_index])\n",
    "    if np.isnan(mid_ent1):\n",
    "        return find_optimal_temp(values, desired_bits, temps_to_check[mid_index:])\n",
    "    if np.isnan(mid_ent2):\n",
    "        return find_optimal_temp(values, desired_bits, temps_to_check[:mid_index])\n",
    "    if mid_ent2 < desired_bits:\n",
    "        return find_optimal_temp(values, desired_bits, temps_to_check[mid_index:])\n",
    "    elif mid_ent1 > desired_bits:\n",
    "        return find_optimal_temp(values, desired_bits, temps_to_check[:mid_index])\n",
    "    else:\n",
    "        return temps_to_check[mid_index-1]\n",
    "\n",
    "def softmax_visit_counts(node, entropy_share=0.5, verbose=False):\n",
    "    '''\n",
    "    softmax visit counts, such that the entropy is x% of the max possible entropy\n",
    "    '''\n",
    "    visits = torch.as_tensor(node.child_number_visits)\n",
    "    # remove illegal moves\n",
    "    mask = torch.as_tensor([move not in node.legal_moves for move in range(82)])\n",
    "    visits = visits.masked_fill(mask, -torch.inf)\n",
    "    \n",
    "    visited_children = (node.child_number_visits > 0).sum()\n",
    "    max_entropy = np.log(visited_children) # len(node.legal_moves)\n",
    "    desired_bits = max_entropy*entropy_share\n",
    "    if visited_children == 1:\n",
    "        optimal_temperature = 1\n",
    "    else:\n",
    "        optimal_temperature = find_optimal_temp(visits, desired_bits)\n",
    "    if verbose:\n",
    "        print(f'Max entropy possible: {round(max_entropy, 2)}; we want {round(desired_bits, 2)} bits. Temperature: {optimal_temperature}')\n",
    "    MCTS_policy = F.softmax(visits/optimal_temperature)\n",
    "    return MCTS_policy\n",
    "    \n",
    "    \n",
    "# softmax_visit_counts(root, verbose=True)"
   ]
  },
  {
   "cell_type": "code",
   "execution_count": 5,
   "id": "d8c0a317",
   "metadata": {},
   "outputs": [
    {
     "name": "stderr",
     "output_type": "stream",
     "text": [
      "[W NNPACK.cpp:51] Could not initialize NNPACK! Reason: Unsupported hardware.\n"
     ]
    },
    {
     "data": {
      "text/plain": [
       "1"
      ]
     },
     "execution_count": 5,
     "metadata": {},
     "output_type": "execute_result"
    }
   ],
   "source": [
    "def choose_move_network(network, state):\n",
    "    board = rearrange(tensorize(state), 'w h -> 1 w h')\n",
    "    legal_moves = all_legal_moves(state.board, state.ko)\n",
    "    with torch.no_grad():\n",
    "        policy, value = network(board, [legal_moves])\n",
    "    chosen_move = np.random.choice(range(0,82), p=policy.squeeze().numpy())\n",
    "    return chosen_move\n",
    "\n",
    "play_go(your_choose_move = partial(choose_move_network, network=net),\n",
    "        opponent_choose_move = choose_move_randomly,\n",
    "        game_speed_multiplier = 100000,\n",
    "        render=False)"
   ]
  },
  {
   "cell_type": "code",
   "execution_count": null,
   "id": "c9e9ecc0",
   "metadata": {},
   "outputs": [],
   "source": [
    "batch_size = 16\n",
    "root = UCTNode(state, move=0, parent=DummyNode())\n",
    "for _ in range(num_reads):\n",
    "    leaf = root.select_leaf()\n",
    "    print(leaf.state)\n",
    "    print(leaf.legal_moves)\n",
    "    board = tensorize(leaf.state)\n",
    "    legal_moves = leaf.legal_moves #all_legal_moves(leaf.state.board, leaf.state.ko)\n",
    "    with torch.no_grad():\n",
    "        child_priors, value_estimate = network(rearrange(board, 'w h -> 1 w h'), [legal_moves])\n",
    "        leaf.expand(child_priors.squeeze())\n",
    "        leaf.backup(value_estimate.squeeze())\n",
    "return root"
   ]
  },
  {
   "cell_type": "code",
   "execution_count": 129,
   "id": "2890282d",
   "metadata": {},
   "outputs": [
    {
     "name": "stdout",
     "output_type": "stream",
     "text": [
      "100 evaluations took 0.372708 seconds: 268.30655633901074 per second\n",
      "200 evaluations took 0.713963 seconds: 280.1265611803413 per second\n",
      "500 evaluations took 3.098474 seconds: 161.36975814546128 per second\n",
      "1000 evaluations took 3.339713 seconds: 299.4269268047883 per second\n",
      "2000 evaluations took 7.260508 seconds: 275.4628188550994 per second\n"
     ]
    }
   ],
   "source": [
    "for evals in [100, 200, 500, 1000, 2000]:\n",
    "    start = datetime.now()\n",
    "    expanded_root = UCT_search(state, evals, batch_size=16, network=net)\n",
    "    seconds = (datetime.now() - start).total_seconds()\n",
    "    print(f'{evals} evaluations took {seconds} seconds: {evals/seconds} per second')"
   ]
  },
  {
   "cell_type": "code",
   "execution_count": 70,
   "id": "72f9603a",
   "metadata": {},
   "outputs": [
    {
     "name": "stdout",
     "output_type": "stream",
     "text": [
      "100 evaluations took 1.074597 seconds: 93.05814179641298 per second\n",
      "200 evaluations took 1.966208 seconds: 101.71863810949809 per second\n",
      "500 evaluations took 5.373205 seconds: 93.05433163261034 per second\n",
      "1000 evaluations took 11.824173 seconds: 84.57251090625958 per second\n",
      "2000 evaluations took 23.606968 seconds: 84.72074855186825 per second\n"
     ]
    }
   ],
   "source": [
    "for evals in [100, 200, 500, 1000, 2000]:\n",
    "    start = datetime.now()\n",
    "    expanded_root = UCT_search(state, evals, network=net)\n",
    "    seconds = (datetime.now() - start).total_seconds()\n",
    "    print(f'{evals} evaluations took {seconds} seconds: {evals/seconds} per second')"
   ]
  },
  {
   "cell_type": "code",
   "execution_count": 86,
   "id": "1e9d4561",
   "metadata": {},
   "outputs": [],
   "source": [
    "def play_opponent_manually(state):\n",
    "    move = int(input(\"enter move for opponent\"))\n",
    "    return move"
   ]
  },
  {
   "cell_type": "code",
   "execution_count": 7,
   "id": "c0b83e9a",
   "metadata": {},
   "outputs": [
    {
     "name": "stdout",
     "output_type": "stream",
     "text": [
      "100 evaluations took 1.023669 seconds: 97.68782682683563 per second\n",
      "200 evaluations took 2.044513 seconds: 97.82280670262308 per second\n",
      "500 evaluations took 7.683586 seconds: 65.07378195545674 per second\n",
      "1000 evaluations took 12.663248 seconds: 78.96868165260604 per second\n",
      "2000 evaluations took 35.46358 seconds: 56.395885581771495 per second\n"
     ]
    }
   ],
   "source": [
    "for evals in [100, 200, 500, 1000, 2000]:\n",
    "    start = datetime.now()\n",
    "    expanded_root = UCT_search(state, evals, network=net)\n",
    "    seconds = (datetime.now() - start).total_seconds()\n",
    "    print(f'{evals} evaluations took {seconds} seconds: {evals/seconds} per second')"
   ]
  },
  {
   "cell_type": "code",
   "execution_count": 16,
   "id": "2404d0f2",
   "metadata": {},
   "outputs": [
    {
     "name": "stderr",
     "output_type": "stream",
     "text": [
      "/tmp/ipykernel_2830/463266434.py:40: UserWarning: Implicit dimension choice for softmax has been deprecated. Change the call to include dim=X as an argument.\n",
      "  MCTS_policy = F.softmax(visits/optimal_temperature)\n"
     ]
    },
    {
     "name": "stdout",
     "output_type": "stream",
     "text": [
      "1\n",
      "2\n",
      "3\n",
      "4\n",
      "5\n",
      "6\n",
      "7\n",
      "8\n",
      "9\n",
      "10\n",
      "11\n",
      "12\n",
      "13\n",
      "14\n",
      "15\n",
      "16\n",
      "17\n",
      "18\n",
      "19\n",
      "20\n",
      "21\n",
      "22\n",
      "23\n",
      "24\n",
      "25\n",
      "26\n",
      "27\n",
      "28\n",
      "29\n",
      "30\n",
      "31\n",
      "32\n",
      "33\n",
      "34\n",
      "35\n",
      "36\n",
      "37\n",
      "38\n",
      "39\n",
      "40\n",
      "41\n",
      "42\n",
      "43\n",
      "44\n",
      "45\n",
      "46\n",
      "47\n",
      "48\n",
      "49\n",
      "50\n",
      "51\n",
      "52\n",
      "53\n",
      "54\n",
      "55\n",
      "56\n",
      "57\n",
      "58\n",
      "59\n",
      "60\n",
      "61\n",
      "62\n",
      "63\n",
      "64\n",
      "65\n",
      "66\n",
      "67\n",
      "68\n",
      "69\n",
      "70\n",
      "71\n",
      "72\n",
      "73\n",
      "74\n",
      "75\n",
      "76\n",
      "77\n",
      "78\n",
      "79\n",
      "80\n",
      "81\n",
      "82\n",
      "83\n",
      "84\n",
      "85\n",
      "86\n",
      "87\n",
      "88\n",
      "89\n",
      "90\n",
      "91\n",
      "92\n",
      "93\n",
      "94\n",
      "95\n",
      "96\n",
      "97\n",
      "98\n",
      "99\n",
      "100\n",
      "101\n",
      "102\n",
      "103\n",
      "104\n",
      "105\n",
      "106\n",
      "107\n",
      "108\n",
      "109\n",
      "110\n",
      "111\n",
      "112\n",
      "113\n",
      "114\n",
      "115\n",
      "116\n",
      "117\n",
      "118\n",
      "119\n",
      "120\n",
      "121\n",
      "122\n",
      "123\n",
      "124\n",
      "125\n",
      "126\n",
      "127\n",
      "128\n",
      "129\n",
      "130\n",
      "131\n",
      "132\n",
      "133\n",
      "134\n",
      "135\n",
      "136\n",
      "137\n",
      "138\n",
      "139\n",
      "140\n",
      "141\n",
      "142\n",
      "143\n",
      "144\n",
      "145\n",
      "146\n",
      "147\n",
      "148\n",
      "149\n",
      "150\n",
      "151\n",
      "152\n",
      "153\n",
      "154\n",
      "155\n",
      "156\n",
      "157\n",
      "158\n",
      "159\n",
      "160\n",
      "161\n",
      "162\n",
      "163\n",
      "164\n",
      "165\n",
      "166\n",
      "167\n",
      "168\n",
      "169\n",
      "170\n",
      "171\n",
      "172\n",
      "173\n",
      "174\n",
      "175\n",
      "176\n",
      "177\n",
      "178\n",
      "179\n",
      "180\n",
      "181\n",
      "182\n",
      "183\n",
      "184\n",
      "185\n",
      "186\n",
      "187\n",
      "188\n",
      "189\n",
      "190\n",
      "191\n",
      "192\n",
      "193\n",
      "194\n",
      "195\n",
      "196\n",
      "197\n",
      "198\n",
      "199\n",
      "200\n",
      "201\n",
      "202\n",
      "203\n",
      "204\n",
      "205\n",
      "206\n",
      "207\n",
      "208\n",
      "209\n",
      "210\n",
      "211\n",
      "212\n",
      "213\n",
      "214\n",
      "215\n",
      "216\n",
      "217\n",
      "218\n",
      "219\n",
      "220\n",
      "221\n",
      "222\n",
      "223\n",
      "224\n",
      "225\n",
      "226\n",
      "227\n",
      "228\n",
      "229\n",
      "230\n",
      "231\n",
      "232\n",
      "233\n",
      "234\n",
      "235\n",
      "236\n",
      "237\n",
      "238\n",
      "239\n",
      "240\n",
      "241\n",
      "242\n",
      "243\n",
      "244\n",
      "245\n",
      "246\n",
      "247\n",
      "248\n",
      "249\n",
      "250\n",
      "251\n",
      "252\n",
      "253\n",
      "254\n",
      "255\n",
      "256\n"
     ]
    }
   ],
   "source": [
    "## fill erm with some data:\n",
    "erm = EpisodeReplayMemory(gamma=1, lamda=1)\n",
    "\n",
    "state, reward, done, info = env.reset() \n",
    "while len(erm) < 256:\n",
    "    train_this_move = False\n",
    "    if random.random() > 0.0:\n",
    "        train_this_move = True\n",
    "        expanded_root = UCT_search(state, 100, network=net)\n",
    "    else:\n",
    "        expanded_root = UCT_search(state, 20, network=net)\n",
    "        \n",
    "    MCTS_policy = softmax_visit_counts(expanded_root, entropy_share=0.4, verbose=False)\n",
    "    chosen_move = np.random.choice(range(0,82), p=MCTS_policy.numpy())\n",
    "    erm.append({'board': tensorize(state),\n",
    "                'to_play': state.to_play,\n",
    "                'MCTS_policy': MCTS_policy,\n",
    "                'reward': reward,\n",
    "                'done': done,\n",
    "                'MCTS_value': expanded_root.total_value/expanded_root.number_visits,\n",
    "                'chosen_move': chosen_move,\n",
    "                'legal_moves': expanded_root.legal_moves})\n",
    "    state, reward, done, info = env.step(chosen_move)\n",
    "    if done:\n",
    "        state, reward, done, info = env.reset() \n",
    "    print(len(erm))"
   ]
  },
  {
   "cell_type": "code",
   "execution_count": 72,
   "id": "3bdf3a14",
   "metadata": {},
   "outputs": [
    {
     "name": "stdout",
     "output_type": "stream",
     "text": [
      "0:00:00.103217\n"
     ]
    }
   ],
   "source": [
    "data = erm.sample(256)\n",
    "start = datetime.now()\n",
    "policy, value = net(data['board'], data['legal_moves'])\n",
    "print(datetime.now() - start)"
   ]
  },
  {
   "cell_type": "code",
   "execution_count": 80,
   "id": "105a77c4",
   "metadata": {},
   "outputs": [
    {
     "name": "stdout",
     "output_type": "stream",
     "text": [
      "Batch size 1: 1.782565 seconds\n",
      "Batch size 8: 0.376782 seconds\n",
      "Batch size 32: 0.185721 seconds\n",
      "Batch size 256: 0.111401 seconds\n"
     ]
    }
   ],
   "source": [
    "data = erm.sample(256)\n",
    "batch_sizes = [1,8,32,256]\n",
    "for batch_size in batch_sizes:\n",
    "    start = datetime.now()\n",
    "\n",
    "    for idx in range(0,256,batch_size):\n",
    "        policy, value = net(data['board'][idx:idx+batch_size], data['legal_moves'][idx:idx+batch_size])\n",
    "    print(f'Batch size {batch_size}: {(datetime.now() - start).total_seconds()} seconds')"
   ]
  },
  {
   "cell_type": "code",
   "execution_count": 33,
   "id": "59f6eb6e",
   "metadata": {},
   "outputs": [
    {
     "name": "stdout",
     "output_type": "stream",
     "text": [
      "43.3 µs ± 22.8 µs per loop (mean ± std. dev. of 7 runs, 1 loop each)\n"
     ]
    }
   ],
   "source": [
    "%%timeit\n",
    "data['board'].to('cuda')"
   ]
  },
  {
   "cell_type": "code",
   "execution_count": 36,
   "id": "69c97119",
   "metadata": {},
   "outputs": [
    {
     "name": "stdout",
     "output_type": "stream",
     "text": [
      "129 µs ± 1.06 µs per loop (mean ± std. dev. of 7 runs, 10,000 loops each)\n"
     ]
    }
   ],
   "source": [
    "%%timeit\n",
    "transition_function(state, 1)"
   ]
  },
  {
   "cell_type": "code",
   "execution_count": 31,
   "id": "c07b51f1",
   "metadata": {},
   "outputs": [
    {
     "data": {
      "text/plain": [
       "256"
      ]
     },
     "execution_count": 31,
     "metadata": {},
     "output_type": "execute_result"
    }
   ],
   "source": [
    "len(data['board'])"
   ]
  },
  {
   "cell_type": "code",
   "execution_count": 28,
   "id": "8fa1c400",
   "metadata": {},
   "outputs": [
    {
     "data": {
      "text/plain": [
       "9"
      ]
     },
     "execution_count": 28,
     "metadata": {},
     "output_type": "execute_result"
    }
   ],
   "source": [
    "len(data)"
   ]
  },
  {
   "cell_type": "code",
   "execution_count": 18,
   "id": "beedc1c5",
   "metadata": {},
   "outputs": [
    {
     "name": "stdout",
     "output_type": "stream",
     "text": [
      "0:00:00.109428\n"
     ]
    }
   ],
   "source": [
    "start = datetime.now()\n",
    "policy, value = net(data['board'], data['legal_moves'])\n",
    "print(datetime.now() - start)"
   ]
  },
  {
   "cell_type": "code",
   "execution_count": 24,
   "id": "83e87470",
   "metadata": {},
   "outputs": [
    {
     "name": "stdout",
     "output_type": "stream",
     "text": [
      "0:00:07.872819\n"
     ]
    }
   ],
   "source": [
    "start = datetime.now()\n",
    "UCT_search(state, 400, network=net)\n",
    "print(datetime.now() - start)"
   ]
  },
  {
   "cell_type": "code",
   "execution_count": 19,
   "id": "fa5ba9cc",
   "metadata": {},
   "outputs": [],
   "source": [
    "import cProfile"
   ]
  },
  {
   "cell_type": "code",
   "execution_count": null,
   "id": "d482d6e6",
   "metadata": {},
   "outputs": [],
   "source": [
    "expanded_root = UCT_search(state, 100, network=net)"
   ]
  },
  {
   "cell_type": "code",
   "execution_count": 71,
   "id": "e7a5079a",
   "metadata": {},
   "outputs": [],
   "source": [
    "cProfile.run(\"expanded_root = UCT_search(state, 400, network=net)\", \"profile_uct_search.prof\")"
   ]
  },
  {
   "cell_type": "code",
   "execution_count": null,
   "id": "623d92a6",
   "metadata": {},
   "outputs": [],
   "source": []
  },
  {
   "cell_type": "code",
   "execution_count": 361,
   "id": "d5cc61b5",
   "metadata": {
    "scrolled": false
   },
   "outputs": [
    {
     "data": {
      "application/vnd.jupyter.widget-view+json": {
       "model_id": "cbb6f568198549cfa2b0987676d0991a",
       "version_major": 2,
       "version_minor": 0
      },
      "text/plain": [
       "  0%|          | 0/20 [00:00<?, ?it/s]"
      ]
     },
     "metadata": {},
     "output_type": "display_data"
    },
    {
     "name": "stderr",
     "output_type": "stream",
     "text": [
      "C:\\Users\\hristo\\AppData\\Local\\Temp\\ipykernel_19540\\463266434.py:40: UserWarning: Implicit dimension choice for softmax has been deprecated. Change the call to include dim=X as an argument.\n",
      "  MCTS_policy = F.softmax(visits/optimal_temperature)\n"
     ]
    },
    {
     "name": "stdout",
     "output_type": "stream",
     "text": [
      "We've collected 13 datapoints for 0:00:10.730065 seconds: 1.3 per second\n",
      "We've collected 95 datapoints for 0:01:20.141384 seconds: 1.1875 per second\n"
     ]
    },
    {
     "data": {
      "application/vnd.jupyter.widget-view+json": {
       "model_id": "f64cd0da536144bb9d4d76a5aa8bee07",
       "version_major": 2,
       "version_minor": 0
      },
      "text/plain": [
       "  0%|          | 0/100 [00:00<?, ?it/s]"
      ]
     },
     "metadata": {},
     "output_type": "display_data"
    },
    {
     "name": "stdout",
     "output_type": "stream",
     "text": [
      "We've collected 177 datapoints for 0:02:36.645454 seconds: 1.1346153846153846 per second\n"
     ]
    },
    {
     "data": {
      "application/vnd.jupyter.widget-view+json": {
       "model_id": "c838e3ce4d26455c8dd4ee5df2ad99d5",
       "version_major": 2,
       "version_minor": 0
      },
      "text/plain": [
       "  0%|          | 0/100 [00:00<?, ?it/s]"
      ]
     },
     "metadata": {},
     "output_type": "display_data"
    },
    {
     "name": "stdout",
     "output_type": "stream",
     "text": [
      "We've collected 228 datapoints for 0:03:40.350525 seconds: 1.0363636363636364 per second\n"
     ]
    },
    {
     "data": {
      "application/vnd.jupyter.widget-view+json": {
       "model_id": "155b461490cf470cbbdade8f9026322c",
       "version_major": 2,
       "version_minor": 0
      },
      "text/plain": [
       "  0%|          | 0/100 [00:00<?, ?it/s]"
      ]
     },
     "metadata": {},
     "output_type": "display_data"
    },
    {
     "name": "stdout",
     "output_type": "stream",
     "text": [
      "We've collected 310 datapoints for 0:04:59.142961 seconds: 1.0367892976588629 per second\n"
     ]
    },
    {
     "data": {
      "application/vnd.jupyter.widget-view+json": {
       "model_id": "c2d062b653464b65b1a15aa13ea99665",
       "version_major": 2,
       "version_minor": 0
      },
      "text/plain": [
       "  0%|          | 0/100 [00:00<?, ?it/s]"
      ]
     },
     "metadata": {},
     "output_type": "display_data"
    },
    {
     "name": "stdout",
     "output_type": "stream",
     "text": [
      "We've collected 376 datapoints for 0:06:10.331647 seconds: 1.0162162162162163 per second\n"
     ]
    },
    {
     "data": {
      "application/vnd.jupyter.widget-view+json": {
       "model_id": "c8d667a67e454294b7a676666eee26fc",
       "version_major": 2,
       "version_minor": 0
      },
      "text/plain": [
       "  0%|          | 0/100 [00:00<?, ?it/s]"
      ]
     },
     "metadata": {},
     "output_type": "display_data"
    },
    {
     "name": "stdout",
     "output_type": "stream",
     "text": [
      "We've collected 394 datapoints for 0:06:38.489353 seconds: 0.9899497487437185 per second\n"
     ]
    },
    {
     "data": {
      "application/vnd.jupyter.widget-view+json": {
       "model_id": "4b531fb79638466aac7cf31513174b05",
       "version_major": 2,
       "version_minor": 0
      },
      "text/plain": [
       "  0%|          | 0/100 [00:00<?, ?it/s]"
      ]
     },
     "metadata": {},
     "output_type": "display_data"
    },
    {
     "name": "stdout",
     "output_type": "stream",
     "text": [
      "We've collected 441 datapoints for 0:07:43.142594 seconds: 0.9524838012958964 per second\n"
     ]
    },
    {
     "data": {
      "application/vnd.jupyter.widget-view+json": {
       "model_id": "90f0eafaba5146f28d9e101e26c9f5e0",
       "version_major": 2,
       "version_minor": 0
      },
      "text/plain": [
       "  0%|          | 0/100 [00:00<?, ?it/s]"
      ]
     },
     "metadata": {},
     "output_type": "display_data"
    },
    {
     "name": "stdout",
     "output_type": "stream",
     "text": [
      "We've collected 503 datapoints for 0:08:55.469641 seconds: 0.9401869158878504 per second\n"
     ]
    },
    {
     "data": {
      "application/vnd.jupyter.widget-view+json": {
       "model_id": "5c58d24cbbad48c6b328bb7b5ae4846c",
       "version_major": 2,
       "version_minor": 0
      },
      "text/plain": [
       "  0%|          | 0/100 [00:00<?, ?it/s]"
      ]
     },
     "metadata": {},
     "output_type": "display_data"
    },
    {
     "name": "stdout",
     "output_type": "stream",
     "text": [
      "We've collected 585 datapoints for 0:10:28.602310 seconds: 0.9315286624203821 per second\n"
     ]
    },
    {
     "data": {
      "application/vnd.jupyter.widget-view+json": {
       "model_id": "1989c30fa97f48208610931ceca12050",
       "version_major": 2,
       "version_minor": 0
      },
      "text/plain": [
       "  0%|          | 0/100 [00:00<?, ?it/s]"
      ]
     },
     "metadata": {},
     "output_type": "display_data"
    },
    {
     "name": "stdout",
     "output_type": "stream",
     "text": [
      "We've collected 637 datapoints for 0:11:42.379082 seconds: 0.9074074074074074 per second\n"
     ]
    },
    {
     "data": {
      "application/vnd.jupyter.widget-view+json": {
       "model_id": "6ea19a12ab62450daedffee916b8a5a5",
       "version_major": 2,
       "version_minor": 0
      },
      "text/plain": [
       "  0%|          | 0/100 [00:00<?, ?it/s]"
      ]
     },
     "metadata": {},
     "output_type": "display_data"
    },
    {
     "name": "stdout",
     "output_type": "stream",
     "text": [
      "We've collected 718 datapoints for 0:13:12.335810 seconds: 0.9065656565656566 per second\n"
     ]
    },
    {
     "data": {
      "application/vnd.jupyter.widget-view+json": {
       "model_id": "b62b3f7b4af74d0981cd7b76a3ef8493",
       "version_major": 2,
       "version_minor": 0
      },
      "text/plain": [
       "  0%|          | 0/100 [00:00<?, ?it/s]"
      ]
     },
     "metadata": {},
     "output_type": "display_data"
    },
    {
     "name": "stdout",
     "output_type": "stream",
     "text": [
      "We've collected 800 datapoints for 0:14:41.648735 seconds: 0.9080590238365494 per second\n"
     ]
    },
    {
     "data": {
      "application/vnd.jupyter.widget-view+json": {
       "model_id": "62c2be2f7a3043f8949bf32f78a8b35d",
       "version_major": 2,
       "version_minor": 0
      },
      "text/plain": [
       "  0%|          | 0/100 [00:00<?, ?it/s]"
      ]
     },
     "metadata": {},
     "output_type": "display_data"
    },
    {
     "name": "stdout",
     "output_type": "stream",
     "text": [
      "We've collected 837 datapoints for 0:15:40.608768 seconds: 0.8904255319148936 per second\n"
     ]
    },
    {
     "data": {
      "application/vnd.jupyter.widget-view+json": {
       "model_id": "daa22f83032d4cd5aced1398ce37ff9e",
       "version_major": 2,
       "version_minor": 0
      },
      "text/plain": [
       "  0%|          | 0/100 [00:00<?, ?it/s]"
      ]
     },
     "metadata": {},
     "output_type": "display_data"
    },
    {
     "name": "stdout",
     "output_type": "stream",
     "text": [
      "We've collected 914 datapoints for 0:16:38.508502 seconds: 0.9158316633266533 per second\n"
     ]
    },
    {
     "data": {
      "application/vnd.jupyter.widget-view+json": {
       "model_id": "1f62ec6f11e8427a94f859bf63c2dfaa",
       "version_major": 2,
       "version_minor": 0
      },
      "text/plain": [
       "  0%|          | 0/100 [00:00<?, ?it/s]"
      ]
     },
     "metadata": {},
     "output_type": "display_data"
    },
    {
     "name": "stdout",
     "output_type": "stream",
     "text": [
      "We've collected 996 datapoints for 0:17:27.665016 seconds: 0.9512893982808023 per second\n"
     ]
    },
    {
     "data": {
      "application/vnd.jupyter.widget-view+json": {
       "model_id": "9a2bf00c5a3a4879b52d07f4b3bf433e",
       "version_major": 2,
       "version_minor": 0
      },
      "text/plain": [
       "  0%|          | 0/100 [00:00<?, ?it/s]"
      ]
     },
     "metadata": {},
     "output_type": "display_data"
    },
    {
     "name": "stdout",
     "output_type": "stream",
     "text": [
      "We've collected 1003 datapoints for 0:17:32.297015 seconds: 0.9534220532319392 per second\n"
     ]
    },
    {
     "data": {
      "application/vnd.jupyter.widget-view+json": {
       "model_id": "772d426612e54a8582e6f9828a0d75ff",
       "version_major": 2,
       "version_minor": 0
      },
      "text/plain": [
       "  0%|          | 0/100 [00:00<?, ?it/s]"
      ]
     },
     "metadata": {},
     "output_type": "display_data"
    },
    {
     "name": "stdout",
     "output_type": "stream",
     "text": [
      "We've collected 1085 datapoints for 0:18:18.797569 seconds: 0.98816029143898 per second\n"
     ]
    },
    {
     "data": {
      "application/vnd.jupyter.widget-view+json": {
       "model_id": "5cbbd4e6c6be45568f8a5fea950ef2eb",
       "version_major": 2,
       "version_minor": 0
      },
      "text/plain": [
       "  0%|          | 0/100 [00:00<?, ?it/s]"
      ]
     },
     "metadata": {},
     "output_type": "display_data"
    },
    {
     "name": "stdout",
     "output_type": "stream",
     "text": [
      "We've collected 1167 datapoints for 0:19:02.159570 seconds: 1.021891418563923 per second\n"
     ]
    },
    {
     "data": {
      "application/vnd.jupyter.widget-view+json": {
       "model_id": "f82848bf112b4812858c4ed171a33fea",
       "version_major": 2,
       "version_minor": 0
      },
      "text/plain": [
       "  0%|          | 0/100 [00:00<?, ?it/s]"
      ]
     },
     "metadata": {},
     "output_type": "display_data"
    },
    {
     "name": "stdout",
     "output_type": "stream",
     "text": [
      "We've collected 1247 datapoints for 0:19:47.846323 seconds: 1.050547598989048 per second\n"
     ]
    }
   ],
   "source": [
    "erm = EpisodeReplayMemory(gamma=1, lamda=1)\n",
    "\n",
    "start = datetime.now()\n",
    "for episode in tqdm(range(1000)):\n",
    "    state, reward, done, info = env.reset() \n",
    "    while not done:\n",
    "        train_this_move = False\n",
    "        if random.random() > 0.75:\n",
    "            train_this_move = True\n",
    "            expanded_root = UCT_search(state, 100, network=net)\n",
    "        else:\n",
    "            expanded_root = UCT_search(state, 20, network=net)\n",
    "        \n",
    "        MCTS_policy = softmax_visit_counts(expanded_root, entropy_share=0.4, verbose=False)\n",
    "        chosen_move = np.random.choice(range(0,82), p=MCTS_policy.numpy())\n",
    "        erm.append({'board': tensorize(state),\n",
    "                    'to_play': state.to_play,\n",
    "                    'MCTS_policy': MCTS_policy,\n",
    "                    'reward': reward,\n",
    "                    'done': done,\n",
    "                    'MCTS_value': expanded_root.total_value/expanded_root.number_visits,\n",
    "                    'chosen_move': chosen_move,\n",
    "                    'legal_moves': expanded_root.legal_moves})\n",
    "        state, reward, done, info = env.step(chosen_move)\n",
    "    if len(erm) > 100:\n",
    "        for batch_number in tqdm(range(100)):\n",
    "            data = erm.sample(1024)\n",
    "            policy, value = net(data['board'], data['legal_moves'])\n",
    "            optimizer.zero_grad()\n",
    "            loss_policy = F.cross_entropy(policy, data['MCTS_policy'])\n",
    "            loss_value = F.smooth_l1_loss(value, data['MCTS_value'])\n",
    "            print(f'loss policy: {loss_policy}, loss value: {loss_value}')\n",
    "            loss = loss_policy + loss_value\n",
    "            loss.backward()\n",
    "            optimizer.step()\n",
    "            \n",
    "    print(f\"We've collected {len(erm)} datapoints for {datetime.now() - start} seconds: {len(erm)/(datetime.now() - start).seconds} per second\")"
   ]
  },
  {
   "cell_type": "code",
   "execution_count": 382,
   "id": "9485822e",
   "metadata": {},
   "outputs": [
    {
     "name": "stderr",
     "output_type": "stream",
     "text": [
      "C:\\Users\\hristo\\AppData\\Local\\Temp\\ipykernel_19540\\1944724173.py:1: UserWarning: Using a target size (torch.Size([1024])) that is different to the input size (torch.Size([1024, 1])). This will likely lead to incorrect results due to broadcasting. Please ensure they have the same size.\n",
      "  loss_value = F.smooth_l1_loss(value, data['MCTS_value'], reduction='none')\n"
     ]
    },
    {
     "data": {
      "image/png": "[encoded data removed]",
      "text/plain": [
       "<Figure size 640x480 with 1 Axes>"
      ]
     },
     "metadata": {},
     "output_type": "display_data"
    }
   ],
   "source": [
    "plt.hist(loss_value.mean(axis=1).detach().numpy(), bins=100)\n",
    "plt.show()"
   ]
  },
  {
   "cell_type": "code",
   "execution_count": 381,
   "id": "0a00db55",
   "metadata": {},
   "outputs": [
    {
     "data": {
      "text/plain": [
       "array([507.4759 , 386.26764, 299.96487, ..., 354.0858 , 340.30246,\n",
       "       340.05304], dtype=float32)"
      ]
     },
     "execution_count": 381,
     "metadata": {},
     "output_type": "execute_result"
    }
   ],
   "source": [
    "loss_value.sum(axis=1).detach().numpy()"
   ]
  },
  {
   "cell_type": "code",
   "execution_count": 379,
   "id": "7a60dc63",
   "metadata": {},
   "outputs": [
    {
     "data": {
      "text/plain": [
       "torch.Size([1024])"
      ]
     },
     "execution_count": 379,
     "metadata": {},
     "output_type": "execute_result"
    }
   ],
   "source": [
    "loss_value.sum(axis=1).shape"
   ]
  },
  {
   "cell_type": "code",
   "execution_count": 373,
   "id": "4252797b",
   "metadata": {},
   "outputs": [
    {
     "data": {
      "image/png": "[encoded data removed]",
      "text/plain": [
       "<Figure size 640x480 with 1 Axes>"
      ]
     },
     "metadata": {},
     "output_type": "display_data"
    }
   ],
   "source": [
    "plt.hist(loss_policy.detach().numpy(), bins=100)\n",
    "plt.show()"
   ]
  },
  {
   "cell_type": "code",
   "execution_count": 369,
   "id": "38398129",
   "metadata": {},
   "outputs": [],
   "source": [
    "F.cross_entropy?"
   ]
  },
  {
   "cell_type": "code",
   "execution_count": 367,
   "id": "40b33181",
   "metadata": {},
   "outputs": [
    {
     "data": {
      "text/plain": [
       "tensor(4.2352, grad_fn=<DivBackward1>)"
      ]
     },
     "execution_count": 367,
     "metadata": {},
     "output_type": "execute_result"
    }
   ],
   "source": [
    "loss_policy"
   ]
  },
  {
   "cell_type": "code",
   "execution_count": 285,
   "id": "f5887740",
   "metadata": {},
   "outputs": [
    {
     "ename": "SyntaxError",
     "evalue": "invalid syntax (2320923032.py, line 10)",
     "output_type": "error",
     "traceback": [
      "\u001b[1;36m  Input \u001b[1;32mIn [285]\u001b[1;36m\u001b[0m\n\u001b[1;33m    loss_value = ???\u001b[0m\n\u001b[1;37m                 ^\u001b[0m\n\u001b[1;31mSyntaxError\u001b[0m\u001b[1;31m:\u001b[0m invalid syntax\n"
     ]
    }
   ],
   "source": [
    "for _ in range(10):\n",
    "    if random() > 0.0:\n",
    "        train_this_move = True\n",
    "        expanded_root = UCT_search(state, 20, network=net)\n",
    "    else:\n",
    "        expanded_root = UCT_search(state, 10, network=net)\n",
    "    MCTS_policy = softmax_visit_counts(expanded_root)\n",
    "    if train_this_move:\n",
    "        loss_policy = F.cross_entropy(MCTS_policy, expanded_root.child_priors)\n",
    "        loss_value = ???\n",
    "        loss = loss_policy + loss_value\n",
    "        optimizer.zero_grad()\n",
    "        loss.backward()\n",
    "        optimizer.step()"
   ]
  },
  {
   "cell_type": "code",
   "execution_count": 89,
   "id": "1471a1c0",
   "metadata": {},
   "outputs": [
    {
     "data": {
      "text/plain": [
       "tensor([0.0010, 0.0010, 0.0010, 0.0010, 0.0010, 0.0010, 0.0010, 0.0010, 0.0010,\n",
       "        0.0010, 0.0010, 0.0010, 0.0010, 0.0010, 0.0010, 0.0010, 0.0010, 0.0010,\n",
       "        0.0010, 0.0010, 0.0010, 0.0010, 0.0010, 0.0010, 0.0010, 0.0010, 0.0010,\n",
       "        0.0010, 0.0010, 0.1777, 0.0010, 0.0010, 0.0010, 0.0010, 0.0010, 0.0010,\n",
       "        0.0010, 0.1777, 0.0010, 0.0010, 0.1777, 0.0010, 0.1777, 0.0010, 0.0010,\n",
       "        0.0010, 0.0010, 0.0010, 0.0010, 0.0010, 0.0010, 0.0010, 0.0010, 0.0010,\n",
       "        0.0010, 0.1777, 0.0010, 0.0010, 0.0010, 0.0010, 0.0010, 0.0010, 0.0010,\n",
       "        0.0010, 0.0010, 0.0010, 0.0010, 0.0010, 0.0010, 0.0010, 0.0010, 0.0010,\n",
       "        0.0056, 0.0010, 0.0010, 0.0010, 0.0010, 0.0316, 0.0010, 0.0010, 0.0010,\n",
       "        0.0002])"
      ]
     },
     "execution_count": 89,
     "metadata": {},
     "output_type": "execute_result"
    }
   ],
   "source": [
    "MCTS_policy"
   ]
  },
  {
   "cell_type": "code",
   "execution_count": 142,
   "id": "73c00286",
   "metadata": {},
   "outputs": [
    {
     "name": "stdout",
     "output_type": "stream",
     "text": [
      "Unexpected exception formatting exception. Falling back to standard exception\n"
     ]
    },
    {
     "name": "stderr",
     "output_type": "stream",
     "text": [
      "Traceback (most recent call last):\n",
      "  File \"C:\\Users\\hristo\\Anaconda3\\lib\\site-packages\\IPython\\core\\interactiveshell.py\", line 3398, in run_code\n",
      "    exec(code_obj, self.user_global_ns, self.user_ns)\n",
      "  File \"C:\\Users\\hristo\\AppData\\Local\\Temp\\ipykernel_15496\\1143610180.py\", line 1, in <cell line: 1>\n",
      "    UCT_search(state, 100)\n",
      "  File \"C:\\Users\\hristo\\AppData\\Local\\Temp\\ipykernel_15496\\3687641478.py\", line 9, in UCT_search\n",
      "    leaf.expand(child_priors)\n",
      "  File \"C:\\Users\\hristo\\Desktop\\hristo\\Documents\\Delta academy\\10. Go - version 2\\MCTS.py\", line 75, in expand\n",
      "    self.add_child(move, prior)\n",
      "  File \"C:\\Users\\hristo\\Desktop\\hristo\\Documents\\Delta academy\\10. Go - version 2\\MCTS.py\", line 78, in add_child\n",
      "    self.children[move] = UCTNode(\n",
      "TypeError: __init__() got an unexpected keyword argument 'prior'\n",
      "\n",
      "During handling of the above exception, another exception occurred:\n",
      "\n",
      "Traceback (most recent call last):\n",
      "  File \"C:\\Users\\hristo\\Anaconda3\\lib\\site-packages\\IPython\\core\\interactiveshell.py\", line 1993, in showtraceback\n",
      "    stb = self.InteractiveTB.structured_traceback(\n",
      "  File \"C:\\Users\\hristo\\Anaconda3\\lib\\site-packages\\IPython\\core\\ultratb.py\", line 1118, in structured_traceback\n",
      "    return FormattedTB.structured_traceback(\n",
      "  File \"C:\\Users\\hristo\\Anaconda3\\lib\\site-packages\\IPython\\core\\ultratb.py\", line 1012, in structured_traceback\n",
      "    return VerboseTB.structured_traceback(\n",
      "  File \"C:\\Users\\hristo\\Anaconda3\\lib\\site-packages\\IPython\\core\\ultratb.py\", line 865, in structured_traceback\n",
      "    formatted_exception = self.format_exception_as_a_whole(etype, evalue, etb, number_of_lines_of_context,\n",
      "  File \"C:\\Users\\hristo\\Anaconda3\\lib\\site-packages\\IPython\\core\\ultratb.py\", line 818, in format_exception_as_a_whole\n",
      "    frames.append(self.format_record(r))\n",
      "  File \"C:\\Users\\hristo\\Anaconda3\\lib\\site-packages\\IPython\\core\\ultratb.py\", line 736, in format_record\n",
      "    result += ''.join(_format_traceback_lines(frame_info.lines, Colors, self.has_colors, lvals))\n",
      "  File \"C:\\Users\\hristo\\Anaconda3\\lib\\site-packages\\stack_data\\utils.py\", line 145, in cached_property_wrapper\n",
      "    value = obj.__dict__[self.func.__name__] = self.func(obj)\n",
      "  File \"C:\\Users\\hristo\\Anaconda3\\lib\\site-packages\\stack_data\\core.py\", line 698, in lines\n",
      "    pieces = self.included_pieces\n",
      "  File \"C:\\Users\\hristo\\Anaconda3\\lib\\site-packages\\stack_data\\utils.py\", line 145, in cached_property_wrapper\n",
      "    value = obj.__dict__[self.func.__name__] = self.func(obj)\n",
      "  File \"C:\\Users\\hristo\\Anaconda3\\lib\\site-packages\\stack_data\\core.py\", line 649, in included_pieces\n",
      "    pos = scope_pieces.index(self.executing_piece)\n",
      "  File \"C:\\Users\\hristo\\Anaconda3\\lib\\site-packages\\stack_data\\utils.py\", line 145, in cached_property_wrapper\n",
      "    value = obj.__dict__[self.func.__name__] = self.func(obj)\n",
      "  File \"C:\\Users\\hristo\\Anaconda3\\lib\\site-packages\\stack_data\\core.py\", line 628, in executing_piece\n",
      "    return only(\n",
      "  File \"C:\\Users\\hristo\\Anaconda3\\lib\\site-packages\\executing\\executing.py\", line 164, in only\n",
      "    raise NotOneValueFound('Expected one value, found 0')\n",
      "executing.executing.NotOneValueFound: Expected one value, found 0\n"
     ]
    }
   ],
   "source": [
    "UCT_search(state, 100)"
   ]
  },
  {
   "cell_type": "code",
   "execution_count": 136,
   "id": "dd63009f",
   "metadata": {},
   "outputs": [
    {
     "data": {
      "text/plain": [
       "(tensor([[1.5589e-03, 1.1653e-05, 3.7662e-06, 9.2236e-04, 6.7465e-04, 1.3764e-03,\n",
       "          6.8952e-05, 6.3216e-05, 3.0332e-05, 4.7023e-03, 1.9838e-04, 2.2386e-03,\n",
       "          6.8988e-05, 1.1084e-04, 1.1322e-05, 1.6468e-02, 4.3807e-05, 4.7380e-04,\n",
       "          3.8540e-04, 1.4796e-04, 1.2050e-04, 3.2196e-03, 8.8610e-05, 7.1535e-04,\n",
       "          1.2733e-02, 4.4830e-05, 6.5298e-04, 4.1213e-03, 8.8000e-04, 3.2804e-04,\n",
       "          0.0000e+00, 1.2305e-03, 4.6648e-06, 7.6269e-04, 5.0985e-04, 2.7422e-05,\n",
       "          3.4910e-05, 3.0292e-05, 4.3213e-04, 1.1171e-04, 5.3315e-03, 5.8941e-05,\n",
       "          3.2259e-03, 1.2023e-01, 1.0001e-04, 1.7365e-04, 2.4314e-04, 1.6219e-04,\n",
       "          3.8389e-03, 1.9128e-04, 5.9754e-01, 1.5177e-03, 1.0624e-03, 3.6476e-03,\n",
       "          9.4083e-03, 6.5562e-04, 2.0132e-04, 1.6601e-02, 7.0470e-03, 1.5661e-03,\n",
       "          2.6365e-06, 7.6630e-04, 4.3640e-04, 1.3819e-03, 3.3995e-03, 1.2943e-03,\n",
       "          7.4992e-02, 9.2330e-04, 2.6621e-03, 7.3676e-05, 6.7479e-04, 4.4354e-05,\n",
       "          1.6851e-03, 3.3361e-04, 7.1609e-02, 1.3276e-03, 3.4829e-04, 9.4084e-03,\n",
       "          5.2774e-05, 4.7801e-05, 1.2272e-04, 0.0000e+00]]),\n",
       " tensor([[0.9540]]))"
      ]
     },
     "execution_count": 136,
     "metadata": {},
     "output_type": "execute_result"
    }
   ],
   "source": [
    "child_priors, value_estimate"
   ]
  },
  {
   "cell_type": "code",
   "execution_count": 126,
   "id": "43eb60ac",
   "metadata": {},
   "outputs": [
    {
     "data": {
      "text/plain": [
       "array([ 0,  1,  2,  3,  4,  5,  6,  7,  8,  9, 10, 11, 12, 13, 14, 15, 16,\n",
       "       17, 18, 19, 20, 21, 22, 23, 24, 25, 26, 27, 28, 29, 31, 32, 33, 34,\n",
       "       35, 36, 37, 38, 39, 40, 41, 42, 43, 44, 45, 46, 47, 48, 49, 50, 51,\n",
       "       52, 53, 54, 55, 56, 57, 58, 59, 60, 61, 62, 63, 64, 65, 66, 67, 68,\n",
       "       69, 70, 71, 72, 73, 74, 75, 76, 77, 78, 79, 80, 81])"
      ]
     },
     "execution_count": 126,
     "metadata": {},
     "output_type": "execute_result"
    }
   ],
   "source": [
    "legal_moves"
   ]
  },
  {
   "cell_type": "code",
   "execution_count": null,
   "id": "d1c413b7",
   "metadata": {},
   "outputs": [],
   "source": [
    "root = UCTNode(game_state, move=None)\n",
    "for _ in range(num_reads):\n",
    "    leaf = root.select_leaf()\n",
    "    board = tensorize(state)\n",
    "    legal_moves = all_legal_moves(state)\n",
    "    child_priors, value_estimate = net(board, legal_moves)"
   ]
  },
  {
   "cell_type": "code",
   "execution_count": 12,
   "id": "f505b993",
   "metadata": {},
   "outputs": [],
   "source": [
    "env = GoEnv(choose_move_randomly)"
   ]
  },
  {
   "cell_type": "code",
   "execution_count": 101,
   "id": "5e259d17",
   "metadata": {},
   "outputs": [],
   "source": [
    "state, reward, done, info = env.reset() "
   ]
  },
  {
   "cell_type": "code",
   "execution_count": 116,
   "id": "0ff9d6f3",
   "metadata": {},
   "outputs": [
    {
     "data": {
      "text/plain": [
       "tensor([[0., 0., 0., 0., 0., 0., 0., 0., 0.],\n",
       "        [0., 0., 0., 0., 0., 0., 0., 0., 0.],\n",
       "        [0., 0., 0., 0., 0., 0., 0., 0., 0.],\n",
       "        [0., 0., 0., 1., 0., 0., 0., 0., 0.],\n",
       "        [0., 0., 0., 0., 0., 0., 0., 0., 0.],\n",
       "        [0., 0., 0., 0., 0., 0., 0., 0., 0.],\n",
       "        [0., 0., 0., 0., 0., 0., 0., 0., 0.],\n",
       "        [0., 0., 0., 0., 0., 0., 0., 0., 0.],\n",
       "        [0., 0., 0., 0., 0., 0., 0., 0., 0.]])"
      ]
     },
     "execution_count": 116,
     "metadata": {},
     "output_type": "execute_result"
    }
   ],
   "source": [
    "tensorize(state)"
   ]
  },
  {
   "cell_type": "code",
   "execution_count": 113,
   "id": "89eae08c",
   "metadata": {},
   "outputs": [
    {
     "ename": "NameError",
     "evalue": "name 'NeuralNet' is not defined",
     "output_type": "error",
     "traceback": [
      "\u001b[1;31m---------------------------------------------------------------------------\u001b[0m",
      "\u001b[1;31mNameError\u001b[0m                                 Traceback (most recent call last)",
      "Input \u001b[1;32mIn [113]\u001b[0m, in \u001b[0;36m<cell line: 1>\u001b[1;34m()\u001b[0m\n\u001b[1;32m----> 1\u001b[0m tree \u001b[38;5;241m=\u001b[39m \u001b[43mUCT_search\u001b[49m\u001b[43m(\u001b[49m\u001b[43mstate\u001b[49m\u001b[43m,\u001b[49m\u001b[43m \u001b[49m\u001b[38;5;241;43m100\u001b[39;49m\u001b[43m)\u001b[49m\n",
      "File \u001b[1;32m~\\Desktop\\hristo\\Documents\\Delta academy\\10. Go - version 2\\MCTS.py:8\u001b[0m, in \u001b[0;36mUCT_search\u001b[1;34m(game_state, num_reads, c_puct)\u001b[0m\n\u001b[0;32m      6\u001b[0m \u001b[38;5;28;01mfor\u001b[39;00m _ \u001b[38;5;129;01min\u001b[39;00m \u001b[38;5;28mrange\u001b[39m(num_reads):\n\u001b[0;32m      7\u001b[0m     leaf \u001b[38;5;241m=\u001b[39m root\u001b[38;5;241m.\u001b[39mselect_leaf()\n\u001b[1;32m----> 8\u001b[0m     child_priors, value_estimate \u001b[38;5;241m=\u001b[39m \u001b[43mNeuralNet\u001b[49m\u001b[38;5;241m.\u001b[39mevaluate(leaf\u001b[38;5;241m.\u001b[39mgame_state)\n\u001b[0;32m      9\u001b[0m     leaf\u001b[38;5;241m.\u001b[39mexpand(child_priors)\n\u001b[0;32m     10\u001b[0m     leaf\u001b[38;5;241m.\u001b[39mbackup(value_estimate)\n",
      "\u001b[1;31mNameError\u001b[0m: name 'NeuralNet' is not defined"
     ]
    }
   ],
   "source": [
    "tree = UCT_search(state, 100)"
   ]
  },
  {
   "cell_type": "code",
   "execution_count": 66,
   "id": "241be72b",
   "metadata": {},
   "outputs": [],
   "source": [
    "def tensorize(state):\n",
    "    return torch.as_tensor(state.board, dtype=torch.float32)\n",
    "\n",
    "for games in range(10):\n",
    "    boards = []\n",
    "    legal_moves = []\n",
    "    state, reward, done, info = env.reset() \n",
    "    for while not done:\n",
    "        state, reward, done, info = env.step(move)\n",
    "        tree = UCTSearch\n",
    "        boards.append(tensorize(state))\n",
    "        legal_moves.append(all_legal_moves(state.board, state.ko))"
   ]
  },
  {
   "cell_type": "code",
   "execution_count": 69,
   "id": "84f7965e",
   "metadata": {},
   "outputs": [],
   "source": [
    "boards = torch.stack(boards)"
   ]
  },
  {
   "cell_type": "code",
   "execution_count": 71,
   "id": "313be1fd",
   "metadata": {},
   "outputs": [
    {
     "data": {
      "text/plain": [
       "torch.Size([5, 9, 9])"
      ]
     },
     "execution_count": 71,
     "metadata": {},
     "output_type": "execute_result"
    }
   ],
   "source": [
    "boards.shape"
   ]
  },
  {
   "cell_type": "code",
   "execution_count": 85,
   "id": "f8823adc",
   "metadata": {},
   "outputs": [
    {
     "data": {
      "text/plain": [
       "(tensor([[0.0000e+00, 1.7069e-02, 4.2378e-03, 2.8627e-03, 1.2309e-03, 1.1055e-03,\n",
       "          4.2781e-04, 5.9385e-02, 1.3311e-03, 4.3965e-03, 9.1464e-03, 1.4114e-02,\n",
       "          1.3187e-02, 1.2248e-03, 1.1151e-02, 2.4886e-02, 3.0666e-03, 1.2912e-03,\n",
       "          4.5420e-03, 2.1956e-03, 4.1933e-03, 5.6979e-03, 1.9598e-03, 3.8316e-03,\n",
       "          2.1236e-02, 5.1215e-03, 8.1335e-03, 3.6050e-03, 2.0207e-02, 1.3014e-03,\n",
       "          6.0377e-03, 8.7932e-04, 4.5097e-02, 4.6495e-02, 3.6479e-03, 4.9087e-04,\n",
       "          8.2803e-03, 3.1976e-03, 1.6818e-02, 3.6947e-03, 9.2572e-03, 9.1271e-04,\n",
       "          1.5196e-02, 1.7517e-03, 1.3186e-02, 4.6502e-03, 1.0345e-03, 3.2948e-03,\n",
       "          1.7118e-02, 6.5746e-03, 3.0423e-02, 7.7311e-02, 5.7950e-02, 2.5900e-03,\n",
       "          2.1337e-02, 0.0000e+00, 2.9044e-03, 1.3965e-01, 8.0718e-03, 8.9049e-03,\n",
       "          4.4472e-04, 4.5735e-03, 4.4404e-02, 2.9204e-03, 4.3449e-03, 4.3044e-03,\n",
       "          6.9560e-03, 1.5270e-02, 1.9981e-03, 3.5350e-03, 2.7919e-02, 4.3354e-03,\n",
       "          1.1827e-02, 4.5344e-03, 1.9963e-02, 2.9391e-04, 4.5981e-03, 5.0668e-03,\n",
       "          1.1249e-02, 9.7580e-04, 1.1593e-02, 0.0000e+00],\n",
       "         [0.0000e+00, 0.0000e+00, 1.2659e-03, 3.9064e-04, 1.3350e-03, 7.5094e-06,\n",
       "          4.0999e-04, 2.4283e-02, 1.0645e-03, 8.2620e-04, 1.5506e-03, 5.1453e-02,\n",
       "          1.4902e-02, 3.4579e-04, 4.9167e-03, 1.7821e-02, 1.5485e-03, 1.6629e-04,\n",
       "          2.7524e-03, 1.1465e-02, 7.2627e-03, 1.2477e-02, 1.1243e-02, 8.0247e-03,\n",
       "          2.2237e-02, 1.3907e-03, 2.1337e-02, 4.5350e-03, 0.0000e+00, 1.6583e-04,\n",
       "          2.3825e-03, 1.0264e-04, 8.8273e-03, 3.1080e-02, 3.5398e-04, 1.9020e-04,\n",
       "          3.2554e-04, 7.7648e-04, 3.5136e-02, 8.4352e-04, 9.7714e-03, 1.1073e-03,\n",
       "          9.5971e-03, 3.8089e-04, 3.2366e-02, 2.4593e-03, 1.1170e-03, 5.3244e-03,\n",
       "          6.4170e-03, 2.9794e-02, 8.7725e-03, 4.9079e-02, 1.3584e-02, 7.5617e-03,\n",
       "          2.0540e-03, 0.0000e+00, 1.2055e-03, 4.4381e-02, 3.0201e-03, 3.9031e-03,\n",
       "          1.0469e-03, 3.0225e-03, 3.7773e-02, 1.8169e-03, 1.1244e-03, 2.3191e-02,\n",
       "          1.3569e-02, 1.7395e-02, 6.8755e-04, 2.0328e-03, 1.2465e-01, 6.1416e-04,\n",
       "          9.7221e-03, 3.6334e-03, 1.1082e-01, 3.3856e-05, 3.2554e-03, 1.2791e-02,\n",
       "          3.5116e-03, 2.7137e-03, 8.9512e-02, 0.0000e+00],\n",
       "         [0.0000e+00, 0.0000e+00, 0.0000e+00, 4.1549e-04, 1.0795e-03, 1.2629e-06,\n",
       "          1.9478e-04, 2.0934e-02, 7.1448e-05, 0.0000e+00, 4.0568e-03, 1.0123e-01,\n",
       "          2.4370e-03, 3.9153e-04, 1.0274e-03, 4.7557e-04, 3.3218e-04, 1.0353e-04,\n",
       "          5.2444e-03, 8.1453e-03, 1.4120e-02, 7.2288e-04, 3.4760e-04, 1.1094e-02,\n",
       "          9.8780e-03, 9.9331e-04, 1.4858e-02, 9.4154e-03, 0.0000e+00, 6.8619e-04,\n",
       "          9.4470e-03, 2.3794e-04, 1.1642e-02, 5.0453e-03, 3.2042e-03, 1.3527e-05,\n",
       "          5.5329e-05, 2.6836e-03, 1.7861e-02, 7.9853e-05, 5.0942e-02, 7.0317e-04,\n",
       "          2.1013e-02, 8.2984e-04, 6.8349e-02, 4.7018e-05, 2.6210e-04, 3.8371e-03,\n",
       "          3.1224e-04, 1.9203e-03, 7.7186e-02, 2.3661e-02, 3.6120e-03, 5.7374e-03,\n",
       "          3.8098e-03, 0.0000e+00, 1.7376e-02, 9.0325e-03, 3.3651e-03, 4.7097e-04,\n",
       "          1.5966e-03, 2.8129e-03, 3.1266e-03, 2.9035e-03, 2.4716e-04, 5.9334e-02,\n",
       "          2.2044e-03, 1.6526e-01, 1.3236e-04, 2.9506e-04, 3.4522e-02, 1.7134e-03,\n",
       "          7.7007e-03, 2.0210e-04, 4.1825e-02, 2.3119e-05, 5.0756e-04, 5.4173e-04,\n",
       "          2.2435e-03, 2.7383e-04, 1.2154e-01, 0.0000e+00],\n",
       "         [0.0000e+00, 0.0000e+00, 0.0000e+00, 0.0000e+00, 2.4734e-03, 4.8323e-08,\n",
       "          5.9359e-06, 1.1897e-02, 2.4258e-05, 0.0000e+00, 6.0412e-04, 1.5920e-02,\n",
       "          1.5370e-04, 6.4504e-04, 0.0000e+00, 2.7509e-04, 4.1179e-04, 2.1845e-05,\n",
       "          1.1158e-03, 9.2036e-03, 8.7226e-04, 1.5005e-04, 1.5123e-05, 1.2153e-03,\n",
       "          7.9829e-03, 5.0093e-04, 1.1626e-02, 3.7987e-04, 0.0000e+00, 1.1429e-02,\n",
       "          5.5368e-03, 1.8897e-04, 3.8315e-03, 8.3040e-04, 1.7280e-02, 4.4078e-05,\n",
       "          2.4255e-06, 5.8760e-04, 1.1223e-01, 3.0164e-06, 4.6165e-02, 7.4084e-04,\n",
       "          2.0732e-02, 6.0369e-04, 7.3303e-02, 4.2944e-06, 9.2844e-05, 8.4644e-03,\n",
       "          7.5505e-04, 1.8101e-04, 1.8832e-03, 2.5623e-03, 9.3091e-04, 1.0072e-03,\n",
       "          1.7573e-02, 0.0000e+00, 6.8202e-03, 1.3519e-04, 9.1477e-04, 5.1038e-04,\n",
       "          1.6329e-03, 5.2521e-04, 1.7342e-03, 5.9579e-04, 7.2748e-05, 3.3352e-01,\n",
       "          9.4291e-04, 2.1764e-03, 1.7109e-05, 1.4590e-04, 6.2461e-02, 1.3333e-05,\n",
       "          1.3937e-02, 1.6293e-04, 5.7036e-03, 5.2297e-06, 1.0531e-04, 5.4188e-03,\n",
       "          3.8661e-04, 6.4600e-05, 1.6954e-01, 0.0000e+00],\n",
       "         [0.0000e+00, 0.0000e+00, 0.0000e+00, 0.0000e+00, 0.0000e+00, 6.4077e-07,\n",
       "          1.0596e-06, 0.0000e+00, 4.7938e-06, 0.0000e+00, 3.4721e-04, 1.4107e-03,\n",
       "          3.6201e-05, 1.2963e-03, 0.0000e+00, 6.9414e-06, 5.7008e-05, 7.9787e-05,\n",
       "          1.6327e-04, 2.7576e-02, 3.1315e-05, 3.9706e-05, 4.2933e-06, 4.2898e-03,\n",
       "          1.8065e-04, 9.4003e-05, 1.7974e-01, 2.7892e-04, 0.0000e+00, 1.3119e-02,\n",
       "          3.2306e-03, 9.2266e-05, 6.9132e-04, 1.7083e-03, 1.2277e-02, 7.6295e-07,\n",
       "          1.0758e-06, 6.5233e-05, 3.3127e-01, 2.4010e-07, 5.3997e-03, 7.3003e-05,\n",
       "          2.4253e-02, 2.0709e-04, 2.2474e-02, 3.4514e-07, 2.0139e-04, 7.2848e-04,\n",
       "          1.5816e-05, 3.5266e-04, 1.0692e-05, 1.2619e-03, 7.0232e-05, 1.7696e-03,\n",
       "          1.6061e-02, 0.0000e+00, 1.8821e-03, 1.5035e-05, 1.1800e-04, 3.9679e-04,\n",
       "          3.3114e-03, 5.3002e-05, 1.5718e-03, 6.5195e-04, 6.1874e-06, 4.6830e-02,\n",
       "          4.8125e-05, 1.3459e-03, 1.3759e-05, 4.9025e-05, 5.6085e-04, 2.3602e-05,\n",
       "          6.3794e-03, 3.3772e-05, 6.5035e-04, 1.8434e-05, 4.4778e-05, 2.5710e-03,\n",
       "          4.9953e-05, 1.5390e-04, 2.8225e-01, 0.0000e+00]],\n",
       "        grad_fn=<SoftmaxBackward0>),\n",
       " tensor([[0.7188],\n",
       "         [0.2165],\n",
       "         [0.9987],\n",
       "         [0.9986],\n",
       "         [1.0000]], grad_fn=<TanhBackward0>))"
      ]
     },
     "execution_count": 85,
     "metadata": {},
     "output_type": "execute_result"
    }
   ],
   "source": [
    "net(boards, legal_moves)"
   ]
  }
 ],
 "metadata": {
  "kernelspec": {
   "display_name": "Python 3 (ipykernel)",
   "language": "python",
   "name": "python3"
  },
  "language_info": {
   "codemirror_mode": {
    "name": "ipython",
    "version": 3
   },
   "file_extension": ".py",
   "mimetype": "text/x-python",
   "name": "python",
   "nbconvert_exporter": "python",
   "pygments_lexer": "ipython3",
   "version": "3.10.4"
  }
 },
 "nbformat": 4,
 "nbformat_minor": 5
}

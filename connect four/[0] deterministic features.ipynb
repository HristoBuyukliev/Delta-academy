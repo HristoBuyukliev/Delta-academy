{
 "cells": [
  {
   "cell_type": "code",
   "execution_count": 48,
   "id": "8d58428a",
   "metadata": {},
   "outputs": [],
   "source": [
    "import numpy as np\n",
    "from einops import rearrange, reduce\n",
    "from scipy import ndimage\n",
    "\n",
    "import torch\n",
    "import torch.nn as nn"
   ]
  },
  {
   "cell_type": "code",
   "execution_count": 42,
   "id": "38a226b7",
   "metadata": {},
   "outputs": [
    {
     "data": {
      "text/plain": [
       "array([1, 0])"
      ]
     },
     "execution_count": 42,
     "metadata": {},
     "output_type": "execute_result"
    }
   ],
   "source": [
    "# 1. sum along axes\n",
    "(board.sum(axis=1) > 0).astype(int)"
   ]
  },
  {
   "cell_type": "code",
   "execution_count": 43,
   "id": "a630acf5",
   "metadata": {},
   "outputs": [
    {
     "data": {
      "text/plain": [
       "array([[ 0,  1,  0],\n",
       "       [-1,  1, -1]])"
      ]
     },
     "execution_count": 43,
     "metadata": {},
     "output_type": "execute_result"
    }
   ],
   "source": [
    "board"
   ]
  },
  {
   "cell_type": "code",
   "execution_count": 258,
   "id": "abe540f6",
   "metadata": {},
   "outputs": [],
   "source": [
    "row = np.array([0,1,1,1,0,-1,-1,-1])\n",
    "board = np.zeros((6,8))\n",
    "board[0,:] = row"
   ]
  },
  {
   "cell_type": "code",
   "execution_count": 59,
   "id": "75a1925a",
   "metadata": {},
   "outputs": [
    {
     "data": {
      "text/plain": [
       "array([[ 0.,  1.,  1.,  1.,  0., -1., -1., -1.],\n",
       "       [ 0.,  0.,  0.,  0.,  0.,  0.,  0.,  0.],\n",
       "       [ 0.,  0.,  0.,  0.,  0.,  0.,  0.,  0.],\n",
       "       [ 0.,  0.,  0.,  0.,  0.,  0.,  0.,  0.],\n",
       "       [ 0.,  0.,  0.,  0.,  0.,  0.,  0.,  0.],\n",
       "       [ 0.,  0.,  0.,  0.,  0.,  0.,  0.,  0.]])"
      ]
     },
     "execution_count": 59,
     "metadata": {},
     "output_type": "execute_result"
    }
   ],
   "source": [
    "board"
   ]
  },
  {
   "cell_type": "code",
   "execution_count": null,
   "id": "45140cee",
   "metadata": {},
   "outputs": [],
   "source": []
  },
  {
   "cell_type": "code",
   "execution_count": 92,
   "id": "086072f6",
   "metadata": {},
   "outputs": [
    {
     "data": {
      "text/plain": [
       "array([[ 0.,  1.,  1.,  1.,  0., -1., -1., -1.],\n",
       "       [ 0.,  0.,  0.,  0.,  0.,  0.,  0.,  0.],\n",
       "       [ 0.,  0.,  0.,  0.,  0.,  0.,  0.,  0.],\n",
       "       [ 0.,  0.,  0.,  0.,  0.,  0.,  0.,  0.],\n",
       "       [ 0.,  0.,  0.,  0.,  0.,  0.,  0.,  0.],\n",
       "       [ 0.,  0.,  0.,  0.,  0.,  0.,  0.,  0.]])"
      ]
     },
     "execution_count": 92,
     "metadata": {},
     "output_type": "execute_result"
    }
   ],
   "source": [
    "board"
   ]
  },
  {
   "cell_type": "code",
   "execution_count": null,
   "id": "b7055e10",
   "metadata": {},
   "outputs": [],
   "source": [
    "vf(board_t) = neural_network(board_t) = 1-alpha*vf(board_t) + alpha*(board_t+1 + reward_t+1)"
   ]
  },
  {
   "cell_type": "code",
   "execution_count": 102,
   "id": "4af3f865",
   "metadata": {},
   "outputs": [
    {
     "data": {
      "text/plain": [
       "array([[[ 0,  1,  0, -1],\n",
       "        [-1, -1,  0,  0],\n",
       "        [-1,  1, -1, -1]],\n",
       "\n",
       "       [[-1,  1,  1, -1],\n",
       "        [ 0,  0,  1,  1],\n",
       "        [-1,  0, -1, -1]]])"
      ]
     },
     "execution_count": 102,
     "metadata": {},
     "output_type": "execute_result"
    }
   ],
   "source": [
    "random_feature_vectors"
   ]
  },
  {
   "cell_type": "code",
   "execution_count": 221,
   "id": "128eae8e",
   "metadata": {},
   "outputs": [
    {
     "data": {
      "text/plain": [
       "array([[ 0.,  1.,  1.,  1.,  0., -1., -1., -1.],\n",
       "       [ 0.,  0.,  0.,  0.,  0.,  0.,  0.,  0.],\n",
       "       [ 0.,  0.,  0.,  0.,  0.,  0.,  0.,  0.],\n",
       "       [ 0.,  0.,  0.,  0.,  0.,  0.,  0.,  0.],\n",
       "       [ 0.,  0.,  0.,  0.,  0.,  0.,  0.,  0.],\n",
       "       [ 0.,  0.,  0.,  0.,  0.,  0.,  0.,  0.]])"
      ]
     },
     "execution_count": 221,
     "metadata": {},
     "output_type": "execute_result"
    }
   ],
   "source": [
    "board"
   ]
  },
  {
   "cell_type": "code",
   "execution_count": 218,
   "id": "a72cf677",
   "metadata": {},
   "outputs": [],
   "source": [
    "nn.functional.conv1d?"
   ]
  },
  {
   "cell_type": "code",
   "execution_count": 260,
   "id": "97fa9eb0",
   "metadata": {},
   "outputs": [],
   "source": [
    "x = 100 # some random big number which only works with zero\n",
    "filters = [\n",
    "    ([x,1,1,1,x], 3),# double-open triplet\n",
    "    ([x,-1,-1,-1,x], 3),\n",
    "    ([x,1,1,x,0], 2), # double-open twople\n",
    "    ([x,-1,-1,x,0], 2),\n",
    "    ([0,1,x,1,0], 2), # single-gap triplet\n",
    "    ([0,-1,x,-1,0], 2),\n",
    "    ([0,1,1,1,x], 3),# single-open triplet, right\n",
    "    ([0,-1,-1,-1,x], 3),\n",
    "    ([x,1,1,1,0], 3),# single-open triplet, left\n",
    "    ([x,-1,-1,-1,0], 3)\n",
    "]\n",
    "filter_matrix = np.array([f[0] for f in filters])\n",
    "filter_tensor = torch.Tensor(rearrange(filter_matrix, ('in kernel -> in 1 kernel')))\n",
    "targets = np.array([f[1] for f in filters])\n",
    "targets = rearrange(torch.Tensor(targets), 'f -> 1 f 1')\n",
    "layer = nn.Conv1d(in_channels=1, out_channels=len(filters), bias=False, kernel_size=5)\n",
    "board_tensor = nn.functional.pad(torch.Tensor(board.reshape(6,1,8)), (2,2), mode='constant', value=100)\n",
    "result = nn.functional.conv1d(board_tensor, filter_tensor, bias=None, padding='valid')\n",
    "features = (result == targets).any(axis=0).any(axis=1).detach().numpy().astype(int)"
   ]
  },
  {
   "cell_type": "code",
   "execution_count": 256,
   "id": "10e6d86b",
   "metadata": {},
   "outputs": [
    {
     "data": {
      "text/plain": [
       "array([1, 0, 0, 0, 0, 0, 1, 0, 1, 1])"
      ]
     },
     "execution_count": 256,
     "metadata": {},
     "output_type": "execute_result"
    }
   ],
   "source": [
    "features"
   ]
  },
  {
   "cell_type": "code",
   "execution_count": 249,
   "id": "061fcaa6",
   "metadata": {},
   "outputs": [
    {
     "data": {
      "text/plain": [
       "torch.Size([6, 10, 4])"
      ]
     },
     "execution_count": 249,
     "metadata": {},
     "output_type": "execute_result"
    }
   ],
   "source": [
    "result.shape"
   ]
  },
  {
   "cell_type": "code",
   "execution_count": 233,
   "id": "6926ec97",
   "metadata": {},
   "outputs": [
    {
     "data": {
      "text/plain": [
       "array([1, 1, 0, 0, 0, 0, 1, 1, 1, 1])"
      ]
     },
     "execution_count": 233,
     "metadata": {},
     "output_type": "execute_result"
    }
   ],
   "source": [
    "features"
   ]
  },
  {
   "cell_type": "code",
   "execution_count": 261,
   "id": "1eaaeea6",
   "metadata": {},
   "outputs": [],
   "source": [
    "x = 100 # some random big number which only works with zero\n",
    "filters = [\n",
    "    ([x,1,1,1,x], 3),# double-open triplet\n",
    "    ([x,1,1,x,0], 2), # double-open twople\n",
    "    ([0,1,x,1,0], 2), # single-gap triplet\n",
    "    ([0,1,1,1,x], 3),# single-open triplet, right\n",
    "    ([x,1,1,1,0], 3),# single-open triplet, left\n",
    "]\n",
    "filter_matrix = np.array([f[0] for f in filters])\n",
    "filter_tensor = torch.Tensor(rearrange(filter_matrix, ('in kernel -> in 1 kernel')))\n",
    "targets = np.array([f[1] for f in filters])\n",
    "targets = rearrange(torch.Tensor(targets), 'f -> 1 f 1')\n",
    "layer = nn.Conv1d(in_channels=1, out_channels=5, bias=False, kernel_size=5)\n",
    "board_tensor = nn.functional.pad(torch.Tensor(board.reshape(6,1,8)), (2,2), mode='constant', value=100)\n",
    "result = nn.functional.conv1d(board_tensor, filter_tensor, bias=None, padding='valid')\n",
    "features_me  = (result ==  targets).any(axis=0).any(axis=1).detach().numpy().astype(int)\n",
    "features_him = (result == -targets).any(axis=0).any(axis=1).detach().numpy().astype(int)"
   ]
  },
  {
   "cell_type": "code",
   "execution_count": 276,
   "id": "e7825eed",
   "metadata": {},
   "outputs": [
    {
     "ename": "RuntimeError",
     "evalue": "Given groups=1, weight of size [2, 1, 4, 4], expected input[1, 6, 1, 12] to have 1 channels, but got 6 channels instead",
     "output_type": "error",
     "traceback": [
      "\u001b[1;31m---------------------------------------------------------------------------\u001b[0m",
      "\u001b[1;31mRuntimeError\u001b[0m                              Traceback (most recent call last)",
      "Input \u001b[1;32mIn [276]\u001b[0m, in \u001b[0;36m<cell line: 34>\u001b[1;34m()\u001b[0m\n\u001b[0;32m     32\u001b[0m targets2d \u001b[38;5;241m=\u001b[39m rearrange(torch\u001b[38;5;241m.\u001b[39mTensor(targets2d), \u001b[38;5;124m'\u001b[39m\u001b[38;5;124mf -> 1 f\u001b[39m\u001b[38;5;124m'\u001b[39m)\n\u001b[0;32m     33\u001b[0m \u001b[38;5;66;03m# layer2d = nn.Conv2d(in_channels=1, out_channels=len(filter_matrix2d), bias=False, kernel_size=4)\u001b[39;00m\n\u001b[1;32m---> 34\u001b[0m result \u001b[38;5;241m=\u001b[39m \u001b[43mnn\u001b[49m\u001b[38;5;241;43m.\u001b[39;49m\u001b[43mfunctional\u001b[49m\u001b[38;5;241;43m.\u001b[39;49m\u001b[43mconv2d\u001b[49m\u001b[43m(\u001b[49m\u001b[43mboard_tensor\u001b[49m\u001b[43m,\u001b[49m\u001b[43m \u001b[49m\u001b[43mfilter_tensor2d\u001b[49m\u001b[43m,\u001b[49m\u001b[43m \u001b[49m\u001b[43mbias\u001b[49m\u001b[38;5;241;43m=\u001b[39;49m\u001b[38;5;28;43;01mNone\u001b[39;49;00m\u001b[43m,\u001b[49m\u001b[43m \u001b[49m\u001b[43mpadding\u001b[49m\u001b[38;5;241;43m=\u001b[39;49m\u001b[38;5;124;43m'\u001b[39;49m\u001b[38;5;124;43mvalid\u001b[39;49m\u001b[38;5;124;43m'\u001b[39;49m\u001b[43m)\u001b[49m\n",
      "\u001b[1;31mRuntimeError\u001b[0m: Given groups=1, weight of size [2, 1, 4, 4], expected input[1, 6, 1, 12] to have 1 channels, but got 6 channels instead"
     ]
    }
   ],
   "source": [
    "## 2d filters:\n",
    "\n",
    "filters2d = [\n",
    "    ([\n",
    "        [1,0,0,0],\n",
    "        [0,1,0,0],\n",
    "        [0,0,1,0],\n",
    "        [0,0,0,1]        \n",
    "    ], 4),\n",
    "    ([\n",
    "        [0,0,0,1],\n",
    "        [0,0,1,0],\n",
    "        [0,1,0,0],\n",
    "        [1,0,0,1]        \n",
    "    ], 4),\n",
    "#     ([\n",
    "#         [0,0,0,0],\n",
    "#         [0,1,0,0],\n",
    "#         [0,0,1,0],\n",
    "#         [0,0,0,1]        \n",
    "#     ], 3),\n",
    "#     ([\n",
    "#         [0,0,0,0],\n",
    "#         [0,0,1,0],\n",
    "#         [0,1,0,0],\n",
    "#         [1,0,0,1]        \n",
    "#     ], 3),\n",
    "]\n",
    "filter_matrix2d = np.array([f[0] for f in filters2d])\n",
    "filter_tensor2d = torch.Tensor(rearrange(filter_matrix2d, ('in a b -> in 1 a b')))\n",
    "targets2d = targets = np.array([f[1] for f in filters2d])\n",
    "targets2d = rearrange(torch.Tensor(targets2d), 'f -> 1 f 1')\n",
    "# layer2d = nn.Conv2d(in_channels=1, out_channels=len(filter_matrix2d), bias=False, kernel_size=4)\n",
    "result = nn.functional.conv2d(board_tensor, filter_tensor2d, bias=None, padding='valid')\n"
   ]
  },
  {
   "cell_type": "code",
   "execution_count": 279,
   "id": "6bfd914d",
   "metadata": {},
   "outputs": [],
   "source": [
    "board_tensor = nn.functional.pad(torch.Tensor(board.reshape(6,1,8)), (2,2), mode='constant', value=100)\n"
   ]
  },
  {
   "cell_type": "code",
   "execution_count": 282,
   "id": "e46f0951",
   "metadata": {},
   "outputs": [],
   "source": [
    "nn.functional.pad?"
   ]
  },
  {
   "cell_type": "code",
   "execution_count": 281,
   "id": "4c009de5",
   "metadata": {},
   "outputs": [
    {
     "data": {
      "text/plain": [
       "torch.Size([6, 1, 12])"
      ]
     },
     "execution_count": 281,
     "metadata": {},
     "output_type": "execute_result"
    }
   ],
   "source": [
    "board_tensor.shape"
   ]
  },
  {
   "cell_type": "code",
   "execution_count": 277,
   "id": "59018e60",
   "metadata": {},
   "outputs": [
    {
     "data": {
      "text/plain": [
       "torch.Size([6, 1, 12])"
      ]
     },
     "execution_count": 277,
     "metadata": {},
     "output_type": "execute_result"
    }
   ],
   "source": [
    "board_tensor.shape"
   ]
  },
  {
   "cell_type": "code",
   "execution_count": null,
   "id": "0e4c6fad",
   "metadata": {},
   "outputs": [],
   "source": [
    "result = nn.functional.conv2d(board_tensor, filter_tensor, bias=None, padding='valid')\n"
   ]
  },
  {
   "cell_type": "code",
   "execution_count": 271,
   "id": "e34dd6f1",
   "metadata": {},
   "outputs": [
    {
     "data": {
      "text/plain": [
       "(2, 4, 4)"
      ]
     },
     "execution_count": 271,
     "metadata": {},
     "output_type": "execute_result"
    }
   ],
   "source": [
    "filter_matrix2d.shape"
   ]
  },
  {
   "cell_type": "code",
   "execution_count": null,
   "id": "0e5fef61",
   "metadata": {},
   "outputs": [],
   "source": [
    "filter_tensor = torch.Tensor(rearrange(filter_matrix, ('in kernel -> in 1 kernel')))\n",
    "targets = np.array([f[1] for f in filters])\n",
    "targets = rearrange(torch.Tensor(targets), 'f -> 1 f 1')\n",
    "layer = nn.Conv1d(in_channels=1, out_channels=5, bias=False, kernel_size=5)\n",
    "board_tensor = nn.functional.pad(torch.Tensor(board.reshape(6,1,8)), (2,2), mode='constant', value=100)\n",
    "result = nn.functional.conv1d(board_tensor, filter_tensor, bias=None, padding='valid')\n",
    "features_me  = (result ==  targets).any(axis=0).any(axis=1).detach().numpy().astype(int)\n",
    "features_him = (result == -targets).any(axis=0).any(axis=1).detach().numpy().astype(int)"
   ]
  },
  {
   "cell_type": "code",
   "execution_count": 190,
   "id": "e8ce4cd4",
   "metadata": {},
   "outputs": [
    {
     "data": {
      "text/plain": [
       "tensor([[[3.],\n",
       "         [3.],\n",
       "         [2.],\n",
       "         [2.],\n",
       "         [2.],\n",
       "         [2.],\n",
       "         [3.],\n",
       "         [3.],\n",
       "         [3.],\n",
       "         [3.]]])"
      ]
     },
     "execution_count": 190,
     "metadata": {},
     "output_type": "execute_result"
    }
   ],
   "source": [
    "targets"
   ]
  },
  {
   "cell_type": "code",
   "execution_count": 174,
   "id": "113f95d9",
   "metadata": {},
   "outputs": [],
   "source": []
  },
  {
   "cell_type": "code",
   "execution_count": 176,
   "id": "8a423a03",
   "metadata": {},
   "outputs": [],
   "source": []
  },
  {
   "cell_type": "code",
   "execution_count": 217,
   "id": "739e8eb1",
   "metadata": {},
   "outputs": [
    {
     "data": {
      "text/plain": [
       "array([1, 1, 0, 0, 0, 0, 1, 1, 1, 1])"
      ]
     },
     "execution_count": 217,
     "metadata": {},
     "output_type": "execute_result"
    }
   ],
   "source": []
  },
  {
   "cell_type": "code",
   "execution_count": 188,
   "id": "991e05ab",
   "metadata": {},
   "outputs": [
    {
     "data": {
      "text/plain": [
       "tensor([[ True,  True,  True,  True, False,  True,  True,  True],\n",
       "        [ True,  True,  True,  True, False,  True,  True,  True],\n",
       "        [ True,  True,  True,  True,  True,  True,  True,  True],\n",
       "        [ True,  True,  True,  True,  True,  True,  True,  True],\n",
       "        [ True,  True,  True,  True, False,  True,  True,  True],\n",
       "        [ True,  True,  True,  True, False,  True,  True,  True],\n",
       "        [ True,  True,  True,  True,  True,  True,  True,  True],\n",
       "        [ True,  True,  True,  True,  True,  True,  True,  True],\n",
       "        [ True,  True,  True,  True,  True,  True,  True,  True],\n",
       "        [ True,  True,  True,  True,  True,  True,  True,  True]])"
      ]
     },
     "execution_count": 188,
     "metadata": {},
     "output_type": "execute_result"
    }
   ],
   "source": [
    "result.any(axis=0)"
   ]
  },
  {
   "cell_type": "code",
   "execution_count": 118,
   "id": "bfb27cee",
   "metadata": {},
   "outputs": [],
   "source": []
  },
  {
   "cell_type": "code",
   "execution_count": 136,
   "id": "7af014a4",
   "metadata": {},
   "outputs": [],
   "source": [
    "\n"
   ]
  },
  {
   "cell_type": "code",
   "execution_count": 172,
   "id": "577eaa7c",
   "metadata": {},
   "outputs": [
    {
     "name": "stdout",
     "output_type": "stream",
     "text": [
      "150 µs ± 18.8 µs per loop (mean ± std. dev. of 7 runs, 10,000 loops each)\n"
     ]
    }
   ],
   "source": [
    "%%timeit\n",
    "nn.functional.conv1d(torch.Tensor(board.reshape(6,1,8)), filter_tensor, bias=None, padding='same')\n"
   ]
  },
  {
   "cell_type": "code",
   "execution_count": 170,
   "id": "00f54131",
   "metadata": {},
   "outputs": [],
   "source": [
    "nn.functional.conv1d?"
   ]
  },
  {
   "cell_type": "code",
   "execution_count": 158,
   "id": "4d323dc2",
   "metadata": {},
   "outputs": [
    {
     "data": {
      "text/plain": [
       "(10, 5)"
      ]
     },
     "execution_count": 158,
     "metadata": {},
     "output_type": "execute_result"
    }
   ],
   "source": [
    "filter_matrix.shape"
   ]
  },
  {
   "cell_type": "code",
   "execution_count": 161,
   "id": "a5e16e0d",
   "metadata": {},
   "outputs": [],
   "source": []
  },
  {
   "cell_type": "code",
   "execution_count": 163,
   "id": "a3b0a143",
   "metadata": {},
   "outputs": [
    {
     "ename": "RuntimeError",
     "evalue": "fill_ only supports 0-dimension value tensor but got tensor with 3 dimensions.",
     "output_type": "error",
     "traceback": [
      "\u001b[1;31m---------------------------------------------------------------------------\u001b[0m",
      "\u001b[1;31mRuntimeError\u001b[0m                              Traceback (most recent call last)",
      "Input \u001b[1;32mIn [163]\u001b[0m, in \u001b[0;36m<cell line: 1>\u001b[1;34m()\u001b[0m\n\u001b[1;32m----> 1\u001b[0m \u001b[43mp\u001b[49m\u001b[38;5;241;43m.\u001b[39;49m\u001b[43mdata\u001b[49m\u001b[38;5;241;43m.\u001b[39;49m\u001b[43mfill_\u001b[49m\u001b[43m(\u001b[49m\u001b[43mfilter_tensor\u001b[49m\u001b[43m)\u001b[49m\n",
      "\u001b[1;31mRuntimeError\u001b[0m: fill_ only supports 0-dimension value tensor but got tensor with 3 dimensions."
     ]
    }
   ],
   "source": [
    "p.data."
   ]
  },
  {
   "cell_type": "code",
   "execution_count": 128,
   "id": "3f1108f1",
   "metadata": {},
   "outputs": [
    {
     "name": "stdout",
     "output_type": "stream",
     "text": [
      "Parameter containing:\n",
      "tensor([[[-0.3208,  0.2761,  0.3775, -0.2660,  0.1800]],\n",
      "\n",
      "        [[-0.0503, -0.2926,  0.1995,  0.3077,  0.4458]],\n",
      "\n",
      "        [[ 0.3979, -0.4240,  0.1047,  0.0652,  0.0152]],\n",
      "\n",
      "        [[ 0.0181, -0.1986,  0.3607,  0.2160, -0.1692]],\n",
      "\n",
      "        [[ 0.3314,  0.3982,  0.2777,  0.3729,  0.0560]],\n",
      "\n",
      "        [[-0.1033, -0.4256, -0.2859,  0.1324,  0.0803]],\n",
      "\n",
      "        [[-0.2195, -0.2319, -0.0796,  0.0173, -0.3386]],\n",
      "\n",
      "        [[-0.1479,  0.3164,  0.4013,  0.2575,  0.2271]],\n",
      "\n",
      "        [[ 0.0406, -0.3638, -0.3731, -0.3903, -0.2841]],\n",
      "\n",
      "        [[-0.2124, -0.1062, -0.3017,  0.3600, -0.0796]]], requires_grad=True)\n"
     ]
    }
   ],
   "source": [
    "for p in layer.parameters():\n",
    "    print(p)"
   ]
  },
  {
   "cell_type": "code",
   "execution_count": 110,
   "id": "6c6b5cb0",
   "metadata": {},
   "outputs": [
    {
     "data": {
      "text/plain": [
       "array([[100,   1,   1,   1, 100],\n",
       "       [100,  -1,  -1,  -1, 100],\n",
       "       [100,   1,   1, 100,   0],\n",
       "       [100,  -1,  -1, 100,   0],\n",
       "       [  0,   1, 100,   1,   0],\n",
       "       [  0,  -1, 100,  -1,   0],\n",
       "       [  0,   1,   1,   1, 100],\n",
       "       [  0,  -1,  -1,  -1, 100],\n",
       "       [100,   1,   1,   1,   0],\n",
       "       [100,  -1,  -1,  -1,   0]])"
      ]
     },
     "execution_count": 110,
     "metadata": {},
     "output_type": "execute_result"
    }
   ],
   "source": [
    "filter_matrix"
   ]
  },
  {
   "cell_type": "code",
   "execution_count": 97,
   "id": "9de18fe2",
   "metadata": {},
   "outputs": [],
   "source": [
    "def get_features(board):\n",
    "\n",
    "    ## 1d filter and target value. \n",
    "\n",
    "    x = 100 # some random big number which only works with zero\n",
    "    filters = [\n",
    "        ([x,1,1,1,x], 3),# double-open triplet\n",
    "        ([x,-1,-1,-1,x], 3),\n",
    "        ([x,1,1,x,0], 2), # double-open twople\n",
    "        ([x,-1,-1,x], 2),\n",
    "        ([0,1,x,1,0], 2), # single-gap triplet\n",
    "        ([0,-1,x,-1,0], 2),\n",
    "        ([0,1,1,1,x], 3),# single-open triplet, right\n",
    "        ([0,-1,-1,-1,x], 3),\n",
    "        ([x,1,1,1,0], 3),# single-open triplet, left\n",
    "        ([x,-1,-1,-1,0], 3)\n",
    "    ]\n",
    "    features = []\n",
    "    for filter_, target in filters:\n",
    "        features.append(int((ndimage.convolve1d(board, filter_, cval=13, mode='constant') == target).any()))\n",
    "    bt = board.transpose()\n",
    "    for filter_, target in filters:\n",
    "        features.append(int((ndimage.convolve1d(bt, filter_, cval=13, mode='constant') == target).any()))\n",
    "    return np.array(features)"
   ]
  },
  {
   "cell_type": "code",
   "execution_count": 98,
   "id": "881d9883",
   "metadata": {},
   "outputs": [
    {
     "name": "stdout",
     "output_type": "stream",
     "text": [
      "1.39 ms ± 97.3 µs per loop (mean ± std. dev. of 7 runs, 1,000 loops each)\n"
     ]
    }
   ],
   "source": [
    "%%timeit\n",
    "get_features(board)"
   ]
  },
  {
   "cell_type": "code",
   "execution_count": 100,
   "id": "85e5a82e",
   "metadata": {},
   "outputs": [],
   "source": [
    "def to_feature_vector(board):\n",
    "    \"\"\"\n",
    "    TODO: Write this function to convert the state to a feature vector.\n",
    "\n",
    "    We suggest you use functions in game_mechanics.py to make a handcrafted\n",
    "     feature vector based on the state of the board.\n",
    "\n",
    "    Feature vectors are covered in Tutorial 6 (don't need 4 or 5 to do 6!)\n",
    "\n",
    "    Args:\n",
    "        state: board state as a np array. 1's are your pieces. -1's your\n",
    "                opponent's pieces & 0's are empty.\n",
    "\n",
    "    Returns: the feature for this state, as designed by you.\n",
    "    \"\"\"\n",
    "    mult = (rearrange(board, 'w h -> w h 1')*random_feature_vectors)\n",
    "    random_features = (reduce(mult, 'w h f -> f', 'sum') > 0).astype(int)\n",
    "    return random_features"
   ]
  },
  {
   "cell_type": "code",
   "execution_count": 105,
   "id": "6e4a7278",
   "metadata": {},
   "outputs": [
    {
     "name": "stdout",
     "output_type": "stream",
     "text": [
      "49.7 µs ± 4.24 µs per loop (mean ± std. dev. of 7 runs, 10,000 loops each)\n"
     ]
    }
   ],
   "source": [
    "%%timeit\n",
    "to_feature_vector(board)"
   ]
  },
  {
   "cell_type": "code",
   "execution_count": null,
   "id": "6009cf54",
   "metadata": {},
   "outputs": [],
   "source": [
    "ndimage.convolve1d(board, filter_, cval=13, mode='constant')"
   ]
  },
  {
   "cell_type": "code",
   "execution_count": 81,
   "id": "6d34244e",
   "metadata": {},
   "outputs": [
    {
     "name": "stdout",
     "output_type": "stream",
     "text": [
      "[100, 1, 1, 1, 100] 3\n",
      "True\n",
      "[100, -1, -1, -1, 100] 3\n",
      "False\n",
      "[100, 1, 1, 100] 2\n",
      "False\n",
      "[100, -1, -1, 100] 2\n",
      "False\n",
      "[1, 100, 1] 2\n",
      "False\n",
      "[-1, 100, -1] 2\n",
      "False\n",
      "[1, 1, 1, 100] 3\n",
      "True\n",
      "[-1, -1, -1, 100] 3\n",
      "True\n",
      "[100, 1, 1, 1] 3\n",
      "True\n",
      "[100, -1, -1, -1] 3\n",
      "False\n"
     ]
    }
   ],
   "source": [
    "for filter_, target in filters:\n",
    "    print(filter_, target)\n",
    "    print((ndimage.convolve1d(board, filter_, cval=13, mode='constant') == target).any())"
   ]
  },
  {
   "cell_type": "code",
   "execution_count": 65,
   "id": "c53f0e58",
   "metadata": {},
   "outputs": [
    {
     "data": {
      "text/plain": [
       "True"
      ]
     },
     "execution_count": 65,
     "metadata": {},
     "output_type": "execute_result"
    }
   ],
   "source": [
    "(ndimage.convolve1d(board, np.array([-100,1,1,1,-100])) == 3).any()"
   ]
  },
  {
   "cell_type": "code",
   "execution_count": 50,
   "id": "5fd55da1",
   "metadata": {},
   "outputs": [],
   "source": [
    "ndimage.find_objects?"
   ]
  },
  {
   "cell_type": "code",
   "execution_count": 53,
   "id": "5ce19908",
   "metadata": {},
   "outputs": [],
   "source": [
    "## we are looking for [0,1,1,1,0]."
   ]
  },
  {
   "cell_type": "code",
   "execution_count": 54,
   "id": "c184b997",
   "metadata": {},
   "outputs": [],
   "source": [
    "target_subsequence = np.array([0,1,1,1,0])"
   ]
  },
  {
   "cell_type": "code",
   "execution_count": 55,
   "id": "a23aeb7e",
   "metadata": {},
   "outputs": [
    {
     "name": "stderr",
     "output_type": "stream",
     "text": [
      "C:\\Users\\hristo\\AppData\\Local\\Temp\\ipykernel_19324\\3968789267.py:1: DeprecationWarning: elementwise comparison failed; this will raise an error in the future.\n",
      "  target_subsequence in row\n"
     ]
    },
    {
     "data": {
      "text/plain": [
       "False"
      ]
     },
     "execution_count": 55,
     "metadata": {},
     "output_type": "execute_result"
    }
   ],
   "source": [
    "target_subsequence in row"
   ]
  },
  {
   "cell_type": "code",
   "execution_count": 51,
   "id": "db608998",
   "metadata": {},
   "outputs": [
    {
     "data": {
      "text/plain": [
       "[(slice(1, 4, None),)]"
      ]
     },
     "execution_count": 51,
     "metadata": {},
     "output_type": "execute_result"
    }
   ],
   "source": [
    "ndimage.find_objects(row, max_label=-2)"
   ]
  },
  {
   "cell_type": "code",
   "execution_count": null,
   "id": "1bdeb76d",
   "metadata": {},
   "outputs": [],
   "source": [
    "def max_cons(array, color=0):\n",
    "    '''\n",
    "    given 1d array, return the number of consequtive numbers of this color\n",
    "    '''\n",
    "    "
   ]
  },
  {
   "cell_type": "code",
   "execution_count": null,
   "id": "0e0a06f9",
   "metadata": {},
   "outputs": [],
   "source": [
    "def features(board):\n",
    "    ## horizontal dominance:\n",
    "    h_dom = (board.sum(axis=1) > 0).astype(int)\n",
    "    ## vertical dominance:\n",
    "    v_dom = (board.sum(axis=1) > 0).astype(int)"
   ]
  },
  {
   "cell_type": "code",
   "execution_count": 17,
   "id": "f7860f2c",
   "metadata": {},
   "outputs": [
    {
     "data": {
      "text/plain": [
       "array([1, 1])"
      ]
     },
     "execution_count": 17,
     "metadata": {},
     "output_type": "execute_result"
    }
   ],
   "source": [
    "# 2. number of chips of given color along given axis\n",
    "(board == 1).sum(axis=1)"
   ]
  },
  {
   "cell_type": "code",
   "execution_count": 12,
   "id": "cc4eaf29",
   "metadata": {},
   "outputs": [
    {
     "data": {
      "text/plain": [
       "array([0])"
      ]
     },
     "execution_count": 12,
     "metadata": {},
     "output_type": "execute_result"
    }
   ],
   "source": [
    "# same thing for diagonals\n",
    "board.diagonal(offset=2)"
   ]
  },
  {
   "cell_type": "code",
   "execution_count": 16,
   "id": "bc8ab1ed",
   "metadata": {},
   "outputs": [
    {
     "data": {
      "text/plain": [
       "array([ 1, -1])"
      ]
     },
     "execution_count": 16,
     "metadata": {},
     "output_type": "execute_result"
    }
   ],
   "source": [
    "board.diagonal(axis1=1,axis2=0, offset=-1)"
   ]
  },
  {
   "cell_type": "code",
   "execution_count": null,
   "id": "d5408370",
   "metadata": {},
   "outputs": [],
   "source": [
    "# 3. consequtive chips of a color along rows\n"
   ]
  },
  {
   "cell_type": "markdown",
   "id": "07e514f4",
   "metadata": {},
   "source": [
    "# 4. fuck all that, the search space is becoming as big as the original"
   ]
  },
  {
   "cell_type": "code",
   "execution_count": null,
   "id": "6eec0dbb",
   "metadata": {},
   "outputs": [],
   "source": [
    "random_matrix = np.random.randint"
   ]
  },
  {
   "cell_type": "code",
   "execution_count": 104,
   "id": "5d2ebaa2",
   "metadata": {},
   "outputs": [],
   "source": [
    "random_feature_vectors = np.random.randint(-1,2,(6,8,15))"
   ]
  },
  {
   "cell_type": "code",
   "execution_count": 28,
   "id": "6dc6e6a6",
   "metadata": {},
   "outputs": [],
   "source": [
    "a = (rearrange(board, 'w h -> w h 1')*random_feature_vectors)"
   ]
  },
  {
   "cell_type": "code",
   "execution_count": 36,
   "id": "314a74b0",
   "metadata": {},
   "outputs": [],
   "source": [
    "rf = (reduce(a, 'w h f -> f', 'sum') > 0).astype(int)"
   ]
  },
  {
   "cell_type": "code",
   "execution_count": 37,
   "id": "1d4ae613",
   "metadata": {},
   "outputs": [
    {
     "data": {
      "text/plain": [
       "array([1, 0, 1, 1])"
      ]
     },
     "execution_count": 37,
     "metadata": {},
     "output_type": "execute_result"
    }
   ],
   "source": [
    "rf"
   ]
  }
 ],
 "metadata": {
  "kernelspec": {
   "display_name": "Python 3 (ipykernel)",
   "language": "python",
   "name": "python3"
  },
  "language_info": {
   "codemirror_mode": {
    "name": "ipython",
    "version": 3
   },
   "file_extension": ".py",
   "mimetype": "text/x-python",
   "name": "python",
   "nbconvert_exporter": "python",
   "pygments_lexer": "ipython3",
   "version": "3.9.12"
  }
 },
 "nbformat": 4,
 "nbformat_minor": 5
}

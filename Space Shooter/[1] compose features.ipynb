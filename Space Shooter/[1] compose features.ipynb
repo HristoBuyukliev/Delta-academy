{
 "cells": [
  {
   "cell_type": "code",
   "execution_count": 1,
   "id": "a2a30d41",
   "metadata": {},
   "outputs": [
    {
     "name": "stdout",
     "output_type": "stream",
     "text": [
      "pygame 2.1.2 (SDL 2.0.16, Python 3.10.4)\n",
      "Hello from the pygame community. https://www.pygame.org/contribute.html\n"
     ]
    }
   ],
   "source": [
    "import torch\n",
    "import torch.nn as nn\n",
    "import torch.nn.functional as F\n",
    "import numpy as np\n",
    "\n",
    "import random\n",
    "from einops.layers.torch import Rearrange\n",
    "from einops import rearrange\n",
    "\n",
    "from typing import Any, Dict, Tuple, Optional\n",
    "from game_mechanics import (\n",
    "    ChooseMoveCheckpoint,\n",
    "    ShooterEnv,\n",
    "    checkpoint_model,\n",
    "    choose_move_randomly,\n",
    "    human_player,\n",
    "    load_network,\n",
    "    play_shooter,\n",
    "    save_network,\n",
    ")\n",
    "from tqdm.notebook import tqdm\n",
    "\n",
    "from functools import partial\n",
    "import pandas as pd\n",
    "from datetime import datetime\n",
    "import matplotlib.pyplot as plt\n",
    "from copy import deepcopy\n",
    "from functools import partial\n",
    "\n",
    "from utils import *\n",
    "%load_ext autoreload\n",
    "%autoreload 2"
   ]
  },
  {
   "cell_type": "code",
   "execution_count": 2,
   "id": "67f83c0e",
   "metadata": {},
   "outputs": [],
   "source": [
    "def choose_move(state, neural_network: nn.Module) -> int:\n",
    "    probs = neural_network(state.to(device))\n",
    "    probs = probs.cpu().detach().numpy()\n",
    "    move = np.random.choice(range(6), p=probs)\n",
    "    return int(move)"
   ]
  },
  {
   "cell_type": "code",
   "execution_count": 4,
   "id": "cfc4e2c7",
   "metadata": {},
   "outputs": [],
   "source": [
    "env = ShooterEnv(opponent_choose_move=choose_move_randomly, \n",
    "                 game_speed_multiplier=100_000,\n",
    "                 include_barriers=False,\n",
    "                 half_sized_game=True)"
   ]
  },
  {
   "cell_type": "code",
   "execution_count": 7,
   "id": "62291273",
   "metadata": {},
   "outputs": [],
   "source": [
    "state, reward, done, info = env.reset()"
   ]
  },
  {
   "cell_type": "code",
   "execution_count": 38,
   "id": "c549e140",
   "metadata": {},
   "outputs": [],
   "source": [
    "def angle(point1, point2):\n",
    "    distance = np.linalg.norm(point1 - point2)\n",
    "    sin = (point1[0] - point2[0]) / distance\n",
    "    cos = (point1[1] - point2[1]) / distance\n",
    "    return [sin.item(), cos.item()]\n",
    "    \n",
    "def distance(point1, point2):\n",
    "    return np.linalg.norm(point1 - point2)\n",
    "\n",
    "def add_features(state):\n",
    "    distance_ships = distance(state[:2], state[4:6])\n",
    "    distance_ships\n",
    "    angles_ships = angle(state[:2], state[4:6])\n",
    "    angles_ships\n",
    "\n",
    "    distance_bullets1_ship2 = [distance(state[4:6], state[8:10]), distance(state[4:6], state[12:14])]\n",
    "    if (state[8:10] == torch.as_tensor([-1, -1])).all().item():\n",
    "        distance_bullets1_ship2[0] = 10\n",
    "    if (state[12:14] == torch.as_tensor([-1, -1])).all().item():\n",
    "        distance_bullets1_ship2[1] = 10\n",
    "    distance_bullets1_ship2\n",
    "\n",
    "    distance_bullets2_ship1 = [distance(state[0:2], state[16:18]), distance(state[0:2], state[20:22])]\n",
    "    if (state[16:18] == torch.as_tensor([-1, -1])).all().item():\n",
    "        distance_bullets1_ship2[0] = 10\n",
    "    if (state[20:22] == torch.as_tensor([-1, -1])).all().item():\n",
    "        distance_bullets1_ship2[1] = 10\n",
    "\n",
    "    bullets_fired = [1,1,1,1]\n",
    "    if (state[8:10] == torch.as_tensor([-1, -1])).all().item():\n",
    "        bullets_fired[0] = 0\n",
    "    if (state[12:14] == torch.as_tensor([-1, -1])).all().item():\n",
    "        bullets_fired[1] = 0\n",
    "    if (state[16:18] == torch.as_tensor([-1, -1])).all().item():\n",
    "        bullets_fired[2] = 0\n",
    "    if (state[20:22] == torch.as_tensor([-1, -1])).all().item():\n",
    "        bullets_fired[3] = 0\n",
    "\n",
    "    features = [distance_ships] + angles_ships + distance_bullets1_ship2 + distance_bullets2_ship1 + bullets_fired\n",
    "    features = torch.as_tensor(features, dtype=torch.float32)\n",
    "    return torch.cat([state, features])"
   ]
  },
  {
   "cell_type": "code",
   "execution_count": null,
   "id": "e0d68b83",
   "metadata": {},
   "outputs": [],
   "source": [
    "add"
   ]
  },
  {
   "cell_type": "code",
   "execution_count": 34,
   "id": "93121992",
   "metadata": {},
   "outputs": [],
   "source": [
    "\n",
    "# distance(state[:2], state[4:6])"
   ]
  },
  {
   "cell_type": "code",
   "execution_count": 35,
   "id": "c16fedeb",
   "metadata": {},
   "outputs": [
    {
     "data": {
      "text/plain": [
       "[1.5999999, 0.0, -1.0, 10, 10, 1.0189416, 1.0189416, 0, 0, 0, 0]"
      ]
     },
     "execution_count": 35,
     "metadata": {},
     "output_type": "execute_result"
    }
   ],
   "source": [
    "features"
   ]
  },
  {
   "cell_type": "code",
   "execution_count": 36,
   "id": "570b2d76",
   "metadata": {},
   "outputs": [],
   "source": []
  },
  {
   "cell_type": "code",
   "execution_count": 39,
   "id": "7280abd8",
   "metadata": {},
   "outputs": [
    {
     "data": {
      "text/plain": [
       "torch.Size([35])"
      ]
     },
     "execution_count": 39,
     "metadata": {},
     "output_type": "execute_result"
    }
   ],
   "source": [
    "add_features(state).shape"
   ]
  },
  {
   "cell_type": "code",
   "execution_count": 31,
   "id": "af82e242",
   "metadata": {},
   "outputs": [
    {
     "data": {
      "text/plain": [
       "(tensor(0.), tensor(-1.))"
      ]
     },
     "execution_count": 31,
     "metadata": {},
     "output_type": "execute_result"
    }
   ],
   "source": [
    "angles_ships"
   ]
  },
  {
   "cell_type": "code",
   "execution_count": 27,
   "id": "33f24a66",
   "metadata": {},
   "outputs": [
    {
     "data": {
      "text/plain": [
       "True"
      ]
     },
     "execution_count": 27,
     "metadata": {},
     "output_type": "execute_result"
    }
   ],
   "source": [
    "(state[8:10] == torch.as_tensor([-1, -1])).all().item()"
   ]
  },
  {
   "cell_type": "code",
   "execution_count": 21,
   "id": "2252ba71",
   "metadata": {},
   "outputs": [
    {
     "data": {
      "text/plain": [
       "tensor([-1., -1.])"
      ]
     },
     "execution_count": 21,
     "metadata": {},
     "output_type": "execute_result"
    }
   ],
   "source": [
    "state[8:10]"
   ]
  },
  {
   "cell_type": "code",
   "execution_count": 8,
   "id": "3151c27d",
   "metadata": {},
   "outputs": [
    {
     "data": {
      "text/plain": [
       "tensor([ 0.0000e+00, -8.0444e-01,  1.0000e+00,  6.1232e-17,  0.0000e+00,\n",
       "         7.9556e-01,  0.0000e+00,  1.0000e+00, -1.0000e+00, -1.0000e+00,\n",
       "         0.0000e+00,  1.0000e+00, -1.0000e+00, -1.0000e+00,  0.0000e+00,\n",
       "         1.0000e+00, -1.0000e+00, -1.0000e+00,  0.0000e+00,  1.0000e+00,\n",
       "        -1.0000e+00, -1.0000e+00,  0.0000e+00,  1.0000e+00])"
      ]
     },
     "execution_count": 8,
     "metadata": {},
     "output_type": "execute_result"
    }
   ],
   "source": [
    "state"
   ]
  }
 ],
 "metadata": {
  "kernelspec": {
   "display_name": "Python 3 (ipykernel)",
   "language": "python",
   "name": "python3"
  },
  "language_info": {
   "codemirror_mode": {
    "name": "ipython",
    "version": 3
   },
   "file_extension": ".py",
   "mimetype": "text/x-python",
   "name": "python",
   "nbconvert_exporter": "python",
   "pygments_lexer": "ipython3",
   "version": "3.10.4"
  }
 },
 "nbformat": 4,
 "nbformat_minor": 5
}

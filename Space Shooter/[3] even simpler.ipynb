{
 "cells": [
  {
   "cell_type": "code",
   "execution_count": 1,
   "id": "a8fcb201",
   "metadata": {},
   "outputs": [
    {
     "name": "stdout",
     "output_type": "stream",
     "text": [
      "pygame 2.1.2 (SDL 2.0.16, Python 3.8.10)\n",
      "Hello from the pygame community. https://www.pygame.org/contribute.html\n"
     ]
    }
   ],
   "source": [
    "import torch\n",
    "import torch.nn as nn\n",
    "import torch.nn.functional as F\n",
    "import numpy as np\n",
    "\n",
    "import random\n",
    "from einops.layers.torch import Rearrange\n",
    "from einops import rearrange\n",
    "\n",
    "from typing import Any, Dict, Tuple, Optional\n",
    "from game_mechanics import (\n",
    "    ChooseMoveCheckpoint,\n",
    "    ShooterEnv,\n",
    "    checkpoint_model,\n",
    "    choose_move_randomly,\n",
    "    human_player,\n",
    "    load_network,\n",
    "    play_shooter,\n",
    "    save_network,\n",
    ")\n",
    "from tqdm.notebook import tqdm\n",
    "\n",
    "from functools import partial\n",
    "import pandas as pd\n",
    "from datetime import datetime\n",
    "import matplotlib.pyplot as plt\n",
    "from copy import deepcopy\n",
    "from functools import partial\n",
    "\n",
    "from utils import *\n",
    "%load_ext autoreload\n",
    "%autoreload 2"
   ]
  },
  {
   "cell_type": "code",
   "execution_count": 22,
   "id": "1c8dc2c2",
   "metadata": {},
   "outputs": [],
   "source": [
    "# Hristo - incorrect\n",
    "def gae(rewards, values, successor_values, dones, gamma, lamda, correct_last_term):\n",
    "    N = len(rewards)\n",
    "    deltas = rewards + gamma * successor_values - values\n",
    "    gamlam = gamma * lamda\n",
    "    gamlam_geo_series = torch.as_tensor([gamlam**i for i in range(N)])*(1-gamlam)\n",
    "    full_gamlam_matrix = torch.stack([torch.roll(gamlam_geo_series, shifts=n) for n in range(N)])\n",
    "    full_gamlam_matrix = torch.triu(full_gamlam_matrix)\n",
    "\n",
    "    done_indexes = torch.squeeze(dones.nonzero(), dim=1).tolist()\n",
    "    for terminal_index in done_indexes:\n",
    "        full_gamlam_matrix[: terminal_index + 1, terminal_index + 1:] = 0\n",
    "\n",
    "    end_index = torch.arange(N)\n",
    "    for start, end in zip([-1]+done_indexes[:-1], done_indexes):\n",
    "        end_index[start+1:end+1] = end\n",
    "    if correct_last_term:\n",
    "        # make sure it sums to one:\n",
    "        # (by making the term for the last value be 1 - sum(all other terms))\n",
    "        full_gamlam_matrix[torch.arange(N), end_index] += 1 - full_gamlam_matrix.sum(axis=1)\n",
    "    return full_gamlam_matrix @ deltas\n",
    "\n",
    "def calculate_gae(\n",
    "        rewards: torch.Tensor,\n",
    "        values: torch.Tensor,\n",
    "        successor_values: torch.Tensor,\n",
    "        is_terminals: torch.Tensor,\n",
    "        gamma: float,\n",
    "        lamda: float,\n",
    "):\n",
    "    \"\"\"\n",
    "    Calculate the Generalized Advantage Estimator (GAE) for a batch of transitions.\n",
    "\n",
    "    GAE = \\sum_{t=0}^{T-1} (gamma * lamda)^t * (r_{t+1} + gamma * V_{t+1} - V_t)\n",
    "    \"\"\"\n",
    "    N = len(rewards)\n",
    "\n",
    "    # Gets the delta terms: the TD-errors\n",
    "    delta_terms = rewards + gamma * successor_values - values\n",
    "\n",
    "    gamlam = gamma * lamda\n",
    "\n",
    "    gamlam_geo_series = torch.tensor([gamlam ** n for n in range(N)])\n",
    "\n",
    "    # Shift the coefficients to the right for each successive row\n",
    "    full_gamlam_matrix = torch.stack([torch.roll(gamlam_geo_series, shifts=n) for n in range(N)])\n",
    "\n",
    "    # Sets everything except upper-triangular to 0\n",
    "    gamlam_matrix = torch.triu(full_gamlam_matrix)\n",
    "\n",
    "    # Zero out terms that are after an episode termination\n",
    "    for terminal_index in torch.squeeze(is_terminals.nonzero(), dim=1):\n",
    "        full_gamlam_matrix[: terminal_index + 1, terminal_index + 1:] = 0\n",
    "\n",
    "    return torch.matmul(gamlam_matrix, delta_terms)"
   ]
  },
  {
   "cell_type": "code",
   "execution_count": 10,
   "id": "9f6470a3",
   "metadata": {},
   "outputs": [],
   "source": [
    "rewards = torch.ones(20)\n",
    "values = torch.ones(20)*10\n",
    "successor_values = torch.ones(20)*10\n",
    "dones = torch.zeros(20)\n",
    "gamma = 0.95\n",
    "lamda = 0.8"
   ]
  },
  {
   "cell_type": "code",
   "execution_count": 25,
   "id": "7b69134b",
   "metadata": {},
   "outputs": [
    {
     "name": "stdout",
     "output_type": "stream",
     "text": [
      "Hristo no correcting for the last term:\n",
      "tensor([0.4979, 0.4973, 0.4964, 0.4953, 0.4938, 0.4918, 0.4893, 0.4859, 0.4814,\n",
      "        0.4756, 0.4679, 0.4577, 0.4443, 0.4268, 0.4037, 0.3732, 0.3332, 0.2805,\n",
      "        0.2112, 0.1200])\n",
      "\n",
      "Tom:\n",
      "tensor([2.0747, 2.0720, 2.0684, 2.0637, 2.0575, 2.0494, 2.0386, 2.0245, 2.0060,\n",
      "        1.9815, 1.9494, 1.9071, 1.8515, 1.7782, 1.6819, 1.5551, 1.3883, 1.1688,\n",
      "        0.8800, 0.5000])\n",
      "\n",
      "They are just a constant apart:\n",
      "tensor([0.2400, 0.2400, 0.2400, 0.2400, 0.2400, 0.2400, 0.2400, 0.2400, 0.2400,\n",
      "        0.2400, 0.2400, 0.2400, 0.2400, 0.2400, 0.2400, 0.2400, 0.2400, 0.2400,\n",
      "        0.2400, 0.2400])\n",
      "\n",
      "However, correcting for the last term is very significant:\n",
      "tensor([0.5000, 0.5000, 0.5000, 0.5000, 0.5000, 0.5000, 0.5000, 0.5000, 0.5000,\n",
      "        0.5000, 0.5000, 0.5000, 0.5000, 0.5000, 0.5000, 0.5000, 0.5000, 0.5000,\n",
      "        0.5000, 0.5000])\n"
     ]
    }
   ],
   "source": [
    "hristo_no_correcting_last_term = gae(rewards, values, successor_values, dones, gamma, lamda, False)\n",
    "hristo_corrected_last_term = gae(rewards, values, successor_values, dones, gamma, lamda, True)\n",
    "tom = calculate_gae(rewards, values, successor_values, dones, gamma, lamda)\n",
    "\n",
    "print('Hristo no correcting for the last term:')\n",
    "print(hristo_no_correcting_last_term)\n",
    "print()\n",
    "print('Tom:')\n",
    "print(tom)\n",
    "print()\n",
    "print('They are the same, just multiplied by a constant')\n",
    "print(hristo_no_correcting_last_term / tom)\n",
    "print()\n",
    "print('However, correcting for the last term is very significant:')\n",
    "print(hristo_corrected_last_term)\n"
   ]
  }
 ],
 "metadata": {
  "kernelspec": {
   "display_name": "cv38",
   "language": "python",
   "name": "cv38"
  },
  "language_info": {
   "codemirror_mode": {
    "name": "ipython",
    "version": 3
   },
   "file_extension": ".py",
   "mimetype": "text/x-python",
   "name": "python",
   "nbconvert_exporter": "python",
   "pygments_lexer": "ipython3",
   "version": "3.8.10"
  }
 },
 "nbformat": 4,
 "nbformat_minor": 5
}

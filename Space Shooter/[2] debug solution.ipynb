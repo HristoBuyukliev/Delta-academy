{
 "cells": [
  {
   "cell_type": "code",
   "execution_count": 1,
   "id": "f62ad0ee",
   "metadata": {},
   "outputs": [
    {
     "name": "stdout",
     "output_type": "stream",
     "text": [
      "pygame 2.1.2 (SDL 2.0.18, Python 3.9.13)\n",
      "Hello from the pygame community. https://www.pygame.org/contribute.html\n"
     ]
    }
   ],
   "source": [
    "import torch\n",
    "import torch.nn as nn\n",
    "import torch.nn.functional as F\n",
    "import numpy as np\n",
    "\n",
    "import random\n",
    "from einops.layers.torch import Rearrange\n",
    "from einops import rearrange\n",
    "\n",
    "from typing import Any, Dict, Tuple, Optional\n",
    "from game_mechanics import (\n",
    "    ChooseMoveCheckpoint,\n",
    "    ShooterEnv,\n",
    "    checkpoint_model,\n",
    "    choose_move_randomly,\n",
    "    human_player,\n",
    "    load_network,\n",
    "    play_shooter,\n",
    "    save_network,\n",
    ")\n",
    "from tqdm.notebook import tqdm\n",
    "\n",
    "from functools import partial\n",
    "import pandas as pd\n",
    "from datetime import datetime\n",
    "import matplotlib.pyplot as plt\n",
    "from copy import deepcopy\n",
    "from functools import partial\n",
    "\n",
    "from utils import *\n",
    "%load_ext autoreload\n",
    "%autoreload 2"
   ]
  },
  {
   "cell_type": "markdown",
   "id": "954e23cf",
   "metadata": {},
   "source": [
    "## 1. Error in the GAE calculation\n",
    "\n",
    "Verdict: Tim has a slight error, non-consequential"
   ]
  },
  {
   "cell_type": "code",
   "execution_count": 69,
   "id": "a78dc05a",
   "metadata": {},
   "outputs": [],
   "source": [
    "def gae(rewards, values, successor_values, dones, gamma, lamda):\n",
    "    N = len(rewards)\n",
    "    deltas = rewards + gamma * successor_values - values\n",
    "    print(deltas)\n",
    "    gamlam = gamma * lamda\n",
    "    gamlam_geo_series = torch.as_tensor([gamlam**i for i in range(N)])*(1-gamlam)\n",
    "    full_gamlam_matrix = torch.stack([torch.roll(gamlam_geo_series, shifts=n) for n in range(N)])\n",
    "    full_gamlam_matrix = torch.triu(full_gamlam_matrix)\n",
    "\n",
    "    done_indexes = torch.squeeze(dones.nonzero(), dim=1).tolist()\n",
    "    for terminal_index in done_indexes:\n",
    "        full_gamlam_matrix[: terminal_index + 1, terminal_index + 1:] = 0\n",
    "\n",
    "    end_index = torch.arange(N)\n",
    "    for start, end in zip([-1]+done_indexes[:-1], done_indexes):\n",
    "        end_index[start+1:end+1] = end\n",
    "    # make sure it sums to one:\n",
    "    # (by making the term for the last value be 1 - sum(all other terms))\n",
    "    full_gamlam_matrix[torch.arange(N), end_index] += 1 - full_gamlam_matrix.sum(axis=1)\n",
    "    plt.imshow(full_gamlam_matrix)\n",
    "    return full_gamlam_matrix @ deltas\n",
    "\n",
    "# Tom's version:\n",
    "def calculate_gae(\n",
    "        rewards: torch.Tensor,\n",
    "        values: torch.Tensor,\n",
    "        successor_values: torch.Tensor,\n",
    "        is_terminals: torch.Tensor,\n",
    "        gamma: float,\n",
    "        lamda: float,\n",
    "):\n",
    "    \"\"\"\n",
    "    Calculate the Generalized Advantage Estimator (GAE) for a batch of transitions.\n",
    "\n",
    "    GAE = \\sum_{t=0}^{T-1} (gamma * lamda)^t * (r_{t+1} + gamma * V_{t+1} - V_t)\n",
    "    \"\"\"\n",
    "    N = len(rewards)\n",
    "\n",
    "    # Gets the delta terms: the TD-errors\n",
    "    delta_terms = rewards + gamma * successor_values - values\n",
    "    gamlam = gamma * lamda\n",
    "    gamlam_geo_series = torch.tensor([gamlam ** n for n in range(N)])\n",
    "    # Shift the coefficients to the right for each successive row\n",
    "    full_gamlam_matrix = torch.stack([torch.roll(gamlam_geo_series, shifts=n) for n in range(N)])\n",
    "    # Sets everything except upper-triangular to 0\n",
    "    gamlam_matrix = torch.triu(full_gamlam_matrix)\n",
    "    # Zero out terms that are after an episode termination\n",
    "    for terminal_index in torch.squeeze(is_terminals.nonzero(), dim=1):\n",
    "        gamlam_matrix[: terminal_index + 1, terminal_index + 1:] = 0\n",
    "    return torch.matmul(gamlam_matrix, delta_terms)\n",
    "\n"
   ]
  },
  {
   "cell_type": "code",
   "execution_count": 72,
   "id": "f9bab331",
   "metadata": {},
   "outputs": [],
   "source": [
    "rewards = torch.ones(20)\n",
    "values = torch.ones(20)*10\n",
    "successor_values = torch.ones(20)*10\n",
    "gamma = 0.93\n",
    "lamda = 0.8\n",
    "is_terminals = torch.zeros(20)\n",
    "is_terminals[[9, 19]] = 1"
   ]
  },
  {
   "cell_type": "code",
   "execution_count": 73,
   "id": "512d704a",
   "metadata": {},
   "outputs": [
    {
     "name": "stdout",
     "output_type": "stream",
     "text": [
      "tensor([0.3000, 0.3000, 0.3000, 0.3000, 0.3000, 0.3000, 0.3000, 0.3000, 0.3000,\n",
      "        0.3000, 0.3000, 0.3000, 0.3000, 0.3000, 0.3000, 0.3000, 0.3000, 0.3000,\n",
      "        0.3000, 0.3000])\n"
     ]
    },
    {
     "data": {
      "image/png": "[encoded data removed]",
      "text/plain": [
       "<Figure size 640x480 with 1 Axes>"
      ]
     },
     "metadata": {},
     "output_type": "display_data"
    }
   ],
   "source": [
    "a = gae(rewards, values, successor_values, is_terminals, gamma, lamda)\n",
    "b = calculate_gae(rewards, values, successor_values, is_terminals, gamma, lamda)"
   ]
  },
  {
   "cell_type": "code",
   "execution_count": 67,
   "id": "d827f26b",
   "metadata": {},
   "outputs": [
    {
     "data": {
      "text/plain": [
       "tensor([0.5000, 0.5000, 0.5000, 0.5000, 0.5000, 0.5000, 0.5000, 0.5000, 0.5000,\n",
       "        0.5000, 0.5000, 0.5000, 0.5000, 0.5000, 0.5000, 0.5000, 0.5000, 0.5000,\n",
       "        0.5000, 0.5000])"
      ]
     },
     "execution_count": 67,
     "metadata": {},
     "output_type": "execute_result"
    }
   ],
   "source": [
    "a"
   ]
  },
  {
   "cell_type": "code",
   "execution_count": 68,
   "id": "022cd847",
   "metadata": {},
   "outputs": [
    {
     "data": {
      "text/plain": [
       "tensor([1.9494, 1.9071, 1.8515, 1.7782, 1.6819, 1.5551, 1.3883, 1.1688, 0.8800,\n",
       "        0.5000, 1.9494, 1.9071, 1.8515, 1.7782, 1.6819, 1.5551, 1.3883, 1.1688,\n",
       "        0.8800, 0.5000])"
      ]
     },
     "execution_count": 68,
     "metadata": {},
     "output_type": "execute_result"
    }
   ],
   "source": [
    "b"
   ]
  }
 ],
 "metadata": {
  "kernelspec": {
   "display_name": "Python 3 (ipykernel)",
   "language": "python",
   "name": "python3"
  },
  "language_info": {
   "codemirror_mode": {
    "name": "ipython",
    "version": 3
   },
   "file_extension": ".py",
   "mimetype": "text/x-python",
   "name": "python",
   "nbconvert_exporter": "python",
   "pygments_lexer": "ipython3",
   "version": "3.9.13"
  }
 },
 "nbformat": 4,
 "nbformat_minor": 5
}

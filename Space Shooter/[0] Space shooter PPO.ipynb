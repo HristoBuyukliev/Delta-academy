{
 "cells": [
  {
   "cell_type": "code",
   "execution_count": 22,
   "metadata": {},
   "outputs": [
    {
     "name": "stdout",
     "output_type": "stream",
     "text": [
      "The autoreload extension is already loaded. To reload it, use:\n",
      "  %reload_ext autoreload\n"
     ]
    }
   ],
   "source": [
    "import torch\n",
    "import torch.nn as nn\n",
    "import torch.nn.functional as F\n",
    "import numpy as np\n",
    "\n",
    "import random\n",
    "from einops.layers.torch import Rearrange\n",
    "from einops import rearrange\n",
    "\n",
    "from typing import Any, Dict, Tuple, Optional\n",
    "from game_mechanics import (\n",
    "    ChooseMoveCheckpoint,\n",
    "    ShooterEnv,\n",
    "    checkpoint_model,\n",
    "    choose_move_randomly,\n",
    "    human_player,\n",
    "    load_network,\n",
    "    play_shooter,\n",
    "    save_network,\n",
    ")\n",
    "from tqdm.notebook import tqdm\n",
    "\n",
    "from functools import partial\n",
    "import pandas as pd\n",
    "from datetime import datetime\n",
    "import matplotlib.pyplot as plt\n",
    "from copy import deepcopy\n",
    "from functools import partial\n",
    "\n",
    "from utils import *\n",
    "%load_ext autoreload\n",
    "%autoreload 2"
   ]
  },
  {
   "cell_type": "code",
   "execution_count": 23,
   "metadata": {},
   "outputs": [],
   "source": [
    "TEAM_NAME = \"Hristo\"  # <---- Enter your team name here!\n",
    "assert TEAM_NAME != \"Team Name\", \"Please change your TEAM_NAME!\""
   ]
  },
  {
   "cell_type": "code",
   "execution_count": 44,
   "metadata": {},
   "outputs": [],
   "source": [
    "device = 'cpu'"
   ]
  },
  {
   "cell_type": "code",
   "execution_count": 45,
   "metadata": {},
   "outputs": [],
   "source": [
    "def choose_move(state, neural_network: nn.Module) -> int:\n",
    "    probs = neural_network(state.to(device))\n",
    "    probs = probs.cpu().detach().numpy()\n",
    "    move = np.random.choice(range(6), p=probs)\n",
    "    return int(move)"
   ]
  },
  {
   "cell_type": "code",
   "execution_count": 51,
   "metadata": {},
   "outputs": [
    {
     "data": {
      "text/plain": [
       "Sequential(\n",
       "  (0): Linear(in_features=35, out_features=1000, bias=True)\n",
       "  (1): LeakyReLU(negative_slope=0.01)\n",
       "  (2): Linear(in_features=1000, out_features=1000, bias=True)\n",
       "  (3): LeakyReLU(negative_slope=0.01)\n",
       "  (4): Linear(in_features=1000, out_features=1, bias=True)\n",
       "  (5): Tanh()\n",
       ")"
      ]
     },
     "execution_count": 51,
     "metadata": {},
     "output_type": "execute_result"
    }
   ],
   "source": [
    "policy = nn.Sequential(\n",
    "    nn.Linear(35, 1000),\n",
    "    nn.LeakyReLU(),\n",
    "    nn.Linear(1000, 6),\n",
    "    nn.Softmax(dim=-1)\n",
    ")\n",
    "\n",
    "V = nn.Sequential(\n",
    "    nn.Linear(35, 1000),\n",
    "    nn.LeakyReLU(),\n",
    "    nn.Linear(1000, 1000),\n",
    "    nn.LeakyReLU(),\n",
    "    nn.Linear(1000, 1),\n",
    "    nn.Tanh()\n",
    ")\n",
    "\n",
    "\n",
    "\n",
    "gamma = 0.99\n",
    "lamda = 0.99\n",
    "erm = EpisodeReplayMemory(gamma, lamda)\n",
    "optimizer_policy = torch.optim.Adam(policy.parameters(), lr=0.001)\n",
    "optimizer_value = torch.optim.Adam(V.parameters(), lr=0.005)\n",
    "\n",
    "episodes_per_stage = 1000\n",
    "batch_size = 1000\n",
    "n_stages = 10\n",
    "gradient_steps = 3\n",
    "env = ShooterEnv(opponent_choose_move=choose_move_randomly)\n",
    "\n",
    "policy.to(device)\n",
    "V.to(device)"
   ]
  },
  {
   "cell_type": "code",
   "execution_count": 52,
   "metadata": {
    "scrolled": false
   },
   "outputs": [
    {
     "data": {
      "application/vnd.jupyter.widget-view+json": {
       "model_id": "7a140a7991234bbeb7b3f33662885c81",
       "version_major": 2,
       "version_minor": 0
      },
      "text/plain": [
       "  0%|          | 0/10 [00:00<?, ?it/s]"
      ]
     },
     "metadata": {},
     "output_type": "display_data"
    },
    {
     "data": {
      "application/vnd.jupyter.widget-view+json": {
       "model_id": "111ea1698a6a4e889c56e3490a422605",
       "version_major": 2,
       "version_minor": 0
      },
      "text/plain": [
       "  0%|          | 0/1000 [00:00<?, ?it/s]"
      ]
     },
     "metadata": {},
     "output_type": "display_data"
    },
    {
     "name": "stdout",
     "output_type": "stream",
     "text": [
      "0.995049504950495\n",
      "0.6362397820163488\n",
      "0.571394574012375\n",
      "0.5483714930667527\n",
      "0.4634235552304316\n",
      "0.39217800431287986\n",
      "0.3606785772824127\n",
      "0.33805097873538936\n",
      "0.30866559683989636\n",
      "0.2857378310075816\n",
      "0.2772497772497773\n",
      "0.27029096477794795\n",
      "0.2479547144864061\n",
      "0.23666132356308678\n",
      "0.21987802283525987\n",
      "0.21193960664856631\n",
      "0.19877647351096206\n",
      "0.18715279808198348\n",
      "0.17681343572178332\n",
      "0.16755667242552746\n",
      "0.1592209342818765\n",
      "0.15167527605326758\n",
      "0.14481245192525222\n",
      "0.13854378598329076\n",
      "0.13279531969627817\n",
      "0.12949683279550617\n",
      "0.12453545841155511\n",
      "0.12363012434965498\n",
      "0.11923063236183762\n",
      "0.11513350056699079\n",
      "0.11296966878176806\n",
      "0.10933732034339733\n",
      "0.10593127939939567\n",
      "0.10424156369898191\n",
      "0.10118471599073342\n",
      "0.09830204267684678\n",
      "0.0955790698318606\n",
      "0.09300288401929868\n",
      "0.09056192750846431\n",
      "0.0882458249149638\n",
      "0.08604523577965634\n",
      "0.08395172866840223\n",
      "0.08195767321441294\n",
      "0.08005614718916032\n",
      "0.0782408562164123\n",
      "0.0765060641670916\n",
      "0.07484653261317542\n",
      "0.0732574679943101\n",
      "0.07173447537473232\n",
      "0.07027351785096025\n",
      "0.06887088082074211\n",
      "0.06752314044734936\n",
      "0.06622713575555172\n",
      "0.06497994388052952\n",
      "0.06377885806177336\n",
      "0.06262136803324803\n",
      "0.06150514251082867\n",
      "0.060428013519903345\n",
      "0.05938796234143989\n",
      "0.05838310688482429\n",
      "0.05741169032129251\n",
      "0.05647207083353789\n",
      "0.05556271235567867\n",
      "0.05468217619372118\n",
      "0.05382911343036767\n",
      "0.05300225802983055\n",
      "0.05220042056852392\n",
      "0.05142248252634091\n",
      "0.050667391080894575\n",
      "0.04993415435377202\n",
      "0.049221837063665286\n",
      "0.048529556546321406\n",
      "0.04785647910569896\n",
      "0.047201816664614704\n",
      "0.04656482368658993\n",
      "0.04594479434361726\n",
      "0.04534105990722853\n",
      "0.04475298634258956\n",
      "0.044179972087425246\n",
      "0.04362144599941847\n",
      "0.04307686545736006\n",
      "0.04254571460277923\n",
      "0.0420275027100766\n",
      "0.04152176267433605\n",
      "0.04102804960702011\n",
      "0.04054593953067531\n",
      "0.040075028164597404\n",
      "0.03961492979414705\n",
      "0.039165276217069056\n",
      "0.03872571576076589\n",
      "0.03829591236501262\n",
      "0.037875544725085364\n",
      "0.03746430549071128\n",
      "0.03706190051664321\n",
      "0.036668048161018485\n",
      "0.036282478627985004\n",
      "0.035904933351369905\n",
      "0.0355351644164324\n",
      "0.035172934016982516\n",
      "0.034818013945368875\n"
     ]
    },
    {
     "data": {
      "application/vnd.jupyter.widget-view+json": {
       "model_id": "6d9cc8e1e4d1438bbcc6f63a04d98cad",
       "version_major": 2,
       "version_minor": 0
      },
      "text/plain": [
       "  0%|          | 0/1000 [00:00<?, ?it/s]"
      ]
     },
     "metadata": {},
     "output_type": "display_data"
    },
    {
     "name": "stdout",
     "output_type": "stream",
     "text": [
      "0.034470185113035845\n",
      "0.03412923709953414\n",
      "0.033794967728033976\n",
      "0.03346718266554155\n",
      "0.03314569504615711\n",
      "0.03283032511584094\n",
      "0.0325208998972677\n",
      "0.03221725287345589\n",
      "0.031919223688957554\n",
      "0.03162665786748059\n",
      "0.031339406544899695\n",
      "0.03105732621668572\n",
      "0.03078027849885373\n"
     ]
    },
    {
     "ename": "KeyboardInterrupt",
     "evalue": "",
     "output_type": "error",
     "traceback": [
      "\u001b[1;31m---------------------------------------------------------------------------\u001b[0m",
      "\u001b[1;31mKeyboardInterrupt\u001b[0m                         Traceback (most recent call last)",
      "Input \u001b[1;32mIn [52]\u001b[0m, in \u001b[0;36m<cell line: 4>\u001b[1;34m()\u001b[0m\n\u001b[0;32m     62\u001b[0m             old_probs \u001b[38;5;241m=\u001b[39m old_probs[\u001b[38;5;28mrange\u001b[39m(batch_size), data[\u001b[38;5;124m'\u001b[39m\u001b[38;5;124mchosen_move\u001b[39m\u001b[38;5;124m'\u001b[39m]\u001b[38;5;241m.\u001b[39mlong()]\u001b[38;5;241m.\u001b[39mdetach()\n\u001b[0;32m     63\u001b[0m             \u001b[38;5;28;01mfor\u001b[39;00m step \u001b[38;5;129;01min\u001b[39;00m \u001b[38;5;28mrange\u001b[39m(gradient_steps):\n\u001b[0;32m     64\u001b[0m \u001b[38;5;66;03m#                 print('========')\u001b[39;00m\n\u001b[0;32m     65\u001b[0m \u001b[38;5;66;03m#                 print('making a grad step...')\u001b[39;00m\n\u001b[1;32m---> 66\u001b[0m                 new_probs \u001b[38;5;241m=\u001b[39m \u001b[43mpolicy\u001b[49m\u001b[43m(\u001b[49m\u001b[43mdata\u001b[49m\u001b[43m[\u001b[49m\u001b[38;5;124;43m'\u001b[39;49m\u001b[38;5;124;43mold_observation\u001b[39;49m\u001b[38;5;124;43m'\u001b[39;49m\u001b[43m]\u001b[49m\u001b[38;5;241;43m.\u001b[39;49m\u001b[43mto\u001b[49m\u001b[43m(\u001b[49m\u001b[43mdevice\u001b[49m\u001b[43m)\u001b[49m\u001b[43m)\u001b[49m\u001b[38;5;66;03m#[0]\u001b[39;00m\n\u001b[0;32m     67\u001b[0m                 new_probs \u001b[38;5;241m=\u001b[39m new_probs[\u001b[38;5;28mrange\u001b[39m(batch_size), data[\u001b[38;5;124m'\u001b[39m\u001b[38;5;124mchosen_move\u001b[39m\u001b[38;5;124m'\u001b[39m]\u001b[38;5;241m.\u001b[39mlong()]\n\u001b[0;32m     68\u001b[0m \u001b[38;5;66;03m#                 print(f'unclipped prob_ratio: {new_probs / old_probs}')\u001b[39;00m\n",
      "File \u001b[1;32m~\\Anaconda3\\lib\\site-packages\\torch\\nn\\modules\\module.py:1130\u001b[0m, in \u001b[0;36mModule._call_impl\u001b[1;34m(self, *input, **kwargs)\u001b[0m\n\u001b[0;32m   1126\u001b[0m \u001b[38;5;66;03m# If we don't have any hooks, we want to skip the rest of the logic in\u001b[39;00m\n\u001b[0;32m   1127\u001b[0m \u001b[38;5;66;03m# this function, and just call forward.\u001b[39;00m\n\u001b[0;32m   1128\u001b[0m \u001b[38;5;28;01mif\u001b[39;00m \u001b[38;5;129;01mnot\u001b[39;00m (\u001b[38;5;28mself\u001b[39m\u001b[38;5;241m.\u001b[39m_backward_hooks \u001b[38;5;129;01mor\u001b[39;00m \u001b[38;5;28mself\u001b[39m\u001b[38;5;241m.\u001b[39m_forward_hooks \u001b[38;5;129;01mor\u001b[39;00m \u001b[38;5;28mself\u001b[39m\u001b[38;5;241m.\u001b[39m_forward_pre_hooks \u001b[38;5;129;01mor\u001b[39;00m _global_backward_hooks\n\u001b[0;32m   1129\u001b[0m         \u001b[38;5;129;01mor\u001b[39;00m _global_forward_hooks \u001b[38;5;129;01mor\u001b[39;00m _global_forward_pre_hooks):\n\u001b[1;32m-> 1130\u001b[0m     \u001b[38;5;28;01mreturn\u001b[39;00m forward_call(\u001b[38;5;241m*\u001b[39m\u001b[38;5;28minput\u001b[39m, \u001b[38;5;241m*\u001b[39m\u001b[38;5;241m*\u001b[39mkwargs)\n\u001b[0;32m   1131\u001b[0m \u001b[38;5;66;03m# Do not call functions when jit is used\u001b[39;00m\n\u001b[0;32m   1132\u001b[0m full_backward_hooks, non_full_backward_hooks \u001b[38;5;241m=\u001b[39m [], []\n",
      "File \u001b[1;32m~\\Anaconda3\\lib\\site-packages\\torch\\nn\\modules\\container.py:139\u001b[0m, in \u001b[0;36mSequential.forward\u001b[1;34m(self, input)\u001b[0m\n\u001b[0;32m    137\u001b[0m \u001b[38;5;28;01mdef\u001b[39;00m \u001b[38;5;21mforward\u001b[39m(\u001b[38;5;28mself\u001b[39m, \u001b[38;5;28minput\u001b[39m):\n\u001b[0;32m    138\u001b[0m     \u001b[38;5;28;01mfor\u001b[39;00m module \u001b[38;5;129;01min\u001b[39;00m \u001b[38;5;28mself\u001b[39m:\n\u001b[1;32m--> 139\u001b[0m         \u001b[38;5;28minput\u001b[39m \u001b[38;5;241m=\u001b[39m \u001b[43mmodule\u001b[49m\u001b[43m(\u001b[49m\u001b[38;5;28;43minput\u001b[39;49m\u001b[43m)\u001b[49m\n\u001b[0;32m    140\u001b[0m     \u001b[38;5;28;01mreturn\u001b[39;00m \u001b[38;5;28minput\u001b[39m\n",
      "File \u001b[1;32m~\\Anaconda3\\lib\\site-packages\\torch\\nn\\modules\\module.py:1130\u001b[0m, in \u001b[0;36mModule._call_impl\u001b[1;34m(self, *input, **kwargs)\u001b[0m\n\u001b[0;32m   1126\u001b[0m \u001b[38;5;66;03m# If we don't have any hooks, we want to skip the rest of the logic in\u001b[39;00m\n\u001b[0;32m   1127\u001b[0m \u001b[38;5;66;03m# this function, and just call forward.\u001b[39;00m\n\u001b[0;32m   1128\u001b[0m \u001b[38;5;28;01mif\u001b[39;00m \u001b[38;5;129;01mnot\u001b[39;00m (\u001b[38;5;28mself\u001b[39m\u001b[38;5;241m.\u001b[39m_backward_hooks \u001b[38;5;129;01mor\u001b[39;00m \u001b[38;5;28mself\u001b[39m\u001b[38;5;241m.\u001b[39m_forward_hooks \u001b[38;5;129;01mor\u001b[39;00m \u001b[38;5;28mself\u001b[39m\u001b[38;5;241m.\u001b[39m_forward_pre_hooks \u001b[38;5;129;01mor\u001b[39;00m _global_backward_hooks\n\u001b[0;32m   1129\u001b[0m         \u001b[38;5;129;01mor\u001b[39;00m _global_forward_hooks \u001b[38;5;129;01mor\u001b[39;00m _global_forward_pre_hooks):\n\u001b[1;32m-> 1130\u001b[0m     \u001b[38;5;28;01mreturn\u001b[39;00m forward_call(\u001b[38;5;241m*\u001b[39m\u001b[38;5;28minput\u001b[39m, \u001b[38;5;241m*\u001b[39m\u001b[38;5;241m*\u001b[39mkwargs)\n\u001b[0;32m   1131\u001b[0m \u001b[38;5;66;03m# Do not call functions when jit is used\u001b[39;00m\n\u001b[0;32m   1132\u001b[0m full_backward_hooks, non_full_backward_hooks \u001b[38;5;241m=\u001b[39m [], []\n",
      "File \u001b[1;32m~\\Anaconda3\\lib\\site-packages\\torch\\nn\\modules\\linear.py:114\u001b[0m, in \u001b[0;36mLinear.forward\u001b[1;34m(self, input)\u001b[0m\n\u001b[0;32m    113\u001b[0m \u001b[38;5;28;01mdef\u001b[39;00m \u001b[38;5;21mforward\u001b[39m(\u001b[38;5;28mself\u001b[39m, \u001b[38;5;28minput\u001b[39m: Tensor) \u001b[38;5;241m-\u001b[39m\u001b[38;5;241m>\u001b[39m Tensor:\n\u001b[1;32m--> 114\u001b[0m     \u001b[38;5;28;01mreturn\u001b[39;00m \u001b[43mF\u001b[49m\u001b[38;5;241;43m.\u001b[39;49m\u001b[43mlinear\u001b[49m\u001b[43m(\u001b[49m\u001b[38;5;28;43minput\u001b[39;49m\u001b[43m,\u001b[49m\u001b[43m \u001b[49m\u001b[38;5;28;43mself\u001b[39;49m\u001b[38;5;241;43m.\u001b[39;49m\u001b[43mweight\u001b[49m\u001b[43m,\u001b[49m\u001b[43m \u001b[49m\u001b[38;5;28;43mself\u001b[39;49m\u001b[38;5;241;43m.\u001b[39;49m\u001b[43mbias\u001b[49m\u001b[43m)\u001b[49m\n",
      "\u001b[1;31mKeyboardInterrupt\u001b[0m: "
     ]
    }
   ],
   "source": [
    "loss_policies = []\n",
    "loss_values = []\n",
    "results = []\n",
    "for stage in tqdm(range(n_stages)):\n",
    "    if stage <= 2:\n",
    "        include_barriers = False\n",
    "    else:\n",
    "        include_barriers = True\n",
    "    if stage <= 5:\n",
    "        half_sized_game = True\n",
    "    else:\n",
    "        half_sized_game = False\n",
    "    opponent = deepcopy(policy)\n",
    "    env = ShooterEnv(opponent_choose_move=choose_move_randomly, #partial(choose_move, neural_network = opponent), \n",
    "                     game_speed_multiplier=100_000,\n",
    "                     include_barriers=include_barriers,\n",
    "                     half_sized_game=half_sized_game)\n",
    "    for episode in tqdm(range(episodes_per_stage)):\n",
    "        old_observation, reward, done, info = env.reset()\n",
    "        old_observation = add_features(old_observation).to(device)\n",
    "        old_observation = old_observation.to(device)\n",
    "        old_value = V(old_observation)\n",
    "        while not done:\n",
    "            probs = policy(old_observation)\n",
    "            chosen_move = np.random.choice(range(0,6), p=probs.detach().cpu().numpy())\n",
    "            observation, reward, done, info = env.step(int(chosen_move))\n",
    "            observation = observation.to(device)\n",
    "            observation = add_features(observation).to(device)\n",
    "            value = V(observation)\n",
    "            \n",
    "            erm.append({\n",
    "                'old_observation': [old_observation.cpu()],\n",
    "                'observation': [observation.cpu()],\n",
    "                'reward': reward,\n",
    "                'done': done,\n",
    "                'chosen_move': chosen_move,\n",
    "                'value': value.item(),\n",
    "                'old_value': old_value.item()\n",
    "            })\n",
    "            old_value = value\n",
    "            \n",
    "        results.append(reward)\n",
    "        if episode % 10 == 0:\n",
    "            print(sum(results) / (len(results) + 0.01) / 2 + 0.5)\n",
    "        if len(erm) >= batch_size:\n",
    "            data = erm.sample_with_remove(batch_size)\n",
    "            states = data['old_observation'].to(device)\n",
    "            old_probs = policy(states)\n",
    "            old_values = V(states)\n",
    "            \n",
    "            # value function\n",
    "            loss_v = F.smooth_l1_loss(old_values[:,0], data['gae'][0].to(device))\n",
    "            loss_values.append(loss_v.item())\n",
    "            optimizer_value.zero_grad()\n",
    "            loss_v.backward()\n",
    "            optimizer_value.step()\n",
    "            \n",
    "            value_estimates = old_values[:,0].detach()\n",
    "            \n",
    "            # policy\n",
    "            epsilon = 0.05\n",
    "            old_probs = old_probs[range(batch_size), data['chosen_move'].long()].detach()\n",
    "            for step in range(gradient_steps):\n",
    "#                 print('========')\n",
    "#                 print('making a grad step...')\n",
    "                new_probs = policy(data['old_observation'].to(device))#[0]\n",
    "                new_probs = new_probs[range(batch_size), data['chosen_move'].long()]\n",
    "#                 print(f'unclipped prob_ratio: {new_probs / old_probs}')\n",
    "                prob_ratio = new_probs / old_probs\n",
    "                prob_ratio = torch.min(prob_ratio, torch.clamp(prob_ratio, 1-epsilon, 1+epsilon))\n",
    "#                 print(f'after clipping: {prob_ratio}')\n",
    "                scale = (data['gae'].to(device) - value_estimates)\n",
    "                loss_policy = (- prob_ratio * (data['gae'].to(device) - value_estimates)).mean()\n",
    "                loss_policies.append(loss_policy.item())\n",
    "#                 print(f'loss: {loss_policy.item()}')\n",
    "#                 print(len(erm))\n",
    "#                 pol_params_before_update = [weight.clone().detach() for name, weight in policy.named_parameters()]\n",
    "    \n",
    "                optimizer_policy.zero_grad()\n",
    "                loss_policy.backward()\n",
    "                optimizer_policy.step()\n",
    "#                 old_probs = new_probs.detach()\n",
    "                \n",
    "#                 pol_params_after_update = [weight.clone().detach() for name, weight in policy.named_parameters()]\n",
    "#                 pol_update_strengths = [((pol_params_before_update[_i] - pol_params_after_update[_i]).std() /\n",
    "#                          (pol_params_before_update[_i]).std()).log10().item()\n",
    "#                         for _i in range(len(pol_params_before_update))]\n",
    "#                 print(pol_update_strengths)"
   ]
  },
  {
   "cell_type": "code",
   "execution_count": 53,
   "metadata": {},
   "outputs": [
    {
     "data": {
      "text/plain": [
       "1124"
      ]
     },
     "execution_count": 53,
     "metadata": {},
     "output_type": "execute_result"
    }
   ],
   "source": [
    "len(results)"
   ]
  },
  {
   "cell_type": "code",
   "execution_count": 54,
   "metadata": {},
   "outputs": [],
   "source": [
    "a = pd.Series(results)"
   ]
  },
  {
   "cell_type": "code",
   "execution_count": 55,
   "metadata": {},
   "outputs": [
    {
     "data": {
      "text/plain": [
       "[<matplotlib.lines.Line2D at 0x208815ad250>]"
      ]
     },
     "execution_count": 55,
     "metadata": {},
     "output_type": "execute_result"
    },
    {
     "data": {
      "image/png": "[encoded data removed]",
      "text/plain": [
       "<Figure size 640x480 with 1 Axes>"
      ]
     },
     "metadata": {},
     "output_type": "display_data"
    }
   ],
   "source": [
    "plt.plot(a.rolling(100).sum())"
   ]
  },
  {
   "cell_type": "code",
   "execution_count": 18,
   "metadata": {},
   "outputs": [
    {
     "data": {
      "text/plain": [
       "tensor([ 8.6667e-01,  8.2222e-01, -9.6593e-01,  2.5882e-01,  8.6667e-01,\n",
       "         8.2222e-01, -1.0000e+00, -1.8370e-16, -1.0000e+00, -1.0000e+00,\n",
       "         0.0000e+00,  1.0000e+00, -1.0000e+00, -1.0000e+00,  0.0000e+00,\n",
       "         1.0000e+00, -1.0000e+00, -1.0000e+00,  0.0000e+00,  1.0000e+00,\n",
       "        -1.0000e+00, -1.0000e+00,  0.0000e+00,  1.0000e+00])"
      ]
     },
     "execution_count": 18,
     "metadata": {},
     "output_type": "execute_result"
    }
   ],
   "source": [
    "observation"
   ]
  },
  {
   "cell_type": "code",
   "execution_count": 150,
   "metadata": {},
   "outputs": [
    {
     "data": {
      "text/html": [
       "<div>\n",
       "<style scoped>\n",
       "    .dataframe tbody tr th:only-of-type {\n",
       "        vertical-align: middle;\n",
       "    }\n",
       "\n",
       "    .dataframe tbody tr th {\n",
       "        vertical-align: top;\n",
       "    }\n",
       "\n",
       "    .dataframe thead th {\n",
       "        text-align: right;\n",
       "    }\n",
       "</style>\n",
       "<table border=\"1\" class=\"dataframe\">\n",
       "  <thead>\n",
       "    <tr style=\"text-align: right;\">\n",
       "      <th></th>\n",
       "      <th>old_observation</th>\n",
       "      <th>observation</th>\n",
       "      <th>reward</th>\n",
       "      <th>done</th>\n",
       "      <th>chosen_move</th>\n",
       "      <th>value</th>\n",
       "      <th>old_value</th>\n",
       "    </tr>\n",
       "  </thead>\n",
       "  <tbody>\n",
       "    <tr>\n",
       "      <th>66a31dc3-81db-4bc8-bace-072c989ca52f</th>\n",
       "      <td>[tensor(-0.8000), tensor(-0.0044), tensor(-1.)...</td>\n",
       "      <td>[tensor(-0.8000), tensor(-0.0044), tensor(-0.9...</td>\n",
       "      <td>0</td>\n",
       "      <td>False</td>\n",
       "      <td>1</td>\n",
       "      <td>0.243774</td>\n",
       "      <td>0.251183</td>\n",
       "    </tr>\n",
       "    <tr>\n",
       "      <th>2c5b2f45-1506-433e-89f5-69a8ed192ed1</th>\n",
       "      <td>[tensor(-0.8000), tensor(-0.0044), tensor(-1.)...</td>\n",
       "      <td>[tensor(-0.8000), tensor(-0.0044), tensor(-1.)...</td>\n",
       "      <td>0</td>\n",
       "      <td>False</td>\n",
       "      <td>0</td>\n",
       "      <td>0.252986</td>\n",
       "      <td>0.243774</td>\n",
       "    </tr>\n",
       "    <tr>\n",
       "      <th>0394f96d-f2d7-4cd3-aec7-d6c492c3c92d</th>\n",
       "      <td>[tensor(-0.8000), tensor(-0.0044), tensor(-1.)...</td>\n",
       "      <td>[tensor(-0.8000), tensor(-0.0044), tensor(-1.)...</td>\n",
       "      <td>0</td>\n",
       "      <td>False</td>\n",
       "      <td>3</td>\n",
       "      <td>0.342607</td>\n",
       "      <td>0.252986</td>\n",
       "    </tr>\n",
       "    <tr>\n",
       "      <th>d49e0289-b1f1-49ae-a7a8-40e564414993</th>\n",
       "      <td>[tensor(-0.8000), tensor(-0.0044), tensor(-1.)...</td>\n",
       "      <td>[tensor(-0.8000), tensor(-0.0044), tensor(-0.9...</td>\n",
       "      <td>0</td>\n",
       "      <td>False</td>\n",
       "      <td>1</td>\n",
       "      <td>0.337770</td>\n",
       "      <td>0.342607</td>\n",
       "    </tr>\n",
       "    <tr>\n",
       "      <th>d76e89fe-5f9b-40de-8014-ed2d7c042a0a</th>\n",
       "      <td>[tensor(-0.8000), tensor(-0.0044), tensor(-1.)...</td>\n",
       "      <td>[tensor(-0.8000), tensor(-0.0044), tensor(-1.)...</td>\n",
       "      <td>0</td>\n",
       "      <td>False</td>\n",
       "      <td>0</td>\n",
       "      <td>0.338040</td>\n",
       "      <td>0.337770</td>\n",
       "    </tr>\n",
       "    <tr>\n",
       "      <th>cc246c3c-0704-48b6-929a-65e51719a30a</th>\n",
       "      <td>[tensor(-0.8000), tensor(-0.0044), tensor(-1.)...</td>\n",
       "      <td>[tensor(-0.8000), tensor(-0.0044), tensor(-0.9...</td>\n",
       "      <td>1</td>\n",
       "      <td>True</td>\n",
       "      <td>1</td>\n",
       "      <td>0.332001</td>\n",
       "      <td>0.338040</td>\n",
       "    </tr>\n",
       "  </tbody>\n",
       "</table>\n",
       "</div>"
      ],
      "text/plain": [
       "                                                                        old_observation  \\\n",
       "66a31dc3-81db-4bc8-bace-072c989ca52f  [tensor(-0.8000), tensor(-0.0044), tensor(-1.)...   \n",
       "2c5b2f45-1506-433e-89f5-69a8ed192ed1  [tensor(-0.8000), tensor(-0.0044), tensor(-1.)...   \n",
       "0394f96d-f2d7-4cd3-aec7-d6c492c3c92d  [tensor(-0.8000), tensor(-0.0044), tensor(-1.)...   \n",
       "d49e0289-b1f1-49ae-a7a8-40e564414993  [tensor(-0.8000), tensor(-0.0044), tensor(-1.)...   \n",
       "d76e89fe-5f9b-40de-8014-ed2d7c042a0a  [tensor(-0.8000), tensor(-0.0044), tensor(-1.)...   \n",
       "cc246c3c-0704-48b6-929a-65e51719a30a  [tensor(-0.8000), tensor(-0.0044), tensor(-1.)...   \n",
       "\n",
       "                                                                            observation  \\\n",
       "66a31dc3-81db-4bc8-bace-072c989ca52f  [tensor(-0.8000), tensor(-0.0044), tensor(-0.9...   \n",
       "2c5b2f45-1506-433e-89f5-69a8ed192ed1  [tensor(-0.8000), tensor(-0.0044), tensor(-1.)...   \n",
       "0394f96d-f2d7-4cd3-aec7-d6c492c3c92d  [tensor(-0.8000), tensor(-0.0044), tensor(-1.)...   \n",
       "d49e0289-b1f1-49ae-a7a8-40e564414993  [tensor(-0.8000), tensor(-0.0044), tensor(-0.9...   \n",
       "d76e89fe-5f9b-40de-8014-ed2d7c042a0a  [tensor(-0.8000), tensor(-0.0044), tensor(-1.)...   \n",
       "cc246c3c-0704-48b6-929a-65e51719a30a  [tensor(-0.8000), tensor(-0.0044), tensor(-0.9...   \n",
       "\n",
       "                                     reward   done chosen_move     value  \\\n",
       "66a31dc3-81db-4bc8-bace-072c989ca52f      0  False           1  0.243774   \n",
       "2c5b2f45-1506-433e-89f5-69a8ed192ed1      0  False           0  0.252986   \n",
       "0394f96d-f2d7-4cd3-aec7-d6c492c3c92d      0  False           3  0.342607   \n",
       "d49e0289-b1f1-49ae-a7a8-40e564414993      0  False           1  0.337770   \n",
       "d76e89fe-5f9b-40de-8014-ed2d7c042a0a      0  False           0  0.338040   \n",
       "cc246c3c-0704-48b6-929a-65e51719a30a      1   True           1  0.332001   \n",
       "\n",
       "                                      old_value  \n",
       "66a31dc3-81db-4bc8-bace-072c989ca52f   0.251183  \n",
       "2c5b2f45-1506-433e-89f5-69a8ed192ed1   0.243774  \n",
       "0394f96d-f2d7-4cd3-aec7-d6c492c3c92d   0.252986  \n",
       "d49e0289-b1f1-49ae-a7a8-40e564414993   0.342607  \n",
       "d76e89fe-5f9b-40de-8014-ed2d7c042a0a   0.337770  \n",
       "cc246c3c-0704-48b6-929a-65e51719a30a   0.338040  "
      ]
     },
     "execution_count": 150,
     "metadata": {},
     "output_type": "execute_result"
    }
   ],
   "source": [
    "erm.current_episode"
   ]
  },
  {
   "cell_type": "code",
   "execution_count": 141,
   "metadata": {},
   "outputs": [],
   "source": [
    "a = np.array([1,2,23])"
   ]
  },
  {
   "cell_type": "code",
   "execution_count": 143,
   "metadata": {},
   "outputs": [
    {
     "data": {
      "text/plain": [
       "array([False, False, False])"
      ]
     },
     "execution_count": 143,
     "metadata": {},
     "output_type": "execute_result"
    }
   ],
   "source": [
    "np.isnan(a)"
   ]
  },
  {
   "cell_type": "code",
   "execution_count": 55,
   "metadata": {},
   "outputs": [
    {
     "data": {
      "text/plain": [
       "[0.04580307751893997,\n",
       " 0.04538275673985481,\n",
       " 0.04538275673985481,\n",
       " 0.04441700875759125,\n",
       " 0.04428017511963844,\n",
       " 0.04428017511963844,\n",
       " nan,\n",
       " nan,\n",
       " nan]"
      ]
     },
     "execution_count": 55,
     "metadata": {},
     "output_type": "execute_result"
    }
   ],
   "source": [
    "loss_policies"
   ]
  },
  {
   "cell_type": "code",
   "execution_count": 54,
   "metadata": {},
   "outputs": [
    {
     "data": {
      "text/plain": [
       "[0.07869274914264679, 0.1371116042137146, 0.10709716379642487]"
      ]
     },
     "execution_count": 54,
     "metadata": {},
     "output_type": "execute_result"
    }
   ],
   "source": [
    "loss_values"
   ]
  },
  {
   "cell_type": "code",
   "execution_count": 48,
   "metadata": {},
   "outputs": [
    {
     "data": {
      "text/plain": [
       "[0.07577092200517654, 0.5277934670448303, nan]"
      ]
     },
     "execution_count": 48,
     "metadata": {},
     "output_type": "execute_result"
    }
   ],
   "source": [
    "loss_values"
   ]
  },
  {
   "cell_type": "code",
   "execution_count": 49,
   "metadata": {},
   "outputs": [
    {
     "data": {
      "text/plain": [
       "[-25.790035247802734,\n",
       " -25.632057189941406,\n",
       " -25.632057189941406,\n",
       " 21.198654174804688,\n",
       " 20.76930046081543,\n",
       " 20.76930046081543,\n",
       " nan,\n",
       " nan,\n",
       " nan]"
      ]
     },
     "execution_count": 49,
     "metadata": {},
     "output_type": "execute_result"
    }
   ],
   "source": [
    "loss_policies"
   ]
  },
  {
   "cell_type": "code",
   "execution_count": 24,
   "metadata": {},
   "outputs": [
    {
     "ename": "AttributeError",
     "evalue": "'dict' object has no attribute 'shape'",
     "output_type": "error",
     "traceback": [
      "\u001b[0;31m---------------------------------------------------------------------------\u001b[0m",
      "\u001b[0;31mAttributeError\u001b[0m                            Traceback (most recent call last)",
      "Input \u001b[0;32mIn [24]\u001b[0m, in \u001b[0;36m<cell line: 1>\u001b[0;34m()\u001b[0m\n\u001b[0;32m----> 1\u001b[0m \u001b[43mdata\u001b[49m\u001b[38;5;241;43m.\u001b[39;49m\u001b[43mshape\u001b[49m\n",
      "\u001b[0;31mAttributeError\u001b[0m: 'dict' object has no attribute 'shape'"
     ]
    }
   ],
   "source": [
    "data.shape"
   ]
  },
  {
   "cell_type": "code",
   "execution_count": 25,
   "metadata": {},
   "outputs": [
    {
     "data": {
      "text/plain": [
       "tensor([nan, nan, nan, nan, nan, nan], device='cuda:0',\n",
       "       grad_fn=<SoftmaxBackward0>)"
      ]
     },
     "execution_count": 25,
     "metadata": {},
     "output_type": "execute_result"
    }
   ],
   "source": [
    "probs"
   ]
  },
  {
   "cell_type": "code",
   "execution_count": 80,
   "metadata": {},
   "outputs": [
    {
     "data": {
      "text/plain": [
       "[<matplotlib.lines.Line2D at 0x7f7d8a3f7a00>]"
      ]
     },
     "execution_count": 80,
     "metadata": {},
     "output_type": "execute_result"
    },
    {
     "data": {
      "image/png": "[encoded data removed]",
      "text/plain": [
       "<Figure size 432x288 with 1 Axes>"
      ]
     },
     "metadata": {
      "needs_background": "light"
     },
     "output_type": "display_data"
    }
   ],
   "source": [
    "plt.plot(loss_values)"
   ]
  },
  {
   "cell_type": "code",
   "execution_count": 81,
   "metadata": {},
   "outputs": [
    {
     "data": {
      "text/plain": [
       "[<matplotlib.lines.Line2D at 0x7f7d894360e0>]"
      ]
     },
     "execution_count": 81,
     "metadata": {},
     "output_type": "execute_result"
    },
    {
     "data": {
      "image/png": "[encoded data removed]",
      "text/plain": [
       "<Figure size 432x288 with 1 Axes>"
      ]
     },
     "metadata": {
      "needs_background": "light"
     },
     "output_type": "display_data"
    }
   ],
   "source": [
    "plt.plot(loss_policies)"
   ]
  },
  {
   "cell_type": "code",
   "execution_count": 83,
   "metadata": {},
   "outputs": [
    {
     "data": {
      "text/plain": [
       "tensor([ 0.0000e+00,  8.2222e-01,  1.2246e-16, -1.0000e+00, -4.5880e-01,\n",
       "         3.1809e-01, -8.6603e-01, -5.0000e-01, -1.0000e+00, -1.0000e+00,\n",
       "         0.0000e+00,  1.0000e+00, -1.0000e+00, -1.0000e+00,  0.0000e+00,\n",
       "         1.0000e+00, -1.0363e-01,  5.9415e-01,  0.0000e+00,  1.0000e+00,\n",
       "        -1.0000e+00, -1.0000e+00,  0.0000e+00,  1.0000e+00], device='cuda:0')"
      ]
     },
     "execution_count": 83,
     "metadata": {},
     "output_type": "execute_result"
    }
   ],
   "source": [
    "observation"
   ]
  },
  {
   "cell_type": "code",
   "execution_count": 90,
   "metadata": {},
   "outputs": [
    {
     "data": {
      "text/plain": [
       "[Parameter containing:\n",
       " tensor([[nan, nan, nan,  ..., nan, nan, nan],\n",
       "         [nan, nan, nan,  ..., nan, nan, nan],\n",
       "         [nan, nan, nan,  ..., nan, nan, nan],\n",
       "         ...,\n",
       "         [nan, nan, nan,  ..., nan, nan, nan],\n",
       "         [nan, nan, nan,  ..., nan, nan, nan],\n",
       "         [nan, nan, nan,  ..., nan, nan, nan]], device='cuda:0',\n",
       "        requires_grad=True),\n",
       " Parameter containing:\n",
       " tensor([nan, nan, nan, nan, nan, nan, nan, nan, nan, nan, nan, nan, nan, nan, nan, nan, nan, nan, nan, nan, nan, nan, nan, nan,\n",
       "         nan, nan, nan, nan, nan, nan, nan, nan, nan, nan, nan, nan, nan, nan, nan, nan, nan, nan, nan, nan, nan, nan, nan, nan,\n",
       "         nan, nan, nan, nan, nan, nan, nan, nan, nan, nan, nan, nan, nan, nan, nan, nan, nan, nan, nan, nan, nan, nan, nan, nan,\n",
       "         nan, nan, nan, nan, nan, nan, nan, nan, nan, nan, nan, nan, nan, nan, nan, nan, nan, nan, nan, nan, nan, nan, nan, nan,\n",
       "         nan, nan, nan, nan, nan, nan, nan, nan, nan, nan, nan, nan, nan, nan, nan, nan, nan, nan, nan, nan, nan, nan, nan, nan,\n",
       "         nan, nan, nan, nan, nan, nan, nan, nan, nan, nan, nan, nan, nan, nan, nan, nan, nan, nan, nan, nan, nan, nan, nan, nan,\n",
       "         nan, nan, nan, nan, nan, nan, nan, nan, nan, nan, nan, nan, nan, nan, nan, nan, nan, nan, nan, nan, nan, nan, nan, nan,\n",
       "         nan, nan, nan, nan, nan, nan, nan, nan, nan, nan, nan, nan, nan, nan, nan, nan, nan, nan, nan, nan, nan, nan, nan, nan,\n",
       "         nan, nan, nan, nan, nan, nan, nan, nan, nan, nan, nan, nan, nan, nan, nan, nan, nan, nan, nan, nan, nan, nan, nan, nan,\n",
       "         nan, nan, nan, nan, nan, nan, nan, nan, nan, nan, nan, nan, nan, nan, nan, nan, nan, nan, nan, nan, nan, nan, nan, nan,\n",
       "         nan, nan, nan, nan, nan, nan, nan, nan, nan, nan, nan, nan, nan, nan, nan, nan, nan, nan, nan, nan, nan, nan, nan, nan,\n",
       "         nan, nan, nan, nan, nan, nan, nan, nan, nan, nan, nan, nan, nan, nan, nan, nan, nan, nan, nan, nan, nan, nan, nan, nan,\n",
       "         nan, nan, nan, nan, nan, nan, nan, nan, nan, nan, nan, nan, nan, nan, nan, nan, nan, nan, nan, nan, nan, nan, nan, nan,\n",
       "         nan, nan, nan, nan, nan, nan, nan, nan, nan, nan, nan, nan, nan, nan, nan, nan, nan, nan, nan, nan, nan, nan, nan, nan,\n",
       "         nan, nan, nan, nan, nan, nan, nan, nan, nan, nan, nan, nan, nan, nan, nan, nan, nan, nan, nan, nan, nan, nan, nan, nan,\n",
       "         nan, nan, nan, nan, nan, nan, nan, nan, nan, nan, nan, nan, nan, nan, nan, nan, nan, nan, nan, nan, nan, nan, nan, nan,\n",
       "         nan, nan, nan, nan, nan, nan, nan, nan, nan, nan, nan, nan, nan, nan, nan, nan, nan, nan, nan, nan, nan, nan, nan, nan,\n",
       "         nan, nan, nan, nan, nan, nan, nan, nan, nan, nan, nan, nan, nan, nan, nan, nan, nan, nan, nan, nan, nan, nan, nan, nan,\n",
       "         nan, nan, nan, nan, nan, nan, nan, nan, nan, nan, nan, nan, nan, nan, nan, nan, nan, nan, nan, nan, nan, nan, nan, nan,\n",
       "         nan, nan, nan, nan, nan, nan, nan, nan, nan, nan, nan, nan, nan, nan, nan, nan, nan, nan, nan, nan, nan, nan, nan, nan,\n",
       "         nan, nan, nan, nan, nan, nan, nan, nan, nan, nan, nan, nan, nan, nan, nan, nan, nan, nan, nan, nan, nan, nan, nan, nan,\n",
       "         nan, nan, nan, nan, nan, nan, nan, nan, nan, nan, nan, nan, nan, nan, nan, nan, nan, nan, nan, nan, nan, nan, nan, nan,\n",
       "         nan, nan, nan, nan, nan, nan, nan, nan, nan, nan, nan, nan, nan, nan, nan, nan, nan, nan, nan, nan, nan, nan, nan, nan,\n",
       "         nan, nan, nan, nan, nan, nan, nan, nan, nan, nan, nan, nan, nan, nan, nan, nan, nan, nan, nan, nan, nan, nan, nan, nan,\n",
       "         nan, nan, nan, nan, nan, nan, nan, nan, nan, nan, nan, nan, nan, nan, nan, nan, nan, nan, nan, nan, nan, nan, nan, nan,\n",
       "         nan, nan, nan, nan, nan, nan, nan, nan, nan, nan, nan, nan, nan, nan, nan, nan, nan, nan, nan, nan, nan, nan, nan, nan,\n",
       "         nan, nan, nan, nan, nan, nan, nan, nan, nan, nan, nan, nan, nan, nan, nan, nan, nan, nan, nan, nan, nan, nan, nan, nan,\n",
       "         nan, nan, nan, nan, nan, nan, nan, nan, nan, nan, nan, nan, nan, nan, nan, nan, nan, nan, nan, nan, nan, nan, nan, nan,\n",
       "         nan, nan, nan, nan, nan, nan, nan, nan, nan, nan, nan, nan, nan, nan, nan, nan, nan, nan, nan, nan, nan, nan, nan, nan,\n",
       "         nan, nan, nan, nan, nan, nan, nan, nan, nan, nan, nan, nan, nan, nan, nan, nan, nan, nan, nan, nan, nan, nan, nan, nan,\n",
       "         nan, nan, nan, nan, nan, nan, nan, nan, nan, nan, nan, nan, nan, nan, nan, nan, nan, nan, nan, nan, nan, nan, nan, nan,\n",
       "         nan, nan, nan, nan, nan, nan, nan, nan, nan, nan, nan, nan, nan, nan, nan, nan, nan, nan, nan, nan, nan, nan, nan, nan,\n",
       "         nan, nan, nan, nan, nan, nan, nan, nan, nan, nan, nan, nan, nan, nan, nan, nan, nan, nan, nan, nan, nan, nan, nan, nan,\n",
       "         nan, nan, nan, nan, nan, nan, nan, nan, nan, nan, nan, nan, nan, nan, nan, nan, nan, nan, nan, nan, nan, nan, nan, nan,\n",
       "         nan, nan, nan, nan, nan, nan, nan, nan, nan, nan, nan, nan, nan, nan, nan, nan, nan, nan, nan, nan, nan, nan, nan, nan,\n",
       "         nan, nan, nan, nan, nan, nan, nan, nan, nan, nan, nan, nan, nan, nan, nan, nan, nan, nan, nan, nan, nan, nan, nan, nan,\n",
       "         nan, nan, nan, nan, nan, nan, nan, nan, nan, nan, nan, nan, nan, nan, nan, nan, nan, nan, nan, nan, nan, nan, nan, nan,\n",
       "         nan, nan, nan, nan, nan, nan, nan, nan, nan, nan, nan, nan, nan, nan, nan, nan, nan, nan, nan, nan, nan, nan, nan, nan,\n",
       "         nan, nan, nan, nan, nan, nan, nan, nan, nan, nan, nan, nan, nan, nan, nan, nan, nan, nan, nan, nan, nan, nan, nan, nan,\n",
       "         nan, nan, nan, nan, nan, nan, nan, nan, nan, nan, nan, nan, nan, nan, nan, nan, nan, nan, nan, nan, nan, nan, nan, nan,\n",
       "         nan, nan, nan, nan, nan, nan, nan, nan, nan, nan, nan, nan, nan, nan, nan, nan, nan, nan, nan, nan, nan, nan, nan, nan,\n",
       "         nan, nan, nan, nan, nan, nan, nan, nan, nan, nan, nan, nan, nan, nan, nan, nan],\n",
       "        device='cuda:0', requires_grad=True),\n",
       " Parameter containing:\n",
       " tensor([[nan, nan, nan,  ..., nan, nan, nan],\n",
       "         [nan, nan, nan,  ..., nan, nan, nan],\n",
       "         [nan, nan, nan,  ..., nan, nan, nan],\n",
       "         ...,\n",
       "         [nan, nan, nan,  ..., nan, nan, nan],\n",
       "         [nan, nan, nan,  ..., nan, nan, nan],\n",
       "         [nan, nan, nan,  ..., nan, nan, nan]], device='cuda:0',\n",
       "        requires_grad=True),\n",
       " Parameter containing:\n",
       " tensor([nan, nan, nan, nan, nan, nan, nan, nan, nan, nan, nan, nan, nan, nan, nan, nan, nan, nan, nan, nan, nan, nan, nan, nan,\n",
       "         nan, nan, nan, nan, nan, nan, nan, nan, nan, nan, nan, nan, nan, nan, nan, nan, nan, nan, nan, nan, nan, nan, nan, nan,\n",
       "         nan, nan, nan, nan, nan, nan, nan, nan, nan, nan, nan, nan, nan, nan, nan, nan, nan, nan, nan, nan, nan, nan, nan, nan,\n",
       "         nan, nan, nan, nan, nan, nan, nan, nan, nan, nan, nan, nan, nan, nan, nan, nan, nan, nan, nan, nan, nan, nan, nan, nan,\n",
       "         nan, nan, nan, nan, nan, nan, nan, nan, nan, nan, nan, nan, nan, nan, nan, nan, nan, nan, nan, nan, nan, nan, nan, nan,\n",
       "         nan, nan, nan, nan, nan, nan, nan, nan, nan, nan, nan, nan, nan, nan, nan, nan, nan, nan, nan, nan, nan, nan, nan, nan,\n",
       "         nan, nan, nan, nan, nan, nan, nan, nan, nan, nan, nan, nan, nan, nan, nan, nan, nan, nan, nan, nan, nan, nan, nan, nan,\n",
       "         nan, nan, nan, nan, nan, nan, nan, nan, nan, nan, nan, nan, nan, nan, nan, nan, nan, nan, nan, nan, nan, nan, nan, nan,\n",
       "         nan, nan, nan, nan, nan, nan, nan, nan, nan, nan, nan, nan, nan, nan, nan, nan, nan, nan, nan, nan, nan, nan, nan, nan,\n",
       "         nan, nan, nan, nan, nan, nan, nan, nan, nan, nan, nan, nan, nan, nan, nan, nan, nan, nan, nan, nan, nan, nan, nan, nan,\n",
       "         nan, nan, nan, nan, nan, nan, nan, nan, nan, nan, nan, nan, nan, nan, nan, nan, nan, nan, nan, nan, nan, nan, nan, nan,\n",
       "         nan, nan, nan, nan, nan, nan, nan, nan, nan, nan, nan, nan, nan, nan, nan, nan, nan, nan, nan, nan, nan, nan, nan, nan,\n",
       "         nan, nan, nan, nan, nan, nan, nan, nan, nan, nan, nan, nan, nan, nan, nan, nan, nan, nan, nan, nan, nan, nan, nan, nan,\n",
       "         nan, nan, nan, nan, nan, nan, nan, nan, nan, nan, nan, nan, nan, nan, nan, nan, nan, nan, nan, nan, nan, nan, nan, nan,\n",
       "         nan, nan, nan, nan, nan, nan, nan, nan, nan, nan, nan, nan, nan, nan, nan, nan, nan, nan, nan, nan, nan, nan, nan, nan,\n",
       "         nan, nan, nan, nan, nan, nan, nan, nan, nan, nan, nan, nan, nan, nan, nan, nan, nan, nan, nan, nan, nan, nan, nan, nan,\n",
       "         nan, nan, nan, nan, nan, nan, nan, nan, nan, nan, nan, nan, nan, nan, nan, nan, nan, nan, nan, nan, nan, nan, nan, nan,\n",
       "         nan, nan, nan, nan, nan, nan, nan, nan, nan, nan, nan, nan, nan, nan, nan, nan, nan, nan, nan, nan, nan, nan, nan, nan,\n",
       "         nan, nan, nan, nan, nan, nan, nan, nan, nan, nan, nan, nan, nan, nan, nan, nan, nan, nan, nan, nan, nan, nan, nan, nan,\n",
       "         nan, nan, nan, nan, nan, nan, nan, nan, nan, nan, nan, nan, nan, nan, nan, nan, nan, nan, nan, nan, nan, nan, nan, nan,\n",
       "         nan, nan, nan, nan, nan, nan, nan, nan, nan, nan, nan, nan, nan, nan, nan, nan, nan, nan, nan, nan, nan, nan, nan, nan,\n",
       "         nan, nan, nan, nan, nan, nan, nan, nan, nan, nan, nan, nan, nan, nan, nan, nan, nan, nan, nan, nan, nan, nan, nan, nan,\n",
       "         nan, nan, nan, nan, nan, nan, nan, nan, nan, nan, nan, nan, nan, nan, nan, nan, nan, nan, nan, nan, nan, nan, nan, nan,\n",
       "         nan, nan, nan, nan, nan, nan, nan, nan, nan, nan, nan, nan, nan, nan, nan, nan, nan, nan, nan, nan, nan, nan, nan, nan,\n",
       "         nan, nan, nan, nan, nan, nan, nan, nan, nan, nan, nan, nan, nan, nan, nan, nan, nan, nan, nan, nan, nan, nan, nan, nan,\n",
       "         nan, nan, nan, nan, nan, nan, nan, nan, nan, nan, nan, nan, nan, nan, nan, nan, nan, nan, nan, nan, nan, nan, nan, nan,\n",
       "         nan, nan, nan, nan, nan, nan, nan, nan, nan, nan, nan, nan, nan, nan, nan, nan, nan, nan, nan, nan, nan, nan, nan, nan,\n",
       "         nan, nan, nan, nan, nan, nan, nan, nan, nan, nan, nan, nan, nan, nan, nan, nan, nan, nan, nan, nan, nan, nan, nan, nan,\n",
       "         nan, nan, nan, nan, nan, nan, nan, nan, nan, nan, nan, nan, nan, nan, nan, nan, nan, nan, nan, nan, nan, nan, nan, nan,\n",
       "         nan, nan, nan, nan, nan, nan, nan, nan, nan, nan, nan, nan, nan, nan, nan, nan, nan, nan, nan, nan, nan, nan, nan, nan,\n",
       "         nan, nan, nan, nan, nan, nan, nan, nan, nan, nan, nan, nan, nan, nan, nan, nan, nan, nan, nan, nan, nan, nan, nan, nan,\n",
       "         nan, nan, nan, nan, nan, nan, nan, nan, nan, nan, nan, nan, nan, nan, nan, nan, nan, nan, nan, nan, nan, nan, nan, nan,\n",
       "         nan, nan, nan, nan, nan, nan, nan, nan, nan, nan, nan, nan, nan, nan, nan, nan, nan, nan, nan, nan, nan, nan, nan, nan,\n",
       "         nan, nan, nan, nan, nan, nan, nan, nan, nan, nan, nan, nan, nan, nan, nan, nan, nan, nan, nan, nan, nan, nan, nan, nan,\n",
       "         nan, nan, nan, nan, nan, nan, nan, nan, nan, nan, nan, nan, nan, nan, nan, nan, nan, nan, nan, nan, nan, nan, nan, nan,\n",
       "         nan, nan, nan, nan, nan, nan, nan, nan, nan, nan, nan, nan, nan, nan, nan, nan, nan, nan, nan, nan, nan, nan, nan, nan,\n",
       "         nan, nan, nan, nan, nan, nan, nan, nan, nan, nan, nan, nan, nan, nan, nan, nan, nan, nan, nan, nan, nan, nan, nan, nan,\n",
       "         nan, nan, nan, nan, nan, nan, nan, nan, nan, nan, nan, nan, nan, nan, nan, nan, nan, nan, nan, nan, nan, nan, nan, nan,\n",
       "         nan, nan, nan, nan, nan, nan, nan, nan, nan, nan, nan, nan, nan, nan, nan, nan, nan, nan, nan, nan, nan, nan, nan, nan,\n",
       "         nan, nan, nan, nan, nan, nan, nan, nan, nan, nan, nan, nan, nan, nan, nan, nan, nan, nan, nan, nan, nan, nan, nan, nan,\n",
       "         nan, nan, nan, nan, nan, nan, nan, nan, nan, nan, nan, nan, nan, nan, nan, nan, nan, nan, nan, nan, nan, nan, nan, nan,\n",
       "         nan, nan, nan, nan, nan, nan, nan, nan, nan, nan, nan, nan, nan, nan, nan, nan],\n",
       "        device='cuda:0', requires_grad=True),\n",
       " Parameter containing:\n",
       " tensor([[nan, nan, nan,  ..., nan, nan, nan],\n",
       "         [nan, nan, nan,  ..., nan, nan, nan],\n",
       "         [nan, nan, nan,  ..., nan, nan, nan],\n",
       "         [nan, nan, nan,  ..., nan, nan, nan],\n",
       "         [nan, nan, nan,  ..., nan, nan, nan],\n",
       "         [nan, nan, nan,  ..., nan, nan, nan]], device='cuda:0',\n",
       "        requires_grad=True),\n",
       " Parameter containing:\n",
       " tensor([nan, nan, nan, nan, nan, nan], device='cuda:0', requires_grad=True)]"
      ]
     },
     "execution_count": 90,
     "metadata": {},
     "output_type": "execute_result"
    }
   ],
   "source": [
    "list(policy.parameters())"
   ]
  },
  {
   "cell_type": "code",
   "execution_count": 84,
   "metadata": {},
   "outputs": [
    {
     "data": {
      "text/plain": [
       "tensor([nan, nan, nan, nan, nan, nan], device='cuda:0',\n",
       "       grad_fn=<SoftmaxBackward0>)"
      ]
     },
     "execution_count": 84,
     "metadata": {},
     "output_type": "execute_result"
    }
   ],
   "source": [
    "policy(observation)"
   ]
  },
  {
   "cell_type": "code",
   "execution_count": 28,
   "metadata": {},
   "outputs": [
    {
     "data": {
      "text/plain": [
       "tensor([3.8235e-01, 6.9762e-01, 7.4128e-01, 2.9270e-02, 8.3587e-02, 1.8198e-02,\n",
       "        6.8271e-03, 1.8021e-02, 4.8586e-01, 2.1420e-01, 1.7268e-03, 2.2728e-03,\n",
       "        5.4260e-03, 3.7001e-03, 1.1367e-01, 4.8583e-03, 1.8209e-01, 7.4309e-02,\n",
       "        2.7997e-03, 8.6750e-04, 3.4431e-02, 1.8908e-03, 5.5186e-02, 1.3229e-01,\n",
       "        1.5385e-02, 2.9386e-03, 1.3438e-03, 9.8189e-01, 2.1852e-01, 2.1765e-02,\n",
       "        2.3808e-03, 1.2458e-03, 1.8427e-03, 1.2357e-02, 2.9949e-03, 3.4743e-03,\n",
       "        4.4196e-03, 6.7387e-02, 4.3495e-02, 6.5765e-01, 8.8628e-03, 3.0114e-01,\n",
       "        3.1846e-02, 2.3719e-03, 6.1361e-03, 7.5821e-02, 4.2542e-02, 8.0455e-03,\n",
       "        1.3519e-02, 2.2640e-03, 2.9367e-03, 6.0410e-03, 3.8994e-03, 4.2244e-01,\n",
       "        1.4379e-01, 3.0043e-03, 2.2706e-03, 8.8574e-03, 2.6185e-01, 2.8968e-01,\n",
       "        2.3582e-03, 1.0108e-01, 1.0273e-02, 1.4060e-01, 2.7629e-03, 6.4749e-02,\n",
       "        2.1305e-03, 1.2675e-03, 4.8234e-02, 2.9818e-03, 2.3608e-03, 6.5279e-04,\n",
       "        1.0798e-03, 1.7783e-03, 1.0936e-02, 1.9742e-02, 3.0687e-03, 5.5065e-03,\n",
       "        2.3372e-03, 7.9231e-04, 2.8069e-03, 1.2711e-03, 2.5787e-02, 9.6215e-01,\n",
       "        1.1422e-03, 9.1241e-04, 1.1217e-03, 1.8967e-02, 2.8776e-03, 3.5089e-02,\n",
       "        2.7147e-03, 4.0514e-03, 1.2512e-02, 3.2514e-02, 2.8460e-03, 1.5269e-02,\n",
       "        1.9889e-03, 1.1479e-02, 3.3524e-03, 1.1832e-03])"
      ]
     },
     "execution_count": 28,
     "metadata": {},
     "output_type": "execute_result"
    }
   ],
   "source": [
    "data['gae'][0]"
   ]
  },
  {
   "cell_type": "code",
   "execution_count": 27,
   "metadata": {},
   "outputs": [
    {
     "data": {
      "text/plain": [
       "tensor([[1., 4., 4., 5., 1., 1., 1., 0., 3., 0., 3., 5., 3., 5., 2., 0., 4., 1.,\n",
       "         4., 5., 0., 4., 4., 1., 4., 4., 1., 0., 5., 4., 4., 0., 4., 1., 4., 2.,\n",
       "         1., 4., 1., 0., 1., 0., 4., 5., 5., 5., 4., 0., 0., 0., 4., 3., 5., 5.,\n",
       "         4., 0., 1., 3., 3., 5., 1., 1., 2., 1., 4., 2., 3., 3., 2., 4., 5., 2.,\n",
       "         0., 0., 2., 0., 2., 5., 1., 4., 1., 3., 5., 1., 2., 0., 0., 2., 0., 2.,\n",
       "         2., 2., 0., 2., 0., 2., 2., 5., 3., 2.]])"
      ]
     },
     "execution_count": 27,
     "metadata": {},
     "output_type": "execute_result"
    }
   ],
   "source": [
    "data['chosen_move']"
   ]
  },
  {
   "cell_type": "code",
   "execution_count": 26,
   "metadata": {},
   "outputs": [
    {
     "data": {
      "text/plain": [
       "device(type='cuda', index=0)"
      ]
     },
     "execution_count": 26,
     "metadata": {},
     "output_type": "execute_result"
    }
   ],
   "source": [
    "old_values.device"
   ]
  },
  {
   "cell_type": "code",
   "execution_count": null,
   "metadata": {},
   "outputs": [],
   "source": [
    "device"
   ]
  },
  {
   "cell_type": "code",
   "execution_count": 9,
   "metadata": {},
   "outputs": [
    {
     "data": {
      "text/plain": [
       "[-1, 1]"
      ]
     },
     "execution_count": 9,
     "metadata": {},
     "output_type": "execute_result"
    }
   ],
   "source": [
    "results"
   ]
  },
  {
   "cell_type": "code",
   "execution_count": 69,
   "metadata": {},
   "outputs": [
    {
     "data": {
      "text/plain": [
       "1214"
      ]
     },
     "execution_count": 69,
     "metadata": {},
     "output_type": "execute_result"
    }
   ],
   "source": [
    "len(erm)"
   ]
  },
  {
   "cell_type": "code",
   "execution_count": 67,
   "metadata": {},
   "outputs": [
    {
     "data": {
      "text/plain": [
       "tensor([0.1775, 0.1418, 0.1555, 0.1769, 0.1842, 0.1641],\n",
       "       grad_fn=<SelectBackward>)"
      ]
     },
     "execution_count": 67,
     "metadata": {},
     "output_type": "execute_result"
    }
   ],
   "source": [
    "new_probs"
   ]
  },
  {
   "cell_type": "code",
   "execution_count": 18,
   "metadata": {},
   "outputs": [
    {
     "ename": "AttributeError",
     "evalue": "module 'numpy' has no attribute 'atan2'",
     "output_type": "error",
     "traceback": [
      "\u001b[0;31m---------------------------------------------------------------------------\u001b[0m",
      "\u001b[0;31mAttributeError\u001b[0m                            Traceback (most recent call last)",
      "Cell \u001b[0;32mIn [18], line 1\u001b[0m\n\u001b[0;32m----> 1\u001b[0m \u001b[43mnp\u001b[49m\u001b[38;5;241;43m.\u001b[39;49m\u001b[43matan2\u001b[49m(state[\u001b[38;5;241m2\u001b[39m], state[\u001b[38;5;241m3\u001b[39m])\n",
      "File \u001b[0;32m~/miniconda3/envs/cv38/lib/python3.8/site-packages/numpy/__init__.py:303\u001b[0m, in \u001b[0;36m__getattr__\u001b[0;34m(attr)\u001b[0m\n\u001b[1;32m    300\u001b[0m     \u001b[38;5;28;01mfrom\u001b[39;00m \u001b[38;5;21;01m.\u001b[39;00m\u001b[38;5;21;01mtesting\u001b[39;00m \u001b[38;5;28;01mimport\u001b[39;00m Tester\n\u001b[1;32m    301\u001b[0m     \u001b[38;5;28;01mreturn\u001b[39;00m Tester\n\u001b[0;32m--> 303\u001b[0m \u001b[38;5;28;01mraise\u001b[39;00m \u001b[38;5;167;01mAttributeError\u001b[39;00m(\u001b[38;5;124m\"\u001b[39m\u001b[38;5;124mmodule \u001b[39m\u001b[38;5;132;01m{!r}\u001b[39;00m\u001b[38;5;124m has no attribute \u001b[39m\u001b[38;5;124m\"\u001b[39m\n\u001b[1;32m    304\u001b[0m                      \u001b[38;5;124m\"\u001b[39m\u001b[38;5;132;01m{!r}\u001b[39;00m\u001b[38;5;124m\"\u001b[39m\u001b[38;5;241m.\u001b[39mformat(\u001b[38;5;18m__name__\u001b[39m, attr))\n",
      "\u001b[0;31mAttributeError\u001b[0m: module 'numpy' has no attribute 'atan2'"
     ]
    }
   ],
   "source": [
    "np.atan2(state[2], state[3])"
   ]
  },
  {
   "cell_type": "code",
   "execution_count": null,
   "metadata": {},
   "outputs": [],
   "source": [
    "state.move()"
   ]
  },
  {
   "cell_type": "code",
   "execution_count": 4,
   "metadata": {},
   "outputs": [
    {
     "data": {
      "text/plain": [
       "tensor([ 8.0000e-01,  0.0000e+00, -1.0000e+00, -1.8370e-16, -8.0000e-01,\n",
       "         0.0000e+00, -1.0000e+00, -1.8370e-16, -1.0000e+00, -1.0000e+00,\n",
       "         0.0000e+00,  1.0000e+00, -1.0000e+00, -1.0000e+00,  0.0000e+00,\n",
       "         1.0000e+00, -1.0000e+00, -1.0000e+00,  0.0000e+00,  1.0000e+00,\n",
       "        -1.0000e+00, -1.0000e+00,  0.0000e+00,  1.0000e+00])"
      ]
     },
     "execution_count": 4,
     "metadata": {},
     "output_type": "execute_result"
    }
   ],
   "source": [
    "state"
   ]
  },
  {
   "cell_type": "code",
   "execution_count": 17,
   "metadata": {},
   "outputs": [
    {
     "data": {
      "text/plain": [
       "tensor([ 8.0000e-01,  0.0000e+00, -1.0000e+00, -1.8370e-16, -8.0000e-01,\n",
       "         0.0000e+00, -1.0000e+00, -1.8370e-16, -1.0000e+00, -1.0000e+00,\n",
       "         0.0000e+00,  1.0000e+00, -1.0000e+00, -1.0000e+00,  0.0000e+00,\n",
       "         1.0000e+00, -1.0000e+00, -1.0000e+00,  0.0000e+00,  1.0000e+00,\n",
       "        -1.0000e+00, -1.0000e+00,  0.0000e+00,  1.0000e+00])"
      ]
     },
     "execution_count": 17,
     "metadata": {},
     "output_type": "execute_result"
    }
   ],
   "source": [
    "state"
   ]
  },
  {
   "cell_type": "code",
   "execution_count": 11,
   "metadata": {},
   "outputs": [],
   "source": [
    "torch.round?"
   ]
  },
  {
   "cell_type": "code",
   "execution_count": 2,
   "metadata": {},
   "outputs": [
    {
     "data": {
      "text/plain": [
       "1.0"
      ]
     },
     "execution_count": 2,
     "metadata": {},
     "output_type": "execute_result"
    }
   ],
   "source": [
    "play_shooter(\n",
    "    your_choose_move=human_player,\n",
    "    opponent_choose_move=choose_move_randomly,\n",
    "    game_speed_multiplier=1,\n",
    "    render=True,\n",
    "    include_barriers=False,\n",
    "    half_game_size=False,\n",
    ")"
   ]
  }
 ],
 "metadata": {
  "kernelspec": {
   "display_name": "Python 3 (ipykernel)",
   "language": "python",
   "name": "python3"
  },
  "language_info": {
   "codemirror_mode": {
    "name": "ipython",
    "version": 3
   },
   "file_extension": ".py",
   "mimetype": "text/x-python",
   "name": "python",
   "nbconvert_exporter": "python",
   "pygments_lexer": "ipython3",
   "version": "3.9.13"
  }
 },
 "nbformat": 4,
 "nbformat_minor": 2
}

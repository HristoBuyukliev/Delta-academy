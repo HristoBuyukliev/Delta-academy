{
 "cells": [
  {
   "cell_type": "markdown",
   "id": "b230a7b7",
   "metadata": {},
   "source": [
    "In the poker week, PPO was broken - reward/signal was flowing between episodes. The purpose of this notebook is to fix this and maybe parallelize it better. "
   ]
  },
  {
   "cell_type": "code",
   "execution_count": 2,
   "id": "9413a157",
   "metadata": {},
   "outputs": [],
   "source": [
    "import random\n",
    "import math\n",
    "from copy import deepcopy\n",
    "\n",
    "from tqdm import tqdm_notebook\n",
    "import numpy as np\n",
    "import torch\n",
    "from torch import nn\n",
    "from torch.distributions import Categorical\n",
    "from collections import deque\n",
    "from typing import Tuple\n",
    "from einops import rearrange, repeat\n",
    "\n",
    "# from check_submission import check_submission\n",
    "from game_mechanics import *\n",
    "from functools import partial\n",
    "\n",
    "TEAM_NAME = \"Bulgar Stronk\"\n",
    "\n",
    "%load_ext autoreload\n",
    "%autoreload 2"
   ]
  },
  {
   "cell_type": "code",
   "execution_count": 9,
   "id": "e82a1537",
   "metadata": {},
   "outputs": [],
   "source": [
    "# Hyperparameters\n",
    "gamma = 0.99\n",
    "lamda = 0.95\n",
    "epsilon = 0.2\n",
    "beta = 0.01\n",
    "\n",
    "batch_size = 1024\n",
    "num_episodes = 100_000\n",
    "reset_opponent_gap = 3_000\n",
    "epochs_per_batch = 1\n",
    "\n",
    "pol_lr = 0.001\n",
    "n_pol_neurons = 256\n",
    "val_lr = 0.01\n",
    "n_val_neurons = 32\n",
    "\n",
    "# Policy net\n",
    "policy = nn.Sequential(\n",
    "    nn.Linear(10, 2),\n",
    "    nn.Softmax()\n",
    ")\n",
    "\n",
    "pol_optim = torch.optim.Adam(policy.parameters(), lr=pol_lr)\n",
    "\n",
    "# Value net\n",
    "V = nn.Sequential(\n",
    "    nn.Linear(10, 1),\n",
    ")\n",
    "\n",
    "val_optim = torch.optim.Adam(V.parameters(), lr=val_lr)\n",
    "val_loss_fn = nn.MSELoss()"
   ]
  },
  {
   "cell_type": "code",
   "execution_count": 11,
   "id": "b03e6a9e",
   "metadata": {},
   "outputs": [],
   "source": [
    "initial_state = torch.zeros(10)"
   ]
  },
  {
   "cell_type": "code",
   "execution_count": 34,
   "id": "146592cc",
   "metadata": {},
   "outputs": [
    {
     "data": {
      "text/plain": [
       "tensor([0.0714, 0.9216, 0.4027, 0.2005, 0.0934, 0.9643, 0.9513, 0.2475, 0.4475,\n",
       "        0.7969])"
      ]
     },
     "execution_count": 34,
     "metadata": {},
     "output_type": "execute_result"
    }
   ],
   "source": [
    "torch.rand(10)"
   ]
  },
  {
   "cell_type": "code",
   "execution_count": 49,
   "id": "a867cd94",
   "metadata": {},
   "outputs": [],
   "source": [
    "def play_game():\n",
    "    state = torch.zeros(10)\n",
    "    states = []\n",
    "    successor_states = []\n",
    "    moves = []\n",
    "    rewards = []\n",
    "    values = []\n",
    "    done = False\n",
    "    while not done:\n",
    "        move = torch.argmax(policy(state)).item()\n",
    "        if random.random() > 0.9:\n",
    "            done = True\n",
    "        new_state = torch.rand(10)\n",
    "        \n",
    "        states.append(state)\n",
    "        successor_states.append(new_state)\n",
    "        moves.append(move)\n",
    "        rewards.append(done*10)\n",
    "        state = new_state\n",
    "    return states, successor_states, moves, rewards"
   ]
  },
  {
   "cell_type": "code",
   "execution_count": 58,
   "id": "c6b1fb91",
   "metadata": {},
   "outputs": [
    {
     "name": "stdout",
     "output_type": "stream",
     "text": [
      "3\n"
     ]
    }
   ],
   "source": [
    "s, ss, m, r = play_game()\n",
    "print(len(s))"
   ]
  },
  {
   "cell_type": "code",
   "execution_count": 60,
   "id": "fbb40ad9",
   "metadata": {},
   "outputs": [
    {
     "data": {
      "text/plain": [
       "[tensor([0., 0., 0., 0., 0., 0., 0., 0., 0., 0.]),\n",
       " tensor([0.8080, 0.7543, 0.7743, 0.3747, 0.3730, 0.8463, 0.3515, 0.2142, 0.4241,\n",
       "         0.5462]),\n",
       " tensor([0.7316, 0.1167, 0.7791, 0.1339, 0.0445, 0.9479, 0.6434, 0.4083, 0.4323,\n",
       "         0.6407])]"
      ]
     },
     "execution_count": 60,
     "metadata": {},
     "output_type": "execute_result"
    }
   ],
   "source": [
    "s"
   ]
  },
  {
   "cell_type": "code",
   "execution_count": 59,
   "id": "e050f866",
   "metadata": {},
   "outputs": [
    {
     "data": {
      "text/plain": [
       "[tensor([0.8080, 0.7543, 0.7743, 0.3747, 0.3730, 0.8463, 0.3515, 0.2142, 0.4241,\n",
       "         0.5462]),\n",
       " tensor([0.7316, 0.1167, 0.7791, 0.1339, 0.0445, 0.9479, 0.6434, 0.4083, 0.4323,\n",
       "         0.6407]),\n",
       " tensor([0.9006, 0.9039, 0.0562, 0.6037, 0.2010, 0.7868, 0.4241, 0.2797, 0.8509,\n",
       "         0.1175])]"
      ]
     },
     "execution_count": 59,
     "metadata": {},
     "output_type": "execute_result"
    }
   ],
   "source": [
    "ss"
   ]
  }
 ],
 "metadata": {
  "kernelspec": {
   "display_name": "Python 3 (ipykernel)",
   "language": "python",
   "name": "python3"
  },
  "language_info": {
   "codemirror_mode": {
    "name": "ipython",
    "version": 3
   },
   "file_extension": ".py",
   "mimetype": "text/x-python",
   "name": "python",
   "nbconvert_exporter": "python",
   "pygments_lexer": "ipython3",
   "version": "3.9.13"
  }
 },
 "nbformat": 4,
 "nbformat_minor": 5
}

{
 "cells": [
  {
   "cell_type": "markdown",
   "id": "fcbf6714",
   "metadata": {},
   "source": [
    "1. We have both predicted values,   \n",
    "$v(s) \\in (-inf, + inf)$,  \n",
    "and probability of taking the action  \n",
    "$\\pi(s) \\in [0, 1)$\n",
    "We need to have separate networks for this. This is cumbersome. \n",
    "2. The exploration/exploitation thing. We want the network to explore more initially, and less afterwards. \n",
    "\n",
    "\n",
    "Proposed solution: only have a value network, and softmax the values plus a constant, so that they have some entropy $H$ , which decays over time. "
   ]
  },
  {
   "cell_type": "code",
   "execution_count": 88,
   "id": "12922470",
   "metadata": {},
   "outputs": [],
   "source": [
    "import torch\n",
    "import torch.nn as nn\n",
    "import torch.nn.functional as F\n",
    "import math\n",
    "import numpy as np\n",
    "import matplotlib.pyplot as plt"
   ]
  },
  {
   "cell_type": "code",
   "execution_count": 168,
   "id": "d39e115d",
   "metadata": {},
   "outputs": [
    {
     "data": {
      "text/plain": [
       "tensor([0.8913, 0.0231, 0.8399, 0.4486, 0.4895, 0.1145])"
      ]
     },
     "execution_count": 168,
     "metadata": {},
     "output_type": "execute_result"
    }
   ],
   "source": [
    "values = torch.rand(6)\n",
    "values"
   ]
  },
  {
   "cell_type": "code",
   "execution_count": 170,
   "id": "35c2d15c",
   "metadata": {},
   "outputs": [
    {
     "data": {
      "text/plain": [
       "tensor(nan)"
      ]
     },
     "execution_count": 170,
     "metadata": {},
     "output_type": "execute_result"
    }
   ],
   "source": [
    "entropy(values, 0.001)"
   ]
  },
  {
   "cell_type": "code",
   "execution_count": 171,
   "id": "d2448cfa",
   "metadata": {},
   "outputs": [
    {
     "name": "stderr",
     "output_type": "stream",
     "text": [
      "C:\\Users\\hristo\\AppData\\Local\\Temp\\ipykernel_13064\\790105551.py:1: UserWarning: Implicit dimension choice for softmax has been deprecated. Change the call to include dim=X as an argument.\n",
      "  F.softmax(values*100)\n"
     ]
    },
    {
     "data": {
      "text/plain": [
       "tensor([9.9423e-01, 1.9526e-38, 5.7707e-03, 5.8993e-20, 3.5113e-18, 1.8162e-34])"
      ]
     },
     "execution_count": 171,
     "metadata": {},
     "output_type": "execute_result"
    }
   ],
   "source": [
    "F.softmax(values*100)"
   ]
  },
  {
   "cell_type": "code",
   "execution_count": 101,
   "id": "d480f98e",
   "metadata": {},
   "outputs": [],
   "source": [
    "def entropy(values, T=1):\n",
    "    probs = F.softmax(values/T, dim=0)\n",
    "    return -(torch.log(probs)*probs).sum()"
   ]
  },
  {
   "cell_type": "code",
   "execution_count": 102,
   "id": "c949ff42",
   "metadata": {},
   "outputs": [
    {
     "data": {
      "text/plain": [
       "tensor(1.1467e-09)"
      ]
     },
     "execution_count": 102,
     "metadata": {},
     "output_type": "execute_result"
    }
   ],
   "source": [
    "entropy(values, T=0.0125)"
   ]
  },
  {
   "cell_type": "code",
   "execution_count": 98,
   "id": "0544c0ce",
   "metadata": {},
   "outputs": [
    {
     "name": "stdout",
     "output_type": "stream",
     "text": [
      "19.5 µs ± 48.4 ns per loop (mean ± std. dev. of 7 runs, 100,000 loops each)\n"
     ]
    }
   ],
   "source": [
    "%%timeit \n",
    "entropy(values)"
   ]
  },
  {
   "cell_type": "code",
   "execution_count": null,
   "id": "a96a0793",
   "metadata": {},
   "outputs": [],
   "source": [
    "np.logspace(1e-5, 1e3, 80)"
   ]
  },
  {
   "cell_type": "code",
   "execution_count": 121,
   "id": "61702f59",
   "metadata": {},
   "outputs": [
    {
     "data": {
      "text/plain": [
       "[<matplotlib.lines.Line2D at 0x2d1944bc3d0>]"
      ]
     },
     "execution_count": 121,
     "metadata": {},
     "output_type": "execute_result"
    },
    {
     "data": {
      "image/png": "[encoded data removed]",
      "text/plain": [
       "<Figure size 432x288 with 1 Axes>"
      ]
     },
     "metadata": {
      "needs_background": "light"
     },
     "output_type": "display_data"
    }
   ],
   "source": [
    "temps = np.linspace(1e-3, 1e3, 101)\n",
    "entropies = [entropy(values, T=t) for t in temps]\n",
    "plt.plot(temps, entropies)"
   ]
  },
  {
   "cell_type": "code",
   "execution_count": 119,
   "id": "a3a104b1",
   "metadata": {},
   "outputs": [
    {
     "data": {
      "text/plain": [
       "tensor(1.7847)"
      ]
     },
     "execution_count": 119,
     "metadata": {},
     "output_type": "execute_result"
    }
   ],
   "source": [
    "entropy(extreme_values, T=10)"
   ]
  },
  {
   "cell_type": "code",
   "execution_count": 142,
   "id": "f64813fd",
   "metadata": {},
   "outputs": [
    {
     "data": {
      "text/plain": [
       "1.791759469228055"
      ]
     },
     "execution_count": 142,
     "metadata": {},
     "output_type": "execute_result"
    }
   ],
   "source": [
    "np.log(6)"
   ]
  },
  {
   "cell_type": "code",
   "execution_count": 205,
   "id": "dc91bd87",
   "metadata": {},
   "outputs": [],
   "source": [
    "def find_optimal_temp(values, desired_bits, temps_to_check = np.logspace(-3, 3, 1000)):\n",
    "    if len(temps_to_check) == 1: return temps_to_check[0]\n",
    "    mid_index = round(len(temps_to_check)/2)\n",
    "    mid_ent1 = entropy(values, T=temps_to_check[mid_index-1])\n",
    "    mid_ent2 = entropy(values, T=temps_to_check[mid_index])\n",
    "    if np.isnan(mid_ent1):\n",
    "        return find_optimal_temp(values, desired_bits, temps_to_check[mid_index:])\n",
    "    if np.isnan(mid_ent2):\n",
    "        return find_optimal_temp(values, desired_bits, temps_to_check[:mid_index])\n",
    "    if mid_ent2 < desired_bits:\n",
    "        return find_optimal_temp(values, desired_bits, temps_to_check[mid_index:])\n",
    "    elif mid_ent1 > desired_bits:\n",
    "        return find_optimal_temp(values, desired_bits, temps_to_check[:mid_index])\n",
    "    else:\n",
    "        return temps_to_check[mid_index-1]"
   ]
  },
  {
   "cell_type": "code",
   "execution_count": 211,
   "id": "bf063e0a",
   "metadata": {},
   "outputs": [
    {
     "data": {
      "text/plain": [
       "0.008412497049736118"
      ]
     },
     "execution_count": 211,
     "metadata": {},
     "output_type": "execute_result"
    }
   ],
   "source": [
    "find_optimal_temp(values, 0.001)"
   ]
  },
  {
   "cell_type": "code",
   "execution_count": 214,
   "id": "30329fa1",
   "metadata": {},
   "outputs": [
    {
     "data": {
      "text/plain": [
       "tensor(0.0355)"
      ]
     },
     "execution_count": 214,
     "metadata": {},
     "output_type": "execute_result"
    }
   ],
   "source": [
    "entropy(values, 0.01)"
   ]
  },
  {
   "cell_type": "code",
   "execution_count": null,
   "id": "5b877fad",
   "metadata": {},
   "outputs": [],
   "source": []
  },
  {
   "cell_type": "code",
   "execution_count": 141,
   "id": "308067ed",
   "metadata": {},
   "outputs": [
    {
     "data": {
      "text/plain": [
       "[<matplotlib.lines.Line2D at 0x2d195c74b20>]"
      ]
     },
     "execution_count": 141,
     "metadata": {},
     "output_type": "execute_result"
    },
    {
     "data": {
      "image/png": "[encoded data removed]",
      "text/plain": [
       "<Figure size 432x288 with 1 Axes>"
      ]
     },
     "metadata": {
      "needs_background": "light"
     },
     "output_type": "display_data"
    }
   ],
   "source": [
    "extreme_values = torch.as_tensor([0,0,0,0,0,0.1], dtype=torch.float32)\n",
    "# max_range = max(extreme_values) - min(extreme_values)\n",
    "temps = np.linspace(1e-3, 1e3, 101)\n",
    "# temps = np.linspace(0.5, 2, 101)\n",
    "entropies = [entropy(extreme_values, T=t) for t in temps]\n",
    "plt.plot(temps, entropies)"
   ]
  },
  {
   "cell_type": "code",
   "execution_count": 74,
   "id": "792e8e65",
   "metadata": {},
   "outputs": [
    {
     "data": {
      "text/plain": [
       "1.791759469228055"
      ]
     },
     "execution_count": 74,
     "metadata": {},
     "output_type": "execute_result"
    }
   ],
   "source": [
    "math.log(6)"
   ]
  },
  {
   "cell_type": "code",
   "execution_count": 65,
   "id": "ddf88dfe",
   "metadata": {},
   "outputs": [
    {
     "data": {
      "text/plain": [
       "0.7224"
      ]
     },
     "execution_count": 65,
     "metadata": {},
     "output_type": "execute_result"
    }
   ],
   "source": [
    "7.2240e-01"
   ]
  },
  {
   "cell_type": "code",
   "execution_count": 54,
   "id": "83b9b0cb",
   "metadata": {},
   "outputs": [
    {
     "data": {
      "text/plain": [
       "tensor([0.2436, 0.2436, 0.2436, 0.2692])"
      ]
     },
     "execution_count": 54,
     "metadata": {},
     "output_type": "execute_result"
    }
   ],
   "source": [
    "manual_softmax(values+10)"
   ]
  },
  {
   "cell_type": "code",
   "execution_count": 49,
   "id": "8c885e7f",
   "metadata": {},
   "outputs": [
    {
     "data": {
      "text/plain": [
       "tensor([0.2436, 0.2436, 0.2436, 0.2692])"
      ]
     },
     "execution_count": 49,
     "metadata": {},
     "output_type": "execute_result"
    }
   ],
   "source": [
    "F.softmax(values+10, dim=0)"
   ]
  },
  {
   "cell_type": "code",
   "execution_count": 41,
   "id": "07f7009e",
   "metadata": {},
   "outputs": [
    {
     "name": "stdout",
     "output_type": "stream",
     "text": [
      "tensor([0.1404, 0.1911, 0.1917, 0.1886, 0.1266, 0.1616])\n"
     ]
    },
    {
     "data": {
      "text/plain": [
       "tensor(1.7794)"
      ]
     },
     "execution_count": 41,
     "metadata": {},
     "output_type": "execute_result"
    }
   ],
   "source": [
    "entropy(values, 10)"
   ]
  }
 ],
 "metadata": {
  "kernelspec": {
   "display_name": "Python 3 (ipykernel)",
   "language": "python",
   "name": "python3"
  },
  "language_info": {
   "codemirror_mode": {
    "name": "ipython",
    "version": 3
   },
   "file_extension": ".py",
   "mimetype": "text/x-python",
   "name": "python",
   "nbconvert_exporter": "python",
   "pygments_lexer": "ipython3",
   "version": "3.9.12"
  }
 },
 "nbformat": 4,
 "nbformat_minor": 5
}

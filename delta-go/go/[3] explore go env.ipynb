{
 "cells": [
  {
   "cell_type": "code",
   "execution_count": 78,
   "id": "7c90061b",
   "metadata": {},
   "outputs": [],
   "source": [
    "from typing import Any, Dict\n",
    "\n",
    "import numpy as np\n",
    "\n",
    "from game_mechanics import GoEnv, choose_move_randomly, load_pkl, play_go, save_pkl\n",
    "\n",
    "from torch import nn\n",
    "import torch\n",
    "import torch.nn.functional as F\n",
    "from tqdm import tqdm_notebook\n",
    "\n",
    "from random import choice\n",
    "from einops.layers.torch import Rearrange\n",
    "from einops import rearrange\n"
   ]
  },
  {
   "cell_type": "code",
   "execution_count": 42,
   "id": "32d90f70",
   "metadata": {},
   "outputs": [],
   "source": [
    "def random_move(observation, legal_moves):\n",
    "    return choice(legal_moves)"
   ]
  },
  {
   "cell_type": "code",
   "execution_count": 52,
   "id": "20edd164",
   "metadata": {},
   "outputs": [],
   "source": [
    "env = GoEnv(opponent_choose_move = random_move)"
   ]
  },
  {
   "cell_type": "code",
   "execution_count": 55,
   "id": "1484917d",
   "metadata": {},
   "outputs": [],
   "source": [
    "board, reward, done, dict_ = env.reset()\n",
    "legal_moves = dict_['legal_moves']"
   ]
  },
  {
   "cell_type": "code",
   "execution_count": 56,
   "id": "a4308b11",
   "metadata": {},
   "outputs": [],
   "source": [
    "for _ in range(10):\n",
    "    board, reward, done, dict_ = env.step(choice(legal_moves))"
   ]
  },
  {
   "cell_type": "code",
   "execution_count": 57,
   "id": "63f2da8c",
   "metadata": {},
   "outputs": [
    {
     "data": {
      "text/plain": [
       "array([[ 0,  0,  0,  1,  0,  0,  0,  0,  0],\n",
       "       [ 0,  0,  1,  1, -1,  1, -1,  0, -1],\n",
       "       [ 0,  0,  0, -1,  0,  0,  0,  0,  1],\n",
       "       [-1,  1, -1,  0,  0,  0,  0,  0,  1],\n",
       "       [ 0,  0,  1,  0,  0,  0,  0,  0,  0],\n",
       "       [ 0,  0,  0,  0,  0,  0,  0,  0,  1],\n",
       "       [ 0,  1,  0,  0,  0,  0,  0,  0, -1],\n",
       "       [ 0,  1,  0,  0,  0,  0,  0,  0,  0],\n",
       "       [ 0,  0,  0, -1,  0, -1, -1,  0,  0]])"
      ]
     },
     "execution_count": 57,
     "metadata": {},
     "output_type": "execute_result"
    }
   ],
   "source": [
    "board"
   ]
  },
  {
   "cell_type": "code",
   "execution_count": 124,
   "id": "afa9ae79",
   "metadata": {},
   "outputs": [
    {
     "name": "stderr",
     "output_type": "stream",
     "text": [
      "C:\\Users\\hristo\\AppData\\Local\\Temp\\ipykernel_9424\\1780493828.py:3: UserWarning: Implicit dimension choice for softmax has been deprecated. Change the call to include dim=X as an argument.\n",
      "  sdf = F.softmax(asd)\n"
     ]
    }
   ],
   "source": [
    "asd = flat(t_board)\n",
    "asd[0,[1,2,3]] = -torch.inf\n",
    "sdf = F.softmax(asd)"
   ]
  },
  {
   "cell_type": "code",
   "execution_count": 126,
   "id": "aa8fb15d",
   "metadata": {},
   "outputs": [
    {
     "data": {
      "text/plain": [
       "array([[0.01125345, 0.        , 0.        , 0.        , 0.01125345,\n",
       "        0.01125345, 0.01125345, 0.01125345, 0.01125345, 0.01125345,\n",
       "        0.01125345, 0.03059006, 0.03059006, 0.00413991, 0.03059006,\n",
       "        0.00413991, 0.01125345, 0.00413991, 0.01125345, 0.01125345,\n",
       "        0.01125345, 0.00413991, 0.01125345, 0.01125345, 0.01125345,\n",
       "        0.01125345, 0.03059006, 0.00413991, 0.03059006, 0.00413991,\n",
       "        0.01125345, 0.01125345, 0.01125345, 0.01125345, 0.01125345,\n",
       "        0.03059006, 0.01125345, 0.01125345, 0.03059006, 0.01125345,\n",
       "        0.01125345, 0.01125345, 0.01125345, 0.01125345, 0.01125345,\n",
       "        0.01125345, 0.01125345, 0.01125345, 0.01125345, 0.01125345,\n",
       "        0.01125345, 0.01125345, 0.01125345, 0.03059006, 0.01125345,\n",
       "        0.03059006, 0.01125345, 0.01125345, 0.01125345, 0.01125345,\n",
       "        0.01125345, 0.01125345, 0.00413991, 0.01125345, 0.03059006,\n",
       "        0.01125345, 0.01125345, 0.01125345, 0.01125345, 0.01125345,\n",
       "        0.01125345, 0.01125345, 0.01125345, 0.01125345, 0.01125345,\n",
       "        0.00413991, 0.01125345, 0.00413991, 0.00413991, 0.01125345,\n",
       "        0.01125345]], dtype=float32)"
      ]
     },
     "execution_count": 126,
     "metadata": {},
     "output_type": "execute_result"
    }
   ],
   "source": [
    "sdf.detach().numpy()"
   ]
  },
  {
   "cell_type": "code",
   "execution_count": 116,
   "id": "fa406304",
   "metadata": {},
   "outputs": [
    {
     "name": "stderr",
     "output_type": "stream",
     "text": [
      "C:\\Users\\hristo\\AppData\\Local\\Temp\\ipykernel_9424\\97766271.py:1: UserWarning: Implicit dimension choice for softmax has been deprecated. Change the call to include dim=X as an argument.\n",
      "  F.softmax(flat(t_board))\n"
     ]
    },
    {
     "data": {
      "text/plain": [
       "tensor([[0.0107, 0.0107, 0.0107, 0.0290, 0.0107, 0.0107, 0.0107, 0.0107, 0.0107,\n",
       "         0.0107, 0.0107, 0.0290, 0.0290, 0.0039, 0.0290, 0.0039, 0.0107, 0.0039,\n",
       "         0.0107, 0.0107, 0.0107, 0.0039, 0.0107, 0.0107, 0.0107, 0.0107, 0.0290,\n",
       "         0.0039, 0.0290, 0.0039, 0.0107, 0.0107, 0.0107, 0.0107, 0.0107, 0.0290,\n",
       "         0.0107, 0.0107, 0.0290, 0.0107, 0.0107, 0.0107, 0.0107, 0.0107, 0.0107,\n",
       "         0.0107, 0.0107, 0.0107, 0.0107, 0.0107, 0.0107, 0.0107, 0.0107, 0.0290,\n",
       "         0.0107, 0.0290, 0.0107, 0.0107, 0.0107, 0.0107, 0.0107, 0.0107, 0.0039,\n",
       "         0.0107, 0.0290, 0.0107, 0.0107, 0.0107, 0.0107, 0.0107, 0.0107, 0.0107,\n",
       "         0.0107, 0.0107, 0.0107, 0.0039, 0.0107, 0.0039, 0.0039, 0.0107, 0.0107]])"
      ]
     },
     "execution_count": 116,
     "metadata": {},
     "output_type": "execute_result"
    }
   ],
   "source": [
    "F.softmax(flat(t_board))"
   ]
  },
  {
   "cell_type": "code",
   "execution_count": 104,
   "id": "6b51c095",
   "metadata": {},
   "outputs": [],
   "source": [
    "def tensorize(board):\n",
    "    return torch.as_tensor(rearrange(board, 'w h -> 1 w h', w=9, h=9), dtype=torch.float32)\n",
    "\n",
    "policy = nn.Sequential(\n",
    "    nn.Conv2d(1, 10, kernel_size=3, padding=1),\n",
    "    nn.ReLU(),\n",
    "    nn.Conv2d(10, 1, kernel_size=1, padding=0),\n",
    "    Rearrange('b 1 w h -> b (w h)', w=9, h=9),\n",
    "    nn.Softmax(dim=1)\n",
    ")\n",
    "\n",
    "V = nn.Sequential(\n",
    "    nn.Conv2d(1, 10, kernel_size=3, padding=1),\n",
    "    nn.ReLU(),\n",
    "    nn.Conv2d(10, 1, kernel_size=1, padding=0),\n",
    "    Rearrange('b 1 w h -> b (w h)', w=9, h=9),\n",
    "    nn.Linear(81, 1)\n",
    ")\n",
    "\n",
    "t_board = rearrange(tensorize(board), '1 w h -> 1 1 w h')\n",
    "policy(t_board)"
   ]
  },
  {
   "cell_type": "code",
   "execution_count": 105,
   "id": "c5256484",
   "metadata": {},
   "outputs": [
    {
     "data": {
      "text/plain": [
       "tensor([[0.0126, 0.0106, 0.0104, 0.0138, 0.0136, 0.0107, 0.0160, 0.0128, 0.0144,\n",
       "         0.0126, 0.0138, 0.0157, 0.0128, 0.0111, 0.0118, 0.0120, 0.0095, 0.0092,\n",
       "         0.0125, 0.0118, 0.0141, 0.0107, 0.0110, 0.0135, 0.0104, 0.0111, 0.0094,\n",
       "         0.0126, 0.0103, 0.0092, 0.0120, 0.0128, 0.0126, 0.0126, 0.0145, 0.0138,\n",
       "         0.0118, 0.0135, 0.0112, 0.0131, 0.0126, 0.0126, 0.0126, 0.0112, 0.0119,\n",
       "         0.0106, 0.0110, 0.0146, 0.0122, 0.0126, 0.0126, 0.0126, 0.0138, 0.0144,\n",
       "         0.0123, 0.0108, 0.0137, 0.0126, 0.0126, 0.0126, 0.0126, 0.0122, 0.0127,\n",
       "         0.0145, 0.0138, 0.0130, 0.0144, 0.0128, 0.0147, 0.0125, 0.0103, 0.0108,\n",
       "         0.0135, 0.0138, 0.0112, 0.0116, 0.0110, 0.0111, 0.0110, 0.0120, 0.0126]],\n",
       "       grad_fn=<SoftmaxBackward0>)"
      ]
     },
     "execution_count": 105,
     "metadata": {},
     "output_type": "execute_result"
    }
   ],
   "source": [
    "t_board = rearrange(tensorize(board), '1 w h -> 1 1 w h')\n",
    "policy(t_board)"
   ]
  },
  {
   "cell_type": "code",
   "execution_count": 108,
   "id": "374d0cd3",
   "metadata": {},
   "outputs": [
    {
     "data": {
      "text/plain": [
       "tensor([[0.1481]], grad_fn=<AddmmBackward0>)"
      ]
     },
     "execution_count": 108,
     "metadata": {},
     "output_type": "execute_result"
    }
   ],
   "source": [
    "t_board = rearrange(tensorize(board), '1 w h -> 1 1 w h')\n",
    "V(t_board)"
   ]
  }
 ],
 "metadata": {
  "kernelspec": {
   "display_name": "Python 3 (ipykernel)",
   "language": "python",
   "name": "python3"
  },
  "language_info": {
   "codemirror_mode": {
    "name": "ipython",
    "version": 3
   },
   "file_extension": ".py",
   "mimetype": "text/x-python",
   "name": "python",
   "nbconvert_exporter": "python",
   "pygments_lexer": "ipython3",
   "version": "3.9.12"
  }
 },
 "nbformat": 4,
 "nbformat_minor": 5
}

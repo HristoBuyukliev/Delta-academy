{
 "cells": [
  {
   "cell_type": "code",
   "execution_count": 1,
   "id": "87234a60",
   "metadata": {},
   "outputs": [],
   "source": [
    "import torch\n",
    "import torch.nn as nn\n",
    "import torch.nn.functional as F\n",
    "import numpy as np\n",
    "\n",
    "import random\n",
    "from einops.layers.torch import Rearrange\n",
    "from einops import rearrange\n",
    "\n",
    "from typing import Any, Dict, Tuple, Optional\n",
    "from game_mechanics import GoEnv, choose_move_randomly, load_pkl, play_go, save_pkl\n",
    "from tqdm.notebook import tqdm\n",
    "\n",
    "from functools import partial\n",
    "import pandas as pd\n",
    "from datetime import datetime"
   ]
  },
  {
   "cell_type": "code",
   "execution_count": 2,
   "id": "4a9c8e6a",
   "metadata": {},
   "outputs": [],
   "source": [
    "def choose_move(observation, legal_moves, neural_network: nn.Module) -> int:\n",
    "    \"\"\"Called during competitive play. It acts greedily given current state of the board and value\n",
    "    function dictionary. It returns a single move to play.\n",
    "\n",
    "    Args:\n",
    "        state:\n",
    "        \n",
    "    Returns:\n",
    "        move sampled from the policy network\n",
    "    \"\"\"\n",
    "    probs, value = neural_network(observation, legal_moves)\n",
    "    probs = probs[0].cpu().detach().numpy()\n",
    "    move = np.random.choice(range(82), p=probs)\n",
    "    return move\n",
    "\n",
    "\n",
    "def choose_move_human(observation: np.ndarray, legal_moves:np.ndarray, neural_network: nn.Module) -> int:\n",
    "    print(observation)\n",
    "    i, j = [int(_) for _ in input().split(\" \")]\n",
    "\n",
    "    return (i-1)*9 + j-1\n",
    "\n",
    "def random_move(observation, legal_moves):\n",
    "    return random.choice(legal_moves)\n",
    "\n",
    "def choose_move_no_network_human(observation: np.ndarray, legal_moves: np.ndarray) -> int:\n",
    "    \"\"\"The arguments in play_game() require functions that only take the state as input.\n",
    "\n",
    "    This converts choose_move() to that format.\n",
    "    \"\"\"\n",
    "    return choose_move_human(observation, legal_moves, my_network)"
   ]
  },
  {
   "cell_type": "code",
   "execution_count": 30,
   "id": "7bfac4d5",
   "metadata": {},
   "outputs": [],
   "source": [
    "# class alpha_go_zero(nn.Module):\n",
    "#     def __init__(self):\n",
    "#         super().__init__()\n",
    "#         self.head1 = nn.Linear(81, 82)\n",
    "#         self.head2 = nn.Linear(81, 1)        \n",
    "\n",
    "\n",
    "#     def forward(self, x, legal_moves):\n",
    "#         illegal_moves = [i for i in range(81) if i not in legal_moves]\n",
    "\n",
    "#         x = rearrange(x, 'w h -> (w h)') #self.flatten(x)\n",
    "#         x1 = self.head1(x)\n",
    "#         x1[illegal_moves] = -torch.inf\n",
    "#         x1 = F.softmax(x1, dim=-1)\n",
    "#         x2 = self.head2(x)\n",
    "#         x2 = F.tanh(x2)                \n",
    "#         return x1, x2\n",
    "    \n",
    "    \n",
    "class alpha_go_zero_batch(nn.Module):\n",
    "    def __init__(self):\n",
    "        super().__init__()\n",
    "#         self.stem = nn.Sequential(\n",
    "#             nn.Linear(81,100),\n",
    "# #             nn.BatchNorm1d(num_features=100),\n",
    "#             nn.ReLU(),\n",
    "#             nn.Linear(100,100),\n",
    "# #             nn.BatchNorm1d(num_features=100),\n",
    "#             nn.ReLU()\n",
    "#         )\n",
    "        \n",
    "#         self.tower1 = nn.Sequential(\n",
    "#             nn.Linear(100,100),\n",
    "# #             nn.BatchNorm1d(num_features=100),\n",
    "#             nn.ReLU(),\n",
    "#             nn.Linear(100,82)\n",
    "#         )\n",
    "        \n",
    "#         self.tower2 = nn.Sequential(\n",
    "#             nn.Linear(100,100),\n",
    "# #             nn.BatchNorm1d(num_features=100),\n",
    "#             nn.ReLU(),\n",
    "#             nn.Linear(100,1),\n",
    "#             nn.ReLU(),\n",
    "#         )\n",
    "        self.head1 = nn.Linear(81, 82)\n",
    "        self.head2 = nn.Linear(81, 1)        \n",
    "\n",
    "\n",
    "    def forward(self, x, legal_moves):\n",
    "        illegal = lambda legal: [move not in legal for move in range(82)]\n",
    "        mask = torch.stack([torch.as_tensor(illegal(lm)) for lm in legal_moves])        \n",
    "\n",
    "        \n",
    "#         x = rearrange(x, 'b w h -> b (w h)')\n",
    "#         x = self.stem(x)\n",
    "#         x1 = self.tower1(x)\n",
    "#         x1 = x1.masked_fill(mask, -torch.inf)\n",
    "#         x1 = F.softmax(x1, dim=-1)\n",
    "#         x2 = self.tower2(x)\n",
    "#         x2 = torch.tanh(x2)     \n",
    "        \n",
    "        x = rearrange(x, 'b w h -> b (w h)') #self.flatten(x)\n",
    "        x1 = self.head1(x)\n",
    "        x1 = x1.masked_fill(mask, -torch.inf)\n",
    "        x1 = F.softmax(x1, dim=-1)\n",
    "        x2 = self.head2(x)\n",
    "        x2 = torch.tanh(x2)                \n",
    "        return x1, x2"
   ]
  },
  {
   "cell_type": "code",
   "execution_count": 31,
   "id": "70f2530d",
   "metadata": {},
   "outputs": [],
   "source": [
    "class Reservoir:\n",
    "    def __init__(self):\n",
    "        self.data = []\n",
    "        \n",
    "    def append(self, observation, old_value, reward, done, legal_moves, chosen_move):\n",
    "        self.data.append((observation, old_value, reward, done, legal_moves, chosen_move))\n",
    "    \n",
    "    def sample_pop(self, size):\n",
    "        if size > len(self.data):\n",
    "            size = len(self.data)\n",
    "        random.shuffle(self.data)\n",
    "        sample = self.data[:size]\n",
    "        self.data = self.data[size:]\n",
    "        return self.stack(sample)\n",
    "    \n",
    "    def stack(self, data):\n",
    "        observations = torch.stack([d[0] for d in data])\n",
    "        old_values = torch.as_tensor([d[1] for d in data], dtype=torch.float32)\n",
    "        rewards = torch.as_tensor([d[2] for d in data], dtype=torch.float32)\n",
    "        dones = torch.as_tensor([d[3] for d in data], dtype=torch.float32)\n",
    "        legal_moves = [d[4] for d in data]\n",
    "        chosen_moves = [d[5] for d in data]\n",
    "        return observations, old_values, rewards, dones, legal_moves, chosen_moves\n",
    "    \n",
    "    def __len__(self):\n",
    "        return len(self.data)"
   ]
  },
  {
   "cell_type": "code",
   "execution_count": 32,
   "id": "ec19f02f",
   "metadata": {},
   "outputs": [],
   "source": [
    "def normalize(observation: np.ndarray) -> torch.Tensor:\n",
    "    return torch.as_tensor(observation, dtype=torch.float32)\n",
    "\n",
    "def assist_metric(observations: torch.tensor):\n",
    "    return observations.sum(axis=[1,2]) / 81"
   ]
  },
  {
   "cell_type": "code",
   "execution_count": 33,
   "id": "649650f6",
   "metadata": {},
   "outputs": [],
   "source": [
    "def play_episode(network, env):\n",
    "    observations = []\n",
    "    rewards = []\n",
    "    observation, reward, done, info = env.reset()\n",
    "    while not done:\n",
    "        legal_moves = info['legal_moves']\n",
    "        observation = normalize(observation)\n",
    "#         network(, legal_moves = [legal_moves])\n",
    "        network_move = choose_move(rearrange(observation, 'w h -> 1 w h'), [legal_moves], network)\n",
    "        observation, reward, done, info = env.step(network_move)\n",
    "    return reward"
   ]
  },
  {
   "cell_type": "code",
   "execution_count": 42,
   "id": "267c1730",
   "metadata": {},
   "outputs": [
    {
     "name": "stdout",
     "output_type": "stream",
     "text": [
      "-0.033944353 tensor(0.)\n",
      "-0.12986293 tensor(0.)\n",
      "0.036818177 tensor(0.)\n",
      "0.0002117306 tensor(0.)\n",
      "0.08174004 tensor(0.)\n",
      "0.011710585 tensor(0.)\n",
      "-0.010843687 tensor(0.)\n",
      "-0.07006428 tensor(0.)\n",
      "-0.07099511 tensor(0.)\n",
      "-0.057388976 tensor(0.)\n",
      "-0.041028976 tensor(0.)\n",
      "0.033753436 tensor(0.)\n",
      "-0.09740235 tensor(0.)\n",
      "-0.06171249 tensor(0.)\n",
      "0.08694171 tensor(0.)\n",
      "0.060650688 tensor(0.)\n",
      "0.059274957 tensor(0.)\n",
      "0.044063978 tensor(0.)\n",
      "0.059700154 tensor(0.0123)\n",
      "0.22494133 tensor(0.0123)\n",
      "0.29770565 tensor(0.0123)\n",
      "0.29393977 tensor(0.0123)\n",
      "0.25775135 tensor(0.0123)\n",
      "0.26985952 tensor(0.0123)\n",
      "0.26014552 tensor(0.0123)\n",
      "0.26125163 tensor(0.0123)\n",
      "0.28279075 tensor(0.0123)\n",
      "0.11241002 tensor(0.0123)\n",
      "0.06771932 tensor(0.0247)\n",
      "0.115068465 tensor(0.0247)\n",
      "0.08563942 tensor(0.0370)\n",
      "0.26850343 tensor(0.0370)\n",
      "0.19238833 tensor(0.0247)\n",
      "0.27102643 tensor(0.0247)\n",
      "0.15556566 tensor(0.)\n",
      "0.27447867 tensor(0.)\n",
      "0.2728758 tensor(-0.0123)\n",
      "0.26941726 tensor(-0.0123)\n",
      "0.33181047 tensor(-0.0123)\n",
      "0.10486738 tensor(0.)\n",
      "0.11850829 tensor(0.0494)\n",
      "-0.033385076 tensor(0.0494)\n",
      "-0.04459279 tensor(0.0494)\n",
      "0.15809491 tensor(0.1111)\n",
      "0.49002695 tensor(0.1481)\n",
      "0.42566615 tensor(0.1605)\n",
      "0.3068859 tensor(0.1728)\n",
      "0.37529126 tensor(0.1728)\n",
      "0.3041928 tensor(0.1605)\n",
      "0.19936761 tensor(0.1975)\n",
      "0.28833875 tensor(0.2099)\n",
      "0.2839204 tensor(0.2840)\n",
      "0.24555323 tensor(0.2840)\n",
      "0.33257896 tensor(0.2840)\n",
      "0.32524076 tensor(0.2963)\n",
      "0.22433832 tensor(0.5309)\n",
      "0.34377006 tensor(0.5309)\n",
      "0.26913506 tensor(0.5309)\n",
      "0.24894083 tensor(0.5309)\n",
      "0.27911597 tensor(0.5309)\n",
      "0.23958029 tensor(0.5309)\n",
      "0.23076473 tensor(0.5185)\n",
      "0.1927013 tensor(0.5185)\n",
      "0.057899784 tensor(0.5309)\n",
      "0.05720022 tensor(0.5556)\n",
      "-0.07104585 tensor(0.5556)\n",
      "0.08642397 tensor(0.5309)\n",
      "0.007370763 tensor(0.5679)\n",
      "0.2893613 tensor(0.5926)\n",
      "0.40480715 tensor(0.6049)\n"
     ]
    }
   ],
   "source": [
    "observation, reward, done, info = env.reset()\n",
    "observation = normalize(observation)\n",
    "while not done:       \n",
    "    legal_moves = info['legal_moves']\n",
    "    probs, value = my_network(rearrange(observation, 'w h -> 1 w h'), legal_moves = [legal_moves])\n",
    "    print(value.detach().numpy()[0][0], observation.sum()/81)\n",
    "    chosen_move = np.random.choice(range(0,82), p=probs[0].detach().numpy())\n",
    "    observation, reward, done, info = env.step(chosen_move)\n",
    "    observation = normalize(observation)\n"
   ]
  },
  {
   "cell_type": "code",
   "execution_count": 35,
   "id": "68c95990",
   "metadata": {},
   "outputs": [],
   "source": [
    "## v2 - change gamma to 0.8; did the values*(1-dones)"
   ]
  },
  {
   "cell_type": "code",
   "execution_count": 43,
   "id": "265b0b0d",
   "metadata": {},
   "outputs": [
    {
     "data": {
      "application/vnd.jupyter.widget-view+json": {
       "model_id": "0ad26b0a47cc4e85b333fb751c0c9c0e",
       "version_major": 2,
       "version_minor": 0
      },
      "text/plain": [
       "  0%|          | 0/10000 [00:00<?, ?it/s]"
      ]
     },
     "metadata": {},
     "output_type": "display_data"
    },
    {
     "data": {
      "application/vnd.jupyter.widget-view+json": {
       "model_id": "831162c92b6b49328846cc86ac3ff811",
       "version_major": 2,
       "version_minor": 0
      },
      "text/plain": [
       "  0%|          | 0/25 [00:00<?, ?it/s]"
      ]
     },
     "metadata": {},
     "output_type": "display_data"
    },
    {
     "data": {
      "application/vnd.jupyter.widget-view+json": {
       "model_id": "02afca818e214989a2ab52ec24b7dfe1",
       "version_major": 2,
       "version_minor": 0
      },
      "text/plain": [
       "  0%|          | 0/25 [00:00<?, ?it/s]"
      ]
     },
     "metadata": {},
     "output_type": "display_data"
    },
    {
     "data": {
      "application/vnd.jupyter.widget-view+json": {
       "model_id": "7a01843e61f14eddaa8ef7623a8ef790",
       "version_major": 2,
       "version_minor": 0
      },
      "text/plain": [
       "  0%|          | 0/25 [00:00<?, ?it/s]"
      ]
     },
     "metadata": {},
     "output_type": "display_data"
    },
    {
     "data": {
      "application/vnd.jupyter.widget-view+json": {
       "model_id": "c36a997452a3412d9b07b979fa7d6695",
       "version_major": 2,
       "version_minor": 0
      },
      "text/plain": [
       "  0%|          | 0/25 [00:00<?, ?it/s]"
      ]
     },
     "metadata": {},
     "output_type": "display_data"
    },
    {
     "data": {
      "application/vnd.jupyter.widget-view+json": {
       "model_id": "e4b1e544139641a78d4088487ad9c53a",
       "version_major": 2,
       "version_minor": 0
      },
      "text/plain": [
       "  0%|          | 0/25 [00:00<?, ?it/s]"
      ]
     },
     "metadata": {},
     "output_type": "display_data"
    },
    {
     "data": {
      "application/vnd.jupyter.widget-view+json": {
       "model_id": "d8b2f2172b9644e2a4f372ca906e1da1",
       "version_major": 2,
       "version_minor": 0
      },
      "text/plain": [
       "  0%|          | 0/25 [00:00<?, ?it/s]"
      ]
     },
     "metadata": {},
     "output_type": "display_data"
    },
    {
     "data": {
      "application/vnd.jupyter.widget-view+json": {
       "model_id": "508cf2d28e174c32a7e12ba0b12eea28",
       "version_major": 2,
       "version_minor": 0
      },
      "text/plain": [
       "  0%|          | 0/25 [00:00<?, ?it/s]"
      ]
     },
     "metadata": {},
     "output_type": "display_data"
    },
    {
     "data": {
      "application/vnd.jupyter.widget-view+json": {
       "model_id": "ef47e4f8d9764605b41da8b13231a5b0",
       "version_major": 2,
       "version_minor": 0
      },
      "text/plain": [
       "  0%|          | 0/25 [00:00<?, ?it/s]"
      ]
     },
     "metadata": {},
     "output_type": "display_data"
    },
    {
     "data": {
      "application/vnd.jupyter.widget-view+json": {
       "model_id": "ce2c7b58883e4cc9a715686b11055f8a",
       "version_major": 2,
       "version_minor": 0
      },
      "text/plain": [
       "  0%|          | 0/25 [00:00<?, ?it/s]"
      ]
     },
     "metadata": {},
     "output_type": "display_data"
    },
    {
     "data": {
      "application/vnd.jupyter.widget-view+json": {
       "model_id": "bd2b5610bd3f4960a9f26b10d358e29c",
       "version_major": 2,
       "version_minor": 0
      },
      "text/plain": [
       "  0%|          | 0/25 [00:00<?, ?it/s]"
      ]
     },
     "metadata": {},
     "output_type": "display_data"
    },
    {
     "data": {
      "application/vnd.jupyter.widget-view+json": {
       "model_id": "3539f6dc6c2d42489a43067ef29db301",
       "version_major": 2,
       "version_minor": 0
      },
      "text/plain": [
       "  0%|          | 0/25 [00:00<?, ?it/s]"
      ]
     },
     "metadata": {},
     "output_type": "display_data"
    },
    {
     "data": {
      "application/vnd.jupyter.widget-view+json": {
       "model_id": "4106296d49954774863ff9d3b07b6db1",
       "version_major": 2,
       "version_minor": 0
      },
      "text/plain": [
       "  0%|          | 0/25 [00:00<?, ?it/s]"
      ]
     },
     "metadata": {},
     "output_type": "display_data"
    },
    {
     "data": {
      "application/vnd.jupyter.widget-view+json": {
       "model_id": "f872f34caf3f41a98c7ee84144566718",
       "version_major": 2,
       "version_minor": 0
      },
      "text/plain": [
       "  0%|          | 0/25 [00:00<?, ?it/s]"
      ]
     },
     "metadata": {},
     "output_type": "display_data"
    },
    {
     "data": {
      "application/vnd.jupyter.widget-view+json": {
       "model_id": "ddd94c4ebc7b41ef935ac275d4418e9b",
       "version_major": 2,
       "version_minor": 0
      },
      "text/plain": [
       "  0%|          | 0/25 [00:00<?, ?it/s]"
      ]
     },
     "metadata": {},
     "output_type": "display_data"
    },
    {
     "data": {
      "application/vnd.jupyter.widget-view+json": {
       "model_id": "098211c5b93946ceb742f4d00da5029f",
       "version_major": 2,
       "version_minor": 0
      },
      "text/plain": [
       "  0%|          | 0/25 [00:00<?, ?it/s]"
      ]
     },
     "metadata": {},
     "output_type": "display_data"
    },
    {
     "data": {
      "application/vnd.jupyter.widget-view+json": {
       "model_id": "f2a91c9756cb4fd3a244b9ad2f75ef9b",
       "version_major": 2,
       "version_minor": 0
      },
      "text/plain": [
       "  0%|          | 0/25 [00:00<?, ?it/s]"
      ]
     },
     "metadata": {},
     "output_type": "display_data"
    },
    {
     "data": {
      "application/vnd.jupyter.widget-view+json": {
       "model_id": "f859c732644e4b73b76c714f05bf2910",
       "version_major": 2,
       "version_minor": 0
      },
      "text/plain": [
       "  0%|          | 0/25 [00:00<?, ?it/s]"
      ]
     },
     "metadata": {},
     "output_type": "display_data"
    },
    {
     "data": {
      "application/vnd.jupyter.widget-view+json": {
       "model_id": "9c4f4e48ca304003833606e74cfe1ee9",
       "version_major": 2,
       "version_minor": 0
      },
      "text/plain": [
       "  0%|          | 0/25 [00:00<?, ?it/s]"
      ]
     },
     "metadata": {},
     "output_type": "display_data"
    },
    {
     "data": {
      "application/vnd.jupyter.widget-view+json": {
       "model_id": "90b1c9e9364e4d00afe12fb33bbdc51d",
       "version_major": 2,
       "version_minor": 0
      },
      "text/plain": [
       "  0%|          | 0/25 [00:00<?, ?it/s]"
      ]
     },
     "metadata": {},
     "output_type": "display_data"
    },
    {
     "data": {
      "application/vnd.jupyter.widget-view+json": {
       "model_id": "dc016974f4c74e9e92bd080958671abc",
       "version_major": 2,
       "version_minor": 0
      },
      "text/plain": [
       "  0%|          | 0/25 [00:00<?, ?it/s]"
      ]
     },
     "metadata": {},
     "output_type": "display_data"
    },
    {
     "data": {
      "application/vnd.jupyter.widget-view+json": {
       "model_id": "4675e820f6f247778330d761aa4cda33",
       "version_major": 2,
       "version_minor": 0
      },
      "text/plain": [
       "  0%|          | 0/25 [00:00<?, ?it/s]"
      ]
     },
     "metadata": {},
     "output_type": "display_data"
    },
    {
     "data": {
      "application/vnd.jupyter.widget-view+json": {
       "model_id": "8e1fd27c31974d1882cee9a977617648",
       "version_major": 2,
       "version_minor": 0
      },
      "text/plain": [
       "  0%|          | 0/25 [00:00<?, ?it/s]"
      ]
     },
     "metadata": {},
     "output_type": "display_data"
    },
    {
     "data": {
      "application/vnd.jupyter.widget-view+json": {
       "model_id": "d653157035e84efda474c18228ae3cc2",
       "version_major": 2,
       "version_minor": 0
      },
      "text/plain": [
       "  0%|          | 0/25 [00:00<?, ?it/s]"
      ]
     },
     "metadata": {},
     "output_type": "display_data"
    },
    {
     "data": {
      "application/vnd.jupyter.widget-view+json": {
       "model_id": "47ac6075a8364fd1ac474d4ccb6f1d62",
       "version_major": 2,
       "version_minor": 0
      },
      "text/plain": [
       "  0%|          | 0/25 [00:00<?, ?it/s]"
      ]
     },
     "metadata": {},
     "output_type": "display_data"
    },
    {
     "data": {
      "application/vnd.jupyter.widget-view+json": {
       "model_id": "ab77fc4d54774c2ab3dddd1e4a6609f6",
       "version_major": 2,
       "version_minor": 0
      },
      "text/plain": [
       "  0%|          | 0/25 [00:00<?, ?it/s]"
      ]
     },
     "metadata": {},
     "output_type": "display_data"
    },
    {
     "data": {
      "application/vnd.jupyter.widget-view+json": {
       "model_id": "960a1062781845a6854725071fe196dc",
       "version_major": 2,
       "version_minor": 0
      },
      "text/plain": [
       "  0%|          | 0/25 [00:00<?, ?it/s]"
      ]
     },
     "metadata": {},
     "output_type": "display_data"
    },
    {
     "data": {
      "application/vnd.jupyter.widget-view+json": {
       "model_id": "1a87f8e4154f4bd8bdedadff57a6bbc1",
       "version_major": 2,
       "version_minor": 0
      },
      "text/plain": [
       "  0%|          | 0/25 [00:00<?, ?it/s]"
      ]
     },
     "metadata": {},
     "output_type": "display_data"
    },
    {
     "data": {
      "application/vnd.jupyter.widget-view+json": {
       "model_id": "f7c57f5c0fea41a48a69c7c257c30183",
       "version_major": 2,
       "version_minor": 0
      },
      "text/plain": [
       "  0%|          | 0/25 [00:00<?, ?it/s]"
      ]
     },
     "metadata": {},
     "output_type": "display_data"
    },
    {
     "data": {
      "application/vnd.jupyter.widget-view+json": {
       "model_id": "f753dc038aed40c1855539bc8def05c6",
       "version_major": 2,
       "version_minor": 0
      },
      "text/plain": [
       "  0%|          | 0/25 [00:00<?, ?it/s]"
      ]
     },
     "metadata": {},
     "output_type": "display_data"
    },
    {
     "data": {
      "application/vnd.jupyter.widget-view+json": {
       "model_id": "bf5be20c25ce4f118ecf111eb1084dc0",
       "version_major": 2,
       "version_minor": 0
      },
      "text/plain": [
       "  0%|          | 0/25 [00:00<?, ?it/s]"
      ]
     },
     "metadata": {},
     "output_type": "display_data"
    },
    {
     "data": {
      "application/vnd.jupyter.widget-view+json": {
       "model_id": "15d74d1a99d847cdafb56a510a232ac6",
       "version_major": 2,
       "version_minor": 0
      },
      "text/plain": [
       "  0%|          | 0/25 [00:00<?, ?it/s]"
      ]
     },
     "metadata": {},
     "output_type": "display_data"
    },
    {
     "data": {
      "application/vnd.jupyter.widget-view+json": {
       "model_id": "714e29bf8878431883ddae2218c7b0a8",
       "version_major": 2,
       "version_minor": 0
      },
      "text/plain": [
       "  0%|          | 0/25 [00:00<?, ?it/s]"
      ]
     },
     "metadata": {},
     "output_type": "display_data"
    },
    {
     "data": {
      "application/vnd.jupyter.widget-view+json": {
       "model_id": "1b2a443afea246429fcacf1c4343e47e",
       "version_major": 2,
       "version_minor": 0
      },
      "text/plain": [
       "  0%|          | 0/25 [00:00<?, ?it/s]"
      ]
     },
     "metadata": {},
     "output_type": "display_data"
    },
    {
     "data": {
      "application/vnd.jupyter.widget-view+json": {
       "model_id": "51ff138d8c1f4ed495d0bdd5acb6eaf8",
       "version_major": 2,
       "version_minor": 0
      },
      "text/plain": [
       "  0%|          | 0/25 [00:00<?, ?it/s]"
      ]
     },
     "metadata": {},
     "output_type": "display_data"
    },
    {
     "data": {
      "application/vnd.jupyter.widget-view+json": {
       "model_id": "1e21a2f7f5194ac18c9694da17c90e79",
       "version_major": 2,
       "version_minor": 0
      },
      "text/plain": [
       "  0%|          | 0/25 [00:00<?, ?it/s]"
      ]
     },
     "metadata": {},
     "output_type": "display_data"
    },
    {
     "data": {
      "application/vnd.jupyter.widget-view+json": {
       "model_id": "b5a029aa1cab45eeb65a2b7a25423ec1",
       "version_major": 2,
       "version_minor": 0
      },
      "text/plain": [
       "  0%|          | 0/25 [00:00<?, ?it/s]"
      ]
     },
     "metadata": {},
     "output_type": "display_data"
    },
    {
     "data": {
      "application/vnd.jupyter.widget-view+json": {
       "model_id": "4c354e2757f942a491dd2a9e0e0357c6",
       "version_major": 2,
       "version_minor": 0
      },
      "text/plain": [
       "  0%|          | 0/25 [00:00<?, ?it/s]"
      ]
     },
     "metadata": {},
     "output_type": "display_data"
    },
    {
     "data": {
      "application/vnd.jupyter.widget-view+json": {
       "model_id": "c594a4695df2428e9bb505760491f685",
       "version_major": 2,
       "version_minor": 0
      },
      "text/plain": [
       "  0%|          | 0/25 [00:00<?, ?it/s]"
      ]
     },
     "metadata": {},
     "output_type": "display_data"
    },
    {
     "data": {
      "application/vnd.jupyter.widget-view+json": {
       "model_id": "db68d743a1284a5b814053a413fa11f9",
       "version_major": 2,
       "version_minor": 0
      },
      "text/plain": [
       "  0%|          | 0/25 [00:00<?, ?it/s]"
      ]
     },
     "metadata": {},
     "output_type": "display_data"
    },
    {
     "data": {
      "application/vnd.jupyter.widget-view+json": {
       "model_id": "083fee494084497582f5727e84ba222d",
       "version_major": 2,
       "version_minor": 0
      },
      "text/plain": [
       "  0%|          | 0/25 [00:00<?, ?it/s]"
      ]
     },
     "metadata": {},
     "output_type": "display_data"
    },
    {
     "data": {
      "application/vnd.jupyter.widget-view+json": {
       "model_id": "b733da3d103643fb9eec67d893631447",
       "version_major": 2,
       "version_minor": 0
      },
      "text/plain": [
       "  0%|          | 0/25 [00:00<?, ?it/s]"
      ]
     },
     "metadata": {},
     "output_type": "display_data"
    },
    {
     "data": {
      "application/vnd.jupyter.widget-view+json": {
       "model_id": "dfba23c5542145b6993742ef8ca609e1",
       "version_major": 2,
       "version_minor": 0
      },
      "text/plain": [
       "  0%|          | 0/25 [00:00<?, ?it/s]"
      ]
     },
     "metadata": {},
     "output_type": "display_data"
    },
    {
     "data": {
      "application/vnd.jupyter.widget-view+json": {
       "model_id": "4180f1ad1cf4463fbdc2cb5104f4436c",
       "version_major": 2,
       "version_minor": 0
      },
      "text/plain": [
       "  0%|          | 0/25 [00:00<?, ?it/s]"
      ]
     },
     "metadata": {},
     "output_type": "display_data"
    },
    {
     "data": {
      "application/vnd.jupyter.widget-view+json": {
       "model_id": "4c932a99f9de4f9f9f5e22df5f5b76c7",
       "version_major": 2,
       "version_minor": 0
      },
      "text/plain": [
       "  0%|          | 0/25 [00:00<?, ?it/s]"
      ]
     },
     "metadata": {},
     "output_type": "display_data"
    },
    {
     "data": {
      "application/vnd.jupyter.widget-view+json": {
       "model_id": "7831b8c8e8ec44cfbba7ae69b69e9225",
       "version_major": 2,
       "version_minor": 0
      },
      "text/plain": [
       "  0%|          | 0/25 [00:00<?, ?it/s]"
      ]
     },
     "metadata": {},
     "output_type": "display_data"
    },
    {
     "data": {
      "application/vnd.jupyter.widget-view+json": {
       "model_id": "3293191a0aec423995e855d313f800f4",
       "version_major": 2,
       "version_minor": 0
      },
      "text/plain": [
       "  0%|          | 0/25 [00:00<?, ?it/s]"
      ]
     },
     "metadata": {},
     "output_type": "display_data"
    },
    {
     "data": {
      "application/vnd.jupyter.widget-view+json": {
       "model_id": "a24a97278cf1467d9fbd271d69e901d9",
       "version_major": 2,
       "version_minor": 0
      },
      "text/plain": [
       "  0%|          | 0/25 [00:00<?, ?it/s]"
      ]
     },
     "metadata": {},
     "output_type": "display_data"
    },
    {
     "data": {
      "application/vnd.jupyter.widget-view+json": {
       "model_id": "92053769c3404ecebca27cdd41057c3b",
       "version_major": 2,
       "version_minor": 0
      },
      "text/plain": [
       "  0%|          | 0/25 [00:00<?, ?it/s]"
      ]
     },
     "metadata": {},
     "output_type": "display_data"
    },
    {
     "data": {
      "application/vnd.jupyter.widget-view+json": {
       "model_id": "cae7298e569946b9b8cbb474dda15368",
       "version_major": 2,
       "version_minor": 0
      },
      "text/plain": [
       "  0%|          | 0/25 [00:00<?, ?it/s]"
      ]
     },
     "metadata": {},
     "output_type": "display_data"
    },
    {
     "data": {
      "application/vnd.jupyter.widget-view+json": {
       "model_id": "19872d2c668f48ab8a1fc746e37708fe",
       "version_major": 2,
       "version_minor": 0
      },
      "text/plain": [
       "  0%|          | 0/25 [00:00<?, ?it/s]"
      ]
     },
     "metadata": {},
     "output_type": "display_data"
    },
    {
     "data": {
      "application/vnd.jupyter.widget-view+json": {
       "model_id": "c7edf66a10264250bf6e56a5044ae668",
       "version_major": 2,
       "version_minor": 0
      },
      "text/plain": [
       "  0%|          | 0/25 [00:00<?, ?it/s]"
      ]
     },
     "metadata": {},
     "output_type": "display_data"
    },
    {
     "data": {
      "application/vnd.jupyter.widget-view+json": {
       "model_id": "ef40c65a7c9e4912a52444b29b5f621f",
       "version_major": 2,
       "version_minor": 0
      },
      "text/plain": [
       "  0%|          | 0/25 [00:00<?, ?it/s]"
      ]
     },
     "metadata": {},
     "output_type": "display_data"
    },
    {
     "data": {
      "application/vnd.jupyter.widget-view+json": {
       "model_id": "8fa13aa2ea5746a6a9fc60c65145e2ba",
       "version_major": 2,
       "version_minor": 0
      },
      "text/plain": [
       "  0%|          | 0/25 [00:00<?, ?it/s]"
      ]
     },
     "metadata": {},
     "output_type": "display_data"
    },
    {
     "data": {
      "application/vnd.jupyter.widget-view+json": {
       "model_id": "74eb1ae55aff47a69c5e1580167dc8f8",
       "version_major": 2,
       "version_minor": 0
      },
      "text/plain": [
       "  0%|          | 0/25 [00:00<?, ?it/s]"
      ]
     },
     "metadata": {},
     "output_type": "display_data"
    },
    {
     "data": {
      "application/vnd.jupyter.widget-view+json": {
       "model_id": "9e5ea7c84569463b9163161f70099cc6",
       "version_major": 2,
       "version_minor": 0
      },
      "text/plain": [
       "  0%|          | 0/25 [00:00<?, ?it/s]"
      ]
     },
     "metadata": {},
     "output_type": "display_data"
    },
    {
     "data": {
      "application/vnd.jupyter.widget-view+json": {
       "model_id": "6efcb3eff1e04f34a66b8b46ec1c5115",
       "version_major": 2,
       "version_minor": 0
      },
      "text/plain": [
       "  0%|          | 0/25 [00:00<?, ?it/s]"
      ]
     },
     "metadata": {},
     "output_type": "display_data"
    },
    {
     "data": {
      "application/vnd.jupyter.widget-view+json": {
       "model_id": "14cfbc197c454e92a2230c1cf12b384b",
       "version_major": 2,
       "version_minor": 0
      },
      "text/plain": [
       "  0%|          | 0/25 [00:00<?, ?it/s]"
      ]
     },
     "metadata": {},
     "output_type": "display_data"
    },
    {
     "data": {
      "application/vnd.jupyter.widget-view+json": {
       "model_id": "d43885c451634e949e27f7f88876e1a0",
       "version_major": 2,
       "version_minor": 0
      },
      "text/plain": [
       "  0%|          | 0/25 [00:00<?, ?it/s]"
      ]
     },
     "metadata": {},
     "output_type": "display_data"
    },
    {
     "data": {
      "application/vnd.jupyter.widget-view+json": {
       "model_id": "cab715b0d46a41d38230ddc8ed978ae6",
       "version_major": 2,
       "version_minor": 0
      },
      "text/plain": [
       "  0%|          | 0/25 [00:00<?, ?it/s]"
      ]
     },
     "metadata": {},
     "output_type": "display_data"
    },
    {
     "data": {
      "application/vnd.jupyter.widget-view+json": {
       "model_id": "3e392d0a2c4748c391a832d9353aaf2b",
       "version_major": 2,
       "version_minor": 0
      },
      "text/plain": [
       "  0%|          | 0/25 [00:00<?, ?it/s]"
      ]
     },
     "metadata": {},
     "output_type": "display_data"
    },
    {
     "data": {
      "application/vnd.jupyter.widget-view+json": {
       "model_id": "663786cf81274afca7738adb1917c901",
       "version_major": 2,
       "version_minor": 0
      },
      "text/plain": [
       "  0%|          | 0/25 [00:00<?, ?it/s]"
      ]
     },
     "metadata": {},
     "output_type": "display_data"
    },
    {
     "data": {
      "application/vnd.jupyter.widget-view+json": {
       "model_id": "c2c8c66bb6e747069004b96d14a3248a",
       "version_major": 2,
       "version_minor": 0
      },
      "text/plain": [
       "  0%|          | 0/25 [00:00<?, ?it/s]"
      ]
     },
     "metadata": {},
     "output_type": "display_data"
    },
    {
     "data": {
      "application/vnd.jupyter.widget-view+json": {
       "model_id": "e383c9e4ed27462886140fd731707e33",
       "version_major": 2,
       "version_minor": 0
      },
      "text/plain": [
       "  0%|          | 0/25 [00:00<?, ?it/s]"
      ]
     },
     "metadata": {},
     "output_type": "display_data"
    },
    {
     "data": {
      "application/vnd.jupyter.widget-view+json": {
       "model_id": "e2df18d3a2bd475bb6bee03ba019b643",
       "version_major": 2,
       "version_minor": 0
      },
      "text/plain": [
       "  0%|          | 0/25 [00:00<?, ?it/s]"
      ]
     },
     "metadata": {},
     "output_type": "display_data"
    },
    {
     "data": {
      "application/vnd.jupyter.widget-view+json": {
       "model_id": "48cb476477c34a68bd577c6e586f6ab7",
       "version_major": 2,
       "version_minor": 0
      },
      "text/plain": [
       "  0%|          | 0/25 [00:00<?, ?it/s]"
      ]
     },
     "metadata": {},
     "output_type": "display_data"
    },
    {
     "data": {
      "application/vnd.jupyter.widget-view+json": {
       "model_id": "b4b061fe4ec448098f27ceffc15fa324",
       "version_major": 2,
       "version_minor": 0
      },
      "text/plain": [
       "  0%|          | 0/25 [00:00<?, ?it/s]"
      ]
     },
     "metadata": {},
     "output_type": "display_data"
    },
    {
     "data": {
      "application/vnd.jupyter.widget-view+json": {
       "model_id": "2936b21dc3b24096b7b29712538f35d2",
       "version_major": 2,
       "version_minor": 0
      },
      "text/plain": [
       "  0%|          | 0/25 [00:00<?, ?it/s]"
      ]
     },
     "metadata": {},
     "output_type": "display_data"
    },
    {
     "data": {
      "application/vnd.jupyter.widget-view+json": {
       "model_id": "eaa67d1e3e084b60bcaa1d9ad289368a",
       "version_major": 2,
       "version_minor": 0
      },
      "text/plain": [
       "  0%|          | 0/25 [00:00<?, ?it/s]"
      ]
     },
     "metadata": {},
     "output_type": "display_data"
    },
    {
     "data": {
      "application/vnd.jupyter.widget-view+json": {
       "model_id": "4678734f14b54799a38d8b9da0d1a0cd",
       "version_major": 2,
       "version_minor": 0
      },
      "text/plain": [
       "  0%|          | 0/25 [00:00<?, ?it/s]"
      ]
     },
     "metadata": {},
     "output_type": "display_data"
    },
    {
     "data": {
      "application/vnd.jupyter.widget-view+json": {
       "model_id": "95cbd692ae8c4743bc5ac8fa43b7695b",
       "version_major": 2,
       "version_minor": 0
      },
      "text/plain": [
       "  0%|          | 0/25 [00:00<?, ?it/s]"
      ]
     },
     "metadata": {},
     "output_type": "display_data"
    },
    {
     "data": {
      "application/vnd.jupyter.widget-view+json": {
       "model_id": "b22c5a7d5e6245d7a02ad7988bda3997",
       "version_major": 2,
       "version_minor": 0
      },
      "text/plain": [
       "  0%|          | 0/25 [00:00<?, ?it/s]"
      ]
     },
     "metadata": {},
     "output_type": "display_data"
    },
    {
     "data": {
      "application/vnd.jupyter.widget-view+json": {
       "model_id": "6a3cfe827e9e4ae0bcf31fa1f60740fb",
       "version_major": 2,
       "version_minor": 0
      },
      "text/plain": [
       "  0%|          | 0/25 [00:00<?, ?it/s]"
      ]
     },
     "metadata": {},
     "output_type": "display_data"
    },
    {
     "data": {
      "application/vnd.jupyter.widget-view+json": {
       "model_id": "5e2667063c054cdebb9cd6ae3078dde5",
       "version_major": 2,
       "version_minor": 0
      },
      "text/plain": [
       "  0%|          | 0/25 [00:00<?, ?it/s]"
      ]
     },
     "metadata": {},
     "output_type": "display_data"
    },
    {
     "data": {
      "application/vnd.jupyter.widget-view+json": {
       "model_id": "efb4fa4a02294d28ae71149d9a1cb7b7",
       "version_major": 2,
       "version_minor": 0
      },
      "text/plain": [
       "  0%|          | 0/25 [00:00<?, ?it/s]"
      ]
     },
     "metadata": {},
     "output_type": "display_data"
    },
    {
     "data": {
      "application/vnd.jupyter.widget-view+json": {
       "model_id": "d2779249373244209896bdfc4e46a7a9",
       "version_major": 2,
       "version_minor": 0
      },
      "text/plain": [
       "  0%|          | 0/25 [00:00<?, ?it/s]"
      ]
     },
     "metadata": {},
     "output_type": "display_data"
    },
    {
     "data": {
      "application/vnd.jupyter.widget-view+json": {
       "model_id": "5b2bc78035244b149ace69df21b67683",
       "version_major": 2,
       "version_minor": 0
      },
      "text/plain": [
       "  0%|          | 0/25 [00:00<?, ?it/s]"
      ]
     },
     "metadata": {},
     "output_type": "display_data"
    },
    {
     "data": {
      "application/vnd.jupyter.widget-view+json": {
       "model_id": "c6764edd33224f7ba40d0eed9bb96024",
       "version_major": 2,
       "version_minor": 0
      },
      "text/plain": [
       "  0%|          | 0/25 [00:00<?, ?it/s]"
      ]
     },
     "metadata": {},
     "output_type": "display_data"
    },
    {
     "data": {
      "application/vnd.jupyter.widget-view+json": {
       "model_id": "1f79d7ef037d42e8ad156a55d44dc3f5",
       "version_major": 2,
       "version_minor": 0
      },
      "text/plain": [
       "  0%|          | 0/25 [00:00<?, ?it/s]"
      ]
     },
     "metadata": {},
     "output_type": "display_data"
    },
    {
     "data": {
      "application/vnd.jupyter.widget-view+json": {
       "model_id": "052b729d3c064eefad5b0b2af69075de",
       "version_major": 2,
       "version_minor": 0
      },
      "text/plain": [
       "  0%|          | 0/25 [00:00<?, ?it/s]"
      ]
     },
     "metadata": {},
     "output_type": "display_data"
    },
    {
     "data": {
      "application/vnd.jupyter.widget-view+json": {
       "model_id": "46b2995507484c17b3f8c7385dfb168a",
       "version_major": 2,
       "version_minor": 0
      },
      "text/plain": [
       "  0%|          | 0/25 [00:00<?, ?it/s]"
      ]
     },
     "metadata": {},
     "output_type": "display_data"
    },
    {
     "data": {
      "application/vnd.jupyter.widget-view+json": {
       "model_id": "149a53120c5641859d56d1029101c774",
       "version_major": 2,
       "version_minor": 0
      },
      "text/plain": [
       "  0%|          | 0/25 [00:00<?, ?it/s]"
      ]
     },
     "metadata": {},
     "output_type": "display_data"
    },
    {
     "data": {
      "application/vnd.jupyter.widget-view+json": {
       "model_id": "ad17faf4df504aa09b942417261b275a",
       "version_major": 2,
       "version_minor": 0
      },
      "text/plain": [
       "  0%|          | 0/25 [00:00<?, ?it/s]"
      ]
     },
     "metadata": {},
     "output_type": "display_data"
    },
    {
     "data": {
      "application/vnd.jupyter.widget-view+json": {
       "model_id": "1b5c70d4e9d348ed904c67b16a2a3163",
       "version_major": 2,
       "version_minor": 0
      },
      "text/plain": [
       "  0%|          | 0/25 [00:00<?, ?it/s]"
      ]
     },
     "metadata": {},
     "output_type": "display_data"
    },
    {
     "data": {
      "application/vnd.jupyter.widget-view+json": {
       "model_id": "32995e542daa4d6b86eb5240f1ed0114",
       "version_major": 2,
       "version_minor": 0
      },
      "text/plain": [
       "  0%|          | 0/25 [00:00<?, ?it/s]"
      ]
     },
     "metadata": {},
     "output_type": "display_data"
    },
    {
     "data": {
      "application/vnd.jupyter.widget-view+json": {
       "model_id": "4df1488c2b0f4850abb21ca2c6ea619f",
       "version_major": 2,
       "version_minor": 0
      },
      "text/plain": [
       "  0%|          | 0/25 [00:00<?, ?it/s]"
      ]
     },
     "metadata": {},
     "output_type": "display_data"
    },
    {
     "data": {
      "application/vnd.jupyter.widget-view+json": {
       "model_id": "6d7e0d2f72dc4a239c5dd3ee0aa5684f",
       "version_major": 2,
       "version_minor": 0
      },
      "text/plain": [
       "  0%|          | 0/25 [00:00<?, ?it/s]"
      ]
     },
     "metadata": {},
     "output_type": "display_data"
    },
    {
     "data": {
      "application/vnd.jupyter.widget-view+json": {
       "model_id": "4b43a9529d6240c3b9a838964b1b9d1c",
       "version_major": 2,
       "version_minor": 0
      },
      "text/plain": [
       "  0%|          | 0/25 [00:00<?, ?it/s]"
      ]
     },
     "metadata": {},
     "output_type": "display_data"
    },
    {
     "data": {
      "application/vnd.jupyter.widget-view+json": {
       "model_id": "80f3f0a2bdc243e3b06d9b8f5fcc9c79",
       "version_major": 2,
       "version_minor": 0
      },
      "text/plain": [
       "  0%|          | 0/25 [00:00<?, ?it/s]"
      ]
     },
     "metadata": {},
     "output_type": "display_data"
    },
    {
     "data": {
      "application/vnd.jupyter.widget-view+json": {
       "model_id": "11740274825a46c4a3097fc3304537d2",
       "version_major": 2,
       "version_minor": 0
      },
      "text/plain": [
       "  0%|          | 0/25 [00:00<?, ?it/s]"
      ]
     },
     "metadata": {},
     "output_type": "display_data"
    },
    {
     "data": {
      "application/vnd.jupyter.widget-view+json": {
       "model_id": "857ad0574aa343df96d0890deaf3887b",
       "version_major": 2,
       "version_minor": 0
      },
      "text/plain": [
       "  0%|          | 0/25 [00:00<?, ?it/s]"
      ]
     },
     "metadata": {},
     "output_type": "display_data"
    },
    {
     "data": {
      "application/vnd.jupyter.widget-view+json": {
       "model_id": "5e30c44e5e89465aa06b6bb85a4f280a",
       "version_major": 2,
       "version_minor": 0
      },
      "text/plain": [
       "  0%|          | 0/25 [00:00<?, ?it/s]"
      ]
     },
     "metadata": {},
     "output_type": "display_data"
    },
    {
     "data": {
      "application/vnd.jupyter.widget-view+json": {
       "model_id": "d8faa270544d4b78832a47cedbae2a18",
       "version_major": 2,
       "version_minor": 0
      },
      "text/plain": [
       "  0%|          | 0/25 [00:00<?, ?it/s]"
      ]
     },
     "metadata": {},
     "output_type": "display_data"
    },
    {
     "data": {
      "application/vnd.jupyter.widget-view+json": {
       "model_id": "3810c471ce594f05a31f15388bac999d",
       "version_major": 2,
       "version_minor": 0
      },
      "text/plain": [
       "  0%|          | 0/25 [00:00<?, ?it/s]"
      ]
     },
     "metadata": {},
     "output_type": "display_data"
    },
    {
     "data": {
      "application/vnd.jupyter.widget-view+json": {
       "model_id": "f2da08a40548478789f669eb12c7a745",
       "version_major": 2,
       "version_minor": 0
      },
      "text/plain": [
       "  0%|          | 0/25 [00:00<?, ?it/s]"
      ]
     },
     "metadata": {},
     "output_type": "display_data"
    },
    {
     "data": {
      "application/vnd.jupyter.widget-view+json": {
       "model_id": "250cb3bff243458280d56c40defdec5a",
       "version_major": 2,
       "version_minor": 0
      },
      "text/plain": [
       "  0%|          | 0/25 [00:00<?, ?it/s]"
      ]
     },
     "metadata": {},
     "output_type": "display_data"
    },
    {
     "data": {
      "application/vnd.jupyter.widget-view+json": {
       "model_id": "7381c28c052c4785b8d0c8e720dff869",
       "version_major": 2,
       "version_minor": 0
      },
      "text/plain": [
       "  0%|          | 0/25 [00:00<?, ?it/s]"
      ]
     },
     "metadata": {},
     "output_type": "display_data"
    },
    {
     "data": {
      "application/vnd.jupyter.widget-view+json": {
       "model_id": "ae6b650539c941e8bb2624f6ef4b4948",
       "version_major": 2,
       "version_minor": 0
      },
      "text/plain": [
       "  0%|          | 0/25 [00:00<?, ?it/s]"
      ]
     },
     "metadata": {},
     "output_type": "display_data"
    },
    {
     "data": {
      "application/vnd.jupyter.widget-view+json": {
       "model_id": "200020a604844798b826d19bf025a649",
       "version_major": 2,
       "version_minor": 0
      },
      "text/plain": [
       "  0%|          | 0/25 [00:00<?, ?it/s]"
      ]
     },
     "metadata": {},
     "output_type": "display_data"
    },
    {
     "data": {
      "application/vnd.jupyter.widget-view+json": {
       "model_id": "d579769e335d4ecd9d641531acefdbeb",
       "version_major": 2,
       "version_minor": 0
      },
      "text/plain": [
       "  0%|          | 0/25 [00:00<?, ?it/s]"
      ]
     },
     "metadata": {},
     "output_type": "display_data"
    },
    {
     "data": {
      "application/vnd.jupyter.widget-view+json": {
       "model_id": "34090e542a554ce8bc657fd143029992",
       "version_major": 2,
       "version_minor": 0
      },
      "text/plain": [
       "  0%|          | 0/25 [00:00<?, ?it/s]"
      ]
     },
     "metadata": {},
     "output_type": "display_data"
    }
   ],
   "source": [
    "# set up network & env:\n",
    "experiment_name = 'Assist_metric_baseline_XSv'\n",
    "my_network = alpha_go_zero_batch()\n",
    "opponent_choose_move = random_move\n",
    "game_speed_multiplier=1000000\n",
    "render=False\n",
    "verbose=False\n",
    "env = GoEnv(\n",
    "    opponent_choose_move,\n",
    "    verbose=verbose,\n",
    "    render=render,\n",
    "    game_speed_multiplier=game_speed_multiplier,\n",
    ")\n",
    "\n",
    "\n",
    "optimizer = torch.optim.AdamW(my_network.parameters(), lr=0.001)\n",
    "metrics = []\n",
    "test_eval_size = []\n",
    "\n",
    "num_episodes = 10_000\n",
    "num_test_episodes = 25\n",
    "block_train_episodes = 100\n",
    "gamma = 0.95\n",
    "total_score = 0\n",
    "total_played = 0\n",
    "train_rewards = []\n",
    "train_losses = {\n",
    "    'policy': [],\n",
    "    'value': []\n",
    "}\n",
    "alpha = 1.0\n",
    "alpha_decay = 0.999\n",
    "\n",
    "reservoir = Reservoir()\n",
    "reservoir_size = 2000\n",
    "batch_size = 100\n",
    "for episode in tqdm(range(num_episodes)):\n",
    "    old_observation, reward, done, info = env.reset()\n",
    "    old_observation = normalize(old_observation)\n",
    "    old_value = 0 \n",
    "    reward = 0\n",
    "    done = 0\n",
    "    \n",
    "    observation = old_observation\n",
    "    while not done:       \n",
    "        legal_moves = info['legal_moves']\n",
    "        probs, value = my_network(rearrange(observation, 'w h -> 1 w h'), legal_moves = [legal_moves])\n",
    "        chosen_move = np.random.choice(range(0,82), p=probs[0].detach().numpy())\n",
    "        observation, reward, done, info = env.step(chosen_move)\n",
    "        observation = normalize(observation)\n",
    "\n",
    "        reservoir.append(observation, old_value, reward, done, legal_moves, chosen_move)\n",
    "        if len(reservoir) == reservoir_size:\n",
    "            observations, old_values, rewards, dones, lm, chosen_moves = reservoir.sample_pop(batch_size)\n",
    "            rewards = (1-alpha)*rewards + alpha * assist_metric(observations)\n",
    "            probs, values = my_network(observations, lm)\n",
    "            loss_v = (old_values - reward - values*gamma)**2\n",
    "            loss_policy = -torch.log(probs[range(batch_size), chosen_moves])*(values+rewards)\n",
    "            loss = (loss_v + loss_policy).sum()\n",
    "            loss.backward()\n",
    "            \n",
    "#             train_losses['policy'].append(loss_policy.detach().numpy().mean())\n",
    "#             train_losses['value'].append(loss_v.detach().numpy().mean())\n",
    "        old_value = value.detach()\n",
    "    alpha *= alpha_decay\n",
    "    train_rewards.append(reward)\n",
    "        \n",
    "    if episode % block_train_episodes == 0:\n",
    "        opponent_choose_move = random_move\n",
    "        test_env = GoEnv(\n",
    "            opponent_choose_move,\n",
    "            verbose=verbose,\n",
    "            render=render,\n",
    "            game_speed_multiplier=game_speed_multiplier,\n",
    "        )\n",
    "        rewards = [play_episode(my_network, test_env) for _ in tqdm(range(num_test_episodes))]\n",
    "        test_wr = sum([r == 1 for r in rewards])/num_test_episodes\n",
    "        test_score = sum(rewards)/num_test_episodes\n",
    "        test_ties = sum([r == 0 for r in rewards])/num_test_episodes\n",
    "        \n",
    "        train_wr = sum([r == 1 for r in train_rewards])/block_train_episodes\n",
    "        train_score = sum(train_rewards)/block_train_episodes\n",
    "        train_ties = sum([r == 0 for r in train_rewards])/block_train_episodes\n",
    "        train_rewards = []\n",
    "        metrics.append({'test_win_rate': test_wr,\n",
    "                        'test_score': test_score,\n",
    "                        'test_ties': test_ties,\n",
    "                        'train_win_rate': train_wr,\n",
    "                        'train_score': train_score,\n",
    "                        'train_ties': train_ties,\n",
    "                        'episode': episode,\n",
    "                        'total_score': total_score,\n",
    "                        'total_played': total_played,\n",
    "#                         'train_loss_policy': sum(train_losses['policy'])/len(train_losses['policy']),\n",
    "#                         'train_loss_value': sum(train_losses['value'])/len(train_losses['value'])\n",
    "                       })\n",
    "\n",
    "        pd.DataFrame(metrics).to_csv(f'logs/{experiment_name}_{episode}.csv')\n",
    "        train_losses = {\n",
    "            'policy': [],\n",
    "            'value': []\n",
    "        }\n",
    "\n",
    "    total_score += reward\n",
    "    total_played += 1\n",
    "#     print(round(total_score/total_played, 2), total_score, total_played, loss_policy.detach())\n",
    "\n",
    "            \n",
    "#             optimizer.zero_grad()\n",
    "#             if not done:\n",
    "#                 loss_v = (old_value - reward - value*gamma)**2\n",
    "#                 loss_policy = -torch.log(probs[chosen_move])*(reward + value.detach()*gamma)\n",
    "#             if done:\n",
    "#                 loss_v = (value - reward)**2\n",
    "#                 loss_policy = -torch.log(probs[chosen_move])*(torch.Tensor([reward]))"
   ]
  }
 ],
 "metadata": {
  "kernelspec": {
   "display_name": "Python 3 (ipykernel)",
   "language": "python",
   "name": "python3"
  },
  "language_info": {
   "codemirror_mode": {
    "name": "ipython",
    "version": 3
   },
   "file_extension": ".py",
   "mimetype": "text/x-python",
   "name": "python",
   "nbconvert_exporter": "python",
   "pygments_lexer": "ipython3",
   "version": "3.9.13"
  }
 },
 "nbformat": 4,
 "nbformat_minor": 5
}

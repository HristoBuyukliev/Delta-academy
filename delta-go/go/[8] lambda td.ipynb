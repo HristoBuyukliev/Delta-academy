{
 "cells": [
  {
   "cell_type": "code",
   "execution_count": 1,
   "id": "fdf3fb3b",
   "metadata": {},
   "outputs": [],
   "source": [
    "import torch\n",
    "import torch.nn as nn\n",
    "import torch.nn.functional as F\n",
    "import numpy as np\n",
    "\n",
    "import random\n",
    "from einops.layers.torch import Rearrange\n",
    "from einops import rearrange\n",
    "\n",
    "from typing import Any, Dict, Tuple, Optional\n",
    "from game_mechanics import GoEnv, choose_move_randomly, load_pkl, play_go, save_pkl\n",
    "from tqdm.notebook import tqdm\n",
    "\n",
    "from functools import partial\n",
    "import pandas as pd\n",
    "from datetime import datetime"
   ]
  },
  {
   "cell_type": "code",
   "execution_count": 2,
   "id": "c8066acb",
   "metadata": {},
   "outputs": [],
   "source": [
    "def normalize(observation: np.ndarray) -> torch.Tensor:\n",
    "    return torch.as_tensor(observation, dtype=torch.float32)\n",
    "\n",
    "def random_move(observation, legal_moves):\n",
    "    return random.choice(legal_moves)\n",
    "\n",
    "def choose_move(observation, legal_moves, network: nn.Module) -> int:\n",
    "    probs, value = network(observation, legal_moves)\n",
    "    probs = probs[0].cpu().detach().numpy()\n",
    "    move = np.random.choice(range(82), p=probs)\n",
    "    return move\n"
   ]
  },
  {
   "cell_type": "code",
   "execution_count": 3,
   "id": "234b461e",
   "metadata": {},
   "outputs": [],
   "source": [
    "class alpha_go_zero_batch(nn.Module):\n",
    "    def __init__(self):\n",
    "        super().__init__()\n",
    "        self.stem = nn.Sequential(\n",
    "            nn.Linear(81,100),\n",
    "            nn.ReLU(),\n",
    "            nn.Linear(100,100),\n",
    "            nn.ReLU()\n",
    "        )\n",
    "        \n",
    "        self.tower1 = nn.Sequential(\n",
    "            nn.Linear(100,100),\n",
    "            nn.ReLU(),\n",
    "            nn.Linear(100,82)\n",
    "        )\n",
    "        \n",
    "        self.tower2 = nn.Sequential(\n",
    "            nn.Linear(100,100),\n",
    "            nn.ReLU(),\n",
    "            nn.Linear(100,1),\n",
    "            nn.ReLU(),\n",
    "        )\n",
    "\n",
    "\n",
    "    def forward(self, x, legal_moves):\n",
    "        illegal = lambda legal: [move not in legal for move in range(82)]\n",
    "        mask = torch.stack([torch.as_tensor(illegal(lm)) for lm in legal_moves])        \n",
    "\n",
    "        \n",
    "        x = rearrange(x, 'b w h -> b (w h)')\n",
    "        x = self.stem(x)\n",
    "        x1 = self.tower1(x)\n",
    "        x1 = x1.masked_fill(mask, -torch.inf)\n",
    "        x1 = F.softmax(x1, dim=-1)\n",
    "        x2 = self.tower2(x)\n",
    "        x2 = torch.tanh(x2)     \n",
    "            \n",
    "        return x1, x2"
   ]
  },
  {
   "cell_type": "code",
   "execution_count": 4,
   "id": "75654a3e",
   "metadata": {},
   "outputs": [],
   "source": [
    "agzb = alpha_go_zero_batch()"
   ]
  },
  {
   "cell_type": "code",
   "execution_count": 5,
   "id": "18e589ab",
   "metadata": {},
   "outputs": [],
   "source": [
    "def play_episode(network, env):\n",
    "    observations = []\n",
    "    rewards = []\n",
    "    observation, reward, done, info = env.reset()\n",
    "    while not done:\n",
    "        legal_moves = info['legal_moves']\n",
    "        observation = normalize(observation)\n",
    "        network_move = choose_move(rearrange(observation, 'w h -> 1 w h'), [legal_moves], network)\n",
    "        observation, reward, done, info = env.step(network_move)\n",
    "    return reward"
   ]
  },
  {
   "cell_type": "code",
   "execution_count": 6,
   "id": "cc6d9367",
   "metadata": {},
   "outputs": [],
   "source": [
    "game_speed_multiplier=1000000\n",
    "render=False\n",
    "verbose=False\n",
    "env = GoEnv(\n",
    "    random_move,\n",
    "    verbose=verbose,\n",
    "    render=render,\n",
    "    game_speed_multiplier=game_speed_multiplier,\n",
    ")"
   ]
  },
  {
   "cell_type": "code",
   "execution_count": 31,
   "id": "f9c022a4",
   "metadata": {},
   "outputs": [],
   "source": [
    "observations = []\n",
    "rewards = []\n",
    "moves = []\n",
    "values = []\n",
    "successor_values = []\n",
    "gamma = 1.0\n",
    "lamda = 0.5\n",
    "\n",
    "observation, reward, done, info = env.reset()\n",
    "while not  done:\n",
    "    legal_moves = info['legal_moves']\n",
    "    observation = normalize(observation)\n",
    "    \n",
    "    probs, value = agzb(rearrange(observation, 'w h -> 1 w h'), [legal_moves])\n",
    "    probs = probs[0].cpu().detach().numpy()\n",
    "    move = np.random.choice(range(82), p=probs)\n",
    "    \n",
    "    observation, reward, done, info = env.step(network_move)\n",
    "    \n",
    "    observations.append(observation)\n",
    "    moves.append(network_move)\n",
    "    rewards.append(reward)\n",
    "    values.append(value.item())\n",
    "    \n",
    "successor_values = values[1:] + [0]\n",
    "\n",
    "values = torch.as_tensor(values, dtype=torch.float32)\n",
    "successor_values = torch.as_tensor(successor_values, dtype=torch.float32)\n",
    "rewards = torch.as_tensor(rewards, dtype=torch.float32)"
   ]
  },
  {
   "cell_type": "code",
   "execution_count": 29,
   "id": "f4c3bd77",
   "metadata": {},
   "outputs": [],
   "source": [
    "torch.roll?"
   ]
  },
  {
   "cell_type": "code",
   "execution_count": 27,
   "id": "aef471a1",
   "metadata": {},
   "outputs": [
    {
     "data": {
      "text/plain": [
       "tensor([ 0.,  0.,  0.,  0.,  0.,  0.,  0.,  0.,  0.,  0.,  0.,  0.,  0.,  0.,\n",
       "         0.,  0.,  0.,  0.,  0.,  0.,  0.,  0.,  0.,  0.,  0.,  0.,  0.,  0.,\n",
       "         0.,  0.,  0.,  0.,  0.,  0.,  0.,  0.,  0.,  0.,  0.,  0.,  0.,  0.,\n",
       "         0.,  0.,  0.,  0.,  0.,  0.,  0.,  0.,  0.,  0.,  0.,  0.,  0.,  0.,\n",
       "         0.,  0.,  0.,  0.,  0.,  0.,  0.,  0.,  0.,  0.,  0.,  0.,  0.,  0.,\n",
       "         0.,  0.,  0.,  0.,  0.,  0.,  0.,  0.,  0.,  0., -1.])"
      ]
     },
     "execution_count": 27,
     "metadata": {},
     "output_type": "execute_result"
    }
   ],
   "source": [
    "deltas"
   ]
  },
  {
   "cell_type": "code",
   "execution_count": 35,
   "id": "f735e071",
   "metadata": {},
   "outputs": [
    {
     "data": {
      "text/plain": [
       "tensor([9.3132e-10, 4.6566e-10, 2.3283e-10, 1.1642e-10, 5.8208e-11, 2.9104e-11,\n",
       "        1.4552e-11, 7.2760e-12, 3.6380e-12, 1.8190e-12, 1.0000e+00, 5.0000e-01,\n",
       "        2.5000e-01, 1.2500e-01, 6.2500e-02, 3.1250e-02, 1.5625e-02, 7.8125e-03,\n",
       "        3.9062e-03, 1.9531e-03, 9.7656e-04, 4.8828e-04, 2.4414e-04, 1.2207e-04,\n",
       "        6.1035e-05, 3.0518e-05, 1.5259e-05, 7.6294e-06, 3.8147e-06, 1.9073e-06,\n",
       "        9.5367e-07, 4.7684e-07, 2.3842e-07, 1.1921e-07, 5.9605e-08, 2.9802e-08,\n",
       "        1.4901e-08, 7.4506e-09, 3.7253e-09, 1.8626e-09])"
      ]
     },
     "execution_count": 35,
     "metadata": {},
     "output_type": "execute_result"
    }
   ],
   "source": [
    "torch.roll(gamlam_geo_series, shifts=10)"
   ]
  },
  {
   "cell_type": "code",
   "execution_count": null,
   "id": "14176592",
   "metadata": {},
   "outputs": [],
   "source": [
    "def calculate_gae(\n",
    "        rewards: torch.Tensor,\n",
    "        values: torch.Tensor,\n",
    "        successor_values: torch.Tensor,\n",
    "        gamma: float,\n",
    "        lamda: float,\n",
    "):\n",
    "    N = len(rewards)\n",
    "\n",
    "    delta_terms = rewards + gamma * successor_values - values\n",
    "\n",
    "    gamlam = gamma * lamda\n",
    "\n",
    "    gamlam_geo_series = torch.tensor([gamlam ** n for n in range(N)])\n",
    "\n",
    "    full_gamlam_matrix = torch.stack([torch.roll(gamlam_geo_series, shifts=n) for n in range(N)])\n",
    "\n",
    "    gamlam_matrix = torch.triu(full_gamlam_matrix)\n",
    "\n",
    "    return torch.matmul(gamlam_matrix, delta_terms)"
   ]
  },
  {
   "cell_type": "code",
   "execution_count": 20,
   "id": "f046a2cd",
   "metadata": {},
   "outputs": [],
   "source": [
    "lamda = 0.9"
   ]
  },
  {
   "cell_type": "code",
   "execution_count": 26,
   "id": "d1455983",
   "metadata": {},
   "outputs": [
    {
     "data": {
      "text/plain": [
       "0.34867844010000004"
      ]
     },
     "execution_count": 26,
     "metadata": {},
     "output_type": "execute_result"
    }
   ],
   "source": [
    "sum([(lamda**10)*((1-lamda)*lamda**i) for i in range(1000)])"
   ]
  },
  {
   "cell_type": "code",
   "execution_count": 28,
   "id": "76b6956d",
   "metadata": {},
   "outputs": [
    {
     "data": {
      "text/plain": [
       "0.3486784401000001"
      ]
     },
     "execution_count": 28,
     "metadata": {},
     "output_type": "execute_result"
    }
   ],
   "source": [
    "(lamda**10)"
   ]
  },
  {
   "cell_type": "code",
   "execution_count": 36,
   "id": "3c886b86",
   "metadata": {},
   "outputs": [
    {
     "data": {
      "text/plain": [
       "[0.15353399327876294,\n",
       " 0.13818059395088664,\n",
       " 0.12436253455579799,\n",
       " 0.1119262811002182,\n",
       " 0.10073365299019636,\n",
       " 0.09066028769117673,\n",
       " 0.08159425892205906,\n",
       " 0.07343483302985317,\n",
       " 0.06609134972686785,\n",
       " 0.05948221475418106]"
      ]
     },
     "execution_count": 36,
     "metadata": {},
     "output_type": "execute_result"
    }
   ],
   "source": [
    "len_episode = 10\n",
    "normalization_factor = (1-lamda)*(1/(1-lamda**len_episode))\n",
    "[lamda**i*normalization_factor for i in range(len_episode)]"
   ]
  },
  {
   "cell_type": "code",
   "execution_count": 22,
   "id": "a7d09038",
   "metadata": {},
   "outputs": [
    {
     "data": {
      "text/plain": [
       "0.6513215598999998"
      ]
     },
     "execution_count": 22,
     "metadata": {},
     "output_type": "execute_result"
    }
   ],
   "source": [
    "sum([(1 - lamda)*lamda**i for i in range(10)])"
   ]
  },
  {
   "cell_type": "code",
   "execution_count": null,
   "id": "a233216d",
   "metadata": {},
   "outputs": [],
   "source": []
  },
  {
   "cell_type": "code",
   "execution_count": null,
   "id": "6ce83fa4",
   "metadata": {},
   "outputs": [],
   "source": []
  },
  {
   "cell_type": "code",
   "execution_count": null,
   "id": "ab18ab19",
   "metadata": {},
   "outputs": [],
   "source": []
  },
  {
   "cell_type": "code",
   "execution_count": null,
   "id": "95417851",
   "metadata": {},
   "outputs": [],
   "source": []
  }
 ],
 "metadata": {
  "kernelspec": {
   "display_name": "Python 3 (ipykernel)",
   "language": "python",
   "name": "python3"
  },
  "language_info": {
   "codemirror_mode": {
    "name": "ipython",
    "version": 3
   },
   "file_extension": ".py",
   "mimetype": "text/x-python",
   "name": "python",
   "nbconvert_exporter": "python",
   "pygments_lexer": "ipython3",
   "version": "3.9.13"
  }
 },
 "nbformat": 4,
 "nbformat_minor": 5
}

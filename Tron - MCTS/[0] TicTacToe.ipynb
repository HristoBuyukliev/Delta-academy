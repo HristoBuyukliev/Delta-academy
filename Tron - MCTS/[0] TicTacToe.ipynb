{
 "cells": [
  {
   "cell_type": "code",
   "execution_count": 34,
   "id": "6addfeda",
   "metadata": {},
   "outputs": [],
   "source": [
    "import torch\n",
    "import torch.nn as nn\n",
    "import torch.nn.functional as F\n",
    "\n",
    "from dataclasses import dataclass\n",
    "from typing import List, Tuple, Optional, Literal\n",
    "from random import choice"
   ]
  },
  {
   "cell_type": "code",
   "execution_count": null,
   "id": "67b0d169",
   "metadata": {},
   "outputs": [],
   "source": [
    "from tictactoe_env import "
   ]
  },
  {
   "cell_type": "code",
   "execution_count": 48,
   "id": "d28bdb20",
   "metadata": {},
   "outputs": [],
   "source": [
    "Action = Literal[0, 1, 2, 3, 4, 5, 6, 7, 8]\n",
    "StateID = Tuple[Tuple[int], int]\n",
    "\n",
    "@dataclass(frozen=True)\n",
    "class State:\n",
    "    board: torch.Tensor\n",
    "    white_to_play: 1\n",
    "        \n",
    "    @property\n",
    "    def key(self) -> StateID:\n",
    "        \"\"\"Uniquely identifies a state.\"\"\"\n",
    "        return tuple(self.board), self.player_to_move\n",
    "    \n",
    "    @property\n",
    "    def other_player(self) -> int:\n",
    "        return -self.white_to_play\n",
    "    \n",
    "    \n",
    "def get_possible_moves(state: State) -> List[Action]:\n",
    "    return (state.board == 0).nonzero().squeeze().tolist()\n",
    "\n",
    "def choose_move_randomly(state: State) -> Action:\n",
    "    return choice(get_possible_moves(state))\n",
    "\n",
    "def transition_function(state: State, action: Action) -> State:\n",
    "    assert state.board[action] == 0, 'This spot has already been played :('\n",
    "    board = state.board.copy()\n",
    "    board[action] = state.white_to_play\n",
    "    return State(board, -state.white_to_play)"
   ]
  },
  {
   "cell_type": "code",
   "execution_count": 32,
   "id": "3a39092f",
   "metadata": {},
   "outputs": [],
   "source": [
    "initial_state = State(torch.zeros(9), 0)"
   ]
  }
 ],
 "metadata": {
  "kernelspec": {
   "display_name": "Python 3 (ipykernel)",
   "language": "python",
   "name": "python3"
  },
  "language_info": {
   "codemirror_mode": {
    "name": "ipython",
    "version": 3
   },
   "file_extension": ".py",
   "mimetype": "text/x-python",
   "name": "python",
   "nbconvert_exporter": "python",
   "pygments_lexer": "ipython3",
   "version": "3.8.10"
  }
 },
 "nbformat": 4,
 "nbformat_minor": 5
}

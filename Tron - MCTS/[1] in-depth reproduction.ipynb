{
 "cells": [
  {
   "cell_type": "code",
   "execution_count": 2,
   "id": "b9a4a1d6",
   "metadata": {},
   "outputs": [],
   "source": [
    "import torch\n",
    "import torch.nn as nn\n",
    "import torch.nn.functional as F\n",
    "\n",
    "from dataclasses import dataclass\n",
    "from typing import List, Tuple, Optional, Literal\n",
    "from random import choice"
   ]
  },
  {
   "cell_type": "code",
   "execution_count": 5,
   "id": "6eaaa2ac",
   "metadata": {},
   "outputs": [],
   "source": [
    "@dataclass()\n",
    "class State:\n",
    "    board: torch.Tensor\n",
    "    white_to_play: int\n",
    "\n",
    "\n",
    "class Node():\n",
    "    def __init__(self, game_state: State, parent=None):\n",
    "        self.parent = parent\n",
    "        self.state = game_state\n",
    "        self.expanded = False\n",
    "        self.children = {}\n",
    "        self.visits = 0\n",
    "        self.value = 0\n",
    "        \n",
    "        \n",
    "    def Q(self) -> float:\n",
    "        return self.value / (self.total_visits + 1)\n",
    "    \n",
    "    def U(self) -> float:\n",
    "        return (math.sqrt(self.parent.number_visits)\n",
    "            * self.prior / (1 + self.number_visits))\n",
    "    \n",
    "    def best_child(self) -> Node:\n",
    "        return max(self.children, key=lambda node: node.U() + node.Q())\n",
    "    \n",
    "    def best_child(self) -> Node:\n",
    "        return max(self.children.values(),\n",
    "                   key=lambda node: node.Q() + node.U())\n",
    "\n",
    "    def select_leaf(self) -> Node:\n",
    "        current = self\n",
    "        while current.is_expanded:\n",
    "            current = current.best_child()\n",
    "        return current"
   ]
  }
 ],
 "metadata": {
  "kernelspec": {
   "display_name": "cv38",
   "language": "python",
   "name": "cv38"
  },
  "language_info": {
   "codemirror_mode": {
    "name": "ipython",
    "version": 3
   },
   "file_extension": ".py",
   "mimetype": "text/x-python",
   "name": "python",
   "nbconvert_exporter": "python",
   "pygments_lexer": "ipython3",
   "version": "3.8.10"
  }
 },
 "nbformat": 4,
 "nbformat_minor": 5
}

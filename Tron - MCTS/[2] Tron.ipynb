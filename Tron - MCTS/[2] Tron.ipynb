{
 "cells": [
  {
   "cell_type": "code",
   "execution_count": 381,
   "id": "cf5c7b92",
   "metadata": {},
   "outputs": [],
   "source": [
    "import torch\n",
    "import torch.nn as nn\n",
    "import torch.nn.functional as F\n",
    "\n",
    "from dataclasses import dataclass\n",
    "from typing import List, Tuple, Optional, Literal, Dict\n",
    "from random import choice\n",
    "from copy import deepcopy\n",
    "import math\n",
    "from time import time\n",
    "\n",
    "from check_submission import check_submission\n",
    "from game_mechanics import (\n",
    "    State,\n",
    "    TronEnv,\n",
    "    choose_move_randomly,\n",
    "    choose_move_square,\n",
    "    human_player,\n",
    "    is_terminal,\n",
    "    play_tron,\n",
    "    reward_function,\n",
    "    rules_rollout,\n",
    "    transition_function,\n",
    "    ARENA_WIDTH\n",
    ")"
   ]
  },
  {
   "cell_type": "code",
   "execution_count": 334,
   "id": "6da743c1",
   "metadata": {},
   "outputs": [
    {
     "data": {
      "text/plain": [
       "True"
      ]
     },
     "execution_count": 334,
     "metadata": {},
     "output_type": "execute_result"
    }
   ],
   "source": [
    "state.opponent.alive"
   ]
  },
  {
   "cell_type": "code",
   "execution_count": 358,
   "id": "401514e2",
   "metadata": {},
   "outputs": [],
   "source": [
    "def neighbouring(a, b) -> bool:\n",
    "    '''\n",
    "    returns whether two squares are neighbours.\n",
    "    '''\n",
    "    return abs(a[0] - b[0]) + abs(a[1] - b[1]) == 1 # and (a < b)\n",
    "\n",
    "def rollout(state):\n",
    "    if state.player.alive and not state.opponent.alive:\n",
    "        return 1\n",
    "    if not state.player.alive and state.opponent.alive:\n",
    "        return -1\n",
    "    if not state.player.alive and not state.opponent.alive:\n",
    "        return 0\n",
    "    tiles = [(i,j) for i in range(ARENA_WIDTH) for j in range(ARENA_WIDTH)]\n",
    "    neighbours = {a: [b for b in tiles if neighbouring(a, b)] for a in tiles}\n",
    "    \n",
    "    # create initial snake zones: just around the heads\n",
    "    heads = [bike.positions[0] for bike in state.bikes]\n",
    "    snake_zones = {tile: head for head in heads for tile in neighbours[head]}\n",
    "    \n",
    "    ## remove initial snake bodies from the neighbour graph\n",
    "    for bike in state.bikes:\n",
    "        for tile in bike.positions:\n",
    "            neighbours_tile = neighbours[tile]\n",
    "            for neighbouring_tile in neighbours_tile:\n",
    "                neighbours[neighbouring_tile].remove(tile)\n",
    "            neighbours.pop(tile)\n",
    "    \n",
    "    ## expand the snake zones\n",
    "    def expand_snake_zones(snake_zones):\n",
    "        new_snake_zones = deepcopy(snake_zones)\n",
    "        for tile in neighbours:\n",
    "            possible_assignments = [snake_zones.get(n, None) for n in neighbours.get(tile, [])]\n",
    "            possible_assignments = [pa for pa in possible_assignments if pa is not None]\n",
    "            if len(set(possible_assignments)) == 1:\n",
    "                new_snake_zones[tile] = possible_assignments[0]\n",
    "        return new_snake_zones\n",
    "\n",
    "    new_snake_zones = \n",
    "    for _ in range(10):\n",
    "        snake_zones = expand_snake_zones(snake_zones)\n",
    "        \n",
    "    snake_zones = {head: [tile for tile in snake_zones if snake_zones[tile] == head] for head in heads }\n",
    "    areas = [len(tiles)/ARENA_WIDTH**2 for tiles in snake_zones.values()]\n",
    "    return (areas[0] - areas[1]) / 4"
   ]
  },
  {
   "cell_type": "code",
   "execution_count": 363,
   "id": "915baec3",
   "metadata": {},
   "outputs": [],
   "source": [
    "# class Node:\n",
    "#     def __init__(self, state: State, last_action):\n",
    "#         self.state = state\n",
    "#         self.last_action = last_action\n",
    "# #         self.is_terminal = is_terminal(last_action, state) if last_action is not None else False\n",
    "#         # No guarantee that these NODES exist in the MCTS TREE!\n",
    "#         self.child_states = self._get_possible_children()\n",
    "#         self.visit_count = 0\n",
    "#         self.total_reward = 0\n",
    "            \n",
    "#     @property\n",
    "#     def is_terminal(self) -> bool:\n",
    "#         return len(self.state.bikes) != 2\n",
    "\n",
    "#     def _get_possible_children(self) -> Dict[int, State]:\n",
    "#         \"\"\"Gets the possible children of this node.\"\"\"\n",
    "#         if self.is_terminal:\n",
    "#             return {}\n",
    "#         children = {}\n",
    "#         for action in [1,2,3]:\n",
    "#             state = transition_function(self.state, action)\n",
    "#             children[action] = state\n",
    "#         return children\n",
    "    \n",
    "class UCTNode():\n",
    "    def __init__(self, game_state, parent=None, prior=0, value_estimate = 0):\n",
    "        self.game_state = game_state\n",
    "        self.is_expanded = False\n",
    "        self.parent = parent  # Optional[UCTNode]\n",
    "        self.children = {}  # Dict[move, UCTNode]\n",
    "        self.prior = prior  # float\n",
    "        self.total_value = 0  # float\n",
    "        self.number_visits = 0  # int\n",
    "        self.value_estimate = value_estimate # float\n",
    "        \n",
    "    @property\n",
    "    def is_terminal(self) -> bool:\n",
    "        return len(self.game_state.bikes) != 2\n",
    "    \n",
    "    @property\n",
    "    def is_player_to_move(self) -> bool:\n",
    "        return self.game_state.player_move is None\n",
    "    \n",
    "    def _get_possible_children(self) -> Dict[int, State]:\n",
    "        \"\"\"Gets the possible children of this node.\"\"\"\n",
    "        if self.is_terminal:\n",
    "            return {}\n",
    "        children = {}\n",
    "        for action in [1,2,3]:\n",
    "            state = transition_function(self.game_state, action)\n",
    "            children[action] = state\n",
    "        return children\n",
    "        \n",
    "    def Q(self) -> float:\n",
    "        return self.total_value / (1 + self.number_visits)\n",
    "\n",
    "    def U(self) -> float:\n",
    "        return (math.sqrt(self.parent.number_visits)\n",
    "            * self.value_estimate / (1 + self.number_visits))\n",
    "\n",
    "    def best_child(self):# -> UCTNode:\n",
    "        return max(self.children.values(),\n",
    "                   key=lambda node: node.Q() + node.U())\n",
    "\n",
    "    def select_leaf(self):# -> UCTNode:\n",
    "        current = self\n",
    "        while current.is_expanded:\n",
    "            current = current.best_child()\n",
    "        return current\n",
    "    \n",
    "    def expand(self):\n",
    "        self.is_expanded = True\n",
    "        for move, state in self._get_possible_children().items():\n",
    "            self.add_child(move, state)\n",
    "            \n",
    "    def add_child(self, move, state):\n",
    "        value_estimate = -1*rollout(state)*self.is_player_to_move\n",
    "        self.children[move] = UCTNode(\n",
    "            state, parent=self, value_estimate=value_estimate)\n",
    "        \n",
    "    def backup(self, value_estimate):\n",
    "        current = self\n",
    "        while current.parent is not None:\n",
    "            current.number_visits += 1\n",
    "            current.total_value += (value_estimate *\n",
    "                self.is_player_to_move)\n",
    "            current = current.parent"
   ]
  },
  {
   "cell_type": "code",
   "execution_count": 364,
   "id": "ab9cb1bc",
   "metadata": {},
   "outputs": [],
   "source": [
    "env = TronEnv(choose_move_randomly)\n",
    "state, reward, done, info = env.reset()"
   ]
  },
  {
   "cell_type": "code",
   "execution_count": 365,
   "id": "e6452881",
   "metadata": {},
   "outputs": [],
   "source": [
    "root = UCTNode(state)"
   ]
  },
  {
   "cell_type": "code",
   "execution_count": 384,
   "id": "c1bd307b",
   "metadata": {},
   "outputs": [],
   "source": []
  },
  {
   "cell_type": "code",
   "execution_count": 391,
   "id": "46d23af0",
   "metadata": {},
   "outputs": [
    {
     "data": {
      "text/plain": [
       "7.740873098373413"
      ]
     },
     "execution_count": 391,
     "metadata": {},
     "output_type": "execute_result"
    }
   ],
   "source": [
    "time() - start"
   ]
  },
  {
   "cell_type": "code",
   "execution_count": 393,
   "id": "ecf6bf5f",
   "metadata": {},
   "outputs": [
    {
     "name": "stdout",
     "output_type": "stream",
     "text": [
      "(1, <__main__.UCTNode object at 0x7f77c65d66a0>)\n"
     ]
    }
   ],
   "source": [
    "max_time = 0.45\n",
    "start = time()\n",
    "while time() - start < max_time:\n",
    "    leaf = root.select_leaf()\n",
    "    leaf.expand()\n",
    "    value_estimate = rollout(leaf.game_state)\n",
    "    leaf.backup(value_estimate)\n",
    "print(max(root.children.items(),\n",
    "        key=lambda item: item[1].number_visits))"
   ]
  },
  {
   "cell_type": "code",
   "execution_count": 372,
   "id": "6db565ba",
   "metadata": {},
   "outputs": [
    {
     "data": {
      "text/plain": [
       "{1: <__main__.UCTNode at 0x7f77c65d66a0>,\n",
       " 2: <__main__.UCTNode at 0x7f77c59eba30>,\n",
       " 3: <__main__.UCTNode at 0x7f77c66f2670>}"
      ]
     },
     "execution_count": 372,
     "metadata": {},
     "output_type": "execute_result"
    }
   ],
   "source": [
    "root.children"
   ]
  },
  {
   "cell_type": "code",
   "execution_count": 376,
   "id": "ed138255",
   "metadata": {},
   "outputs": [
    {
     "data": {
      "text/plain": [
       "[0.10555555555555557, 0.10555555555555557, 0.10555555555555557]"
      ]
     },
     "execution_count": 376,
     "metadata": {},
     "output_type": "execute_result"
    }
   ],
   "source": [
    "[c.value_estimate for c in root.children.values()]"
   ]
  },
  {
   "cell_type": "code",
   "execution_count": null,
   "id": "57eb1d37",
   "metadata": {},
   "outputs": [],
   "source": [
    "def UCT_search(game_state, num_reads):\n",
    "    root = UCTNode(game_state)\n",
    "    for _ in range(num_reads):\n",
    "        leaf = root.select_leaf()\n",
    "        leaf.expand()\n",
    "        leaf.backup(value_estimate)\n",
    "    return max(root.children.items(),\n",
    "               key=lambda item: item[1].number_visits)"
   ]
  },
  {
   "cell_type": "code",
   "execution_count": 317,
   "id": "db465222",
   "metadata": {},
   "outputs": [],
   "source": [
    "root = Node(state, None)"
   ]
  },
  {
   "cell_type": "code",
   "execution_count": null,
   "id": "2c53693d",
   "metadata": {},
   "outputs": [],
   "source": []
  },
  {
   "cell_type": "code",
   "execution_count": 399,
   "id": "59596344",
   "metadata": {},
   "outputs": [],
   "source": [
    "env = TronEnv(choose_move_randomly)\n",
    "state, reward, done, info = env.reset()"
   ]
  },
  {
   "cell_type": "code",
   "execution_count": 285,
   "id": "d14231fb",
   "metadata": {},
   "outputs": [],
   "source": [
    "possible_moves = [1,2,3]"
   ]
  },
  {
   "cell_type": "code",
   "execution_count": null,
   "id": "6b5de2de",
   "metadata": {},
   "outputs": [],
   "source": [
    "new_state.ter"
   ]
  },
  {
   "cell_type": "code",
   "execution_count": 302,
   "id": "cddec9b9",
   "metadata": {},
   "outputs": [],
   "source": [
    "new_state = transition_function(state, 1)"
   ]
  },
  {
   "cell_type": "code",
   "execution_count": 403,
   "id": "465dd7ab",
   "metadata": {},
   "outputs": [],
   "source": [
    "new_state = transition_function(state, 1)\n",
    "new_state = transition_function(new_state, 2)"
   ]
  },
  {
   "cell_type": "code",
   "execution_count": 398,
   "id": "4d330349",
   "metadata": {},
   "outputs": [],
   "source": [
    "state, reward, done, info = env.step(1)\n",
    "if done: print(f'finito, {reward}')"
   ]
  },
  {
   "cell_type": "code",
   "execution_count": 291,
   "id": "518d4a16",
   "metadata": {},
   "outputs": [
    {
     "name": "stdout",
     "output_type": "stream",
     "text": [
      "(3, 11)\n",
      "(3, 12)\n",
      "(7, 3)\n",
      "(7, 2)\n"
     ]
    },
    {
     "data": {
      "text/plain": [
       "-0.017777777777777767"
      ]
     },
     "execution_count": 291,
     "metadata": {},
     "output_type": "execute_result"
    }
   ],
   "source": [
    "areas(state)"
   ]
  },
  {
   "cell_type": "code",
   "execution_count": 281,
   "id": "4c1d599d",
   "metadata": {},
   "outputs": [
    {
     "data": {
      "text/plain": [
       "[(3, 11), (2, 11)]"
      ]
     },
     "execution_count": 281,
     "metadata": {},
     "output_type": "execute_result"
    }
   ],
   "source": [
    "new_state.bikes[1].positions"
   ]
  },
  {
   "cell_type": "code",
   "execution_count": 282,
   "id": "a63df3a2",
   "metadata": {},
   "outputs": [
    {
     "data": {
      "text/plain": [
       "[(3, 11), (2, 11)]"
      ]
     },
     "execution_count": 282,
     "metadata": {},
     "output_type": "execute_result"
    }
   ],
   "source": [
    "state.bikes[1].positions"
   ]
  },
  {
   "cell_type": "code",
   "execution_count": 292,
   "id": "a353be92",
   "metadata": {},
   "outputs": [
    {
     "name": "stdout",
     "output_type": "stream",
     "text": [
      "(3, 10)\n",
      "(3, 11)\n",
      "(3, 12)\n",
      "(6, 3)\n",
      "(7, 3)\n",
      "(7, 2)\n"
     ]
    },
    {
     "data": {
      "text/plain": [
       "0.0"
      ]
     },
     "execution_count": 292,
     "metadata": {},
     "output_type": "execute_result"
    }
   ],
   "source": [
    "areas(new_state)"
   ]
  },
  {
   "cell_type": "code",
   "execution_count": 406,
   "id": "c1ff1399",
   "metadata": {},
   "outputs": [
    {
     "name": "stdout",
     "output_type": "stream",
     "text": [
      "(11, 3)\n",
      "(10, 3)\n",
      "(7, 11)\n",
      "(8, 11)\n",
      "Removed snake bodies in 0.0004067420959472656 seconds\n",
      "expanded snake zones in 0.0076904296875 seconds\n"
     ]
    }
   ],
   "source": [
    "tiles = [(i,j) for i in range(ARENA_WIDTH) for j in range(ARENA_WIDTH)]\n",
    "\n",
    "def neighbouring(a, b) -> bool:\n",
    "    '''\n",
    "    returns whether two squares are neighbours.\n",
    "    '''\n",
    "    return abs(a[0] - b[0]) + abs(a[1] - b[1]) == 1 # and (a < b)\n",
    "\n",
    "neighbours = {a: [b for b in tiles if neighbouring(a, b)] for a in tiles}\n",
    "\n",
    "env = TronEnv(choose_move_randomly)\n",
    "state, reward, done, info = env.reset()\n",
    "\n",
    "# create initial snake zones: just around the heads\n",
    "heads = [bike.positions[0] for bike in state.bikes]\n",
    "snake_zones = {tile: head for head in heads for tile in neighbours[head]}\n",
    "\n",
    "start = time()\n",
    "## remove initial snake bodies from the neighbour graph\n",
    "for bike in state.bikes:\n",
    "    for tile in bike.positions:\n",
    "        print(tile)\n",
    "        neighbours_tile = neighbours[tile]\n",
    "        for neighbouring_tile in neighbours_tile:\n",
    "            neighbours[neighbouring_tile].remove(tile)\n",
    "        neighbours.pop(tile)\n",
    "print(f'Removed snake bodies in {time() - start} seconds')\n",
    "        \n",
    "        \n",
    "## expand the snake zones\n",
    "def expand_snake_zones(snake_zones):\n",
    "    new_snake_zones = deepcopy(snake_zones)\n",
    "    for tile in neighbours:\n",
    "        possible_assignments = [snake_zones.get(n, None) for n in neighbours.get(tile, [])]\n",
    "        possible_assignments = [pa for pa in possible_assignments if pa is not None]\n",
    "        if len(set(possible_assignments)) == 1:\n",
    "            new_snake_zones[tile] = possible_assignments[0]\n",
    "    return new_snake_zones\n",
    "\n",
    "start = time()\n",
    "for _ in range(10):\n",
    "#     img = np.zeros((15, 15))\n",
    "#     for tile in snake_zones:\n",
    "#         if snake_zones[tile] == heads[0]:\n",
    "#             img[tile] = 0.5\n",
    "#         else:\n",
    "#             img[tile] = -0.5\n",
    "#     plt.imshow(img)\n",
    "#     plt.show()\n",
    "    \n",
    "    snake_zones = expand_snake_zones(snake_zones)\n",
    "print(f'expanded snake zones in {time() - start} seconds')\n",
    "    \n",
    "# reverse from {tile: head} to {head: [tiles]}\n",
    "snake_zones = {head: [tile for tile in snake_zones if snake_zones[tile] == head] for head in heads }\n",
    "areas = {head: len(tiles) for head, tiles in snake_zones.items()}"
   ]
  },
  {
   "cell_type": "code",
   "execution_count": 189,
   "id": "e0b6cb46",
   "metadata": {},
   "outputs": [
    {
     "data": {
      "text/plain": [
       "{(6, 11): (7, 11),\n",
       " (7, 10): (7, 11),\n",
       " (7, 12): (7, 11),\n",
       " (8, 11): (7, 11),\n",
       " (2, 3): (3, 3),\n",
       " (3, 2): (3, 3),\n",
       " (3, 4): (3, 3),\n",
       " (4, 3): (3, 3),\n",
       " (1, 3): (3, 3),\n",
       " (2, 2): (3, 3),\n",
       " (2, 4): (3, 3),\n",
       " (3, 5): (3, 3),\n",
       " (4, 2): (3, 3),\n",
       " (4, 4): (3, 3),\n",
       " (5, 3): (3, 3),\n",
       " (6, 10): (7, 11),\n",
       " (6, 12): (7, 11),\n",
       " (7, 9): (7, 11),\n",
       " (7, 13): (7, 11),\n",
       " (8, 10): (7, 11),\n",
       " (8, 12): (7, 11),\n",
       " (9, 11): (7, 11),\n",
       " (0, 3): (3, 3),\n",
       " (1, 2): (3, 3),\n",
       " (1, 4): (3, 3),\n",
       " (2, 1): (3, 3),\n",
       " (2, 5): (3, 3),\n",
       " (3, 6): (3, 3),\n",
       " (4, 1): (3, 3),\n",
       " (4, 5): (3, 3),\n",
       " (5, 2): (3, 3),\n",
       " (5, 4): (3, 3),\n",
       " (5, 10): (7, 11),\n",
       " (5, 12): (7, 11),\n",
       " (6, 3): (3, 3),\n",
       " (6, 9): (7, 11),\n",
       " (6, 13): (7, 11),\n",
       " (7, 8): (7, 11),\n",
       " (7, 14): (7, 11),\n",
       " (8, 9): (7, 11),\n",
       " (8, 13): (7, 11),\n",
       " (9, 10): (7, 11),\n",
       " (9, 12): (7, 11),\n",
       " (10, 11): (7, 11),\n",
       " (0, 2): (3, 3),\n",
       " (0, 4): (3, 3),\n",
       " (1, 1): (3, 3),\n",
       " (1, 5): (3, 3),\n",
       " (2, 0): (3, 3),\n",
       " (2, 6): (3, 3),\n",
       " (3, 1): (3, 3),\n",
       " (3, 7): (3, 3),\n",
       " (4, 0): (3, 3),\n",
       " (4, 6): (3, 3),\n",
       " (4, 10): (7, 11),\n",
       " (4, 12): (7, 11),\n",
       " (5, 1): (3, 3),\n",
       " (5, 5): (3, 3),\n",
       " (5, 9): (7, 11),\n",
       " (5, 11): (7, 11),\n",
       " (5, 13): (7, 11),\n",
       " (6, 2): (3, 3),\n",
       " (6, 4): (3, 3),\n",
       " (6, 8): (7, 11),\n",
       " (6, 14): (7, 11),\n",
       " (7, 3): (3, 3),\n",
       " (7, 7): (7, 11),\n",
       " (8, 8): (7, 11),\n",
       " (8, 14): (7, 11),\n",
       " (9, 9): (7, 11),\n",
       " (9, 13): (7, 11),\n",
       " (10, 10): (7, 11),\n",
       " (10, 12): (7, 11),\n",
       " (11, 11): (7, 11),\n",
       " (0, 1): (3, 3),\n",
       " (0, 5): (3, 3),\n",
       " (1, 0): (3, 3),\n",
       " (1, 6): (3, 3),\n",
       " (2, 7): (3, 3),\n",
       " (3, 0): (3, 3),\n",
       " (3, 8): (3, 3),\n",
       " (3, 10): (7, 11),\n",
       " (3, 12): (7, 11),\n",
       " (4, 7): (3, 3),\n",
       " (4, 9): (7, 11),\n",
       " (4, 11): (7, 11),\n",
       " (4, 13): (7, 11),\n",
       " (5, 0): (3, 3),\n",
       " (5, 6): (3, 3),\n",
       " (5, 8): (7, 11),\n",
       " (5, 14): (7, 11),\n",
       " (6, 1): (3, 3),\n",
       " (6, 5): (3, 3),\n",
       " (6, 7): (7, 11),\n",
       " (7, 2): (3, 3),\n",
       " (7, 4): (3, 3),\n",
       " (7, 6): (7, 11),\n",
       " (8, 3): (3, 3),\n",
       " (8, 7): (7, 11),\n",
       " (9, 8): (7, 11),\n",
       " (9, 14): (7, 11),\n",
       " (10, 9): (7, 11),\n",
       " (10, 13): (7, 11),\n",
       " (11, 10): (7, 11),\n",
       " (11, 12): (7, 11),\n",
       " (12, 11): (7, 11),\n",
       " (0, 0): (3, 3),\n",
       " (0, 6): (3, 3),\n",
       " (1, 7): (3, 3),\n",
       " (2, 8): (3, 3),\n",
       " (2, 10): (7, 11),\n",
       " (2, 12): (7, 11),\n",
       " (3, 11): (7, 11),\n",
       " (3, 13): (7, 11),\n",
       " (4, 14): (7, 11),\n",
       " (6, 0): (3, 3),\n",
       " (7, 1): (3, 3),\n",
       " (8, 2): (3, 3),\n",
       " (8, 4): (3, 3),\n",
       " (8, 6): (7, 11),\n",
       " (9, 3): (3, 3),\n",
       " (9, 7): (7, 11),\n",
       " (10, 8): (7, 11),\n",
       " (10, 14): (7, 11),\n",
       " (11, 9): (7, 11),\n",
       " (11, 13): (7, 11),\n",
       " (12, 10): (7, 11),\n",
       " (12, 12): (7, 11),\n",
       " (13, 11): (7, 11),\n",
       " (0, 7): (3, 3),\n",
       " (1, 8): (3, 3),\n",
       " (1, 10): (7, 11),\n",
       " (1, 12): (7, 11),\n",
       " (2, 11): (7, 11),\n",
       " (2, 13): (7, 11),\n",
       " (3, 14): (7, 11),\n",
       " (7, 0): (3, 3),\n",
       " (8, 1): (3, 3),\n",
       " (9, 2): (3, 3),\n",
       " (9, 4): (3, 3),\n",
       " (9, 6): (7, 11),\n",
       " (10, 3): (3, 3),\n",
       " (10, 7): (7, 11),\n",
       " (11, 8): (7, 11),\n",
       " (11, 14): (7, 11),\n",
       " (12, 9): (7, 11),\n",
       " (12, 13): (7, 11),\n",
       " (13, 10): (7, 11),\n",
       " (13, 12): (7, 11),\n",
       " (14, 11): (7, 11),\n",
       " (0, 8): (3, 3),\n",
       " (0, 10): (7, 11),\n",
       " (0, 12): (7, 11),\n",
       " (1, 11): (7, 11),\n",
       " (1, 13): (7, 11),\n",
       " (2, 14): (7, 11),\n",
       " (8, 0): (3, 3),\n",
       " (9, 1): (3, 3),\n",
       " (10, 2): (3, 3),\n",
       " (10, 4): (3, 3),\n",
       " (10, 6): (7, 11),\n",
       " (11, 3): (3, 3),\n",
       " (11, 7): (7, 11),\n",
       " (12, 8): (7, 11),\n",
       " (12, 14): (7, 11),\n",
       " (13, 9): (7, 11),\n",
       " (13, 13): (7, 11),\n",
       " (14, 10): (7, 11),\n",
       " (14, 12): (7, 11),\n",
       " (0, 11): (7, 11),\n",
       " (0, 13): (7, 11),\n",
       " (1, 14): (7, 11),\n",
       " (9, 0): (3, 3),\n",
       " (10, 1): (3, 3),\n",
       " (11, 2): (3, 3),\n",
       " (11, 4): (3, 3),\n",
       " (11, 6): (7, 11),\n",
       " (12, 3): (3, 3),\n",
       " (12, 7): (7, 11),\n",
       " (13, 8): (7, 11),\n",
       " (13, 14): (7, 11),\n",
       " (14, 9): (7, 11),\n",
       " (14, 13): (7, 11),\n",
       " (0, 14): (7, 11),\n",
       " (10, 0): (3, 3),\n",
       " (11, 1): (3, 3),\n",
       " (12, 2): (3, 3),\n",
       " (12, 4): (3, 3),\n",
       " (12, 6): (7, 11),\n",
       " (13, 3): (3, 3),\n",
       " (13, 7): (7, 11),\n",
       " (14, 8): (7, 11),\n",
       " (14, 14): (7, 11),\n",
       " (11, 0): (3, 3),\n",
       " (12, 1): (3, 3),\n",
       " (13, 2): (3, 3),\n",
       " (13, 4): (3, 3),\n",
       " (13, 6): (7, 11),\n",
       " (14, 3): (3, 3),\n",
       " (14, 7): (7, 11),\n",
       " (12, 0): (3, 3),\n",
       " (13, 1): (3, 3),\n",
       " (14, 2): (3, 3),\n",
       " (14, 4): (3, 3),\n",
       " (14, 6): (7, 11),\n",
       " (13, 0): (3, 3),\n",
       " (14, 1): (3, 3),\n",
       " (14, 0): (3, 3)}"
      ]
     },
     "execution_count": 189,
     "metadata": {},
     "output_type": "execute_result"
    }
   ],
   "source": [
    "snake_zones"
   ]
  },
  {
   "cell_type": "code",
   "execution_count": 145,
   "id": "b0abb1e3",
   "metadata": {},
   "outputs": [],
   "source": []
  },
  {
   "cell_type": "code",
   "execution_count": 147,
   "id": "4c8f7ae6",
   "metadata": {},
   "outputs": [],
   "source": []
  },
  {
   "cell_type": "code",
   "execution_count": 150,
   "id": "66a2da62",
   "metadata": {},
   "outputs": [
    {
     "data": {
      "text/plain": [
       "{(7, 7): 64, (3, 7): 44}"
      ]
     },
     "execution_count": 150,
     "metadata": {},
     "output_type": "execute_result"
    }
   ],
   "source": [
    "areas"
   ]
  },
  {
   "cell_type": "code",
   "execution_count": 151,
   "id": "2679abe4",
   "metadata": {},
   "outputs": [
    {
     "data": {
      "text/plain": [
       "221"
      ]
     },
     "execution_count": 151,
     "metadata": {},
     "output_type": "execute_result"
    }
   ],
   "source": [
    "len(neighbours)"
   ]
  },
  {
   "cell_type": "code",
   "execution_count": 119,
   "id": "98ed5437",
   "metadata": {},
   "outputs": [],
   "source": [
    "def expand_snake_zones(snake_zones):\n",
    "    new_snake_zones = deepcopy(snake_zones)\n",
    "    occupied_tiles = snake_zones.values()[0] | snake_zones.values()[1]\n",
    "    \n",
    "    for head in snake_zones:\n",
    "#         opponent_zone = [v for (k, v) in snake_zones if k != head]\n",
    "#         print(opponent_zone)\n",
    "        zone = snake_zones[head]\n",
    "        for tile in zone:\n",
    "            new_tiles = {new_tile for new_tile in neighbours[tile] if tile not in occupied_tiles}\n",
    "            new_snake_zones[head] |= new_tiles\n",
    "      \n",
    "    return new_snake_zones"
   ]
  },
  {
   "cell_type": "code",
   "execution_count": 116,
   "id": "8de800d0",
   "metadata": {},
   "outputs": [
    {
     "data": {
      "text/plain": [
       "{(11, 3): {(10, 3), (11, 2), (11, 4), (12, 3)},\n",
       " (7, 3): {(6, 3), (7, 2), (7, 4), (8, 3)}}"
      ]
     },
     "execution_count": 116,
     "metadata": {},
     "output_type": "execute_result"
    }
   ],
   "source": [
    "snake_zones"
   ]
  },
  {
   "cell_type": "code",
   "execution_count": 120,
   "id": "0bbf9028",
   "metadata": {},
   "outputs": [
    {
     "ename": "TypeError",
     "evalue": "'dict_values' object is not subscriptable",
     "output_type": "error",
     "traceback": [
      "\u001b[0;31m---------------------------------------------------------------------------\u001b[0m",
      "\u001b[0;31mTypeError\u001b[0m                                 Traceback (most recent call last)",
      "Cell \u001b[0;32mIn [120], line 1\u001b[0m\n\u001b[0;32m----> 1\u001b[0m \u001b[43mexpand_snake_zones\u001b[49m\u001b[43m(\u001b[49m\u001b[43msnake_zones\u001b[49m\u001b[43m)\u001b[49m\n",
      "Cell \u001b[0;32mIn [119], line 3\u001b[0m, in \u001b[0;36mexpand_snake_zones\u001b[0;34m(snake_zones)\u001b[0m\n\u001b[1;32m      1\u001b[0m \u001b[38;5;28;01mdef\u001b[39;00m \u001b[38;5;21mexpand_snake_zones\u001b[39m(snake_zones):\n\u001b[1;32m      2\u001b[0m     new_snake_zones \u001b[38;5;241m=\u001b[39m deepcopy(snake_zones)\n\u001b[0;32m----> 3\u001b[0m     occupied_tiles \u001b[38;5;241m=\u001b[39m \u001b[43msnake_zones\u001b[49m\u001b[38;5;241;43m.\u001b[39;49m\u001b[43mvalues\u001b[49m\u001b[43m(\u001b[49m\u001b[43m)\u001b[49m\u001b[43m[\u001b[49m\u001b[38;5;241;43m0\u001b[39;49m\u001b[43m]\u001b[49m \u001b[38;5;241m|\u001b[39m snake_zones\u001b[38;5;241m.\u001b[39mvalues()[\u001b[38;5;241m1\u001b[39m]\n\u001b[1;32m      5\u001b[0m     \u001b[38;5;28;01mfor\u001b[39;00m head \u001b[38;5;129;01min\u001b[39;00m snake_zones:\n\u001b[1;32m      6\u001b[0m \u001b[38;5;66;03m#         opponent_zone = [v for (k, v) in snake_zones if k != head]\u001b[39;00m\n\u001b[1;32m      7\u001b[0m \u001b[38;5;66;03m#         print(opponent_zone)\u001b[39;00m\n\u001b[1;32m      8\u001b[0m         zone \u001b[38;5;241m=\u001b[39m snake_zones[head]\n",
      "\u001b[0;31mTypeError\u001b[0m: 'dict_values' object is not subscriptable"
     ]
    }
   ],
   "source": [
    "expand_snake_zones(snake_zones)"
   ]
  },
  {
   "cell_type": "code",
   "execution_count": null,
   "id": "8d46c16b",
   "metadata": {},
   "outputs": [],
   "source": []
  },
  {
   "cell_type": "code",
   "execution_count": null,
   "id": "593273e3",
   "metadata": {},
   "outputs": [],
   "source": []
  },
  {
   "cell_type": "code",
   "execution_count": null,
   "id": "0a38b44f",
   "metadata": {},
   "outputs": [],
   "source": []
  },
  {
   "cell_type": "code",
   "execution_count": null,
   "id": "fdd091fc",
   "metadata": {},
   "outputs": [],
   "source": []
  },
  {
   "cell_type": "code",
   "execution_count": 31,
   "id": "0ad9f174",
   "metadata": {},
   "outputs": [],
   "source": [
    "state, reward, done, info = env.step(1)\n",
    "snake_zones = get_immeadiate_head_neighbours(state)\n",
    "\n",
    "## remove new heads of snakes from neighbourhood graph after step\n",
    "for bike in state.bikes:\n",
    "    new_head = bike.positions[0]\n",
    "    neighbours_tile = neighbours[new_head]\n",
    "    for neighbouring_tile in neighbours_tile:\n",
    "        neighbours[neighbouring_tile].remove(new_head)\n",
    "    neighbours.pop(new_head)"
   ]
  },
  {
   "cell_type": "code",
   "execution_count": 24,
   "id": "debce51d",
   "metadata": {},
   "outputs": [
    {
     "name": "stdout",
     "output_type": "stream",
     "text": [
      "[(12, 7), (11, 7), (10, 7)]\n",
      "[(2, 7), (3, 7), (4, 7)]\n"
     ]
    }
   ],
   "source": [
    "for bike in state.bikes:\n",
    "    print(bike.positions)"
   ]
  },
  {
   "cell_type": "code",
   "execution_count": 32,
   "id": "0c6c5490",
   "metadata": {},
   "outputs": [
    {
     "data": {
      "text/plain": [
       "{(2, 3): {(1, 3), (2, 2), (2, 4)}, (7, 2): {(6, 2), (7, 1), (8, 2)}}"
      ]
     },
     "execution_count": 32,
     "metadata": {},
     "output_type": "execute_result"
    }
   ],
   "source": [
    "snake_zones"
   ]
  },
  {
   "cell_type": "code",
   "execution_count": null,
   "id": "aed37c8a",
   "metadata": {},
   "outputs": [],
   "source": [
    "## assign tiles by distance to every snake:\n",
    "heads = [bike.positions[0] for bike in state.bikes]\n",
    "unassigned_tiles = neighbours.keys()\n",
    "while len(unassigned_tiles) > 0:\n",
    "    for tile in unassigned_tiles:\n",
    "        neighbouring_tiles = neighbours[tile]\n",
    "        ## if neighbouring both zones of control:"
   ]
  },
  {
   "cell_type": "code",
   "execution_count": 27,
   "id": "1cabcfee",
   "metadata": {},
   "outputs": [
    {
     "data": {
      "text/plain": [
       "{(12, 7): [(12, 6), (12, 8), (13, 7)], (2, 7): [(1, 7), (2, 6), (2, 8)]}"
      ]
     },
     "execution_count": 27,
     "metadata": {},
     "output_type": "execute_result"
    }
   ],
   "source": []
  },
  {
   "cell_type": "code",
   "execution_count": 28,
   "id": "4bd81126",
   "metadata": {},
   "outputs": [],
   "source": [
    "a = {1,2,3}"
   ]
  },
  {
   "cell_type": "code",
   "execution_count": null,
   "id": "179ffb69",
   "metadata": {},
   "outputs": [],
   "source": []
  },
  {
   "cell_type": "code",
   "execution_count": null,
   "id": "ba7b6d43",
   "metadata": {},
   "outputs": [],
   "source": []
  },
  {
   "cell_type": "code",
   "execution_count": 97,
   "id": "3a21c8b1",
   "metadata": {},
   "outputs": [
    {
     "name": "stdout",
     "output_type": "stream",
     "text": [
      "[3, 2]\n",
      "[3, 2]\n"
     ]
    }
   ],
   "source": [
    "snake_zones = expand_snake_zones(snake_zones)"
   ]
  },
  {
   "cell_type": "code",
   "execution_count": 105,
   "id": "eca059ce",
   "metadata": {},
   "outputs": [
    {
     "data": {
      "text/plain": [
       "219"
      ]
     },
     "execution_count": 105,
     "metadata": {},
     "output_type": "execute_result"
    }
   ],
   "source": [
    "len(snake_zones[(2,3)])"
   ]
  },
  {
   "cell_type": "code",
   "execution_count": null,
   "id": "8c1c04f1",
   "metadata": {},
   "outputs": [],
   "source": [
    "\n",
    "\n",
    "while sum([len(_) for _ in next_step_dfs.values()]) != 0:\n",
    "    next_step_dfs = {head: set([neighbours[tile] for tile in next_step_dfs[head]]) for head in heads}\n",
    "    next_step_dfs = {}"
   ]
  },
  {
   "cell_type": "code",
   "execution_count": null,
   "id": "ecd812dc",
   "metadata": {},
   "outputs": [],
   "source": [
    "def "
   ]
  },
  {
   "cell_type": "code",
   "execution_count": 13,
   "id": "586fe088",
   "metadata": {},
   "outputs": [
    {
     "data": {
      "text/plain": [
       "{'opponent_choose_move': <function game_mechanics.choose_move_randomly(state: game_mechanics.State) -> int>,\n",
       " '_render': False,\n",
       " 'verbose': False,\n",
       " 'game_speed_multiplier': 1.0,\n",
       " 'starting_positions': [(7, 7),\n",
       "  (7, 11),\n",
       "  (3, 3),\n",
       "  (7, 3),\n",
       "  (11, 11),\n",
       "  (11, 7),\n",
       "  (3, 7),\n",
       "  (11, 3),\n",
       "  (3, 11)],\n",
       " 'score': 0,\n",
       " 'num_steps_taken': 0,\n",
       " 'state': State(player=Bike player, opponent=Bike opponent, player_move=None),\n",
       " 'dead_bikes': [],\n",
       " 'color_lookup': {'player': (237, 0, 3), 'opponent': (53, 0, 255)}}"
      ]
     },
     "execution_count": 13,
     "metadata": {},
     "output_type": "execute_result"
    }
   ],
   "source": [
    "env.__dict__"
   ]
  }
 ],
 "metadata": {
  "kernelspec": {
   "display_name": "cv38",
   "language": "python",
   "name": "cv38"
  },
  "language_info": {
   "codemirror_mode": {
    "name": "ipython",
    "version": 3
   },
   "file_extension": ".py",
   "mimetype": "text/x-python",
   "name": "python",
   "nbconvert_exporter": "python",
   "pygments_lexer": "ipython3",
   "version": "3.8.10"
  }
 },
 "nbformat": 4,
 "nbformat_minor": 5
}
